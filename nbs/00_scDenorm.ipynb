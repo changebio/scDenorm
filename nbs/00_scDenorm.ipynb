{
 "cells": [
  {
   "cell_type": "markdown",
   "id": "1b40ed89-6182-424f-a234-7f565e9f75b0",
   "metadata": {},
   "source": [
    "# Functions to denormlize scRNA-seq data\n",
    "\n",
    "> The main functions of denormlizing the normlized scRNA-seq data"
   ]
  },
  {
   "cell_type": "code",
   "execution_count": null,
   "id": "85dc0163-e481-441a-b5c0-030adf268442",
   "metadata": {},
   "outputs": [],
   "source": [
    "#| default_exp denorm"
   ]
  },
  {
   "cell_type": "code",
   "execution_count": null,
   "id": "5610a85f-cb79-4053-a694-97c4d20d9261",
   "metadata": {},
   "outputs": [],
   "source": [
    "#| hide\n",
    "from nbdev.showdoc import *"
   ]
  },
  {
   "cell_type": "code",
   "execution_count": null,
   "id": "46575d79-4978-46d8-9f99-34fd87c66c19",
   "metadata": {},
   "outputs": [],
   "source": [
    "#| hide\n",
    "import nbdev; nbdev.nbdev_export()"
   ]
  },
  {
   "cell_type": "code",
   "execution_count": null,
   "id": "066b3f9f-fefa-4040-bf7d-7d3aafbf7789",
   "metadata": {},
   "outputs": [],
   "source": [
    "#| export\n",
    "import numpy as np\n",
    "import pandas as pd\n",
    "import matplotlib.pyplot as plt\n",
    "import scanpy as sc\n",
    "from anndata import AnnData\n",
    "from scipy.sparse import diags,issparse,csr_matrix,isspmatrix_csr\n",
    "from scipy.io import mmwrite\n",
    "from tqdm import tqdm\n",
    "from pathlib import Path\n",
    "from fastcore.script import *\n",
    "import logging\n",
    "import multiprocessing\n",
    "\n",
    "logging.getLogger().setLevel(logging.INFO)"
   ]
  },
  {
   "cell_type": "markdown",
   "id": "76dcbf86-46bc-4d26-8ed0-2f9b5f268b0b",
   "metadata": {},
   "source": [
    "## Functions"
   ]
  },
  {
   "cell_type": "code",
   "execution_count": null,
   "id": "b80e4e7b-12f5-402d-8297-0a348a8fb77d",
   "metadata": {},
   "outputs": [],
   "source": [
    "#| export\n",
    "@call_parse\n",
    "def scdenorm(fin:str, # The input file or AnnData\n",
    "             fout:str = None, # The path of output file if provided\n",
    "             gxc:bool = False, # Change to True if the data is stored with gene by cell\n",
    "             base:float = None, # Give the base if it is known\n",
    "             cont:float = 1.0, # The constant plused after scaling\n",
    "             rint:bool = True, # Round elements of the result to the nearest integer\n",
    "             cutoff:float = 0.001, \n",
    "             verbose:int = 0):\n",
    "    \"\"\"\n",
    "    denormalize takes a cell * gene expression matrix that has been normalized according to single-cell RNA \n",
    "    sequencing preprocessing procedure and return a recovered count matrix by reversing the logarithmization step\n",
    "    and then the total-count normalization step utilizing the unscale function. If the imput matrix is not \n",
    "    normalized by first total-count scaling then logarithmization, then the function produces an error\n",
    "    indicating so. We also handle matrices that have not been logarithmized.\n",
    "    denormalize: csr_matrix -> csr_matrix\n",
    "    \"\"\"\n",
    "    levels = [logging.WARNING, logging.INFO, logging.DEBUG]\n",
    "    logging.getLogger().setLevel(levels[verbose] if verbose<3 else logging.INFO)\n",
    "    try:\n",
    "        fin=Path(fin)\n",
    "        logging.info(f'Reading input file: {fin}')\n",
    "        ad=sc.read(fin)\n",
    "    except:\n",
    "        ad=fin.copy()\n",
    "    #make sure ad.X have data and is dense matrix\n",
    "    if ad.shape[0]<1 or ad.shape[1]<1:\n",
    "        raise Exception(\"The anndata don't have cells or genes\")\n",
    "    if issparse(ad.X):\n",
    "        ad.X.eliminate_zeros() #remove potential 0s.\n",
    "        if not isspmatrix_csr(ad.X):\n",
    "            ad.X = csr_matrix(ad.X)\n",
    "    else:\n",
    "        ad.X = csr_matrix(ad.X)\n",
    "\n",
    "    arr = ad.X.data\n",
    "    if np.array_equal(arr, np.round(arr)):\n",
    "        logging.info(f\"All counts are integers\")\n",
    "        counts=ad.X\n",
    "    else:\n",
    "        logging.info(f'The dimensions of this data are {ad.shape}.')\n",
    "        if gxc: #if data is gene by cell\n",
    "            logging.info(f'The data is gene by cell. It is transposed to cell by gene {ad.T.shape}')\n",
    "            ad=ad.T\n",
    "        smtx=ad.X  #must be cell by gene\n",
    "        \n",
    "        #2.de-transformation\n",
    "        #select base and denormlize\n",
    "        if base is None:\n",
    "            logging.info('select base')\n",
    "            base,cont = select_base(smtx.getrow(0).data.copy(),cont,cutoff)\n",
    "            if base is None and cont is None:\n",
    "                #fully auto detect\n",
    "                base,cont = auto_detect(smtx,1e-6)\n",
    "            \n",
    "        \n",
    "        #3.de-normalization\n",
    "        logging.info(f'denormlizing ...the base is {base}')\n",
    "        if check_unscale(smtx.getrow(0).data.copy(),base,cont,cutoff):\n",
    "            counts,success_cells=unscale_mat(smtx,base,cont,cutoff,rint)\n",
    "            ad=ad[success_cells].copy() #filter failed cells\n",
    "        else:\n",
    "            logging.error('Denormlization has failed. Output the orignal data')\n",
    "            counts=smtx\n",
    "        if fout is None:\n",
    "            counts.data=counts.data.astype(ad.X.dtype)\n",
    "            ad.X=counts\n",
    "            return ad\n",
    "       \n",
    "    #write output\n",
    "    logging.info(f'Writing output file: {fout}')\n",
    "    if fout.endswith('.mtx'):\n",
    "        mmwrite(fout, counts, field = 'integer')\n",
    "    else:\n",
    "        counts.data=counts.data.astype(ad.X.dtype)\n",
    "        ad.X=counts\n",
    "        ad.write(fout)    "
   ]
  },
  {
   "cell_type": "code",
   "execution_count": null,
   "id": "df31201a-a111-4b31-88e2-bafda63d9727",
   "metadata": {},
   "outputs": [],
   "source": [
    "#| export\n",
    "def solve_bc(p):\n",
    "    return sum((np.power(p[0],y2)-2*np.power(p[0],y1)+p[1])**2)"
   ]
  },
  {
   "cell_type": "code",
   "execution_count": null,
   "id": "f37d9472-b309-4e06-8ce4-b39a13fc32b0",
   "metadata": {},
   "outputs": [],
   "source": [
    "#| export\n",
    "def auto_detect(smtx,cutoff):\n",
    "    ys=[]\n",
    "    for c_idx in range(100):\n",
    "        try:\n",
    "            N = 2\n",
    "            c = pd.Series(smtx2.getrow(c_idx).data)\n",
    "            y = np.array(c.value_counts().sort_index().head(N).index)\n",
    "            ys.append(y)\n",
    "        except:\n",
    "            print(c_idx)\n",
    "\n",
    "    ys=np.array(ys)\n",
    "\n",
    "    y1=ys[:,0]\n",
    "    y2=ys[:,1]\n",
    "\n",
    "    res = minimize(solve_bc, [3,0], method='Nelder-Mead', tol=1e-6)\n",
    "    return res"
   ]
  },
  {
   "cell_type": "code",
   "execution_count": null,
   "id": "67600141-750c-4cca-9be3-01a9abed94a5",
   "metadata": {},
   "outputs": [],
   "source": [
    "#| export\n",
    "def unscale_mat(smtx,base=np.e,cont=1,cutoff=0.05,rint=True,gpu=False):\n",
    "    \"\"\"\n",
    "    unscale takes a cell * gene expression matrix that has been quality-controlled and scaled according to \n",
    "    single-cell RNA sequencing preprocessing procedure and return a recovered count matrix \n",
    "    by finding the scaling factor for each cell,\n",
    "    or produce an error indicating the matrix has not been processed by our assumption.\n",
    "    unscale: csr_matrix -> csr_matrix\n",
    "    \"\"\"\n",
    "    scaled_counts=smtx.copy()\n",
    "    if base is not None:\n",
    "        scaled_counts.data = base ** scaled_counts.data - cont\n",
    "    else:\n",
    "        #without transformation\n",
    "        scaled_counts.data = scaled_counts.data - cont\n",
    "        \n",
    "    #get scale factors\n",
    "    scaling_factors,success_cells=[],[]\n",
    "    for i in tqdm(range(scaled_counts.shape[0])):\n",
    "        try:\n",
    "            scaling_factors.append(get_scaling_factor(scaled_counts.getrow(i).data,cutoff))\n",
    "            success_cells.append(i)\n",
    "        except:\n",
    "            logging.warning(f\"Warning:The cell {i} fails to denormlize, and be deleted\")\n",
    "    \n",
    "    # Remove failed cells from the scaled_counts matrix\n",
    "    scaled_counts=scaled_counts[success_cells,:]\n",
    "    if gpu:\n",
    "        pass\n",
    "    else:\n",
    "        scaling_factors = diags(scaling_factors)\n",
    "        counts = scaling_factors*scaled_counts\n",
    "    if rint:\n",
    "        counts=counts.rint()\n",
    "    counts.sort_indices()  #keep the increase order of indices\n",
    "    return counts,success_cells\n",
    "\n",
    "def select_base(x,cont=1,cutoff=0.05,plot=False):\n",
    "    for b in [np.e,None,2,10]:\n",
    "        print('b is', b)\n",
    "        if cont is None:\n",
    "            for c in [1,0.1,0.01,0.001,0]:\n",
    "                if check_unscale(x,b,c,cutoff,plot):\n",
    "                    return b,c\n",
    "        else:\n",
    "            if check_unscale(x,b,cont,cutoff,plot):\n",
    "                return b,cont\n",
    "    return None,None\n",
    "\n",
    "def check_unscale(x,base=np.e,cont=1,cutoff=0.05,plot=True):\n",
    "    if base is not None:\n",
    "        x=base**x-cont\n",
    "    else:\n",
    "        x=x-cont  #without transformation\n",
    "    try:\n",
    "        get_scaling_factor(x,cutoff)\n",
    "        return True\n",
    "    except:\n",
    "        #logging.error(f'The base {base} is not match with the data.')\n",
    "        if plot:\n",
    "            check_plot(pd.Series(x),base)\n",
    "    return False\n",
    "\n",
    "def get_scaling_factor_2(x,cutoff=0.05):\n",
    "    \"\"\"\n",
    "    get_scaling_factor takes a cell vector and its index in the gene expression matrix \n",
    "    that has been scaled according to single-cell RNA sequencing preprocessing procedure \n",
    "    and return the scaling factor for the cell,\n",
    "    or produce an error indicating the cell has not been processed by our assumption.\n",
    "    get_scaling_factor: ndarray Nat (Num) -> Num\n",
    "    \"\"\"\n",
    "    x=pd.Series(x).value_counts().sort_index()\n",
    "    if x.shape[0]<2:\n",
    "        raise ValueError(f\"Cell has one value. {x}\")\n",
    "    if not np.alltrue(x.index[:2]==x.sort_values(ascending=False).index[:2]):\n",
    "        raise ValueError(f\"TOP 2 counts and ranks are not consistent. {x}\")\n",
    "    x=np.array(x.index)\n",
    "    xm=x[0]\n",
    "    x=x/xm\n",
    "    if np.abs(x-x.round()).mean()>cutoff:\n",
    "        raise \n",
    "    return 1/xm\n",
    "\n",
    "def get_scaling_factor_1(x,cutoff=0.05):\n",
    "    ''' x is a normlized cell '''\n",
    "    x=x.astype('float16')\n",
    "    y=np.array(x.value_counts().sort_index().head(2).index)\n",
    "    if np.abs(y[0]-y[1]/2)>10**-5:\n",
    "        raise\n",
    "    return 1/y[0]\n",
    "\n",
    "def get_scaling_factor(x,cutoff=0.05):\n",
    "    \"\"\"\n",
    "    get_scaling_factor takes a cell vector and its index in the gene expression matrix \n",
    "    that has been scaled according to single-cell RNA sequencing preprocessing procedure \n",
    "    and return the scaling factor for the cell,\n",
    "    or produce an error indicating the cell has not been processed by our assumption.\n",
    "    get_scaling_factor: ndarray Nat (Num) -> Num\n",
    "    \"\"\"\n",
    "    x=pd.Series(x)\n",
    "    xm=x.min()\n",
    "    x=x/xm\n",
    "    if np.abs(x-x.round()).mean()>cutoff:\n",
    "        raise \n",
    "    return 1/xm"
   ]
  },
  {
   "cell_type": "code",
   "execution_count": null,
   "id": "5b586915-acbc-4fb0-9c6a-963638e15901",
   "metadata": {},
   "outputs": [],
   "source": [
    "#| export\n",
    "def check_plot(c,idx,n=10):\n",
    "    \"\"\"\n",
    "    Check_plot takes a cell vector and its index in the gene expression matrix and produce a plot of the first\n",
    "    N most frequent values against their ranks. Such a plot is used for error-checking in the unscaling process.\n",
    "    \"\"\"\n",
    "    y = np.array(c.value_counts().sort_index().head(n).index)\n",
    "    x = np.arange(1, n+1)\n",
    "    plt.scatter(x, y, label=f'Base {idx}')\n",
    "    plt.legend()\n",
    "    plt.xlabel('Rank in cell histogram')\n",
    "    plt.ylabel('Scaled count')\n",
    "    plt.xticks(x)\n",
    "    plt.show()"
   ]
  },
  {
   "cell_type": "markdown",
   "id": "6937c453-feb7-43ca-aff1-3a691b99c4e5",
   "metadata": {},
   "source": [
    "## create test data"
   ]
  },
  {
   "cell_type": "code",
   "execution_count": null,
   "id": "5a48c9eb-5b83-4020-be40-c709c0c512b4",
   "metadata": {},
   "outputs": [],
   "source": [
    "ad=sc.datasets.pbmc3k()"
   ]
  },
  {
   "cell_type": "code",
   "execution_count": null,
   "id": "d6e48610-4f00-4427-87ee-53229c975f67",
   "metadata": {},
   "outputs": [],
   "source": []
  },
  {
   "cell_type": "code",
   "execution_count": null,
   "id": "73ef5a22-4d27-4816-a7b7-ce94908f7631",
   "metadata": {},
   "outputs": [
    {
     "name": "stderr",
     "output_type": "stream",
     "text": [
      "/home/huang_yin/anaconda3/envs/sc/lib/python3.9/site-packages/anndata/_core/anndata.py:1785: FutureWarning: X.dtype being converted to np.float32 from float64. In the next version of anndata (0.9) conversion will not be automatic. Pass dtype explicitly to avoid this warning. Pass `AnnData(X, dtype=X.dtype, ...)` to get the future behavour.\n",
      "  [AnnData(sparse.csr_matrix(a.shape), obs=a.obs) for a in all_adatas],\n"
     ]
    }
   ],
   "source": [
    "ad=ad.concatenate([ad for _ in range(10)])"
   ]
  },
  {
   "cell_type": "code",
   "execution_count": null,
   "id": "82131023-67b9-481e-a4c3-402cad23ccd5",
   "metadata": {},
   "outputs": [
    {
     "name": "stderr",
     "output_type": "stream",
     "text": [
      "/home/huang_yin/anaconda3/envs/sc/lib/python3.9/site-packages/anndata/_core/anndata.py:1785: FutureWarning: X.dtype being converted to np.float32 from float64. In the next version of anndata (0.9) conversion will not be automatic. Pass dtype explicitly to avoid this warning. Pass `AnnData(X, dtype=X.dtype, ...)` to get the future behavour.\n",
      "  [AnnData(sparse.csr_matrix(a.shape), obs=a.obs) for a in all_adatas],\n"
     ]
    }
   ],
   "source": [
    "ad=ad.concatenate([ad for _ in range(10)])"
   ]
  },
  {
   "cell_type": "code",
   "execution_count": null,
   "id": "23046f97-6df2-4793-bd8f-f0d0b1bcc6ca",
   "metadata": {},
   "outputs": [
    {
     "name": "stderr",
     "output_type": "stream",
     "text": [
      "/home/huang_yin/anaconda3/envs/sc/lib/python3.9/site-packages/anndata/_core/anndata.py:1785: FutureWarning: X.dtype being converted to np.float32 from float64. In the next version of anndata (0.9) conversion will not be automatic. Pass dtype explicitly to avoid this warning. Pass `AnnData(X, dtype=X.dtype, ...)` to get the future behavour.\n",
      "  [AnnData(sparse.csr_matrix(a.shape), obs=a.obs) for a in all_adatas],\n"
     ]
    }
   ],
   "source": [
    "ad=ad.concatenate([ad for _ in range(10)])"
   ]
  },
  {
   "cell_type": "code",
   "execution_count": null,
   "id": "b34573cd-bd6d-466a-bf6a-beb64455005b",
   "metadata": {},
   "outputs": [
    {
     "data": {
      "text/plain": [
       "AnnData object with n_obs × n_vars = 3593700 × 32738\n",
       "    obs: 'batch'\n",
       "    var: 'gene_ids'"
      ]
     },
     "execution_count": null,
     "metadata": {},
     "output_type": "execute_result"
    }
   ],
   "source": [
    "ad"
   ]
  },
  {
   "cell_type": "code",
   "execution_count": null,
   "id": "7896ad40-1452-4aa0-b4e3-920aaa659c3d",
   "metadata": {},
   "outputs": [],
   "source": [
    "sc.pp.normalize_total(ad, target_sum=1e4)\n",
    "#sc.pp.log1p(ad)\n",
    "smtx = ad.X.tocsr().asfptype()"
   ]
  },
  {
   "cell_type": "code",
   "execution_count": null,
   "id": "e5edaf8f-e2a8-455f-8a1b-82246017d927",
   "metadata": {},
   "outputs": [],
   "source": []
  },
  {
   "cell_type": "code",
   "execution_count": null,
   "id": "326024d4-ad90-4a2f-b483-696a3a0d1394",
   "metadata": {},
   "outputs": [],
   "source": [
    "smtx = ad.X.tocsr().asfptype()"
   ]
  },
  {
   "cell_type": "code",
   "execution_count": null,
   "id": "73be51a9-924f-460c-8ac5-ea897ad5d7e2",
   "metadata": {},
   "outputs": [],
   "source": [
    "scaled_counts=smtx"
   ]
  },
  {
   "cell_type": "code",
   "execution_count": null,
   "id": "36532702-4ec8-43f9-812d-df8ed0f44f45",
   "metadata": {},
   "outputs": [
    {
     "data": {
      "text/plain": [
       "0.24209999655982023"
      ]
     },
     "execution_count": null,
     "metadata": {},
     "output_type": "execute_result"
    }
   ],
   "source": [
    "i,cutoff=0,0.001\n",
    "get_scaling_factor(scaled_counts.getrow(i).data, cutoff)"
   ]
  },
  {
   "cell_type": "code",
   "execution_count": null,
   "id": "836871a6-defd-4602-a19a-32d7726f7131",
   "metadata": {},
   "outputs": [
    {
     "name": "stderr",
     "output_type": "stream",
     "text": [
      "100%|██████████| 3593700/3593700 [20:53<00:00, 2867.61it/s]"
     ]
    },
    {
     "name": "stdout",
     "output_type": "stream",
     "text": [
      "CPU times: user 20min 23s, sys: 33.2 s, total: 20min 56s\n",
      "Wall time: 20min 53s\n"
     ]
    },
    {
     "name": "stderr",
     "output_type": "stream",
     "text": [
      "\n"
     ]
    }
   ],
   "source": [
    "%%time\n",
    "scaling_factors,success_cells=[],[]\n",
    "for i in tqdm(range(scaled_counts.shape[0])):\n",
    "    try:\n",
    "        scaling_factors.append(get_scaling_factor(scaled_counts.getrow(i).data,cutoff))\n",
    "        success_cells.append(i)\n",
    "    except:\n",
    "        logging.warning(f\"Warning:The cell {i} fails to denormlize, and be deleted\")"
   ]
  },
  {
   "cell_type": "code",
   "execution_count": null,
   "id": "ed17a1ba-d1e5-43de-826a-cf86fd43f6c5",
   "metadata": {},
   "outputs": [
    {
     "name": "stderr",
     "output_type": "stream",
     "text": [
      "100%|██████████| 2700/2700 [00:01<00:00, 2064.87it/s]"
     ]
    },
    {
     "name": "stdout",
     "output_type": "stream",
     "text": [
      "CPU times: user 1.31 s, sys: 11.2 ms, total: 1.32 s\n",
      "Wall time: 1.31 s\n"
     ]
    },
    {
     "name": "stderr",
     "output_type": "stream",
     "text": [
      "\n"
     ]
    }
   ],
   "source": [
    "%%time\n",
    "scaling_factors,success_cells=[],[]\n",
    "for i in tqdm(range(scaled_counts.shape[0])):\n",
    "    try:\n",
    "        scaling_factors.append(get_scaling_factor_2(scaled_counts.getrow(i).data,cutoff))\n",
    "        success_cells.append(i)\n",
    "    except:\n",
    "        logging.warning(f\"Warning:The cell {i} fails to denormlize, and be deleted\")"
   ]
  },
  {
   "cell_type": "code",
   "execution_count": null,
   "id": "f02b3211-fdaf-4242-92ad-5f948d93ca07",
   "metadata": {},
   "outputs": [],
   "source": []
  },
  {
   "cell_type": "code",
   "execution_count": null,
   "id": "660a2388-5c50-4e2c-81e0-bf5b5054371b",
   "metadata": {},
   "outputs": [
    {
     "name": "stdout",
     "output_type": "stream",
     "text": [
      "CPU times: user 38.4 s, sys: 18.2 s, total: 56.6 s\n",
      "Wall time: 56.7 s\n"
     ]
    }
   ],
   "source": [
    "%%time\n",
    "scaling_factors = diags(scaling_factors)\n",
    "counts = scaling_factors*scaled_counts"
   ]
  },
  {
   "cell_type": "code",
   "execution_count": null,
   "id": "01dae149-7593-4396-90fe-14863c130567",
   "metadata": {},
   "outputs": [
    {
     "data": {
      "text/plain": [
       "<3593700x32738 sparse matrix of type '<class 'numpy.float64'>'\n",
       "\twith 3043842604 stored elements in Compressed Sparse Row format>"
      ]
     },
     "execution_count": null,
     "metadata": {},
     "output_type": "execute_result"
    }
   ],
   "source": [
    "counts"
   ]
  },
  {
   "cell_type": "code",
   "execution_count": null,
   "id": "97f3248a-a5c8-4433-89b7-d41e9d39850e",
   "metadata": {},
   "outputs": [
    {
     "data": {
      "text/plain": [
       "array([4.        , 1.        , 9.99999954, ..., 1.        , 1.        ,\n",
       "       1.        ])"
      ]
     },
     "execution_count": null,
     "metadata": {},
     "output_type": "execute_result"
    }
   ],
   "source": [
    "counts.data"
   ]
  },
  {
   "cell_type": "code",
   "execution_count": null,
   "id": "c88fa30e-06bd-4b65-94b2-ded3fa477d4c",
   "metadata": {},
   "outputs": [
    {
     "data": {
      "text/plain": [
       "array([4.        , 1.        , 9.99999954, ..., 1.        , 1.        ,\n",
       "       1.        ])"
      ]
     },
     "execution_count": null,
     "metadata": {},
     "output_type": "execute_result"
    }
   ],
   "source": [
    "counts.data"
   ]
  },
  {
   "cell_type": "code",
   "execution_count": null,
   "id": "04f443a6-dcb1-4414-b4c7-eb3a50a24419",
   "metadata": {},
   "outputs": [
    {
     "data": {
      "text/plain": [
       "<326700x32738 sparse matrix of type '<class 'numpy.float32'>'\n",
       "\twith 276712964 stored elements in Compressed Sparse Row format>"
      ]
     },
     "execution_count": null,
     "metadata": {},
     "output_type": "execute_result"
    }
   ],
   "source": [
    "scaled_counts"
   ]
  },
  {
   "cell_type": "code",
   "execution_count": null,
   "id": "1a27811d-bc85-4d31-8036-905a494c03f6",
   "metadata": {},
   "outputs": [
    {
     "data": {
      "text/plain": [
       "array([3.59520866, 0.89880217, 8.98802125, ..., 0.34156169, 0.34156169,\n",
       "       0.34156169])"
      ]
     },
     "execution_count": null,
     "metadata": {},
     "output_type": "execute_result"
    }
   ],
   "source": [
    "counts.data"
   ]
  },
  {
   "cell_type": "code",
   "execution_count": null,
   "id": "52901d26-33ba-4b23-844b-3e1d830ea78d",
   "metadata": {},
   "outputs": [],
   "source": []
  },
  {
   "cell_type": "code",
   "execution_count": null,
   "id": "ab4647b6-db9c-437b-b461-1aadf4d8c552",
   "metadata": {},
   "outputs": [
    {
     "data": {
      "text/plain": [
       "array([1.6352079, 1.6352079, 2.2258174, ..., 1.7980369, 1.7980369,\n",
       "       2.779648 ], dtype=float32)"
      ]
     },
     "execution_count": null,
     "metadata": {},
     "output_type": "execute_result"
    }
   ],
   "source": [
    "smtx.data"
   ]
  },
  {
   "cell_type": "code",
   "execution_count": null,
   "id": "5a44f67a-7e2f-44cf-8b90-7cac56af732c",
   "metadata": {},
   "outputs": [
    {
     "data": {
      "text/plain": [
       "0.24593542762363435"
      ]
     },
     "execution_count": null,
     "metadata": {},
     "output_type": "execute_result"
    }
   ],
   "source": [
    "x=smtx.getrow(0).data\n",
    "\n",
    "x=pd.Series(x).value_counts().sort_index()\n",
    "\n",
    "x=np.exp(np.array(x.index))-1\n",
    "\n",
    "x=x/(x[0]+0.1)\n",
    "\n",
    "np.abs(x-x.round()).mean()"
   ]
  },
  {
   "cell_type": "code",
   "execution_count": null,
   "id": "c9623ef0-6a00-4cab-8d43-a1a62f7acc2e",
   "metadata": {},
   "outputs": [
    {
     "data": {
      "text/plain": [
       "True"
      ]
     },
     "execution_count": null,
     "metadata": {},
     "output_type": "execute_result"
    }
   ],
   "source": [
    "np.alltrue(x.index[:2]==x.sort_values(ascending=False).index[:2])"
   ]
  },
  {
   "cell_type": "code",
   "execution_count": null,
   "id": "ecf51c1b-39c5-471e-9551-9881377c2abd",
   "metadata": {},
   "outputs": [
    {
     "data": {
      "text/plain": [
       "array([ True,  True, False, False, False, False, False, False, False,\n",
       "       False, False,  True, False, False, False, False, False, False,\n",
       "       False, False, False,  True, False, False, False, False, False,\n",
       "       False, False, False, False,  True, False, False])"
      ]
     },
     "execution_count": null,
     "metadata": {},
     "output_type": "execute_result"
    }
   ],
   "source": [
    "pd.Series(x).value_counts().sort_index().index==pd.Series(x).value_counts().sort_values(ascending=False).index"
   ]
  },
  {
   "cell_type": "code",
   "execution_count": null,
   "id": "e3b4d771-65f0-45f4-82ed-bb7aff76a779",
   "metadata": {},
   "outputs": [
    {
     "data": {
      "text/plain": [
       "ValueError('Invalid value provided.1.635208    556\\n2.225817     77\\n2.594626     22\\n2.863463     17\\n3.075127     24\\n3.249721      6\\n3.398316      6\\n3.527660      6\\n3.642174      1\\n3.744911     10\\n3.838070      7\\n3.923285      4\\n4.001806      3\\n4.074607      3\\n4.142466      5\\n4.206011      1\\n4.265759      3\\n4.322136      4\\n4.375505      4\\n4.474390      1\\n4.520391      4\\n4.564370      2\\n4.646918      2\\n4.723168      1\\n4.759218      1\\n4.794014      1\\n4.951860      1\\n5.008626      2\\n5.035844      2\\n5.137864      1\\n5.208081      1\\n5.273690      1\\n5.315154      1\\n5.752318      1\\ndtype: int64')"
      ]
     },
     "execution_count": null,
     "metadata": {},
     "output_type": "execute_result"
    }
   ],
   "source": [
    "ValueError(f\"Invalid value provided.{x}\")"
   ]
  },
  {
   "cell_type": "markdown",
   "id": "3fe2018e-28e8-431c-842e-85351027a6b2",
   "metadata": {},
   "source": [
    "### Testing check_unscale"
   ]
  },
  {
   "cell_type": "code",
   "execution_count": null,
   "id": "59852a40-fe91-4db0-885b-9942e421f4d2",
   "metadata": {},
   "outputs": [],
   "source": [
    "x=smtx.getrow(0).data"
   ]
  },
  {
   "cell_type": "code",
   "execution_count": null,
   "id": "c78627d8-8e56-4d8c-96d7-b03c15394cc7",
   "metadata": {},
   "outputs": [
    {
     "data": {
      "text/plain": [
       "True"
      ]
     },
     "execution_count": null,
     "metadata": {},
     "output_type": "execute_result"
    }
   ],
   "source": [
    "check_unscale(x)"
   ]
  },
  {
   "cell_type": "code",
   "execution_count": null,
   "id": "279de0a3-ba49-4a7d-97a8-140256f73f35",
   "metadata": {},
   "outputs": [
    {
     "name": "stderr",
     "output_type": "stream",
     "text": [
      "ERROR:root:The base 2 is not match with the data.\n"
     ]
    },
    {
     "data": {
      "text/plain": [
       "False"
      ]
     },
     "execution_count": null,
     "metadata": {},
     "output_type": "execute_result"
    },
    {
     "data": {
      "image/png": "[encoded data removed]",
      "text/plain": [
       "<Figure size 432x288 with 1 Axes>"
      ]
     },
     "metadata": {
      "needs_background": "light"
     },
     "output_type": "display_data"
    }
   ],
   "source": [
    "check_unscale(x,base=2)"
   ]
  },
  {
   "cell_type": "markdown",
   "id": "77933b56-5b36-42d2-9ac6-2dabe60f72a2",
   "metadata": {},
   "source": [
    "### Testing scdenorm"
   ]
  },
  {
   "cell_type": "code",
   "execution_count": null,
   "id": "43631cc5",
   "metadata": {},
   "outputs": [],
   "source": [
    "mmwrite('data/scaled.mtx', smtx[1:10,])"
   ]
  },
  {
   "cell_type": "code",
   "execution_count": null,
   "id": "c0e4375c-e43a-42fc-a122-523bd8411e4a",
   "metadata": {},
   "outputs": [],
   "source": [
    "ad1=sc.read('data/scaled.mtx')"
   ]
  },
  {
   "cell_type": "code",
   "execution_count": null,
   "id": "7d656bed-2383-4fb5-b54e-da9a159aae1d",
   "metadata": {},
   "outputs": [
    {
     "data": {
      "text/plain": [
       "AnnData object with n_obs × n_vars = 9 × 32738"
      ]
     },
     "execution_count": null,
     "metadata": {},
     "output_type": "execute_result"
    }
   ],
   "source": [
    "ad1"
   ]
  },
  {
   "cell_type": "code",
   "execution_count": null,
   "id": "f0e8df4e-62cb-42c3-a5bc-872b504b96f9",
   "metadata": {},
   "outputs": [],
   "source": [
    "mmwrite('scaled_tran.mtx', smtx.transpose())"
   ]
  },
  {
   "cell_type": "markdown",
   "id": "a5fcd27e-af7d-4fde-873b-3e1804eb7831",
   "metadata": {},
   "source": [
    "#### 1.Testing unscale_mat\n",
    "- input is a sparse matrix with cell by gene\n",
    "- output is a sparse matrix after denormalization"
   ]
  },
  {
   "cell_type": "code",
   "execution_count": null,
   "id": "e70047df-10a4-4bc2-9c37-c4d4ae1dc56d",
   "metadata": {},
   "outputs": [
    {
     "name": "stderr",
     "output_type": "stream",
     "text": [
      "100%|██████████| 9/9 [00:00<00:00, 515.05it/s]\n"
     ]
    },
    {
     "data": {
      "text/plain": [
       "(<9x32738 sparse matrix of type '<class 'numpy.float64'>'\n",
       " \twith 7403 stored elements in Compressed Sparse Row format>,\n",
       " [0, 1, 2, 3, 4, 5, 6, 7, 8])"
      ]
     },
     "execution_count": null,
     "metadata": {},
     "output_type": "execute_result"
    }
   ],
   "source": [
    "unscale_mat(ad1.X)"
   ]
  },
  {
   "cell_type": "markdown",
   "id": "0ab01e2b-d831-4210-9ad3-12378f0325a8",
   "metadata": {},
   "source": [
    "#### 2.Testing scdenorm with right base"
   ]
  },
  {
   "cell_type": "code",
   "execution_count": null,
   "id": "68456eba-0f8b-4f0c-84a9-26fc3a8e7b97",
   "metadata": {},
   "outputs": [
    {
     "name": "stderr",
     "output_type": "stream",
     "text": [
      "INFO:root:Reading input file: data/scaled.mtx\n",
      "INFO:root:The dimensions of this data are (9, 32738).\n",
      "INFO:root:denormlizing ...\n",
      "100%|██████████| 9/9 [00:00<00:00, 750.87it/s]\n",
      "INFO:root:Writing output file: data/scd_scaled.h5ad\n"
     ]
    }
   ],
   "source": [
    "scdenorm('data/scaled.mtx',fout='data/scd_scaled.h5ad',base=np.e, verbose=1)"
   ]
  },
  {
   "cell_type": "markdown",
   "id": "7b171a49-2508-4166-b29a-50770ebaf16f",
   "metadata": {},
   "source": [
    "#### 3.Testing scdenorm with wrong base"
   ]
  },
  {
   "cell_type": "code",
   "execution_count": null,
   "id": "95e662c5-eb4f-40d1-945d-69f34aa55138",
   "metadata": {},
   "outputs": [
    {
     "name": "stderr",
     "output_type": "stream",
     "text": [
      "INFO:root:Reading input file: data/scaled.mtx\n",
      "INFO:root:The dimensions of this data are (9, 32738).\n",
      "INFO:root:denormlizing ...\n",
      "ERROR:root:The base 2 is not match with the data.\n",
      "ERROR:root:Denormlization has failed. Output the orignal data\n",
      "INFO:root:Writing output file: data/scd_scaled.h5ad\n"
     ]
    },
    {
     "data": {
      "image/png": "[encoded data removed]",
      "text/plain": [
       "<Figure size 432x288 with 1 Axes>"
      ]
     },
     "metadata": {
      "needs_background": "light"
     },
     "output_type": "display_data"
    }
   ],
   "source": [
    "scdenorm('data/scaled.mtx',fout='data/scd_scaled.h5ad',base=2, verbose=1)"
   ]
  },
  {
   "cell_type": "markdown",
   "id": "abc2b4d5-6c34-470c-8aa9-c2cd19c1e43d",
   "metadata": {},
   "source": [
    "#### 4.Testing scdenorm without base"
   ]
  },
  {
   "cell_type": "code",
   "execution_count": null,
   "id": "265915b2-b0bf-45d2-a70f-d9de8f9e068e",
   "metadata": {},
   "outputs": [
    {
     "name": "stderr",
     "output_type": "stream",
     "text": [
      "INFO:root:Reading input file: data/scaled.mtx\n",
      "INFO:root:The dimensions of this data are (9, 32738).\n",
      "INFO:root:select base\n",
      "INFO:root:denormlizing ...\n",
      "100%|██████████| 9/9 [00:00<00:00, 1674.67it/s]\n",
      "INFO:root:Writing output file: data/scd_scaled.h5ad\n"
     ]
    }
   ],
   "source": [
    "scdenorm('data/scaled.mtx',fout='data/scd_scaled.h5ad', verbose=1)"
   ]
  },
  {
   "cell_type": "code",
   "execution_count": null,
   "id": "768a7995-648b-4dc8-9094-4e7e518a79e3",
   "metadata": {},
   "outputs": [
    {
     "name": "stderr",
     "output_type": "stream",
     "text": [
      "INFO:root:Reading input file: data/scaled.mtx\n",
      "INFO:root:The dimensions of this data are (9, 32738).\n",
      "INFO:root:select base\n",
      "INFO:root:denormlizing ...\n",
      "100%|██████████| 9/9 [00:00<00:00, 1773.41it/s]\n"
     ]
    },
    {
     "data": {
      "text/plain": [
       "View of AnnData object with n_obs × n_vars = 9 × 32738"
      ]
     },
     "execution_count": null,
     "metadata": {},
     "output_type": "execute_result"
    }
   ],
   "source": [
    "scdenorm('data/scaled.mtx', verbose=1)"
   ]
  },
  {
   "cell_type": "code",
   "execution_count": null,
   "id": "8ed2a995-fee8-4fb4-aebc-2dca876c4fdc",
   "metadata": {},
   "outputs": [
    {
     "name": "stderr",
     "output_type": "stream",
     "text": [
      "INFO:root:The dimensions of this data are (9, 32738).\n",
      "INFO:root:select base\n",
      "INFO:root:denormlizing ...\n",
      "100%|██████████| 9/9 [00:00<00:00, 967.00it/s]\n"
     ]
    },
    {
     "data": {
      "text/plain": [
       "View of AnnData object with n_obs × n_vars = 9 × 32738"
      ]
     },
     "execution_count": null,
     "metadata": {},
     "output_type": "execute_result"
    }
   ],
   "source": [
    "scdenorm(ad1, verbose=1)"
   ]
  },
  {
   "cell_type": "code",
   "execution_count": null,
   "id": "8bb555b9-1e1c-4996-8aa2-4ad283280845",
   "metadata": {},
   "outputs": [],
   "source": []
  }
 ],
 "metadata": {
  "kernelspec": {
   "display_name": "Python [conda env:sc]",
   "language": "python",
   "name": "conda-env-sc-py"
  },
  "language_info": {
   "codemirror_mode": {
    "name": "ipython",
    "version": 3
   },
   "file_extension": ".py",
   "mimetype": "text/x-python",
   "name": "python",
   "nbconvert_exporter": "python",
   "pygments_lexer": "ipython3",
   "version": "3.9.13"
  }
 },
 "nbformat": 4,
 "nbformat_minor": 5
}
