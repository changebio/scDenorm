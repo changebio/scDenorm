{
 "cells": [
  {
   "cell_type": "markdown",
   "id": "1b40ed89-6182-424f-a234-7f565e9f75b0",
   "metadata": {},
   "source": [
    "# Functions to denormlize scRNA-seq data\n",
    "\n",
    "> The main functions of denormlizing the normlized scRNA-seq data"
   ]
  },
  {
   "cell_type": "code",
   "execution_count": 1,
   "id": "85dc0163-e481-441a-b5c0-030adf268442",
   "metadata": {},
   "outputs": [],
   "source": [
    "#| default_exp denorm"
   ]
  },
  {
   "cell_type": "code",
   "execution_count": 2,
   "id": "5610a85f-cb79-4053-a694-97c4d20d9261",
   "metadata": {},
   "outputs": [],
   "source": [
    "#| hide\n",
    "from nbdev.showdoc import *"
   ]
  },
  {
   "cell_type": "code",
   "execution_count": 3,
   "id": "46575d79-4978-46d8-9f99-34fd87c66c19",
   "metadata": {},
   "outputs": [],
   "source": [
    "#| hide\n",
    "import nbdev; nbdev.nbdev_export()"
   ]
  },
  {
   "cell_type": "code",
   "execution_count": 19,
   "id": "066b3f9f-fefa-4040-bf7d-7d3aafbf7789",
   "metadata": {
    "ExecuteTime": {
     "end_time": "2022-11-17T03:42:38.971941Z",
     "start_time": "2022-11-17T03:42:13.637528Z"
    }
   },
   "outputs": [],
   "source": [
    "#| export\n",
    "import numpy as np\n",
    "import pandas as pd\n",
    "import matplotlib.pyplot as plt\n",
    "import scanpy as sc\n",
    "from anndata import AnnData\n",
    "from scipy.sparse import diags\n",
    "from scipy.io import mmwrite\n",
    "from tqdm import tqdm\n",
    "from pathlib import Path\n",
    "from fastcore.script import *\n",
    "import logging\n",
    "logging.getLogger().setLevel(logging.INFO)"
   ]
  },
  {
   "cell_type": "markdown",
   "id": "76dcbf86-46bc-4d26-8ed0-2f9b5f268b0b",
   "metadata": {},
   "source": [
    "## Functions"
   ]
  },
  {
   "cell_type": "code",
   "execution_count": 5,
   "id": "b80e4e7b-12f5-402d-8297-0a348a8fb77d",
   "metadata": {},
   "outputs": [],
   "source": [
    "#| export\n",
    "@call_parse\n",
    "def scdenorm(fin:str, # The input file or AnnData\n",
    "             fout:str = None, # The path of output file if provided\n",
    "             gxc:bool = False, # Change to True if the data is stored with gene by cell\n",
    "             base:float = None, # Give the base if it is known\n",
    "             cont:float = 1.0, # The constant plused after scaling\n",
    "             cutoff:float = 0.05, \n",
    "             verbose:int = 0):\n",
    "    \"\"\"\n",
    "    denormalize takes a cell * gene expression matrix that has been normalized according to single-cell RNA \n",
    "    sequencing preprocessing procedure and return a recovered count matrix by reversing the logarithmization step\n",
    "    and then the total-count normalization step utilizing the unscale function. If the imput matrix is not \n",
    "    normalized by first total-count scaling then logarithmization, then the function produces an error\n",
    "    indicating so. We also handle matrices that have not been logarithmized.\n",
    "    denormalize: csr_matrix -> csr_matrix\n",
    "    \"\"\"\n",
    "    levels = [logging.WARNING, logging.INFO, logging.DEBUG]\n",
    "    logging.getLogger().setLevel(levels[verbose] if verbose<3 else logging.INFO)\n",
    "    try:\n",
    "        fin=Path(fin)\n",
    "        logging.info(f'Reading input file: {fin}')\n",
    "        ad=sc.read(fin)\n",
    "    except:\n",
    "        ad=fin\n",
    "    logging.info(f'The dimensions of this data are {ad.shape}.')\n",
    "    if gxc: #if data is gene by cell\n",
    "        logging.info(f'The data is gene by cell. It is transposed to cell by gene {ad.T.shape}')\n",
    "        ad=ad.T\n",
    "    smtx=ad.X  #must be cell by gene\n",
    "    smtx.eliminate_zeros() #remove potential 0s.\n",
    "    #select base and denormlize\n",
    "    if base is None:\n",
    "        logging.info('select base')\n",
    "        base = select_base(smtx.getrow(0).data,cont,cutoff)\n",
    "    logging.info('denormlizing ...')\n",
    "    if check_unscale(smtx.getrow(0).data,base,cont,cutoff):\n",
    "        counts,success_cells=unscale_mat(smtx,base,cont,cutoff)\n",
    "        ad=ad[success_cells,:] #filter failed cells\n",
    "    else:\n",
    "        logging.error('Denormlization has failed. Output the orignal data')\n",
    "        counts=smtx\n",
    "    if fout is None:\n",
    "        ad.X=counts\n",
    "        return ad\n",
    "    #write output\n",
    "    logging.info(f'Writing output file: {fout}')\n",
    "    if fout.endswith('.mtx'):\n",
    "        mmwrite(fout, counts, field = 'integer')\n",
    "    else:\n",
    "        ad.X=counts\n",
    "        ad.write(fout)    "
   ]
  },
  {
   "cell_type": "code",
   "execution_count": 6,
   "id": "67600141-750c-4cca-9be3-01a9abed94a5",
   "metadata": {},
   "outputs": [],
   "source": [
    "#| export\n",
    "def unscale_mat(smtx,base=np.e,cont=1,cutoff=0.05):\n",
    "    \"\"\"\n",
    "    unscale takes a cell * gene expression matrix that has been quality-controlled and scaled according to \n",
    "    single-cell RNA sequencing preprocessing procedure and return a recovered count matrix \n",
    "    by finding the scaling factor for each cell,\n",
    "    or produce an error indicating the matrix has not been processed by our assumption.\n",
    "    unscale: csr_matrix -> csr_matrix\n",
    "    \"\"\"\n",
    "    scaled_counts=smtx.copy()\n",
    "    if base!=1:\n",
    "        scaled_counts.data = base ** scaled_counts.data - cont\n",
    "    #get scale factors\n",
    "    scaling_factors,success_cells=[],[]\n",
    "    for i in tqdm(range(scaled_counts.shape[0])):\n",
    "        try:\n",
    "            scaling_factors.append(get_scaling_factor(scaled_counts.getrow(i).data,cutoff))\n",
    "            success_cells.append(i)\n",
    "        except:\n",
    "            logging.warning(f\"Warning:The cell {i} fails to denormlize, and be deleted\")\n",
    "    \n",
    "    #remove failed cells\n",
    "    scaled_counts=scaled_counts[success_cells,:]\n",
    "    scaling_factors = diags(scaling_factors)\n",
    "    counts = scaling_factors*scaled_counts\n",
    "    return counts.rint(),success_cells\n",
    "\n",
    "def select_base(x,cont=1,cutoff=0.05,plot=False):\n",
    "    for b in [np.e,2,10,1]:\n",
    "        if check_unscale(x,b,cont,cutoff,plot):\n",
    "            break\n",
    "    return b\n",
    "\n",
    "def check_unscale(x,base=np.e,cont=1,cutoff=0.05,plot=True):\n",
    "    if base!=1:\n",
    "        x=base**x-cont\n",
    "    try:\n",
    "        get_scaling_factor(x,cutoff)\n",
    "        return True\n",
    "    except:\n",
    "        logging.error(f'The base {base} is not match with the data.')\n",
    "        if plot:\n",
    "            check_plot(pd.Series(x),base)\n",
    "    return False\n",
    "\n",
    "def get_scaling_factor(x,cutoff=0.05):\n",
    "    \"\"\"\n",
    "    get_scaling_factor takes a cell vector and its index in the gene expression matrix \n",
    "    that has been scaled according to single-cell RNA sequencing preprocessing procedure \n",
    "    and return the scaling factor for the cell,\n",
    "    or produce an error indicating the cell has not been processed by our assumption.\n",
    "    get_scaling_factor: ndarray Nat (Num) -> Num\n",
    "    \"\"\"\n",
    "    x=pd.Series(x)\n",
    "    xm=x.min()\n",
    "    x=x/xm\n",
    "    if np.abs(x-x.round()).mean()>cutoff:\n",
    "        raise \n",
    "    return 1/xm\n",
    "\n",
    "def get_scaling_factor_1(x):\n",
    "    ''' x is a normlized cell '''\n",
    "    x=x.astype('float16')\n",
    "    y=np.array(x.value_counts().sort_index().head(2).index)\n",
    "    if np.abs(y[0]-y[1]/2)>10**-5:\n",
    "        raise\n",
    "    return 1/y[0]"
   ]
  },
  {
   "cell_type": "code",
   "execution_count": 7,
   "id": "5b586915-acbc-4fb0-9c6a-963638e15901",
   "metadata": {},
   "outputs": [],
   "source": [
    "#| export\n",
    "def check_plot(c,idx,n=10):\n",
    "    \"\"\"\n",
    "    Check_plot takes a cell vector and its index in the gene expression matrix and produce a plot of the first\n",
    "    N most frequent values against their ranks. Such a plot is used for error-checking in the unscaling process.\n",
    "    \"\"\"\n",
    "    y = np.array(c.value_counts().sort_index().head(n).index)\n",
    "    x = np.arange(1, n+1)\n",
    "    plt.scatter(x, y, label=f'Base {idx}')\n",
    "    plt.legend()\n",
    "    plt.xlabel('Rank in cell histogram')\n",
    "    plt.ylabel('Scaled count')\n",
    "    plt.xticks(x)"
   ]
  },
  {
   "cell_type": "markdown",
   "id": "6937c453-feb7-43ca-aff1-3a691b99c4e5",
   "metadata": {},
   "source": [
    "## create test data"
   ]
  },
  {
   "cell_type": "code",
   "execution_count": 10,
   "id": "8fd54318",
   "metadata": {
    "ExecuteTime": {
     "end_time": "2022-11-17T03:33:49.680363Z",
     "start_time": "2022-11-17T03:33:49.677201Z"
    }
   },
   "outputs": [],
   "source": [
    "prefix = '/home/huang_ziliang/project/brain/data/public/brain_source_Allaway_2021/GSE165233-GPL19057_series_matrix.txt.gz'"
   ]
  },
  {
   "cell_type": "code",
   "execution_count": 12,
   "id": "8713d51a-d856-41df-b403-2011359bab45",
   "metadata": {},
   "outputs": [],
   "source": [
    "ad=sc.read('../../projA/data/pbmc3k_raw.h5ad')"
   ]
  },
  {
   "cell_type": "code",
   "execution_count": 13,
   "id": "73ef5a22-4d27-4816-a7b7-ce94908f7631",
   "metadata": {},
   "outputs": [
    {
     "data": {
      "text/plain": [
       "AnnData object with n_obs × n_vars = 2700 × 32738\n",
       "    var: 'gene_ids'"
      ]
     },
     "execution_count": 13,
     "metadata": {},
     "output_type": "execute_result"
    }
   ],
   "source": [
    "ad"
   ]
  },
  {
   "cell_type": "code",
   "execution_count": 14,
   "id": "7896ad40-1452-4aa0-b4e3-920aaa659c3d",
   "metadata": {},
   "outputs": [],
   "source": [
    "sc.pp.normalize_total(ad, target_sum=1e4)\n",
    "sc.pp.log1p(ad)\n",
    "smtx = ad.X.tocsr().asfptype()"
   ]
  },
  {
   "cell_type": "code",
   "execution_count": 9,
   "id": "5d4c6eb2-d555-4bf9-b7fc-d294d6c4b9ea",
   "metadata": {
    "ExecuteTime": {
     "end_time": "2022-11-17T10:27:49.694159Z",
     "start_time": "2022-11-17T10:27:43.067414Z"
    },
    "collapsed": true,
    "jupyter": {
     "outputs_hidden": true
    },
    "tags": []
   },
   "outputs": [
    {
     "ename": "FileNotFoundError",
     "evalue": "[Errno 2] No such file or directory: '/home/huang_ziliang/project/brain/data/public/brain_source_Kevin_2020/raw_data/GSE130708_RAW/GSM3748088_951c/GSM3748088_951c_matrix.mtx.gz'",
     "output_type": "error",
     "traceback": [
      "\u001b[0;31m---------------------------------------------------------------------------\u001b[0m",
      "\u001b[0;31mFileNotFoundError\u001b[0m                         Traceback (most recent call last)",
      "Input \u001b[0;32mIn [9]\u001b[0m, in \u001b[0;36m<cell line: 1>\u001b[0;34m()\u001b[0m\n\u001b[0;32m----> 1\u001b[0m ad \u001b[38;5;241m=\u001b[39m \u001b[43msc\u001b[49m\u001b[38;5;241;43m.\u001b[39;49m\u001b[43mread_mtx\u001b[49m\u001b[43m(\u001b[49m\u001b[43mprefix\u001b[49m\u001b[38;5;241;43m+\u001b[39;49m\u001b[38;5;124;43m'\u001b[39;49m\u001b[38;5;124;43mbrain_source_Kevin_2020/raw_data/GSE130708_RAW/GSM3748088_951c/GSM3748088_951c_matrix.mtx.gz\u001b[39;49m\u001b[38;5;124;43m'\u001b[39;49m\u001b[43m)\u001b[49m\n\u001b[1;32m      2\u001b[0m ad\u001b[38;5;241m=\u001b[39mad\u001b[38;5;241m.\u001b[39mT\n\u001b[1;32m      3\u001b[0m sc\u001b[38;5;241m.\u001b[39mpp\u001b[38;5;241m.\u001b[39mnormalize_total(ad, target_sum\u001b[38;5;241m=\u001b[39m\u001b[38;5;241m1e4\u001b[39m)\n",
      "File \u001b[0;32m~/anaconda3/envs/sc/lib/python3.9/site-packages/anndata/_io/read.py:317\u001b[0m, in \u001b[0;36mread_mtx\u001b[0;34m(filename, dtype)\u001b[0m\n\u001b[1;32m    314\u001b[0m \u001b[38;5;28;01mfrom\u001b[39;00m \u001b[38;5;21;01mscipy\u001b[39;00m\u001b[38;5;21;01m.\u001b[39;00m\u001b[38;5;21;01mio\u001b[39;00m \u001b[38;5;28;01mimport\u001b[39;00m mmread\n\u001b[1;32m    316\u001b[0m \u001b[38;5;66;03m# could be rewritten accounting for dtype to be more performant\u001b[39;00m\n\u001b[0;32m--> 317\u001b[0m X \u001b[38;5;241m=\u001b[39m \u001b[43mmmread\u001b[49m\u001b[43m(\u001b[49m\u001b[43mfspath\u001b[49m\u001b[43m(\u001b[49m\u001b[43mfilename\u001b[49m\u001b[43m)\u001b[49m\u001b[43m)\u001b[49m\u001b[38;5;241m.\u001b[39mastype(dtype)\n\u001b[1;32m    318\u001b[0m \u001b[38;5;28;01mfrom\u001b[39;00m \u001b[38;5;21;01mscipy\u001b[39;00m\u001b[38;5;21;01m.\u001b[39;00m\u001b[38;5;21;01msparse\u001b[39;00m \u001b[38;5;28;01mimport\u001b[39;00m csr_matrix\n\u001b[1;32m    320\u001b[0m X \u001b[38;5;241m=\u001b[39m csr_matrix(X)\n",
      "File \u001b[0;32m~/anaconda3/envs/sc/lib/python3.9/site-packages/scipy/io/mmio.py:76\u001b[0m, in \u001b[0;36mmmread\u001b[0;34m(source)\u001b[0m\n\u001b[1;32m     60\u001b[0m \u001b[38;5;28;01mdef\u001b[39;00m \u001b[38;5;21mmmread\u001b[39m(source):\n\u001b[1;32m     61\u001b[0m     \u001b[38;5;124;03m\"\"\"\u001b[39;00m\n\u001b[1;32m     62\u001b[0m \u001b[38;5;124;03m    Reads the contents of a Matrix Market file-like 'source' into a matrix.\u001b[39;00m\n\u001b[1;32m     63\u001b[0m \n\u001b[0;32m   (...)\u001b[0m\n\u001b[1;32m     74\u001b[0m \u001b[38;5;124;03m        Matrix Market file.\u001b[39;00m\n\u001b[1;32m     75\u001b[0m \u001b[38;5;124;03m    \"\"\"\u001b[39;00m\n\u001b[0;32m---> 76\u001b[0m     \u001b[38;5;28;01mreturn\u001b[39;00m \u001b[43mMMFile\u001b[49m\u001b[43m(\u001b[49m\u001b[43m)\u001b[49m\u001b[38;5;241;43m.\u001b[39;49m\u001b[43mread\u001b[49m\u001b[43m(\u001b[49m\u001b[43msource\u001b[49m\u001b[43m)\u001b[49m\n",
      "File \u001b[0;32m~/anaconda3/envs/sc/lib/python3.9/site-packages/scipy/io/mmio.py:432\u001b[0m, in \u001b[0;36mMMFile.read\u001b[0;34m(self, source)\u001b[0m\n\u001b[1;32m    416\u001b[0m \u001b[38;5;28;01mdef\u001b[39;00m \u001b[38;5;21mread\u001b[39m(\u001b[38;5;28mself\u001b[39m, source):\n\u001b[1;32m    417\u001b[0m     \u001b[38;5;124;03m\"\"\"\u001b[39;00m\n\u001b[1;32m    418\u001b[0m \u001b[38;5;124;03m    Reads the contents of a Matrix Market file-like 'source' into a matrix.\u001b[39;00m\n\u001b[1;32m    419\u001b[0m \n\u001b[0;32m   (...)\u001b[0m\n\u001b[1;32m    430\u001b[0m \u001b[38;5;124;03m        Matrix Market file.\u001b[39;00m\n\u001b[1;32m    431\u001b[0m \u001b[38;5;124;03m    \"\"\"\u001b[39;00m\n\u001b[0;32m--> 432\u001b[0m     stream, close_it \u001b[38;5;241m=\u001b[39m \u001b[38;5;28;43mself\u001b[39;49m\u001b[38;5;241;43m.\u001b[39;49m\u001b[43m_open\u001b[49m\u001b[43m(\u001b[49m\u001b[43msource\u001b[49m\u001b[43m)\u001b[49m\n\u001b[1;32m    434\u001b[0m     \u001b[38;5;28;01mtry\u001b[39;00m:\n\u001b[1;32m    435\u001b[0m         \u001b[38;5;28mself\u001b[39m\u001b[38;5;241m.\u001b[39m_parse_header(stream)\n",
      "File \u001b[0;32m~/anaconda3/envs/sc/lib/python3.9/site-packages/scipy/io/mmio.py:323\u001b[0m, in \u001b[0;36mMMFile._open\u001b[0;34m(filespec, mode)\u001b[0m\n\u001b[1;32m    321\u001b[0m \u001b[38;5;28;01mif\u001b[39;00m filespec\u001b[38;5;241m.\u001b[39mendswith(\u001b[38;5;124m'\u001b[39m\u001b[38;5;124m.gz\u001b[39m\u001b[38;5;124m'\u001b[39m):\n\u001b[1;32m    322\u001b[0m     \u001b[38;5;28;01mimport\u001b[39;00m \u001b[38;5;21;01mgzip\u001b[39;00m\n\u001b[0;32m--> 323\u001b[0m     stream \u001b[38;5;241m=\u001b[39m \u001b[43mgzip\u001b[49m\u001b[38;5;241;43m.\u001b[39;49m\u001b[43mopen\u001b[49m\u001b[43m(\u001b[49m\u001b[43mfilespec\u001b[49m\u001b[43m,\u001b[49m\u001b[43m \u001b[49m\u001b[43mmode\u001b[49m\u001b[43m)\u001b[49m\n\u001b[1;32m    324\u001b[0m \u001b[38;5;28;01melif\u001b[39;00m filespec\u001b[38;5;241m.\u001b[39mendswith(\u001b[38;5;124m'\u001b[39m\u001b[38;5;124m.bz2\u001b[39m\u001b[38;5;124m'\u001b[39m):\n\u001b[1;32m    325\u001b[0m     \u001b[38;5;28;01mimport\u001b[39;00m \u001b[38;5;21;01mbz2\u001b[39;00m\n",
      "File \u001b[0;32m~/anaconda3/envs/sc/lib/python3.9/gzip.py:58\u001b[0m, in \u001b[0;36mopen\u001b[0;34m(filename, mode, compresslevel, encoding, errors, newline)\u001b[0m\n\u001b[1;32m     56\u001b[0m gz_mode \u001b[38;5;241m=\u001b[39m mode\u001b[38;5;241m.\u001b[39mreplace(\u001b[38;5;124m\"\u001b[39m\u001b[38;5;124mt\u001b[39m\u001b[38;5;124m\"\u001b[39m, \u001b[38;5;124m\"\u001b[39m\u001b[38;5;124m\"\u001b[39m)\n\u001b[1;32m     57\u001b[0m \u001b[38;5;28;01mif\u001b[39;00m \u001b[38;5;28misinstance\u001b[39m(filename, (\u001b[38;5;28mstr\u001b[39m, \u001b[38;5;28mbytes\u001b[39m, os\u001b[38;5;241m.\u001b[39mPathLike)):\n\u001b[0;32m---> 58\u001b[0m     binary_file \u001b[38;5;241m=\u001b[39m \u001b[43mGzipFile\u001b[49m\u001b[43m(\u001b[49m\u001b[43mfilename\u001b[49m\u001b[43m,\u001b[49m\u001b[43m \u001b[49m\u001b[43mgz_mode\u001b[49m\u001b[43m,\u001b[49m\u001b[43m \u001b[49m\u001b[43mcompresslevel\u001b[49m\u001b[43m)\u001b[49m\n\u001b[1;32m     59\u001b[0m \u001b[38;5;28;01melif\u001b[39;00m \u001b[38;5;28mhasattr\u001b[39m(filename, \u001b[38;5;124m\"\u001b[39m\u001b[38;5;124mread\u001b[39m\u001b[38;5;124m\"\u001b[39m) \u001b[38;5;129;01mor\u001b[39;00m \u001b[38;5;28mhasattr\u001b[39m(filename, \u001b[38;5;124m\"\u001b[39m\u001b[38;5;124mwrite\u001b[39m\u001b[38;5;124m\"\u001b[39m):\n\u001b[1;32m     60\u001b[0m     binary_file \u001b[38;5;241m=\u001b[39m GzipFile(\u001b[38;5;28;01mNone\u001b[39;00m, gz_mode, compresslevel, filename)\n",
      "File \u001b[0;32m~/anaconda3/envs/sc/lib/python3.9/gzip.py:173\u001b[0m, in \u001b[0;36mGzipFile.__init__\u001b[0;34m(self, filename, mode, compresslevel, fileobj, mtime)\u001b[0m\n\u001b[1;32m    171\u001b[0m     mode \u001b[38;5;241m+\u001b[39m\u001b[38;5;241m=\u001b[39m \u001b[38;5;124m'\u001b[39m\u001b[38;5;124mb\u001b[39m\u001b[38;5;124m'\u001b[39m\n\u001b[1;32m    172\u001b[0m \u001b[38;5;28;01mif\u001b[39;00m fileobj \u001b[38;5;129;01mis\u001b[39;00m \u001b[38;5;28;01mNone\u001b[39;00m:\n\u001b[0;32m--> 173\u001b[0m     fileobj \u001b[38;5;241m=\u001b[39m \u001b[38;5;28mself\u001b[39m\u001b[38;5;241m.\u001b[39mmyfileobj \u001b[38;5;241m=\u001b[39m \u001b[43mbuiltins\u001b[49m\u001b[38;5;241;43m.\u001b[39;49m\u001b[43mopen\u001b[49m\u001b[43m(\u001b[49m\u001b[43mfilename\u001b[49m\u001b[43m,\u001b[49m\u001b[43m \u001b[49m\u001b[43mmode\u001b[49m\u001b[43m \u001b[49m\u001b[38;5;129;43;01mor\u001b[39;49;00m\u001b[43m \u001b[49m\u001b[38;5;124;43m'\u001b[39;49m\u001b[38;5;124;43mrb\u001b[39;49m\u001b[38;5;124;43m'\u001b[39;49m\u001b[43m)\u001b[49m\n\u001b[1;32m    174\u001b[0m \u001b[38;5;28;01mif\u001b[39;00m filename \u001b[38;5;129;01mis\u001b[39;00m \u001b[38;5;28;01mNone\u001b[39;00m:\n\u001b[1;32m    175\u001b[0m     filename \u001b[38;5;241m=\u001b[39m \u001b[38;5;28mgetattr\u001b[39m(fileobj, \u001b[38;5;124m'\u001b[39m\u001b[38;5;124mname\u001b[39m\u001b[38;5;124m'\u001b[39m, \u001b[38;5;124m'\u001b[39m\u001b[38;5;124m'\u001b[39m)\n",
      "\u001b[0;31mFileNotFoundError\u001b[0m: [Errno 2] No such file or directory: '/home/huang_ziliang/project/brain/data/public/brain_source_Kevin_2020/raw_data/GSE130708_RAW/GSM3748088_951c/GSM3748088_951c_matrix.mtx.gz'"
     ]
    }
   ],
   "source": [
    "ad = sc.read_mtx(prefix+'brain_source_Kevin_2020/raw_data/GSE130708_RAW/GSM3748088_951c/GSM3748088_951c_matrix.mtx.gz')\n",
    "ad=ad.T\n",
    "sc.pp.normalize_total(ad, target_sum=1e4)\n",
    "sc.pp.log1p(ad)\n",
    "smtx = ad.X.tocsr().asfptype()"
   ]
  },
  {
   "cell_type": "code",
   "execution_count": 15,
   "id": "ab4647b6-db9c-437b-b461-1aadf4d8c552",
   "metadata": {},
   "outputs": [
    {
     "data": {
      "text/plain": [
       "array([1.6352079, 1.6352079, 2.2258174, ..., 1.7980369, 1.7980369,\n",
       "       2.779648 ], dtype=float32)"
      ]
     },
     "execution_count": 15,
     "metadata": {},
     "output_type": "execute_result"
    }
   ],
   "source": [
    "smtx.data"
   ]
  },
  {
   "cell_type": "markdown",
   "id": "3fe2018e-28e8-431c-842e-85351027a6b2",
   "metadata": {},
   "source": [
    "### Testing check_unscale"
   ]
  },
  {
   "cell_type": "code",
   "execution_count": 16,
   "id": "59852a40-fe91-4db0-885b-9942e421f4d2",
   "metadata": {},
   "outputs": [],
   "source": [
    "x=smtx.getrow(0).data"
   ]
  },
  {
   "cell_type": "code",
   "execution_count": 17,
   "id": "c78627d8-8e56-4d8c-96d7-b03c15394cc7",
   "metadata": {},
   "outputs": [
    {
     "data": {
      "text/plain": [
       "True"
      ]
     },
     "execution_count": 17,
     "metadata": {},
     "output_type": "execute_result"
    }
   ],
   "source": [
    "check_unscale(x)"
   ]
  },
  {
   "cell_type": "code",
   "execution_count": 20,
   "id": "279de0a3-ba49-4a7d-97a8-140256f73f35",
   "metadata": {},
   "outputs": [
    {
     "name": "stderr",
     "output_type": "stream",
     "text": [
      "ERROR:root:The base 2 is not match with the data.\n"
     ]
    },
    {
     "data": {
      "text/plain": [
       "False"
      ]
     },
     "execution_count": 20,
     "metadata": {},
     "output_type": "execute_result"
    },
    {
     "data": {
      "image/png": "[encoded data removed]",
      "text/plain": [
       "<Figure size 432x288 with 1 Axes>"
      ]
     },
     "metadata": {
      "needs_background": "light"
     },
     "output_type": "display_data"
    }
   ],
   "source": [
    "check_unscale(x,base=2)"
   ]
  },
  {
   "cell_type": "markdown",
   "id": "77933b56-5b36-42d2-9ac6-2dabe60f72a2",
   "metadata": {},
   "source": [
    "### Testing scdenorm"
   ]
  },
  {
   "cell_type": "code",
   "execution_count": 25,
   "id": "43631cc5",
   "metadata": {},
   "outputs": [],
   "source": [
    "mmwrite('scaled.mtx', smtx[1:10,])"
   ]
  },
  {
   "cell_type": "code",
   "execution_count": 26,
   "id": "c0e4375c-e43a-42fc-a122-523bd8411e4a",
   "metadata": {},
   "outputs": [],
   "source": [
    "ad1=sc.read('scaled.mtx')"
   ]
  },
  {
   "cell_type": "code",
   "execution_count": 27,
   "id": "7d656bed-2383-4fb5-b54e-da9a159aae1d",
   "metadata": {},
   "outputs": [
    {
     "data": {
      "text/plain": [
       "AnnData object with n_obs × n_vars = 9 × 27998"
      ]
     },
     "execution_count": 27,
     "metadata": {},
     "output_type": "execute_result"
    }
   ],
   "source": [
    "ad1"
   ]
  },
  {
   "cell_type": "code",
   "execution_count": 173,
   "id": "f0e8df4e-62cb-42c3-a5bc-872b504b96f9",
   "metadata": {
    "tags": []
   },
   "outputs": [],
   "source": [
    "mmwrite('scaled_tran.mtx', smtx.transpose())"
   ]
  },
  {
   "cell_type": "code",
   "execution_count": 42,
   "id": "e70047df-10a4-4bc2-9c37-c4d4ae1dc56d",
   "metadata": {},
   "outputs": [
    {
     "name": "stderr",
     "output_type": "stream",
     "text": [
      "100%|██████████| 9/9 [00:00<00:00, 1272.63it/s]\n"
     ]
    },
    {
     "data": {
      "text/plain": [
       "(<9x27998 sparse matrix of type '<class 'numpy.float64'>'\n",
       " \twith 25814 stored elements in Compressed Sparse Row format>,\n",
       " [0, 1, 2, 3, 4, 5, 6, 7, 8])"
      ]
     },
     "execution_count": 42,
     "metadata": {},
     "output_type": "execute_result"
    }
   ],
   "source": [
    "unscale_mat(ad1.X)"
   ]
  },
  {
   "cell_type": "code",
   "execution_count": 82,
   "id": "68456eba-0f8b-4f0c-84a9-26fc3a8e7b97",
   "metadata": {},
   "outputs": [
    {
     "name": "stderr",
     "output_type": "stream",
     "text": [
      "100%|██████████| 9/9 [00:00<00:00, 1304.79it/s]\n"
     ]
    }
   ],
   "source": [
    "scdenorm('scaled.mtx',fout='scd_scaled.h5ad',base=np.e)"
   ]
  },
  {
   "cell_type": "code",
   "execution_count": 52,
   "id": "95e662c5-eb4f-40d1-945d-69f34aa55138",
   "metadata": {},
   "outputs": [
    {
     "name": "stderr",
     "output_type": "stream",
     "text": [
      "INFO:root:Reading input file: scaled.mtx\n",
      "INFO:root:The dimensions of this data are (9, 27998).\n",
      "INFO:root:denormlizing ...\n",
      "ERROR:root:The base 2 is not match with the data.\n"
     ]
    },
    {
     "data": {
      "image/png": "[encoded data removed]",
      "text/plain": [
       "<Figure size 432x288 with 1 Axes>"
      ]
     },
     "metadata": {
      "needs_background": "light"
     },
     "output_type": "display_data"
    },
    {
     "name": "stderr",
     "output_type": "stream",
     "text": [
      "ERROR:root:Denormlization has failed. Output the orignal data\n",
      "INFO:root:Writing output file: scd_scaled.h5ad\n"
     ]
    }
   ],
   "source": [
    "scdenorm('scaled.mtx',fout='scd_scaled.h5ad',base=2)"
   ]
  },
  {
   "cell_type": "code",
   "execution_count": 53,
   "id": "265915b2-b0bf-45d2-a70f-d9de8f9e068e",
   "metadata": {},
   "outputs": [
    {
     "name": "stderr",
     "output_type": "stream",
     "text": [
      "INFO:root:Reading input file: scaled.mtx\n",
      "INFO:root:The dimensions of this data are (9, 27998).\n",
      "INFO:root:select base\n",
      "INFO:root:denormlizing ...\n",
      "100%|██████████| 9/9 [00:00<00:00, 1312.09it/s]\n",
      "INFO:root:Writing output file: scd_scaled.h5ad\n"
     ]
    }
   ],
   "source": [
    "scdenorm('scaled.mtx',fout='scd_scaled.h5ad')"
   ]
  },
  {
   "cell_type": "code",
   "execution_count": 72,
   "id": "768a7995-648b-4dc8-9094-4e7e518a79e3",
   "metadata": {},
   "outputs": [
    {
     "name": "stderr",
     "output_type": "stream",
     "text": [
      "INFO:root:Reading input file: scaled.mtx\n",
      "INFO:root:The dimensions of this data are (9, 27998).\n",
      "INFO:root:select base\n",
      "INFO:root:denormlizing ...\n",
      "100%|██████████| 9/9 [00:00<00:00, 1324.52it/s]\n"
     ]
    },
    {
     "data": {
      "text/plain": [
       "View of AnnData object with n_obs × n_vars = 9 × 27998"
      ]
     },
     "execution_count": 72,
     "metadata": {},
     "output_type": "execute_result"
    }
   ],
   "source": [
    "scdenorm('scaled.mtx')"
   ]
  },
  {
   "cell_type": "code",
   "execution_count": 73,
   "id": "8ed2a995-fee8-4fb4-aebc-2dca876c4fdc",
   "metadata": {},
   "outputs": [
    {
     "name": "stderr",
     "output_type": "stream",
     "text": [
      "INFO:root:The dimensions of this data are (9, 27998).\n",
      "INFO:root:select base\n",
      "INFO:root:denormlizing ...\n",
      "100%|██████████| 9/9 [00:00<00:00, 1318.41it/s]\n"
     ]
    },
    {
     "data": {
      "text/plain": [
       "View of AnnData object with n_obs × n_vars = 9 × 27998"
      ]
     },
     "execution_count": 73,
     "metadata": {},
     "output_type": "execute_result"
    }
   ],
   "source": [
    "scdenorm(ad1)"
   ]
  },
  {
   "cell_type": "code",
   "execution_count": null,
   "id": "8bb555b9-1e1c-4996-8aa2-4ad283280845",
   "metadata": {},
   "outputs": [],
   "source": []
  }
 ],
 "metadata": {
  "kernelspec": {
   "display_name": "Python 3 (ipykernel)",
   "language": "python",
   "name": "python3"
  },
  "language_info": {
   "codemirror_mode": {
    "name": "ipython",
    "version": 3
   },
   "file_extension": ".py",
   "mimetype": "text/x-python",
   "name": "python",
   "nbconvert_exporter": "python",
   "pygments_lexer": "ipython3",
   "version": "3.9.13"
  }
 },
 "nbformat": 4,
 "nbformat_minor": 5
}
