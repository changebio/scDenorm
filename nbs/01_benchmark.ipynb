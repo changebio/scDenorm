{
 "cells": [
  {
   "cell_type": "markdown",
   "id": "2acca707-5504-4450-961a-bd49e06c7a1f",
   "metadata": {},
   "source": [
    "# Analysis and Benchmark\n",
    "\n",
    "> This notebook contains all of the results of scDenorm's analysis"
   ]
  },
  {
   "cell_type": "code",
   "execution_count": 51,
   "id": "c7883576-c8a5-4e3c-b266-efbf3045cd0d",
   "metadata": {},
   "outputs": [
    {
     "name": "stdout",
     "output_type": "stream",
     "text": [
      "Using matplotlib backend: <object object at 0x2b200decd210>\n",
      "%pylab is deprecated, use %matplotlib inline and import the required libraries.\n",
      "Populating the interactive namespace from numpy and matplotlib\n"
     ]
    }
   ],
   "source": [
    "%pylab\n",
    "%matplotlib inline"
   ]
  },
  {
   "cell_type": "code",
   "execution_count": 1,
   "id": "b7010662-6528-40ff-b53c-75a9f3b878ae",
   "metadata": {},
   "outputs": [],
   "source": [
    "import numpy as np\n",
    "import pandas as pd\n",
    "import matplotlib.pyplot as plt\n",
    "import scanpy as sc\n",
    "from anndata import AnnData\n",
    "from scipy.sparse import diags\n",
    "from scipy.io import mmwrite\n",
    "from tqdm import tqdm\n",
    "from pathlib import Path\n",
    "from typing import Union, Optional\n",
    "import pickle\n",
    "import seaborn as sns"
   ]
  },
  {
   "cell_type": "code",
   "execution_count": 2,
   "id": "01d0c244-518d-41f2-bac2-686da17472f4",
   "metadata": {},
   "outputs": [],
   "source": [
    "from scDenorm.denorm import *"
   ]
  },
  {
   "cell_type": "markdown",
   "id": "e9d9e2de-9554-48a2-ab64-7745aefa1eec",
   "metadata": {},
   "source": [
    "## 10 testing dataset with count matrix"
   ]
  },
  {
   "cell_type": "code",
   "execution_count": 172,
   "id": "d36116f8-f441-4388-8770-88c192addf04",
   "metadata": {},
   "outputs": [],
   "source": [
    "h5_benchmark=['/home/huang_ziliang/project/brain/data/public/human_brain_organoids_Fiorenzano_2021_10x/h5/human_brain_organoids_Fiorenzano_2021_10x.h5ad',\n",
    " '/home/huang_ziliang/project/brain/data/public/human_mouse_brain_Welch_2019_10x/h5/GSE126836_SN_MD5534.h5ad',\n",
    " '/home/huang_ziliang/project/brain/data/public/mouse_brain_HPF_PFC_Joglekar_2021_10x_PacBio_Visium/h5/mouse_brain_HPF_PFC_Joglekar_2021_10x.h5ad',\n",
    " '/home/huang_ziliang/project/brain/data/public/mouse_brain_OB_Mizrak_2020_SCOPE-seq/h5/mouse_brain_OB_Mizrak_2020_SCOPE-seq.h5ad',\n",
    " '/home/huang_ziliang/project/brain/data/public/mouse_brain_lateral_hypothalamic_area_Mickelsen_2019_10x/h5/mouse_brain_lateral_hypothalamic_area_Mickelsen_2019_10x.h5ad',\n",
    " '/home/huang_ziliang/project/brain/data/public/mouse_brain_choroid_plexus_Dani_2021_10x/h5/mouse_brain_choroid_plexus_Dani_2021_10x.h5ad',\n",
    " '/home/huang_ziliang/project/brain/data/public/human_brain_entorhinalcortex_Grubman_2019_DroNc-seq/h5/human_brain_entorhinalcortex_Grubman_2019_DroNc-seq.h5ad',\n",
    " '/home/huang_ziliang/project/brain/data/public/mouse_brain_developing_ZhangX_2022_10x/h5/Brain-Young-scRNAseq-rep1.h5ad',\n",
    " '/home/huang_ziliang/project/brain/data/public/human_mouse_brain_Chen_2019_SNARE-seq/h5/RNA.h5ad',\n",
    " '/home/huang_ziliang/project/brain/data/public/mouse_brain_Hippocampal_Mirabella_2021_10x/h5/mouse_brain_Hippocampal_Mirabella_2021_10x_in_vivo.h5ad']"
   ]
  },
  {
   "cell_type": "code",
   "execution_count": 173,
   "id": "05ff654a-3624-4097-a2e6-bf8fdf31582c",
   "metadata": {
    "tags": []
   },
   "outputs": [
    {
     "name": "stdout",
     "output_type": "stream",
     "text": [
      "(123294, 28788) /home/huang_ziliang/project/brain/data/public/human_brain_organoids_Fiorenzano_2021_10x/h5/human_brain_organoids_Fiorenzano_2021_10x.h5ad\n",
      "(9192, 29445) /home/huang_ziliang/project/brain/data/public/human_mouse_brain_Welch_2019_10x/h5/GSE126836_SN_MD5534.h5ad\n",
      "(29375, 32452) /home/huang_ziliang/project/brain/data/public/mouse_brain_HPF_PFC_Joglekar_2021_10x_PacBio_Visium/h5/mouse_brain_HPF_PFC_Joglekar_2021_10x.h5ad\n",
      "(11020, 48528) /home/huang_ziliang/project/brain/data/public/mouse_brain_OB_Mizrak_2020_SCOPE-seq/h5/mouse_brain_OB_Mizrak_2020_SCOPE-seq.h5ad\n"
     ]
    },
    {
     "name": "stderr",
     "output_type": "stream",
     "text": [
      "/home/huang_yin/anaconda3/envs/sc/lib/python3.9/site-packages/anndata/_core/anndata.py:1830: UserWarning: Variable names are not unique. To make them unique, call `.var_names_make_unique`.\n",
      "  utils.warn_names_duplicates(\"var\")\n"
     ]
    },
    {
     "name": "stdout",
     "output_type": "stream",
     "text": [
      "(7232, 28692) /home/huang_ziliang/project/brain/data/public/mouse_brain_lateral_hypothalamic_area_Mickelsen_2019_10x/h5/mouse_brain_lateral_hypothalamic_area_Mickelsen_2019_10x.h5ad\n",
      "(98660, 23890) /home/huang_ziliang/project/brain/data/public/mouse_brain_choroid_plexus_Dani_2021_10x/h5/mouse_brain_choroid_plexus_Dani_2021_10x.h5ad\n",
      "(13214, 10850) /home/huang_ziliang/project/brain/data/public/human_brain_entorhinalcortex_Grubman_2019_DroNc-seq/h5/human_brain_entorhinalcortex_Grubman_2019_DroNc-seq.h5ad\n",
      "(2751, 31053) /home/huang_ziliang/project/brain/data/public/mouse_brain_developing_ZhangX_2022_10x/h5/Brain-Young-scRNAseq-rep1.h5ad\n"
     ]
    },
    {
     "name": "stderr",
     "output_type": "stream",
     "text": [
      "/home/huang_yin/anaconda3/envs/sc/lib/python3.9/site-packages/anndata/_core/anndata.py:1830: UserWarning: Variable names are not unique. To make them unique, call `.var_names_make_unique`.\n",
      "  utils.warn_names_duplicates(\"var\")\n"
     ]
    },
    {
     "name": "stdout",
     "output_type": "stream",
     "text": [
      "(15390, 33289) /home/huang_ziliang/project/brain/data/public/human_mouse_brain_Chen_2019_SNARE-seq/h5/RNA.h5ad\n",
      "(16271, 31053) /home/huang_ziliang/project/brain/data/public/mouse_brain_Hippocampal_Mirabella_2021_10x/h5/mouse_brain_Hippocampal_Mirabella_2021_10x_in_vivo.h5ad\n"
     ]
    }
   ],
   "source": [
    "for i in h5_benchmark:\n",
    "    tmp=sc.read(i)\n",
    "    print(tmp.shape,i)"
   ]
  },
  {
   "cell_type": "markdown",
   "id": "453016db-3a1a-4167-a4ef-d4a786ff408f",
   "metadata": {},
   "source": [
    "# Figure 1"
   ]
  },
  {
   "cell_type": "markdown",
   "id": "cca2ac7d-9afe-48c2-8bd8-af1a4bbe5157",
   "metadata": {},
   "source": [
    "### restore errors"
   ]
  },
  {
   "cell_type": "code",
   "execution_count": 26,
   "id": "f32a5362-d733-451e-b1d4-4297eb17415e",
   "metadata": {},
   "outputs": [
    {
     "name": "stderr",
     "output_type": "stream",
     "text": [
      "100%|██████████| 1000/1000 [00:00<00:00, 2763.60it/s]\n"
     ]
    },
    {
     "name": "stdout",
     "output_type": "stream",
     "text": [
      "0.09852815 (1000, 29445) /home/huang_ziliang/project/brain/data/public/human_mouse_brain_Welch_2019_10x/h5/GSE126836_SN_MD5534.h5ad\n"
     ]
    },
    {
     "name": "stderr",
     "output_type": "stream",
     "text": [
      "100%|██████████| 1000/1000 [00:00<00:00, 2923.69it/s]\n"
     ]
    },
    {
     "name": "stdout",
     "output_type": "stream",
     "text": [
      "0.25611508 (1000, 32452) /home/huang_ziliang/project/brain/data/public/mouse_brain_HPF_PFC_Joglekar_2021_10x_PacBio_Visium/h5/mouse_brain_HPF_PFC_Joglekar_2021_10x.h5ad\n"
     ]
    },
    {
     "name": "stderr",
     "output_type": "stream",
     "text": [
      "100%|██████████| 1000/1000 [00:00<00:00, 2867.55it/s]\n"
     ]
    },
    {
     "name": "stdout",
     "output_type": "stream",
     "text": [
      "1.1155263 (1000, 28788) /home/huang_ziliang/project/brain/data/public/human_brain_organoids_Fiorenzano_2021_10x/h5/human_brain_organoids_Fiorenzano_2021_10x.h5ad\n"
     ]
    },
    {
     "name": "stderr",
     "output_type": "stream",
     "text": [
      "/home/huang_yin/anaconda3/envs/sc/lib/python3.9/site-packages/anndata/_core/anndata.py:1830: UserWarning: Variable names are not unique. To make them unique, call `.var_names_make_unique`.\n",
      "  utils.warn_names_duplicates(\"var\")\n",
      "100%|██████████| 1000/1000 [00:00<00:00, 2946.26it/s]\n"
     ]
    },
    {
     "name": "stdout",
     "output_type": "stream",
     "text": [
      "0.11780703 (1000, 48528) /home/huang_ziliang/project/brain/data/public/mouse_brain_OB_Mizrak_2020_SCOPE-seq/h5/mouse_brain_OB_Mizrak_2020_SCOPE-seq.h5ad\n"
     ]
    },
    {
     "name": "stderr",
     "output_type": "stream",
     "text": [
      "100%|██████████| 1000/1000 [00:00<00:00, 2883.91it/s]\n"
     ]
    },
    {
     "name": "stdout",
     "output_type": "stream",
     "text": [
      "0.4915353 (1000, 28692) /home/huang_ziliang/project/brain/data/public/mouse_brain_lateral_hypothalamic_area_Mickelsen_2019_10x/h5/mouse_brain_lateral_hypothalamic_area_Mickelsen_2019_10x.h5ad\n"
     ]
    },
    {
     "name": "stderr",
     "output_type": "stream",
     "text": [
      "100%|██████████| 1000/1000 [00:00<00:00, 2723.79it/s]\n"
     ]
    },
    {
     "name": "stdout",
     "output_type": "stream",
     "text": [
      "0.5573318 (1000, 23890) /home/huang_ziliang/project/brain/data/public/mouse_brain_choroid_plexus_Dani_2021_10x/h5/mouse_brain_choroid_plexus_Dani_2021_10x.h5ad\n"
     ]
    },
    {
     "name": "stderr",
     "output_type": "stream",
     "text": [
      "100%|██████████| 1000/1000 [00:00<00:00, 3084.23it/s]\n",
      "/home/huang_yin/anaconda3/envs/sc/lib/python3.9/site-packages/anndata/_core/anndata.py:1830: UserWarning: Variable names are not unique. To make them unique, call `.var_names_make_unique`.\n",
      "  utils.warn_names_duplicates(\"var\")\n"
     ]
    },
    {
     "name": "stdout",
     "output_type": "stream",
     "text": [
      "0.0368073 (1000, 10850) /home/huang_ziliang/project/brain/data/public/human_brain_entorhinalcortex_Grubman_2019_DroNc-seq/h5/human_brain_entorhinalcortex_Grubman_2019_DroNc-seq.h5ad\n"
     ]
    },
    {
     "name": "stderr",
     "output_type": "stream",
     "text": [
      "100%|██████████| 1000/1000 [00:00<00:00, 3105.67it/s]\n"
     ]
    },
    {
     "name": "stdout",
     "output_type": "stream",
     "text": [
      "0.248968 (1000, 31053) /home/huang_ziliang/project/brain/data/public/mouse_brain_developing_ZhangX_2022_10x/h5/Brain-Young-scRNAseq-rep1.h5ad\n"
     ]
    },
    {
     "name": "stderr",
     "output_type": "stream",
     "text": [
      "100%|██████████| 1000/1000 [00:00<00:00, 3064.30it/s]\n"
     ]
    },
    {
     "name": "stdout",
     "output_type": "stream",
     "text": [
      "0.092314124 (1000, 33289) /home/huang_ziliang/project/brain/data/public/human_mouse_brain_Chen_2019_SNARE-seq/h5/RNA.h5ad\n"
     ]
    },
    {
     "name": "stderr",
     "output_type": "stream",
     "text": [
      "100%|██████████| 1000/1000 [00:00<00:00, 2469.34it/s]\n"
     ]
    },
    {
     "name": "stdout",
     "output_type": "stream",
     "text": [
      "1.3098155 (1000, 31053) /home/huang_ziliang/project/brain/data/public/mouse_brain_Hippocampal_Mirabella_2021_10x/h5/mouse_brain_Hippocampal_Mirabella_2021_10x_in_vivo.h5ad\n"
     ]
    }
   ],
   "source": [
    "ress={}\n",
    "for i in h5_benchmark:\n",
    "    ad=sc.read(i)\n",
    "    ad=ad[0:min(ad.shape[0],1000),:]\n",
    "    ad.layers['count']=ad.X.copy()\n",
    "    sc.pp.normalize_total(ad, target_sum=1e4)\n",
    "    sc.pp.log1p(ad)\n",
    "    new_ad=scdenorm(ad)\n",
    "    res=new_ad.X.data-new_ad.layers['count'].data\n",
    "    ress[i.split('/')[-3]]=res\n",
    "    print(abs(res).sum(),ad.shape,i)"
   ]
  },
  {
   "cell_type": "code",
   "execution_count": 95,
   "id": "e7fdd9d1-4583-45a9-9e6d-afa7e0847177",
   "metadata": {},
   "outputs": [],
   "source": [
    "with open('data/restore_errors.pickle', 'wb') as handle:\n",
    "    pickle.dump(ress, handle, protocol=pickle.HIGHEST_PROTOCOL)\n",
    "\n",
    "with open('data/restore_errors.pickle', 'rb') as handle:\n",
    "    ress = pickle.load(handle)"
   ]
  },
  {
   "cell_type": "code",
   "execution_count": 197,
   "id": "cea2068c-4754-4c80-abda-e403265f8cbd",
   "metadata": {},
   "outputs": [
    {
     "data": {
      "text/plain": [
       "{'human_mouse_brain_Welch_2019_10x': array([4.7683716e-07, 0.0000000e+00, 0.0000000e+00, ..., 2.3841858e-07,\n",
       "        2.3841858e-07, 0.0000000e+00], dtype=float32),\n",
       " 'mouse_brain_HPF_PFC_Joglekar_2021_10x_PacBio_Visium': array([ 0.0000000e+00, -1.1444092e-05, -7.6293945e-06, ...,\n",
       "         2.3841858e-07,  0.0000000e+00,  0.0000000e+00], dtype=float32),\n",
       " 'human_brain_organoids_Fiorenzano_2021_10x': array([ 0.0000000e+00,  0.0000000e+00,  0.0000000e+00, ...,\n",
       "        -7.6293945e-06,  0.0000000e+00,  0.0000000e+00], dtype=float32),\n",
       " 'mouse_brain_OB_Mizrak_2020_SCOPE-seq': array([0., 0., 0., ..., 0., 0., 0.], dtype=float32),\n",
       " 'mouse_brain_lateral_hypothalamic_area_Mickelsen_2019_10x': array([ 0.0000000e+00,  0.0000000e+00,  0.0000000e+00, ...,\n",
       "         0.0000000e+00, -3.8146973e-06,  0.0000000e+00], dtype=float32),\n",
       " 'mouse_brain_choroid_plexus_Dani_2021_10x': array([0.0000000e+00, 1.9073486e-06, 0.0000000e+00, ..., 0.0000000e+00,\n",
       "        0.0000000e+00, 0.0000000e+00], dtype=float32),\n",
       " 'human_brain_entorhinalcortex_Grubman_2019_DroNc-seq': array([0.0000000e+00, 0.0000000e+00, 0.0000000e+00, ..., 2.3841858e-07,\n",
       "        0.0000000e+00, 0.0000000e+00], dtype=float32),\n",
       " 'mouse_brain_developing_ZhangX_2022_10x': array([ 0.0000000e+00,  0.0000000e+00,  0.0000000e+00, ...,\n",
       "         0.0000000e+00,  0.0000000e+00, -1.9073486e-06], dtype=float32),\n",
       " 'human_mouse_brain_Chen_2019_SNARE-seq': array([ 0.0000000e+00,  0.0000000e+00,  0.0000000e+00, ...,\n",
       "         0.0000000e+00, -2.3841858e-07,  0.0000000e+00], dtype=float32),\n",
       " 'mouse_brain_Hippocampal_Mirabella_2021_10x': array([ 0.0000000e+00,  0.0000000e+00,  0.0000000e+00, ...,\n",
       "         0.0000000e+00,  0.0000000e+00, -4.7683716e-07], dtype=float32)}"
      ]
     },
     "execution_count": 197,
     "metadata": {},
     "output_type": "execute_result"
    }
   ],
   "source": [
    "ress"
   ]
  },
  {
   "cell_type": "code",
   "execution_count": null,
   "id": "5538d5e1-d0d6-40f0-973a-c4f4f3b2c1ca",
   "metadata": {},
   "outputs": [],
   "source": []
  },
  {
   "cell_type": "markdown",
   "id": "9d40b2c3-5354-48d9-82b3-40c0dacc0580",
   "metadata": {},
   "source": [
    "### Performance\n",
    "\n",
    "#### running time linearly increase by cell\n",
    "20000genes X n cells"
   ]
  },
  {
   "cell_type": "code",
   "execution_count": 60,
   "id": "48bf4139-4cdd-422d-a20a-8385a1f16474",
   "metadata": {},
   "outputs": [],
   "source": [
    "tmp=sc.read('/home/huang_ziliang/project/brain/data/public/human_brain_CNS_Marsh_2022_10x/h5/human_brain_CNS_Marsh_2022_10x.h5ad')"
   ]
  },
  {
   "cell_type": "code",
   "execution_count": 61,
   "id": "8feb02da-a85f-4648-93c9-121fca0acb41",
   "metadata": {},
   "outputs": [
    {
     "data": {
      "text/plain": [
       "AnnData object with n_obs × n_vars = 139661 × 68308\n",
       "    obs: 'sample', 'batch'\n",
       "    var: 'gene_ids-0', 'feature_types-0', 'gene_ids-1', 'feature_types-1', 'gene_ids-10', 'feature_types-10', 'gene_ids-11', 'feature_types-11', 'gene_ids-12', 'feature_types-12', 'gene_ids-13', 'feature_types-13', 'gene_ids-14', 'feature_types-14', 'gene_ids-15', 'feature_types-15', 'gene_ids-16', 'feature_types-16', 'gene_ids-17', 'feature_types-17', 'gene_ids-18', 'feature_types-18', 'gene_ids-19', 'feature_types-19', 'gene_ids-2', 'feature_types-2', 'gene_ids-20', 'feature_types-20', 'gene_ids-21', 'feature_types-21', 'gene_ids-22', 'feature_types-22', 'gene_ids-23', 'feature_types-23', 'gene_ids-24', 'feature_types-24', 'gene_ids-25', 'feature_types-25', 'gene_ids-26', 'feature_types-26', 'gene_ids-27', 'feature_types-27', 'gene_ids-28', 'gene_ids-29', 'gene_ids-3', 'feature_types-3', 'gene_ids-30', 'gene_ids-31', 'gene_ids-4', 'feature_types-4', 'gene_ids-5', 'feature_types-5', 'gene_ids-6', 'feature_types-6', 'gene_ids-7', 'feature_types-7', 'gene_ids-8', 'feature_types-8', 'gene_ids-9', 'feature_types-9'"
      ]
     },
     "execution_count": 61,
     "metadata": {},
     "output_type": "execute_result"
    }
   ],
   "source": [
    "tmp"
   ]
  },
  {
   "cell_type": "code",
   "execution_count": 79,
   "id": "c603c6f4-a23a-471c-83d9-97b6bd406c2c",
   "metadata": {},
   "outputs": [],
   "source": [
    "numpy.random.seed(0)\n",
    "r_idx=[]\n",
    "for i in range(100):\n",
    "    r_idx.append([numpy.random.choice(np.arange(tmp.shape[1]),n,replace=False) for n in [10000,15000,20000,25000,30000,35000]])"
   ]
  },
  {
   "cell_type": "code",
   "execution_count": 175,
   "id": "f906ac7d-9cce-4d8b-8d97-2c4010eea88d",
   "metadata": {},
   "outputs": [
    {
     "data": {
      "text/plain": [
       "[array([35347, 56556, 58377, ..., 26609, 34536, 15664]),\n",
       " array([49612,  5061, 56380, ..., 55725, 32868, 39613]),\n",
       " array([53448,  4067, 15778, ..., 32270, 41636, 60688]),\n",
       " array([27928, 54571,  9606, ..., 48172, 36031, 53703]),\n",
       " array([46590, 56848,  8378, ..., 32744,   220, 37649]),\n",
       " array([10544, 29848, 41193, ..., 51200, 30760, 53895])]"
      ]
     },
     "execution_count": 175,
     "metadata": {},
     "output_type": "execute_result"
    }
   ],
   "source": [
    "r_idx[0]"
   ]
  },
  {
   "cell_type": "code",
   "execution_count": 128,
   "id": "ea95c3e9-b756-406e-8a53-47fe78385c9f",
   "metadata": {},
   "outputs": [],
   "source": [
    "cn=[1000,5000,10000,15000,20000,25000,30000]"
   ]
  },
  {
   "cell_type": "code",
   "execution_count": null,
   "id": "39c32439-10e4-4d78-a104-56a581131093",
   "metadata": {
    "tags": []
   },
   "outputs": [],
   "source": [
    "import time\n",
    "gene20000=[]\n",
    "for i,idx in enumerate(r_idx):\n",
    "    print(i)\n",
    "    for cells in cn:\n",
    "        ad=tmp[:cells,idx[2]].copy()\n",
    "        ad.layers['count']=ad.X.copy()\n",
    "        sc.pp.normalize_total(ad, target_sum=1e4)\n",
    "        sc.pp.log1p(ad)\n",
    "        start = time.time()\n",
    "        new_ad=scdenorm(ad)\n",
    "        end = time.time()\n",
    "        res=new_ad.X.data-new_ad.layers['count'].data\n",
    "        gene20000.append([end - start,abs(res).sum(),ad.shape[0],ad.shape[1]])"
   ]
  },
  {
   "cell_type": "code",
   "execution_count": 176,
   "id": "e85fe848-bfe8-4e45-926a-02c41dc90422",
   "metadata": {},
   "outputs": [],
   "source": [
    "df=pd.DataFrame(gene20000,columns=['time','sar','cells','genes'])"
   ]
  },
  {
   "cell_type": "code",
   "execution_count": 182,
   "id": "eb72b1dd-5308-463e-b801-ebe875ff1b90",
   "metadata": {},
   "outputs": [],
   "source": [
    "with open('data/times-gene20000.pickle', 'wb') as handle:\n",
    "    pickle.dump(df, handle, protocol=pickle.HIGHEST_PROTOCOL)"
   ]
  },
  {
   "cell_type": "code",
   "execution_count": 183,
   "id": "734df46c-529c-4275-ba1b-19ef765e8984",
   "metadata": {},
   "outputs": [
    {
     "data": {
      "text/html": [
       "<div>\n",
       "<style scoped>\n",
       "    .dataframe tbody tr th:only-of-type {\n",
       "        vertical-align: middle;\n",
       "    }\n",
       "\n",
       "    .dataframe tbody tr th {\n",
       "        vertical-align: top;\n",
       "    }\n",
       "\n",
       "    .dataframe thead th {\n",
       "        text-align: right;\n",
       "    }\n",
       "</style>\n",
       "<table border=\"1\" class=\"dataframe\">\n",
       "  <thead>\n",
       "    <tr style=\"text-align: right;\">\n",
       "      <th></th>\n",
       "      <th>time</th>\n",
       "      <th>sar</th>\n",
       "      <th>cells</th>\n",
       "      <th>genes</th>\n",
       "    </tr>\n",
       "  </thead>\n",
       "  <tbody>\n",
       "    <tr>\n",
       "      <th>0</th>\n",
       "      <td>190.354524</td>\n",
       "      <td>2.905966</td>\n",
       "      <td>25000</td>\n",
       "      <td>20000</td>\n",
       "    </tr>\n",
       "    <tr>\n",
       "      <th>1</th>\n",
       "      <td>211.746687</td>\n",
       "      <td>3.161369</td>\n",
       "      <td>30000</td>\n",
       "      <td>20000</td>\n",
       "    </tr>\n",
       "    <tr>\n",
       "      <th>2</th>\n",
       "      <td>184.370135</td>\n",
       "      <td>2.154961</td>\n",
       "      <td>25000</td>\n",
       "      <td>20000</td>\n",
       "    </tr>\n",
       "    <tr>\n",
       "      <th>3</th>\n",
       "      <td>201.325987</td>\n",
       "      <td>2.329163</td>\n",
       "      <td>30000</td>\n",
       "      <td>20000</td>\n",
       "    </tr>\n",
       "    <tr>\n",
       "      <th>4</th>\n",
       "      <td>180.542773</td>\n",
       "      <td>3.135068</td>\n",
       "      <td>25000</td>\n",
       "      <td>20000</td>\n",
       "    </tr>\n",
       "    <tr>\n",
       "      <th>...</th>\n",
       "      <td>...</td>\n",
       "      <td>...</td>\n",
       "      <td>...</td>\n",
       "      <td>...</td>\n",
       "    </tr>\n",
       "    <tr>\n",
       "      <th>695</th>\n",
       "      <td>208.088639</td>\n",
       "      <td>2.483778</td>\n",
       "      <td>30000</td>\n",
       "      <td>20000</td>\n",
       "    </tr>\n",
       "    <tr>\n",
       "      <th>696</th>\n",
       "      <td>184.355699</td>\n",
       "      <td>2.486861</td>\n",
       "      <td>25000</td>\n",
       "      <td>20000</td>\n",
       "    </tr>\n",
       "    <tr>\n",
       "      <th>697</th>\n",
       "      <td>206.096520</td>\n",
       "      <td>2.756315</td>\n",
       "      <td>30000</td>\n",
       "      <td>20000</td>\n",
       "    </tr>\n",
       "    <tr>\n",
       "      <th>698</th>\n",
       "      <td>183.401396</td>\n",
       "      <td>2.334402</td>\n",
       "      <td>25000</td>\n",
       "      <td>20000</td>\n",
       "    </tr>\n",
       "    <tr>\n",
       "      <th>699</th>\n",
       "      <td>205.286784</td>\n",
       "      <td>2.494473</td>\n",
       "      <td>30000</td>\n",
       "      <td>20000</td>\n",
       "    </tr>\n",
       "  </tbody>\n",
       "</table>\n",
       "<p>700 rows × 4 columns</p>\n",
       "</div>"
      ],
      "text/plain": [
       "           time       sar  cells  genes\n",
       "0    190.354524  2.905966  25000  20000\n",
       "1    211.746687  3.161369  30000  20000\n",
       "2    184.370135  2.154961  25000  20000\n",
       "3    201.325987  2.329163  30000  20000\n",
       "4    180.542773  3.135068  25000  20000\n",
       "..          ...       ...    ...    ...\n",
       "695  208.088639  2.483778  30000  20000\n",
       "696  184.355699  2.486861  25000  20000\n",
       "697  206.096520  2.756315  30000  20000\n",
       "698  183.401396  2.334402  25000  20000\n",
       "699  205.286784  2.494473  30000  20000\n",
       "\n",
       "[700 rows x 4 columns]"
      ]
     },
     "execution_count": 183,
     "metadata": {},
     "output_type": "execute_result"
    }
   ],
   "source": [
    "df"
   ]
  },
  {
   "cell_type": "code",
   "execution_count": 179,
   "id": "4c7f777e-1bc4-4825-be46-da947b6eb18a",
   "metadata": {},
   "outputs": [
    {
     "data": {
      "text/plain": [
       "<AxesSubplot:xlabel='cells', ylabel='time'>"
      ]
     },
     "execution_count": 179,
     "metadata": {},
     "output_type": "execute_result"
    },
    {
     "data": {
      "image/png": "[encoded data removed]",
      "text/plain": [
       "<Figure size 432x288 with 1 Axes>"
      ]
     },
     "metadata": {
      "needs_background": "light"
     },
     "output_type": "display_data"
    }
   ],
   "source": [
    "figsize(6,4)\n",
    "sns.violinplot(y=\"time\", x=\"cells\",data=df)"
   ]
  },
  {
   "cell_type": "code",
   "execution_count": null,
   "id": "ba2615fd-832d-49dd-a83e-d5dbbbd26ee7",
   "metadata": {},
   "outputs": [],
   "source": []
  },
  {
   "cell_type": "code",
   "execution_count": 137,
   "id": "edcbe280-862c-416c-b0ff-54ff958e2c49",
   "metadata": {},
   "outputs": [],
   "source": [
    "def plot_mv(cmean,cvar,ax):\n",
    "    ax.loglog()\n",
    "    ax.scatter(cmean, cvar)\n",
    "    lims = [\n",
    "        np.min([ax.get_xlim(), ax.get_ylim()]),  # min of both axes\n",
    "        np.max([ax.get_xlim(), ax.get_ylim()]),  # max of both axes\n",
    "    ]\n",
    "\n",
    "    ax.plot(lims, lims, 'k-', alpha=0.75, zorder=0)\n",
    "    ax.set_aspect('equal')\n",
    "    ax.set_xlim(lims)\n",
    "    ax.set_ylim(lims)\n",
    "    return ax"
   ]
  },
  {
   "cell_type": "code",
   "execution_count": null,
   "id": "9d60f055-5a2d-4dce-b0e8-fa1f35414cca",
   "metadata": {},
   "outputs": [],
   "source": []
  },
  {
   "cell_type": "code",
   "execution_count": 159,
   "id": "83241960-7014-45b8-867f-3ac0f3fd21cb",
   "metadata": {},
   "outputs": [
    {
     "data": {
      "image/png": "[encoded data removed]",
      "text/plain": [
       "<Figure size 720x720 with 4 Axes>"
      ]
     },
     "metadata": {
      "needs_background": "light"
     },
     "output_type": "display_data"
    }
   ],
   "source": [
    "figsize(10,10)\n",
    "fig, ((ax1, ax2), (ax3, ax4))  = plt.subplots(2,2)\n",
    "\n",
    "ad=sc.read(h5_benchmark[2])\n",
    "ad=ad[0:min(ad.shape[0],1000),:]\n",
    "smtx=ad.X\n",
    "cmean = np.array(smtx.mean(0))\n",
    "cvar = np.array(smtx.power(2).mean(0) - cmean ** 2)\n",
    "#A\n",
    "plot_mv(cmean,cvar,ax1)\n",
    "#B\n",
    "ad.layers['count']=ad.X.copy()\n",
    "sc.pp.normalize_total(ad, target_sum=1e4)\n",
    "sc.pp.log1p(ad)\n",
    "smtx=ad.X\n",
    "cmean = np.array(smtx.mean(0))\n",
    "cvar = np.array(smtx.power(2).mean(0) - cmean ** 2)\n",
    "plot_mv(cmean,cvar,ax2)\n",
    "#C\n",
    "ax3.violinplot(ress.values(),vert=False)\n",
    "ax3.set_yticks([i+1 for i in range(10)])\n",
    "ax3.set_yticklabels(['dataset'+str(10-i) for i in range(10)])\n",
    "#D\n",
    "#ax4=sns.violinplot(ax=ax4,y=\"time\", x=\"cells\",data=pd.DataFrame(gene20000,columns=['time','sar','cells','genes']))\n",
    "ax4=sns.violinplot(ax=ax4,y=\"time\", x=\"cells\",data=df[df.cells!=1000])\n",
    "ax4.set(xlabel=None)\n",
    "ax4.set(ylabel=None)\n",
    "plt.savefig('figures/Figure1.pdf',dpi=600,format='pdf', transparent=True)\n",
    "plt.show()"
   ]
  },
  {
   "cell_type": "markdown",
   "id": "fca50034-1830-4ae0-9c15-75f4ea5fd9b2",
   "metadata": {},
   "source": [
    "## Sup Figure 1 - the relationship between the mean and variance of genes before normalization"
   ]
  },
  {
   "cell_type": "markdown",
   "id": "40f37039-bd5c-4b66-a729-10d4fb846b3b",
   "metadata": {},
   "source": [
    "### before normlization"
   ]
  },
  {
   "cell_type": "code",
   "execution_count": 170,
   "id": "e9a77105-355b-4822-967b-69f62dfaae23",
   "metadata": {
    "collapsed": true,
    "jupyter": {
     "outputs_hidden": true
    },
    "tags": []
   },
   "outputs": [
    {
     "name": "stderr",
     "output_type": "stream",
     "text": [
      "/home/huang_yin/anaconda3/envs/sc/lib/python3.9/site-packages/anndata/_core/anndata.py:1830: UserWarning: Variable names are not unique. To make them unique, call `.var_names_make_unique`.\n",
      "  utils.warn_names_duplicates(\"var\")\n",
      "/home/huang_yin/anaconda3/envs/sc/lib/python3.9/site-packages/anndata/_core/anndata.py:1830: UserWarning: Variable names are not unique. To make them unique, call `.var_names_make_unique`.\n",
      "  utils.warn_names_duplicates(\"var\")\n"
     ]
    },
    {
     "data": {
      "image/png": "[encoded data removed]",
      "text/plain": [
       "<Figure size 1440x1440 with 9 Axes>"
      ]
     },
     "metadata": {
      "needs_background": "light"
     },
     "output_type": "display_data"
    }
   ],
   "source": [
    "fig, axs = plt.subplots(3,3,figsize=(20,20))\n",
    "axs = axs.ravel()\n",
    "for i,h5 in enumerate(h5_benchmark[1:]):\n",
    "    ad=sc.read(h5)\n",
    "    smtx=ad.X\n",
    "    cmean = np.array(smtx.mean(0))\n",
    "    cvar = np.array(smtx.power(2).mean(0) - cmean ** 2)\n",
    "\n",
    "    ax=axs[i]\n",
    "    ax.loglog()\n",
    "    ax.scatter(cmean, cvar)\n",
    "    lims = [\n",
    "        np.min([ax.get_xlim(), ax.get_ylim()]),  # min of both axes\n",
    "        np.max([ax.get_xlim(), ax.get_ylim()]),  # max of both axes\n",
    "    ]\n",
    "\n",
    "    # now plot both limits against eachother\n",
    "    ax.plot(lims, lims, 'k-', alpha=0.75, zorder=0)\n",
    "    ax.set_aspect('equal')\n",
    "    ax.set_xlim(lims)\n",
    "    ax.set_ylim(lims)\n",
    "    ax.title.set_text(h5.split('/')[-3])\n",
    "plt.savefig('figures/Sup_figure_1.pdf',dpi=600,format='pdf', transparent=True)\n",
    "plt.show()"
   ]
  },
  {
   "cell_type": "markdown",
   "id": "14ae4215-564c-47e2-a57f-00358502dd50",
   "metadata": {},
   "source": [
    "## Sup Figure 2 - the relationship between the mean and variance of genes after normalization"
   ]
  },
  {
   "cell_type": "markdown",
   "id": "c8ed12ca-6136-4eb8-8bac-0f7058725182",
   "metadata": {},
   "source": [
    "### after normlization"
   ]
  },
  {
   "cell_type": "code",
   "execution_count": 171,
   "id": "f439258a-f139-4bee-80e7-a00fe36e10f6",
   "metadata": {
    "collapsed": true,
    "jupyter": {
     "outputs_hidden": true
    },
    "tags": []
   },
   "outputs": [
    {
     "name": "stderr",
     "output_type": "stream",
     "text": [
      "/home/huang_yin/anaconda3/envs/sc/lib/python3.9/site-packages/anndata/_core/anndata.py:1830: UserWarning: Variable names are not unique. To make them unique, call `.var_names_make_unique`.\n",
      "  utils.warn_names_duplicates(\"var\")\n",
      "/home/huang_yin/anaconda3/envs/sc/lib/python3.9/site-packages/anndata/_core/anndata.py:1830: UserWarning: Variable names are not unique. To make them unique, call `.var_names_make_unique`.\n",
      "  utils.warn_names_duplicates(\"var\")\n"
     ]
    },
    {
     "data": {
      "image/png": "[encoded data removed]",
      "text/plain": [
       "<Figure size 1440x1440 with 9 Axes>"
      ]
     },
     "metadata": {
      "needs_background": "light"
     },
     "output_type": "display_data"
    }
   ],
   "source": [
    "fig, axs = plt.subplots(3,3,figsize=(20,20))\n",
    "axs = axs.ravel()\n",
    "for i,h5 in enumerate(h5_benchmark[1:]):\n",
    "    ad=sc.read(h5)\n",
    "    ad.layers['count']=ad.X.copy()\n",
    "    sc.pp.normalize_total(ad, target_sum=1e4)\n",
    "    sc.pp.log1p(ad)\n",
    "    smtx=ad.X\n",
    "    cmean = np.array(smtx.mean(0))\n",
    "    cvar = np.array(smtx.power(2).mean(0) - cmean ** 2)\n",
    "\n",
    "    ax=axs[i]\n",
    "    ax.loglog()\n",
    "    ax.scatter(cmean, cvar)\n",
    "    lims = [\n",
    "        np.min([ax.get_xlim(), ax.get_ylim()]),  # min of both axes\n",
    "        np.max([ax.get_xlim(), ax.get_ylim()]),  # max of both axes\n",
    "    ]\n",
    "\n",
    "    # now plot both limits against eachother\n",
    "    ax.plot(lims, lims, 'k-', alpha=0.75, zorder=0)\n",
    "    ax.set_aspect('equal')\n",
    "    ax.set_xlim(lims)\n",
    "    ax.set_ylim(lims)\n",
    "    ax.title.set_text(h5.split('/')[-3])\n",
    "plt.savefig('figures/Sup_figure_2.pdf',dpi=600,format='pdf', transparent=True)\n",
    "plt.show()"
   ]
  },
  {
   "cell_type": "markdown",
   "id": "f1a0fdeb-49c0-4009-af6a-82ffdc1411f4",
   "metadata": {},
   "source": [
    "##  Sup Figure 3 - the residual distribution of data restoration"
   ]
  },
  {
   "cell_type": "markdown",
   "id": "c1d36e8b-cce0-44f4-a7b1-9f9d37f1869c",
   "metadata": {},
   "source": [
    "### restore errors with total count 1e4, 1e5, 1e6 and log transformation with base e, 2, 10"
   ]
  },
  {
   "cell_type": "code",
   "execution_count": 29,
   "id": "ba75e7bb-36b3-4a4b-b31a-444861e1ff1b",
   "metadata": {
    "collapsed": true,
    "jupyter": {
     "outputs_hidden": true
    },
    "tags": []
   },
   "outputs": [
    {
     "name": "stderr",
     "output_type": "stream",
     "text": [
      "100%|██████████| 1000/1000 [00:00<00:00, 2828.85it/s]\n"
     ]
    },
    {
     "name": "stdout",
     "output_type": "stream",
     "text": [
      "1.1155263 (1000, 28788) /home/huang_ziliang/project/brain/data/public/human_brain_organoids_Fiorenzano_2021_10x/h5/human_brain_organoids_Fiorenzano_2021_10x.h5ad\n"
     ]
    },
    {
     "name": "stderr",
     "output_type": "stream",
     "text": [
      "100%|██████████| 1000/1000 [00:00<00:00, 2880.37it/s]\n"
     ]
    },
    {
     "name": "stdout",
     "output_type": "stream",
     "text": [
      "0.09852815 (1000, 29445) /home/huang_ziliang/project/brain/data/public/human_mouse_brain_Welch_2019_10x/h5/GSE126836_SN_MD5534.h5ad\n"
     ]
    },
    {
     "name": "stderr",
     "output_type": "stream",
     "text": [
      "100%|██████████| 1000/1000 [00:00<00:00, 2870.19it/s]\n"
     ]
    },
    {
     "name": "stdout",
     "output_type": "stream",
     "text": [
      "0.25611508 (1000, 32452) /home/huang_ziliang/project/brain/data/public/mouse_brain_HPF_PFC_Joglekar_2021_10x_PacBio_Visium/h5/mouse_brain_HPF_PFC_Joglekar_2021_10x.h5ad\n"
     ]
    },
    {
     "name": "stderr",
     "output_type": "stream",
     "text": [
      "/home/huang_yin/anaconda3/envs/sc/lib/python3.9/site-packages/anndata/_core/anndata.py:1830: UserWarning: Variable names are not unique. To make them unique, call `.var_names_make_unique`.\n",
      "  utils.warn_names_duplicates(\"var\")\n",
      "100%|██████████| 1000/1000 [00:00<00:00, 2925.16it/s]\n"
     ]
    },
    {
     "name": "stdout",
     "output_type": "stream",
     "text": [
      "0.11780703 (1000, 48528) /home/huang_ziliang/project/brain/data/public/mouse_brain_OB_Mizrak_2020_SCOPE-seq/h5/mouse_brain_OB_Mizrak_2020_SCOPE-seq.h5ad\n"
     ]
    },
    {
     "name": "stderr",
     "output_type": "stream",
     "text": [
      "100%|██████████| 1000/1000 [00:00<00:00, 2645.70it/s]\n"
     ]
    },
    {
     "name": "stdout",
     "output_type": "stream",
     "text": [
      "0.4915353 (1000, 28692) /home/huang_ziliang/project/brain/data/public/mouse_brain_lateral_hypothalamic_area_Mickelsen_2019_10x/h5/mouse_brain_lateral_hypothalamic_area_Mickelsen_2019_10x.h5ad\n"
     ]
    },
    {
     "name": "stderr",
     "output_type": "stream",
     "text": [
      "100%|██████████| 1000/1000 [00:00<00:00, 2827.43it/s]\n"
     ]
    },
    {
     "name": "stdout",
     "output_type": "stream",
     "text": [
      "0.5573318 (1000, 23890) /home/huang_ziliang/project/brain/data/public/mouse_brain_choroid_plexus_Dani_2021_10x/h5/mouse_brain_choroid_plexus_Dani_2021_10x.h5ad\n"
     ]
    },
    {
     "name": "stderr",
     "output_type": "stream",
     "text": [
      "100%|██████████| 1000/1000 [00:00<00:00, 2652.13it/s]\n"
     ]
    },
    {
     "name": "stdout",
     "output_type": "stream",
     "text": [
      "0.0368073 (1000, 10850) /home/huang_ziliang/project/brain/data/public/human_brain_entorhinalcortex_Grubman_2019_DroNc-seq/h5/human_brain_entorhinalcortex_Grubman_2019_DroNc-seq.h5ad\n"
     ]
    },
    {
     "name": "stderr",
     "output_type": "stream",
     "text": [
      "/home/huang_yin/anaconda3/envs/sc/lib/python3.9/site-packages/anndata/_core/anndata.py:1830: UserWarning: Variable names are not unique. To make them unique, call `.var_names_make_unique`.\n",
      "  utils.warn_names_duplicates(\"var\")\n",
      "100%|██████████| 1000/1000 [00:00<00:00, 3049.77it/s]\n"
     ]
    },
    {
     "name": "stdout",
     "output_type": "stream",
     "text": [
      "0.248968 (1000, 31053) /home/huang_ziliang/project/brain/data/public/mouse_brain_developing_ZhangX_2022_10x/h5/Brain-Young-scRNAseq-rep1.h5ad\n"
     ]
    },
    {
     "name": "stderr",
     "output_type": "stream",
     "text": [
      "100%|██████████| 1000/1000 [00:00<00:00, 2778.08it/s]\n"
     ]
    },
    {
     "name": "stdout",
     "output_type": "stream",
     "text": [
      "0.092314124 (1000, 33289) /home/huang_ziliang/project/brain/data/public/human_mouse_brain_Chen_2019_SNARE-seq/h5/RNA.h5ad\n"
     ]
    },
    {
     "name": "stderr",
     "output_type": "stream",
     "text": [
      "100%|██████████| 1000/1000 [00:00<00:00, 2639.10it/s]\n"
     ]
    },
    {
     "name": "stdout",
     "output_type": "stream",
     "text": [
      "1.3098155 (1000, 31053) /home/huang_ziliang/project/brain/data/public/mouse_brain_Hippocampal_Mirabella_2021_10x/h5/mouse_brain_Hippocampal_Mirabella_2021_10x_in_vivo.h5ad\n"
     ]
    },
    {
     "name": "stderr",
     "output_type": "stream",
     "text": [
      "ERROR:root:The base 2.718281828459045 is not match with the data.\n",
      "100%|██████████| 1000/1000 [00:00<00:00, 2828.44it/s]\n"
     ]
    },
    {
     "name": "stdout",
     "output_type": "stream",
     "text": [
      "1.2534279 (1000, 28788) /home/huang_ziliang/project/brain/data/public/human_brain_organoids_Fiorenzano_2021_10x/h5/human_brain_organoids_Fiorenzano_2021_10x.h5ad\n"
     ]
    },
    {
     "name": "stderr",
     "output_type": "stream",
     "text": [
      "ERROR:root:The base 2.718281828459045 is not match with the data.\n",
      "100%|██████████| 1000/1000 [00:00<00:00, 2825.41it/s]\n"
     ]
    },
    {
     "name": "stdout",
     "output_type": "stream",
     "text": [
      "0.12379563 (1000, 29445) /home/huang_ziliang/project/brain/data/public/human_mouse_brain_Welch_2019_10x/h5/GSE126836_SN_MD5534.h5ad\n"
     ]
    },
    {
     "name": "stderr",
     "output_type": "stream",
     "text": [
      "ERROR:root:The base 2.718281828459045 is not match with the data.\n",
      "100%|██████████| 1000/1000 [00:00<00:00, 2819.51it/s]\n"
     ]
    },
    {
     "name": "stdout",
     "output_type": "stream",
     "text": [
      "0.2889731 (1000, 32452) /home/huang_ziliang/project/brain/data/public/mouse_brain_HPF_PFC_Joglekar_2021_10x_PacBio_Visium/h5/mouse_brain_HPF_PFC_Joglekar_2021_10x.h5ad\n"
     ]
    },
    {
     "name": "stderr",
     "output_type": "stream",
     "text": [
      "/home/huang_yin/anaconda3/envs/sc/lib/python3.9/site-packages/anndata/_core/anndata.py:1830: UserWarning: Variable names are not unique. To make them unique, call `.var_names_make_unique`.\n",
      "  utils.warn_names_duplicates(\"var\")\n",
      "ERROR:root:The base 2.718281828459045 is not match with the data.\n",
      "100%|██████████| 1000/1000 [00:00<00:00, 3085.84it/s]\n"
     ]
    },
    {
     "name": "stdout",
     "output_type": "stream",
     "text": [
      "0.15083778 (1000, 48528) /home/huang_ziliang/project/brain/data/public/mouse_brain_OB_Mizrak_2020_SCOPE-seq/h5/mouse_brain_OB_Mizrak_2020_SCOPE-seq.h5ad\n"
     ]
    },
    {
     "name": "stderr",
     "output_type": "stream",
     "text": [
      "ERROR:root:The base 2.718281828459045 is not match with the data.\n",
      "100%|██████████| 1000/1000 [00:00<00:00, 2727.16it/s]\n"
     ]
    },
    {
     "name": "stdout",
     "output_type": "stream",
     "text": [
      "0.5720973 (1000, 28692) /home/huang_ziliang/project/brain/data/public/mouse_brain_lateral_hypothalamic_area_Mickelsen_2019_10x/h5/mouse_brain_lateral_hypothalamic_area_Mickelsen_2019_10x.h5ad\n"
     ]
    },
    {
     "name": "stderr",
     "output_type": "stream",
     "text": [
      "ERROR:root:The base 2.718281828459045 is not match with the data.\n",
      "100%|██████████| 1000/1000 [00:00<00:00, 2631.88it/s]\n",
      "ERROR:root:The base 2.718281828459045 is not match with the data.\n"
     ]
    },
    {
     "name": "stdout",
     "output_type": "stream",
     "text": [
      "0.6559125 (1000, 23890) /home/huang_ziliang/project/brain/data/public/mouse_brain_choroid_plexus_Dani_2021_10x/h5/mouse_brain_choroid_plexus_Dani_2021_10x.h5ad\n"
     ]
    },
    {
     "name": "stderr",
     "output_type": "stream",
     "text": [
      "100%|██████████| 1000/1000 [00:00<00:00, 3063.27it/s]\n",
      "/home/huang_yin/anaconda3/envs/sc/lib/python3.9/site-packages/anndata/_core/anndata.py:1830: UserWarning: Variable names are not unique. To make them unique, call `.var_names_make_unique`.\n",
      "  utils.warn_names_duplicates(\"var\")\n",
      "ERROR:root:The base 2.718281828459045 is not match with the data.\n"
     ]
    },
    {
     "name": "stdout",
     "output_type": "stream",
     "text": [
      "0.050880313 (1000, 10850) /home/huang_ziliang/project/brain/data/public/human_brain_entorhinalcortex_Grubman_2019_DroNc-seq/h5/human_brain_entorhinalcortex_Grubman_2019_DroNc-seq.h5ad\n"
     ]
    },
    {
     "name": "stderr",
     "output_type": "stream",
     "text": [
      "100%|██████████| 1000/1000 [00:00<00:00, 3171.10it/s]\n"
     ]
    },
    {
     "name": "stdout",
     "output_type": "stream",
     "text": [
      "0.29993808 (1000, 31053) /home/huang_ziliang/project/brain/data/public/mouse_brain_developing_ZhangX_2022_10x/h5/Brain-Young-scRNAseq-rep1.h5ad\n"
     ]
    },
    {
     "name": "stderr",
     "output_type": "stream",
     "text": [
      "ERROR:root:The base 2.718281828459045 is not match with the data.\n",
      "100%|██████████| 1000/1000 [00:00<00:00, 3068.74it/s]\n"
     ]
    },
    {
     "name": "stdout",
     "output_type": "stream",
     "text": [
      "0.11629987 (1000, 33289) /home/huang_ziliang/project/brain/data/public/human_mouse_brain_Chen_2019_SNARE-seq/h5/RNA.h5ad\n"
     ]
    },
    {
     "name": "stderr",
     "output_type": "stream",
     "text": [
      "ERROR:root:The base 2.718281828459045 is not match with the data.\n",
      "100%|██████████| 1000/1000 [00:00<00:00, 2472.22it/s]\n"
     ]
    },
    {
     "name": "stdout",
     "output_type": "stream",
     "text": [
      "1.4461886 (1000, 31053) /home/huang_ziliang/project/brain/data/public/mouse_brain_Hippocampal_Mirabella_2021_10x/h5/mouse_brain_Hippocampal_Mirabella_2021_10x_in_vivo.h5ad\n"
     ]
    },
    {
     "name": "stderr",
     "output_type": "stream",
     "text": [
      "ERROR:root:The base 2.718281828459045 is not match with the data.\n",
      "ERROR:root:The base 2 is not match with the data.\n",
      "100%|██████████| 1000/1000 [00:00<00:00, 2880.11it/s]\n"
     ]
    },
    {
     "name": "stdout",
     "output_type": "stream",
     "text": [
      "1.2432445 (1000, 28788) /home/huang_ziliang/project/brain/data/public/human_brain_organoids_Fiorenzano_2021_10x/h5/human_brain_organoids_Fiorenzano_2021_10x.h5ad\n"
     ]
    },
    {
     "name": "stderr",
     "output_type": "stream",
     "text": [
      "ERROR:root:The base 2.718281828459045 is not match with the data.\n",
      "ERROR:root:The base 2 is not match with the data.\n",
      "100%|██████████| 1000/1000 [00:00<00:00, 2900.13it/s]\n"
     ]
    },
    {
     "name": "stdout",
     "output_type": "stream",
     "text": [
      "0.12818134 (1000, 29445) /home/huang_ziliang/project/brain/data/public/human_mouse_brain_Welch_2019_10x/h5/GSE126836_SN_MD5534.h5ad\n"
     ]
    },
    {
     "name": "stderr",
     "output_type": "stream",
     "text": [
      "ERROR:root:The base 2.718281828459045 is not match with the data.\n",
      "ERROR:root:The base 2 is not match with the data.\n",
      "100%|██████████| 1000/1000 [00:00<00:00, 2231.17it/s]\n"
     ]
    },
    {
     "name": "stdout",
     "output_type": "stream",
     "text": [
      "0.3009503 (1000, 32452) /home/huang_ziliang/project/brain/data/public/mouse_brain_HPF_PFC_Joglekar_2021_10x_PacBio_Visium/h5/mouse_brain_HPF_PFC_Joglekar_2021_10x.h5ad\n"
     ]
    },
    {
     "name": "stderr",
     "output_type": "stream",
     "text": [
      "/home/huang_yin/anaconda3/envs/sc/lib/python3.9/site-packages/anndata/_core/anndata.py:1830: UserWarning: Variable names are not unique. To make them unique, call `.var_names_make_unique`.\n",
      "  utils.warn_names_duplicates(\"var\")\n",
      "ERROR:root:The base 2.718281828459045 is not match with the data.\n",
      "ERROR:root:The base 2 is not match with the data.\n",
      "100%|██████████| 1000/1000 [00:00<00:00, 3018.18it/s]\n"
     ]
    },
    {
     "name": "stdout",
     "output_type": "stream",
     "text": [
      "0.15135574 (1000, 48528) /home/huang_ziliang/project/brain/data/public/mouse_brain_OB_Mizrak_2020_SCOPE-seq/h5/mouse_brain_OB_Mizrak_2020_SCOPE-seq.h5ad\n"
     ]
    },
    {
     "name": "stderr",
     "output_type": "stream",
     "text": [
      "ERROR:root:The base 2.718281828459045 is not match with the data.\n",
      "ERROR:root:The base 2 is not match with the data.\n",
      "100%|██████████| 1000/1000 [00:00<00:00, 2874.49it/s]\n"
     ]
    },
    {
     "name": "stdout",
     "output_type": "stream",
     "text": [
      "0.5852072 (1000, 28692) /home/huang_ziliang/project/brain/data/public/mouse_brain_lateral_hypothalamic_area_Mickelsen_2019_10x/h5/mouse_brain_lateral_hypothalamic_area_Mickelsen_2019_10x.h5ad\n"
     ]
    },
    {
     "name": "stderr",
     "output_type": "stream",
     "text": [
      "ERROR:root:The base 2.718281828459045 is not match with the data.\n",
      "ERROR:root:The base 2 is not match with the data.\n",
      "100%|██████████| 1000/1000 [00:00<00:00, 2656.99it/s]\n"
     ]
    },
    {
     "name": "stdout",
     "output_type": "stream",
     "text": [
      "0.6666825 (1000, 23890) /home/huang_ziliang/project/brain/data/public/mouse_brain_choroid_plexus_Dani_2021_10x/h5/mouse_brain_choroid_plexus_Dani_2021_10x.h5ad\n"
     ]
    },
    {
     "name": "stderr",
     "output_type": "stream",
     "text": [
      "ERROR:root:The base 2.718281828459045 is not match with the data.\n",
      "  0%|          | 0/1000 [00:00<?, ?it/s]WARNING:root:Warning:The cell 1 fails to denormlize, and be deleted\n",
      "WARNING:root:Warning:The cell 2 fails to denormlize, and be deleted\n",
      "WARNING:root:Warning:The cell 3 fails to denormlize, and be deleted\n",
      "WARNING:root:Warning:The cell 4 fails to denormlize, and be deleted\n",
      "WARNING:root:Warning:The cell 6 fails to denormlize, and be deleted\n",
      "WARNING:root:Warning:The cell 8 fails to denormlize, and be deleted\n",
      "WARNING:root:Warning:The cell 9 fails to denormlize, and be deleted\n",
      "WARNING:root:Warning:The cell 11 fails to denormlize, and be deleted\n",
      "WARNING:root:Warning:The cell 13 fails to denormlize, and be deleted\n",
      "WARNING:root:Warning:The cell 14 fails to denormlize, and be deleted\n",
      "WARNING:root:Warning:The cell 15 fails to denormlize, and be deleted\n",
      "WARNING:root:Warning:The cell 17 fails to denormlize, and be deleted\n",
      "WARNING:root:Warning:The cell 18 fails to denormlize, and be deleted\n",
      "WARNING:root:Warning:The cell 21 fails to denormlize, and be deleted\n",
      "WARNING:root:Warning:The cell 22 fails to denormlize, and be deleted\n",
      "WARNING:root:Warning:The cell 23 fails to denormlize, and be deleted\n",
      "WARNING:root:Warning:The cell 24 fails to denormlize, and be deleted\n",
      "WARNING:root:Warning:The cell 25 fails to denormlize, and be deleted\n",
      "WARNING:root:Warning:The cell 27 fails to denormlize, and be deleted\n",
      "WARNING:root:Warning:The cell 28 fails to denormlize, and be deleted\n",
      "WARNING:root:Warning:The cell 30 fails to denormlize, and be deleted\n",
      "WARNING:root:Warning:The cell 33 fails to denormlize, and be deleted\n",
      "WARNING:root:Warning:The cell 34 fails to denormlize, and be deleted\n",
      "WARNING:root:Warning:The cell 35 fails to denormlize, and be deleted\n",
      "WARNING:root:Warning:The cell 37 fails to denormlize, and be deleted\n",
      "WARNING:root:Warning:The cell 38 fails to denormlize, and be deleted\n",
      "WARNING:root:Warning:The cell 40 fails to denormlize, and be deleted\n",
      "WARNING:root:Warning:The cell 42 fails to denormlize, and be deleted\n",
      "WARNING:root:Warning:The cell 43 fails to denormlize, and be deleted\n",
      "WARNING:root:Warning:The cell 45 fails to denormlize, and be deleted\n",
      "WARNING:root:Warning:The cell 46 fails to denormlize, and be deleted\n",
      "WARNING:root:Warning:The cell 47 fails to denormlize, and be deleted\n",
      "WARNING:root:Warning:The cell 49 fails to denormlize, and be deleted\n",
      "WARNING:root:Warning:The cell 51 fails to denormlize, and be deleted\n",
      "WARNING:root:Warning:The cell 53 fails to denormlize, and be deleted\n",
      "WARNING:root:Warning:The cell 56 fails to denormlize, and be deleted\n",
      "WARNING:root:Warning:The cell 58 fails to denormlize, and be deleted\n",
      "WARNING:root:Warning:The cell 59 fails to denormlize, and be deleted\n",
      "WARNING:root:Warning:The cell 60 fails to denormlize, and be deleted\n",
      "WARNING:root:Warning:The cell 64 fails to denormlize, and be deleted\n",
      "WARNING:root:Warning:The cell 65 fails to denormlize, and be deleted\n",
      "WARNING:root:Warning:The cell 66 fails to denormlize, and be deleted\n",
      "WARNING:root:Warning:The cell 67 fails to denormlize, and be deleted\n",
      "WARNING:root:Warning:The cell 68 fails to denormlize, and be deleted\n",
      "WARNING:root:Warning:The cell 72 fails to denormlize, and be deleted\n",
      "WARNING:root:Warning:The cell 73 fails to denormlize, and be deleted\n",
      "WARNING:root:Warning:The cell 74 fails to denormlize, and be deleted\n",
      "WARNING:root:Warning:The cell 75 fails to denormlize, and be deleted\n",
      "WARNING:root:Warning:The cell 76 fails to denormlize, and be deleted\n",
      "WARNING:root:Warning:The cell 77 fails to denormlize, and be deleted\n",
      "WARNING:root:Warning:The cell 79 fails to denormlize, and be deleted\n",
      "WARNING:root:Warning:The cell 80 fails to denormlize, and be deleted\n",
      "WARNING:root:Warning:The cell 81 fails to denormlize, and be deleted\n",
      "WARNING:root:Warning:The cell 82 fails to denormlize, and be deleted\n",
      "WARNING:root:Warning:The cell 83 fails to denormlize, and be deleted\n",
      "WARNING:root:Warning:The cell 84 fails to denormlize, and be deleted\n",
      "WARNING:root:Warning:The cell 85 fails to denormlize, and be deleted\n",
      "WARNING:root:Warning:The cell 86 fails to denormlize, and be deleted\n",
      "WARNING:root:Warning:The cell 87 fails to denormlize, and be deleted\n",
      "WARNING:root:Warning:The cell 88 fails to denormlize, and be deleted\n",
      "WARNING:root:Warning:The cell 89 fails to denormlize, and be deleted\n",
      "WARNING:root:Warning:The cell 90 fails to denormlize, and be deleted\n",
      "WARNING:root:Warning:The cell 91 fails to denormlize, and be deleted\n",
      "WARNING:root:Warning:The cell 93 fails to denormlize, and be deleted\n",
      "WARNING:root:Warning:The cell 94 fails to denormlize, and be deleted\n",
      "WARNING:root:Warning:The cell 95 fails to denormlize, and be deleted\n",
      "WARNING:root:Warning:The cell 97 fails to denormlize, and be deleted\n",
      "WARNING:root:Warning:The cell 98 fails to denormlize, and be deleted\n",
      "WARNING:root:Warning:The cell 99 fails to denormlize, and be deleted\n",
      "WARNING:root:Warning:The cell 100 fails to denormlize, and be deleted\n",
      "WARNING:root:Warning:The cell 101 fails to denormlize, and be deleted\n",
      "WARNING:root:Warning:The cell 102 fails to denormlize, and be deleted\n",
      "WARNING:root:Warning:The cell 103 fails to denormlize, and be deleted\n",
      "WARNING:root:Warning:The cell 104 fails to denormlize, and be deleted\n",
      "WARNING:root:Warning:The cell 106 fails to denormlize, and be deleted\n",
      "WARNING:root:Warning:The cell 107 fails to denormlize, and be deleted\n",
      "WARNING:root:Warning:The cell 108 fails to denormlize, and be deleted\n",
      "WARNING:root:Warning:The cell 109 fails to denormlize, and be deleted\n",
      "WARNING:root:Warning:The cell 110 fails to denormlize, and be deleted\n",
      "WARNING:root:Warning:The cell 111 fails to denormlize, and be deleted\n",
      "WARNING:root:Warning:The cell 113 fails to denormlize, and be deleted\n",
      "WARNING:root:Warning:The cell 115 fails to denormlize, and be deleted\n",
      "WARNING:root:Warning:The cell 117 fails to denormlize, and be deleted\n",
      "WARNING:root:Warning:The cell 118 fails to denormlize, and be deleted\n",
      "WARNING:root:Warning:The cell 119 fails to denormlize, and be deleted\n",
      "WARNING:root:Warning:The cell 121 fails to denormlize, and be deleted\n",
      "WARNING:root:Warning:The cell 122 fails to denormlize, and be deleted\n",
      "WARNING:root:Warning:The cell 123 fails to denormlize, and be deleted\n",
      "WARNING:root:Warning:The cell 128 fails to denormlize, and be deleted\n",
      "WARNING:root:Warning:The cell 130 fails to denormlize, and be deleted\n",
      "WARNING:root:Warning:The cell 131 fails to denormlize, and be deleted\n",
      "WARNING:root:Warning:The cell 132 fails to denormlize, and be deleted\n",
      "WARNING:root:Warning:The cell 134 fails to denormlize, and be deleted\n",
      "WARNING:root:Warning:The cell 135 fails to denormlize, and be deleted\n",
      "WARNING:root:Warning:The cell 137 fails to denormlize, and be deleted\n",
      " 14%|█▍        | 138/1000 [00:00<00:00, 1376.04it/s]WARNING:root:Warning:The cell 142 fails to denormlize, and be deleted\n",
      "WARNING:root:Warning:The cell 144 fails to denormlize, and be deleted\n",
      "WARNING:root:Warning:The cell 145 fails to denormlize, and be deleted\n",
      "WARNING:root:Warning:The cell 146 fails to denormlize, and be deleted\n",
      "WARNING:root:Warning:The cell 147 fails to denormlize, and be deleted\n",
      "WARNING:root:Warning:The cell 148 fails to denormlize, and be deleted\n",
      "WARNING:root:Warning:The cell 150 fails to denormlize, and be deleted\n",
      "WARNING:root:Warning:The cell 151 fails to denormlize, and be deleted\n",
      "WARNING:root:Warning:The cell 153 fails to denormlize, and be deleted\n",
      "WARNING:root:Warning:The cell 155 fails to denormlize, and be deleted\n",
      "WARNING:root:Warning:The cell 156 fails to denormlize, and be deleted\n",
      "WARNING:root:Warning:The cell 157 fails to denormlize, and be deleted\n",
      "WARNING:root:Warning:The cell 159 fails to denormlize, and be deleted\n",
      "WARNING:root:Warning:The cell 160 fails to denormlize, and be deleted\n",
      "WARNING:root:Warning:The cell 161 fails to denormlize, and be deleted\n",
      "WARNING:root:Warning:The cell 162 fails to denormlize, and be deleted\n",
      "WARNING:root:Warning:The cell 163 fails to denormlize, and be deleted\n",
      "WARNING:root:Warning:The cell 165 fails to denormlize, and be deleted\n",
      "WARNING:root:Warning:The cell 166 fails to denormlize, and be deleted\n",
      "WARNING:root:Warning:The cell 167 fails to denormlize, and be deleted\n",
      "WARNING:root:Warning:The cell 168 fails to denormlize, and be deleted\n",
      "WARNING:root:Warning:The cell 170 fails to denormlize, and be deleted\n",
      "WARNING:root:Warning:The cell 171 fails to denormlize, and be deleted\n",
      "WARNING:root:Warning:The cell 175 fails to denormlize, and be deleted\n",
      "WARNING:root:Warning:The cell 176 fails to denormlize, and be deleted\n",
      "WARNING:root:Warning:The cell 177 fails to denormlize, and be deleted\n",
      "WARNING:root:Warning:The cell 178 fails to denormlize, and be deleted\n",
      "WARNING:root:Warning:The cell 185 fails to denormlize, and be deleted\n",
      "WARNING:root:Warning:The cell 188 fails to denormlize, and be deleted\n",
      "WARNING:root:Warning:The cell 189 fails to denormlize, and be deleted\n",
      "WARNING:root:Warning:The cell 191 fails to denormlize, and be deleted\n",
      "WARNING:root:Warning:The cell 192 fails to denormlize, and be deleted\n",
      "WARNING:root:Warning:The cell 193 fails to denormlize, and be deleted\n",
      "WARNING:root:Warning:The cell 194 fails to denormlize, and be deleted\n",
      "WARNING:root:Warning:The cell 195 fails to denormlize, and be deleted\n",
      "WARNING:root:Warning:The cell 196 fails to denormlize, and be deleted\n",
      "WARNING:root:Warning:The cell 199 fails to denormlize, and be deleted\n",
      "WARNING:root:Warning:The cell 201 fails to denormlize, and be deleted\n",
      "WARNING:root:Warning:The cell 202 fails to denormlize, and be deleted\n",
      "WARNING:root:Warning:The cell 203 fails to denormlize, and be deleted\n",
      "WARNING:root:Warning:The cell 205 fails to denormlize, and be deleted\n",
      "WARNING:root:Warning:The cell 206 fails to denormlize, and be deleted\n",
      "WARNING:root:Warning:The cell 207 fails to denormlize, and be deleted\n",
      "WARNING:root:Warning:The cell 208 fails to denormlize, and be deleted\n",
      "WARNING:root:Warning:The cell 209 fails to denormlize, and be deleted\n",
      "WARNING:root:Warning:The cell 210 fails to denormlize, and be deleted\n",
      "WARNING:root:Warning:The cell 211 fails to denormlize, and be deleted\n",
      "WARNING:root:Warning:The cell 212 fails to denormlize, and be deleted\n",
      "WARNING:root:Warning:The cell 214 fails to denormlize, and be deleted\n",
      "WARNING:root:Warning:The cell 215 fails to denormlize, and be deleted\n",
      "WARNING:root:Warning:The cell 216 fails to denormlize, and be deleted\n",
      "WARNING:root:Warning:The cell 218 fails to denormlize, and be deleted\n",
      "WARNING:root:Warning:The cell 219 fails to denormlize, and be deleted\n",
      "WARNING:root:Warning:The cell 220 fails to denormlize, and be deleted\n",
      "WARNING:root:Warning:The cell 222 fails to denormlize, and be deleted\n",
      "WARNING:root:Warning:The cell 223 fails to denormlize, and be deleted\n",
      "WARNING:root:Warning:The cell 225 fails to denormlize, and be deleted\n",
      "WARNING:root:Warning:The cell 226 fails to denormlize, and be deleted\n",
      "WARNING:root:Warning:The cell 227 fails to denormlize, and be deleted\n",
      "WARNING:root:Warning:The cell 228 fails to denormlize, and be deleted\n",
      "WARNING:root:Warning:The cell 229 fails to denormlize, and be deleted\n",
      "WARNING:root:Warning:The cell 230 fails to denormlize, and be deleted\n",
      "WARNING:root:Warning:The cell 231 fails to denormlize, and be deleted\n",
      "WARNING:root:Warning:The cell 232 fails to denormlize, and be deleted\n",
      "WARNING:root:Warning:The cell 233 fails to denormlize, and be deleted\n",
      "WARNING:root:Warning:The cell 235 fails to denormlize, and be deleted\n",
      "WARNING:root:Warning:The cell 236 fails to denormlize, and be deleted\n",
      "WARNING:root:Warning:The cell 237 fails to denormlize, and be deleted\n",
      "WARNING:root:Warning:The cell 238 fails to denormlize, and be deleted\n",
      "WARNING:root:Warning:The cell 240 fails to denormlize, and be deleted\n",
      "WARNING:root:Warning:The cell 241 fails to denormlize, and be deleted\n",
      "WARNING:root:Warning:The cell 242 fails to denormlize, and be deleted\n",
      "WARNING:root:Warning:The cell 243 fails to denormlize, and be deleted\n",
      "WARNING:root:Warning:The cell 244 fails to denormlize, and be deleted\n",
      "WARNING:root:Warning:The cell 245 fails to denormlize, and be deleted\n",
      "WARNING:root:Warning:The cell 247 fails to denormlize, and be deleted\n",
      "WARNING:root:Warning:The cell 250 fails to denormlize, and be deleted\n",
      "WARNING:root:Warning:The cell 251 fails to denormlize, and be deleted\n",
      "WARNING:root:Warning:The cell 254 fails to denormlize, and be deleted\n",
      "WARNING:root:Warning:The cell 255 fails to denormlize, and be deleted\n",
      "WARNING:root:Warning:The cell 256 fails to denormlize, and be deleted\n",
      "WARNING:root:Warning:The cell 259 fails to denormlize, and be deleted\n",
      "WARNING:root:Warning:The cell 260 fails to denormlize, and be deleted\n",
      "WARNING:root:Warning:The cell 261 fails to denormlize, and be deleted\n",
      "WARNING:root:Warning:The cell 262 fails to denormlize, and be deleted\n",
      "WARNING:root:Warning:The cell 263 fails to denormlize, and be deleted\n",
      "WARNING:root:Warning:The cell 264 fails to denormlize, and be deleted\n",
      "WARNING:root:Warning:The cell 266 fails to denormlize, and be deleted\n",
      "WARNING:root:Warning:The cell 267 fails to denormlize, and be deleted\n",
      "WARNING:root:Warning:The cell 268 fails to denormlize, and be deleted\n",
      "WARNING:root:Warning:The cell 269 fails to denormlize, and be deleted\n",
      "WARNING:root:Warning:The cell 271 fails to denormlize, and be deleted\n",
      "WARNING:root:Warning:The cell 272 fails to denormlize, and be deleted\n",
      "WARNING:root:Warning:The cell 273 fails to denormlize, and be deleted\n",
      "WARNING:root:Warning:The cell 274 fails to denormlize, and be deleted\n",
      "WARNING:root:Warning:The cell 275 fails to denormlize, and be deleted\n",
      "WARNING:root:Warning:The cell 276 fails to denormlize, and be deleted\n",
      "WARNING:root:Warning:The cell 277 fails to denormlize, and be deleted\n",
      "WARNING:root:Warning:The cell 278 fails to denormlize, and be deleted\n",
      "WARNING:root:Warning:The cell 280 fails to denormlize, and be deleted\n",
      " 28%|██▊       | 281/1000 [00:00<00:00, 1402.96it/s]WARNING:root:Warning:The cell 281 fails to denormlize, and be deleted\n",
      "WARNING:root:Warning:The cell 282 fails to denormlize, and be deleted\n",
      "WARNING:root:Warning:The cell 284 fails to denormlize, and be deleted\n",
      "WARNING:root:Warning:The cell 285 fails to denormlize, and be deleted\n",
      "WARNING:root:Warning:The cell 286 fails to denormlize, and be deleted\n",
      "WARNING:root:Warning:The cell 287 fails to denormlize, and be deleted\n",
      "WARNING:root:Warning:The cell 288 fails to denormlize, and be deleted\n",
      "WARNING:root:Warning:The cell 289 fails to denormlize, and be deleted\n",
      "WARNING:root:Warning:The cell 290 fails to denormlize, and be deleted\n",
      "WARNING:root:Warning:The cell 291 fails to denormlize, and be deleted\n",
      "WARNING:root:Warning:The cell 292 fails to denormlize, and be deleted\n",
      "WARNING:root:Warning:The cell 294 fails to denormlize, and be deleted\n",
      "WARNING:root:Warning:The cell 296 fails to denormlize, and be deleted\n",
      "WARNING:root:Warning:The cell 297 fails to denormlize, and be deleted\n",
      "WARNING:root:Warning:The cell 298 fails to denormlize, and be deleted\n",
      "WARNING:root:Warning:The cell 299 fails to denormlize, and be deleted\n",
      "WARNING:root:Warning:The cell 300 fails to denormlize, and be deleted\n",
      "WARNING:root:Warning:The cell 301 fails to denormlize, and be deleted\n",
      "WARNING:root:Warning:The cell 302 fails to denormlize, and be deleted\n",
      "WARNING:root:Warning:The cell 303 fails to denormlize, and be deleted\n",
      "WARNING:root:Warning:The cell 305 fails to denormlize, and be deleted\n",
      "WARNING:root:Warning:The cell 308 fails to denormlize, and be deleted\n",
      "WARNING:root:Warning:The cell 312 fails to denormlize, and be deleted\n",
      "WARNING:root:Warning:The cell 313 fails to denormlize, and be deleted\n",
      "WARNING:root:Warning:The cell 316 fails to denormlize, and be deleted\n",
      "WARNING:root:Warning:The cell 317 fails to denormlize, and be deleted\n",
      "WARNING:root:Warning:The cell 318 fails to denormlize, and be deleted\n",
      "WARNING:root:Warning:The cell 319 fails to denormlize, and be deleted\n",
      "WARNING:root:Warning:The cell 320 fails to denormlize, and be deleted\n",
      "WARNING:root:Warning:The cell 321 fails to denormlize, and be deleted\n",
      "WARNING:root:Warning:The cell 322 fails to denormlize, and be deleted\n",
      "WARNING:root:Warning:The cell 323 fails to denormlize, and be deleted\n",
      "WARNING:root:Warning:The cell 325 fails to denormlize, and be deleted\n",
      "WARNING:root:Warning:The cell 326 fails to denormlize, and be deleted\n",
      "WARNING:root:Warning:The cell 327 fails to denormlize, and be deleted\n",
      "WARNING:root:Warning:The cell 328 fails to denormlize, and be deleted\n",
      "WARNING:root:Warning:The cell 329 fails to denormlize, and be deleted\n",
      "WARNING:root:Warning:The cell 331 fails to denormlize, and be deleted\n",
      "WARNING:root:Warning:The cell 333 fails to denormlize, and be deleted\n",
      "WARNING:root:Warning:The cell 334 fails to denormlize, and be deleted\n",
      "WARNING:root:Warning:The cell 335 fails to denormlize, and be deleted\n",
      "WARNING:root:Warning:The cell 338 fails to denormlize, and be deleted\n",
      "WARNING:root:Warning:The cell 340 fails to denormlize, and be deleted\n",
      "WARNING:root:Warning:The cell 342 fails to denormlize, and be deleted\n",
      "WARNING:root:Warning:The cell 344 fails to denormlize, and be deleted\n",
      "WARNING:root:Warning:The cell 345 fails to denormlize, and be deleted\n",
      "WARNING:root:Warning:The cell 346 fails to denormlize, and be deleted\n",
      "WARNING:root:Warning:The cell 348 fails to denormlize, and be deleted\n",
      "WARNING:root:Warning:The cell 350 fails to denormlize, and be deleted\n",
      "WARNING:root:Warning:The cell 352 fails to denormlize, and be deleted\n",
      "WARNING:root:Warning:The cell 353 fails to denormlize, and be deleted\n",
      "WARNING:root:Warning:The cell 354 fails to denormlize, and be deleted\n",
      "WARNING:root:Warning:The cell 355 fails to denormlize, and be deleted\n",
      "WARNING:root:Warning:The cell 357 fails to denormlize, and be deleted\n",
      "WARNING:root:Warning:The cell 360 fails to denormlize, and be deleted\n",
      "WARNING:root:Warning:The cell 361 fails to denormlize, and be deleted\n",
      "WARNING:root:Warning:The cell 362 fails to denormlize, and be deleted\n",
      "WARNING:root:Warning:The cell 364 fails to denormlize, and be deleted\n",
      "WARNING:root:Warning:The cell 365 fails to denormlize, and be deleted\n",
      "WARNING:root:Warning:The cell 369 fails to denormlize, and be deleted\n",
      "WARNING:root:Warning:The cell 370 fails to denormlize, and be deleted\n",
      "WARNING:root:Warning:The cell 372 fails to denormlize, and be deleted\n",
      "WARNING:root:Warning:The cell 373 fails to denormlize, and be deleted\n",
      "WARNING:root:Warning:The cell 378 fails to denormlize, and be deleted\n",
      "WARNING:root:Warning:The cell 379 fails to denormlize, and be deleted\n",
      "WARNING:root:Warning:The cell 381 fails to denormlize, and be deleted\n",
      "WARNING:root:Warning:The cell 382 fails to denormlize, and be deleted\n",
      "WARNING:root:Warning:The cell 383 fails to denormlize, and be deleted\n",
      "WARNING:root:Warning:The cell 384 fails to denormlize, and be deleted\n",
      "WARNING:root:Warning:The cell 385 fails to denormlize, and be deleted\n",
      "WARNING:root:Warning:The cell 386 fails to denormlize, and be deleted\n",
      "WARNING:root:Warning:The cell 388 fails to denormlize, and be deleted\n",
      "WARNING:root:Warning:The cell 389 fails to denormlize, and be deleted\n",
      "WARNING:root:Warning:The cell 390 fails to denormlize, and be deleted\n",
      "WARNING:root:Warning:The cell 392 fails to denormlize, and be deleted\n",
      "WARNING:root:Warning:The cell 393 fails to denormlize, and be deleted\n",
      "WARNING:root:Warning:The cell 395 fails to denormlize, and be deleted\n",
      "WARNING:root:Warning:The cell 396 fails to denormlize, and be deleted\n",
      "WARNING:root:Warning:The cell 397 fails to denormlize, and be deleted\n",
      "WARNING:root:Warning:The cell 398 fails to denormlize, and be deleted\n",
      "WARNING:root:Warning:The cell 399 fails to denormlize, and be deleted\n",
      "WARNING:root:Warning:The cell 400 fails to denormlize, and be deleted\n",
      "WARNING:root:Warning:The cell 404 fails to denormlize, and be deleted\n",
      "WARNING:root:Warning:The cell 406 fails to denormlize, and be deleted\n",
      "WARNING:root:Warning:The cell 408 fails to denormlize, and be deleted\n",
      "WARNING:root:Warning:The cell 412 fails to denormlize, and be deleted\n",
      "WARNING:root:Warning:The cell 413 fails to denormlize, and be deleted\n",
      "WARNING:root:Warning:The cell 414 fails to denormlize, and be deleted\n",
      "WARNING:root:Warning:The cell 416 fails to denormlize, and be deleted\n",
      "WARNING:root:Warning:The cell 419 fails to denormlize, and be deleted\n",
      "WARNING:root:Warning:The cell 421 fails to denormlize, and be deleted\n",
      "WARNING:root:Warning:The cell 422 fails to denormlize, and be deleted\n",
      "WARNING:root:Warning:The cell 423 fails to denormlize, and be deleted\n",
      "WARNING:root:Warning:The cell 425 fails to denormlize, and be deleted\n",
      "WARNING:root:Warning:The cell 428 fails to denormlize, and be deleted\n",
      "WARNING:root:Warning:The cell 432 fails to denormlize, and be deleted\n",
      "WARNING:root:Warning:The cell 433 fails to denormlize, and be deleted\n",
      "WARNING:root:Warning:The cell 435 fails to denormlize, and be deleted\n",
      "WARNING:root:Warning:The cell 436 fails to denormlize, and be deleted\n",
      "WARNING:root:Warning:The cell 439 fails to denormlize, and be deleted\n",
      " 44%|████▍     | 440/1000 [00:00<00:00, 1484.74it/s]WARNING:root:Warning:The cell 440 fails to denormlize, and be deleted\n",
      "WARNING:root:Warning:The cell 443 fails to denormlize, and be deleted\n",
      "WARNING:root:Warning:The cell 446 fails to denormlize, and be deleted\n",
      "WARNING:root:Warning:The cell 449 fails to denormlize, and be deleted\n",
      "WARNING:root:Warning:The cell 450 fails to denormlize, and be deleted\n",
      "WARNING:root:Warning:The cell 451 fails to denormlize, and be deleted\n",
      "WARNING:root:Warning:The cell 452 fails to denormlize, and be deleted\n",
      "WARNING:root:Warning:The cell 453 fails to denormlize, and be deleted\n",
      "WARNING:root:Warning:The cell 454 fails to denormlize, and be deleted\n",
      "WARNING:root:Warning:The cell 456 fails to denormlize, and be deleted\n",
      "WARNING:root:Warning:The cell 458 fails to denormlize, and be deleted\n",
      "WARNING:root:Warning:The cell 460 fails to denormlize, and be deleted\n",
      "WARNING:root:Warning:The cell 462 fails to denormlize, and be deleted\n",
      "WARNING:root:Warning:The cell 464 fails to denormlize, and be deleted\n",
      "WARNING:root:Warning:The cell 465 fails to denormlize, and be deleted\n",
      "WARNING:root:Warning:The cell 466 fails to denormlize, and be deleted\n",
      "WARNING:root:Warning:The cell 469 fails to denormlize, and be deleted\n",
      "WARNING:root:Warning:The cell 470 fails to denormlize, and be deleted\n",
      "WARNING:root:Warning:The cell 471 fails to denormlize, and be deleted\n",
      "WARNING:root:Warning:The cell 472 fails to denormlize, and be deleted\n",
      "WARNING:root:Warning:The cell 474 fails to denormlize, and be deleted\n",
      "WARNING:root:Warning:The cell 475 fails to denormlize, and be deleted\n",
      "WARNING:root:Warning:The cell 476 fails to denormlize, and be deleted\n",
      "WARNING:root:Warning:The cell 479 fails to denormlize, and be deleted\n",
      "WARNING:root:Warning:The cell 480 fails to denormlize, and be deleted\n",
      "WARNING:root:Warning:The cell 481 fails to denormlize, and be deleted\n",
      "WARNING:root:Warning:The cell 482 fails to denormlize, and be deleted\n",
      "WARNING:root:Warning:The cell 483 fails to denormlize, and be deleted\n",
      "WARNING:root:Warning:The cell 484 fails to denormlize, and be deleted\n",
      "WARNING:root:Warning:The cell 486 fails to denormlize, and be deleted\n",
      "WARNING:root:Warning:The cell 487 fails to denormlize, and be deleted\n",
      "WARNING:root:Warning:The cell 488 fails to denormlize, and be deleted\n",
      "WARNING:root:Warning:The cell 490 fails to denormlize, and be deleted\n",
      "WARNING:root:Warning:The cell 491 fails to denormlize, and be deleted\n",
      "WARNING:root:Warning:The cell 492 fails to denormlize, and be deleted\n",
      "WARNING:root:Warning:The cell 493 fails to denormlize, and be deleted\n",
      "WARNING:root:Warning:The cell 494 fails to denormlize, and be deleted\n",
      "WARNING:root:Warning:The cell 495 fails to denormlize, and be deleted\n",
      "WARNING:root:Warning:The cell 497 fails to denormlize, and be deleted\n",
      "WARNING:root:Warning:The cell 498 fails to denormlize, and be deleted\n",
      "WARNING:root:Warning:The cell 499 fails to denormlize, and be deleted\n",
      "WARNING:root:Warning:The cell 501 fails to denormlize, and be deleted\n",
      "WARNING:root:Warning:The cell 502 fails to denormlize, and be deleted\n",
      "WARNING:root:Warning:The cell 503 fails to denormlize, and be deleted\n",
      "WARNING:root:Warning:The cell 506 fails to denormlize, and be deleted\n",
      "WARNING:root:Warning:The cell 507 fails to denormlize, and be deleted\n",
      "WARNING:root:Warning:The cell 508 fails to denormlize, and be deleted\n",
      "WARNING:root:Warning:The cell 510 fails to denormlize, and be deleted\n",
      "WARNING:root:Warning:The cell 511 fails to denormlize, and be deleted\n",
      "WARNING:root:Warning:The cell 512 fails to denormlize, and be deleted\n",
      "WARNING:root:Warning:The cell 514 fails to denormlize, and be deleted\n",
      "WARNING:root:Warning:The cell 516 fails to denormlize, and be deleted\n",
      "WARNING:root:Warning:The cell 517 fails to denormlize, and be deleted\n",
      "WARNING:root:Warning:The cell 519 fails to denormlize, and be deleted\n",
      "WARNING:root:Warning:The cell 523 fails to denormlize, and be deleted\n",
      "WARNING:root:Warning:The cell 528 fails to denormlize, and be deleted\n",
      "WARNING:root:Warning:The cell 530 fails to denormlize, and be deleted\n",
      "WARNING:root:Warning:The cell 532 fails to denormlize, and be deleted\n",
      "WARNING:root:Warning:The cell 533 fails to denormlize, and be deleted\n",
      "WARNING:root:Warning:The cell 535 fails to denormlize, and be deleted\n",
      "WARNING:root:Warning:The cell 536 fails to denormlize, and be deleted\n",
      "WARNING:root:Warning:The cell 538 fails to denormlize, and be deleted\n",
      "WARNING:root:Warning:The cell 539 fails to denormlize, and be deleted\n",
      "WARNING:root:Warning:The cell 540 fails to denormlize, and be deleted\n",
      "WARNING:root:Warning:The cell 541 fails to denormlize, and be deleted\n",
      "WARNING:root:Warning:The cell 543 fails to denormlize, and be deleted\n",
      "WARNING:root:Warning:The cell 544 fails to denormlize, and be deleted\n",
      "WARNING:root:Warning:The cell 545 fails to denormlize, and be deleted\n",
      "WARNING:root:Warning:The cell 546 fails to denormlize, and be deleted\n",
      "WARNING:root:Warning:The cell 549 fails to denormlize, and be deleted\n",
      "WARNING:root:Warning:The cell 551 fails to denormlize, and be deleted\n",
      "WARNING:root:Warning:The cell 553 fails to denormlize, and be deleted\n",
      "WARNING:root:Warning:The cell 555 fails to denormlize, and be deleted\n",
      "WARNING:root:Warning:The cell 558 fails to denormlize, and be deleted\n",
      "WARNING:root:Warning:The cell 559 fails to denormlize, and be deleted\n",
      "WARNING:root:Warning:The cell 560 fails to denormlize, and be deleted\n",
      "WARNING:root:Warning:The cell 561 fails to denormlize, and be deleted\n",
      "WARNING:root:Warning:The cell 562 fails to denormlize, and be deleted\n",
      "WARNING:root:Warning:The cell 563 fails to denormlize, and be deleted\n",
      "WARNING:root:Warning:The cell 564 fails to denormlize, and be deleted\n",
      "WARNING:root:Warning:The cell 565 fails to denormlize, and be deleted\n",
      "WARNING:root:Warning:The cell 566 fails to denormlize, and be deleted\n",
      "WARNING:root:Warning:The cell 568 fails to denormlize, and be deleted\n",
      "WARNING:root:Warning:The cell 569 fails to denormlize, and be deleted\n",
      "WARNING:root:Warning:The cell 570 fails to denormlize, and be deleted\n",
      "WARNING:root:Warning:The cell 571 fails to denormlize, and be deleted\n",
      "WARNING:root:Warning:The cell 572 fails to denormlize, and be deleted\n",
      "WARNING:root:Warning:The cell 573 fails to denormlize, and be deleted\n",
      "WARNING:root:Warning:The cell 576 fails to denormlize, and be deleted\n",
      "WARNING:root:Warning:The cell 577 fails to denormlize, and be deleted\n",
      "WARNING:root:Warning:The cell 578 fails to denormlize, and be deleted\n",
      "WARNING:root:Warning:The cell 579 fails to denormlize, and be deleted\n",
      "WARNING:root:Warning:The cell 580 fails to denormlize, and be deleted\n",
      "WARNING:root:Warning:The cell 581 fails to denormlize, and be deleted\n",
      "WARNING:root:Warning:The cell 582 fails to denormlize, and be deleted\n",
      "WARNING:root:Warning:The cell 583 fails to denormlize, and be deleted\n",
      "WARNING:root:Warning:The cell 585 fails to denormlize, and be deleted\n",
      "WARNING:root:Warning:The cell 587 fails to denormlize, and be deleted\n",
      "WARNING:root:Warning:The cell 588 fails to denormlize, and be deleted\n",
      "WARNING:root:Warning:The cell 589 fails to denormlize, and be deleted\n",
      "WARNING:root:Warning:The cell 590 fails to denormlize, and be deleted\n",
      "WARNING:root:Warning:The cell 591 fails to denormlize, and be deleted\n",
      "WARNING:root:Warning:The cell 592 fails to denormlize, and be deleted\n",
      "WARNING:root:Warning:The cell 593 fails to denormlize, and be deleted\n",
      "WARNING:root:Warning:The cell 594 fails to denormlize, and be deleted\n",
      " 60%|█████▉    | 595/1000 [00:00<00:00, 1508.09it/s]WARNING:root:Warning:The cell 596 fails to denormlize, and be deleted\n",
      "WARNING:root:Warning:The cell 598 fails to denormlize, and be deleted\n",
      "WARNING:root:Warning:The cell 599 fails to denormlize, and be deleted\n",
      "WARNING:root:Warning:The cell 602 fails to denormlize, and be deleted\n",
      "WARNING:root:Warning:The cell 603 fails to denormlize, and be deleted\n",
      "WARNING:root:Warning:The cell 606 fails to denormlize, and be deleted\n",
      "WARNING:root:Warning:The cell 609 fails to denormlize, and be deleted\n",
      "WARNING:root:Warning:The cell 610 fails to denormlize, and be deleted\n",
      "WARNING:root:Warning:The cell 611 fails to denormlize, and be deleted\n",
      "WARNING:root:Warning:The cell 612 fails to denormlize, and be deleted\n",
      "WARNING:root:Warning:The cell 614 fails to denormlize, and be deleted\n",
      "WARNING:root:Warning:The cell 615 fails to denormlize, and be deleted\n",
      "WARNING:root:Warning:The cell 618 fails to denormlize, and be deleted\n",
      "WARNING:root:Warning:The cell 620 fails to denormlize, and be deleted\n",
      "WARNING:root:Warning:The cell 622 fails to denormlize, and be deleted\n",
      "WARNING:root:Warning:The cell 630 fails to denormlize, and be deleted\n",
      "WARNING:root:Warning:The cell 631 fails to denormlize, and be deleted\n",
      "WARNING:root:Warning:The cell 632 fails to denormlize, and be deleted\n",
      "WARNING:root:Warning:The cell 634 fails to denormlize, and be deleted\n",
      "WARNING:root:Warning:The cell 635 fails to denormlize, and be deleted\n",
      "WARNING:root:Warning:The cell 636 fails to denormlize, and be deleted\n",
      "WARNING:root:Warning:The cell 637 fails to denormlize, and be deleted\n",
      "WARNING:root:Warning:The cell 638 fails to denormlize, and be deleted\n",
      "WARNING:root:Warning:The cell 641 fails to denormlize, and be deleted\n",
      "WARNING:root:Warning:The cell 643 fails to denormlize, and be deleted\n",
      "WARNING:root:Warning:The cell 644 fails to denormlize, and be deleted\n",
      "WARNING:root:Warning:The cell 646 fails to denormlize, and be deleted\n",
      "WARNING:root:Warning:The cell 648 fails to denormlize, and be deleted\n",
      "WARNING:root:Warning:The cell 649 fails to denormlize, and be deleted\n",
      "WARNING:root:Warning:The cell 652 fails to denormlize, and be deleted\n",
      "WARNING:root:Warning:The cell 653 fails to denormlize, and be deleted\n",
      "WARNING:root:Warning:The cell 654 fails to denormlize, and be deleted\n",
      "WARNING:root:Warning:The cell 658 fails to denormlize, and be deleted\n",
      "WARNING:root:Warning:The cell 659 fails to denormlize, and be deleted\n",
      "WARNING:root:Warning:The cell 662 fails to denormlize, and be deleted\n",
      "WARNING:root:Warning:The cell 663 fails to denormlize, and be deleted\n",
      "WARNING:root:Warning:The cell 664 fails to denormlize, and be deleted\n",
      "WARNING:root:Warning:The cell 666 fails to denormlize, and be deleted\n",
      "WARNING:root:Warning:The cell 671 fails to denormlize, and be deleted\n",
      "WARNING:root:Warning:The cell 673 fails to denormlize, and be deleted\n",
      "WARNING:root:Warning:The cell 675 fails to denormlize, and be deleted\n",
      "WARNING:root:Warning:The cell 676 fails to denormlize, and be deleted\n",
      "WARNING:root:Warning:The cell 677 fails to denormlize, and be deleted\n",
      "WARNING:root:Warning:The cell 678 fails to denormlize, and be deleted\n",
      "WARNING:root:Warning:The cell 679 fails to denormlize, and be deleted\n",
      "WARNING:root:Warning:The cell 680 fails to denormlize, and be deleted\n",
      "WARNING:root:Warning:The cell 681 fails to denormlize, and be deleted\n",
      "WARNING:root:Warning:The cell 682 fails to denormlize, and be deleted\n",
      "WARNING:root:Warning:The cell 683 fails to denormlize, and be deleted\n",
      "WARNING:root:Warning:The cell 684 fails to denormlize, and be deleted\n",
      "WARNING:root:Warning:The cell 685 fails to denormlize, and be deleted\n",
      "WARNING:root:Warning:The cell 691 fails to denormlize, and be deleted\n",
      "WARNING:root:Warning:The cell 692 fails to denormlize, and be deleted\n",
      "WARNING:root:Warning:The cell 693 fails to denormlize, and be deleted\n",
      "WARNING:root:Warning:The cell 697 fails to denormlize, and be deleted\n",
      "WARNING:root:Warning:The cell 699 fails to denormlize, and be deleted\n",
      "WARNING:root:Warning:The cell 700 fails to denormlize, and be deleted\n",
      "WARNING:root:Warning:The cell 701 fails to denormlize, and be deleted\n",
      "WARNING:root:Warning:The cell 702 fails to denormlize, and be deleted\n",
      "WARNING:root:Warning:The cell 703 fails to denormlize, and be deleted\n",
      "WARNING:root:Warning:The cell 704 fails to denormlize, and be deleted\n",
      "WARNING:root:Warning:The cell 706 fails to denormlize, and be deleted\n",
      "WARNING:root:Warning:The cell 707 fails to denormlize, and be deleted\n",
      "WARNING:root:Warning:The cell 709 fails to denormlize, and be deleted\n",
      "WARNING:root:Warning:The cell 713 fails to denormlize, and be deleted\n",
      "WARNING:root:Warning:The cell 714 fails to denormlize, and be deleted\n",
      "WARNING:root:Warning:The cell 715 fails to denormlize, and be deleted\n",
      "WARNING:root:Warning:The cell 716 fails to denormlize, and be deleted\n",
      "WARNING:root:Warning:The cell 717 fails to denormlize, and be deleted\n",
      "WARNING:root:Warning:The cell 718 fails to denormlize, and be deleted\n",
      "WARNING:root:Warning:The cell 722 fails to denormlize, and be deleted\n",
      "WARNING:root:Warning:The cell 724 fails to denormlize, and be deleted\n",
      "WARNING:root:Warning:The cell 728 fails to denormlize, and be deleted\n",
      "WARNING:root:Warning:The cell 731 fails to denormlize, and be deleted\n",
      "WARNING:root:Warning:The cell 732 fails to denormlize, and be deleted\n",
      "WARNING:root:Warning:The cell 733 fails to denormlize, and be deleted\n",
      "WARNING:root:Warning:The cell 736 fails to denormlize, and be deleted\n",
      "WARNING:root:Warning:The cell 738 fails to denormlize, and be deleted\n",
      "WARNING:root:Warning:The cell 739 fails to denormlize, and be deleted\n",
      "WARNING:root:Warning:The cell 741 fails to denormlize, and be deleted\n",
      "WARNING:root:Warning:The cell 743 fails to denormlize, and be deleted\n",
      "WARNING:root:Warning:The cell 744 fails to denormlize, and be deleted\n",
      "WARNING:root:Warning:The cell 745 fails to denormlize, and be deleted\n",
      " 75%|███████▍  | 746/1000 [00:00<00:00, 1451.41it/s]WARNING:root:Warning:The cell 747 fails to denormlize, and be deleted\n",
      "WARNING:root:Warning:The cell 748 fails to denormlize, and be deleted\n",
      "WARNING:root:Warning:The cell 750 fails to denormlize, and be deleted\n",
      "WARNING:root:Warning:The cell 751 fails to denormlize, and be deleted\n",
      "WARNING:root:Warning:The cell 756 fails to denormlize, and be deleted\n",
      "WARNING:root:Warning:The cell 757 fails to denormlize, and be deleted\n",
      "WARNING:root:Warning:The cell 758 fails to denormlize, and be deleted\n",
      "WARNING:root:Warning:The cell 759 fails to denormlize, and be deleted\n",
      "WARNING:root:Warning:The cell 760 fails to denormlize, and be deleted\n",
      "WARNING:root:Warning:The cell 761 fails to denormlize, and be deleted\n",
      "WARNING:root:Warning:The cell 763 fails to denormlize, and be deleted\n",
      "WARNING:root:Warning:The cell 764 fails to denormlize, and be deleted\n",
      "WARNING:root:Warning:The cell 765 fails to denormlize, and be deleted\n",
      "WARNING:root:Warning:The cell 766 fails to denormlize, and be deleted\n",
      "WARNING:root:Warning:The cell 767 fails to denormlize, and be deleted\n",
      "WARNING:root:Warning:The cell 769 fails to denormlize, and be deleted\n",
      "WARNING:root:Warning:The cell 771 fails to denormlize, and be deleted\n",
      "WARNING:root:Warning:The cell 775 fails to denormlize, and be deleted\n",
      "WARNING:root:Warning:The cell 776 fails to denormlize, and be deleted\n",
      "WARNING:root:Warning:The cell 780 fails to denormlize, and be deleted\n",
      "WARNING:root:Warning:The cell 781 fails to denormlize, and be deleted\n",
      "WARNING:root:Warning:The cell 783 fails to denormlize, and be deleted\n",
      "WARNING:root:Warning:The cell 785 fails to denormlize, and be deleted\n",
      "WARNING:root:Warning:The cell 787 fails to denormlize, and be deleted\n",
      "WARNING:root:Warning:The cell 789 fails to denormlize, and be deleted\n",
      "WARNING:root:Warning:The cell 790 fails to denormlize, and be deleted\n",
      "WARNING:root:Warning:The cell 793 fails to denormlize, and be deleted\n",
      "WARNING:root:Warning:The cell 794 fails to denormlize, and be deleted\n",
      "WARNING:root:Warning:The cell 795 fails to denormlize, and be deleted\n",
      "WARNING:root:Warning:The cell 796 fails to denormlize, and be deleted\n",
      "WARNING:root:Warning:The cell 797 fails to denormlize, and be deleted\n",
      "WARNING:root:Warning:The cell 799 fails to denormlize, and be deleted\n",
      "WARNING:root:Warning:The cell 800 fails to denormlize, and be deleted\n",
      "WARNING:root:Warning:The cell 801 fails to denormlize, and be deleted\n",
      "WARNING:root:Warning:The cell 802 fails to denormlize, and be deleted\n",
      "WARNING:root:Warning:The cell 803 fails to denormlize, and be deleted\n",
      "WARNING:root:Warning:The cell 805 fails to denormlize, and be deleted\n",
      "WARNING:root:Warning:The cell 806 fails to denormlize, and be deleted\n",
      "WARNING:root:Warning:The cell 809 fails to denormlize, and be deleted\n",
      "WARNING:root:Warning:The cell 810 fails to denormlize, and be deleted\n",
      "WARNING:root:Warning:The cell 812 fails to denormlize, and be deleted\n",
      "WARNING:root:Warning:The cell 813 fails to denormlize, and be deleted\n",
      "WARNING:root:Warning:The cell 816 fails to denormlize, and be deleted\n",
      "WARNING:root:Warning:The cell 817 fails to denormlize, and be deleted\n",
      "WARNING:root:Warning:The cell 819 fails to denormlize, and be deleted\n",
      "WARNING:root:Warning:The cell 820 fails to denormlize, and be deleted\n",
      "WARNING:root:Warning:The cell 821 fails to denormlize, and be deleted\n",
      "WARNING:root:Warning:The cell 824 fails to denormlize, and be deleted\n",
      "WARNING:root:Warning:The cell 826 fails to denormlize, and be deleted\n",
      "WARNING:root:Warning:The cell 827 fails to denormlize, and be deleted\n",
      "WARNING:root:Warning:The cell 830 fails to denormlize, and be deleted\n",
      "WARNING:root:Warning:The cell 831 fails to denormlize, and be deleted\n",
      "WARNING:root:Warning:The cell 832 fails to denormlize, and be deleted\n",
      "WARNING:root:Warning:The cell 833 fails to denormlize, and be deleted\n",
      "WARNING:root:Warning:The cell 834 fails to denormlize, and be deleted\n",
      "WARNING:root:Warning:The cell 835 fails to denormlize, and be deleted\n",
      "WARNING:root:Warning:The cell 837 fails to denormlize, and be deleted\n",
      "WARNING:root:Warning:The cell 838 fails to denormlize, and be deleted\n",
      "WARNING:root:Warning:The cell 839 fails to denormlize, and be deleted\n",
      "WARNING:root:Warning:The cell 840 fails to denormlize, and be deleted\n",
      "WARNING:root:Warning:The cell 841 fails to denormlize, and be deleted\n",
      "WARNING:root:Warning:The cell 843 fails to denormlize, and be deleted\n",
      "WARNING:root:Warning:The cell 844 fails to denormlize, and be deleted\n",
      "WARNING:root:Warning:The cell 845 fails to denormlize, and be deleted\n",
      "WARNING:root:Warning:The cell 846 fails to denormlize, and be deleted\n",
      "WARNING:root:Warning:The cell 847 fails to denormlize, and be deleted\n",
      "WARNING:root:Warning:The cell 851 fails to denormlize, and be deleted\n",
      "WARNING:root:Warning:The cell 852 fails to denormlize, and be deleted\n",
      "WARNING:root:Warning:The cell 853 fails to denormlize, and be deleted\n",
      "WARNING:root:Warning:The cell 854 fails to denormlize, and be deleted\n",
      "WARNING:root:Warning:The cell 856 fails to denormlize, and be deleted\n",
      "WARNING:root:Warning:The cell 859 fails to denormlize, and be deleted\n",
      "WARNING:root:Warning:The cell 861 fails to denormlize, and be deleted\n",
      "WARNING:root:Warning:The cell 862 fails to denormlize, and be deleted\n",
      "WARNING:root:Warning:The cell 866 fails to denormlize, and be deleted\n",
      "WARNING:root:Warning:The cell 869 fails to denormlize, and be deleted\n",
      "WARNING:root:Warning:The cell 872 fails to denormlize, and be deleted\n",
      "WARNING:root:Warning:The cell 873 fails to denormlize, and be deleted\n",
      "WARNING:root:Warning:The cell 874 fails to denormlize, and be deleted\n",
      "WARNING:root:Warning:The cell 875 fails to denormlize, and be deleted\n",
      "WARNING:root:Warning:The cell 876 fails to denormlize, and be deleted\n",
      "WARNING:root:Warning:The cell 877 fails to denormlize, and be deleted\n",
      "WARNING:root:Warning:The cell 879 fails to denormlize, and be deleted\n",
      "WARNING:root:Warning:The cell 881 fails to denormlize, and be deleted\n",
      "WARNING:root:Warning:The cell 882 fails to denormlize, and be deleted\n",
      "WARNING:root:Warning:The cell 883 fails to denormlize, and be deleted\n",
      "WARNING:root:Warning:The cell 884 fails to denormlize, and be deleted\n",
      "WARNING:root:Warning:The cell 885 fails to denormlize, and be deleted\n",
      "WARNING:root:Warning:The cell 889 fails to denormlize, and be deleted\n",
      "WARNING:root:Warning:The cell 892 fails to denormlize, and be deleted\n",
      "WARNING:root:Warning:The cell 894 fails to denormlize, and be deleted\n",
      "WARNING:root:Warning:The cell 895 fails to denormlize, and be deleted\n",
      "WARNING:root:Warning:The cell 896 fails to denormlize, and be deleted\n",
      "WARNING:root:Warning:The cell 897 fails to denormlize, and be deleted\n",
      "WARNING:root:Warning:The cell 898 fails to denormlize, and be deleted\n",
      "WARNING:root:Warning:The cell 901 fails to denormlize, and be deleted\n",
      "WARNING:root:Warning:The cell 902 fails to denormlize, and be deleted\n",
      "WARNING:root:Warning:The cell 904 fails to denormlize, and be deleted\n",
      "WARNING:root:Warning:The cell 906 fails to denormlize, and be deleted\n",
      "WARNING:root:Warning:The cell 909 fails to denormlize, and be deleted\n",
      "WARNING:root:Warning:The cell 911 fails to denormlize, and be deleted\n",
      " 91%|█████████▏| 913/1000 [00:00<00:00, 1523.34it/s]WARNING:root:Warning:The cell 913 fails to denormlize, and be deleted\n",
      "WARNING:root:Warning:The cell 916 fails to denormlize, and be deleted\n",
      "WARNING:root:Warning:The cell 918 fails to denormlize, and be deleted\n",
      "WARNING:root:Warning:The cell 920 fails to denormlize, and be deleted\n",
      "WARNING:root:Warning:The cell 921 fails to denormlize, and be deleted\n",
      "WARNING:root:Warning:The cell 923 fails to denormlize, and be deleted\n",
      "WARNING:root:Warning:The cell 924 fails to denormlize, and be deleted\n",
      "WARNING:root:Warning:The cell 927 fails to denormlize, and be deleted\n",
      "WARNING:root:Warning:The cell 928 fails to denormlize, and be deleted\n",
      "WARNING:root:Warning:The cell 929 fails to denormlize, and be deleted\n",
      "WARNING:root:Warning:The cell 930 fails to denormlize, and be deleted\n",
      "WARNING:root:Warning:The cell 931 fails to denormlize, and be deleted\n",
      "WARNING:root:Warning:The cell 932 fails to denormlize, and be deleted\n",
      "WARNING:root:Warning:The cell 934 fails to denormlize, and be deleted\n",
      "WARNING:root:Warning:The cell 935 fails to denormlize, and be deleted\n",
      "WARNING:root:Warning:The cell 936 fails to denormlize, and be deleted\n",
      "WARNING:root:Warning:The cell 937 fails to denormlize, and be deleted\n",
      "WARNING:root:Warning:The cell 941 fails to denormlize, and be deleted\n",
      "WARNING:root:Warning:The cell 942 fails to denormlize, and be deleted\n",
      "WARNING:root:Warning:The cell 944 fails to denormlize, and be deleted\n",
      "WARNING:root:Warning:The cell 945 fails to denormlize, and be deleted\n",
      "WARNING:root:Warning:The cell 946 fails to denormlize, and be deleted\n",
      "WARNING:root:Warning:The cell 948 fails to denormlize, and be deleted\n",
      "WARNING:root:Warning:The cell 952 fails to denormlize, and be deleted\n",
      "WARNING:root:Warning:The cell 953 fails to denormlize, and be deleted\n",
      "WARNING:root:Warning:The cell 954 fails to denormlize, and be deleted\n",
      "WARNING:root:Warning:The cell 955 fails to denormlize, and be deleted\n",
      "WARNING:root:Warning:The cell 957 fails to denormlize, and be deleted\n",
      "WARNING:root:Warning:The cell 958 fails to denormlize, and be deleted\n",
      "WARNING:root:Warning:The cell 960 fails to denormlize, and be deleted\n",
      "WARNING:root:Warning:The cell 962 fails to denormlize, and be deleted\n",
      "WARNING:root:Warning:The cell 964 fails to denormlize, and be deleted\n",
      "WARNING:root:Warning:The cell 965 fails to denormlize, and be deleted\n",
      "WARNING:root:Warning:The cell 968 fails to denormlize, and be deleted\n",
      "WARNING:root:Warning:The cell 970 fails to denormlize, and be deleted\n",
      "WARNING:root:Warning:The cell 971 fails to denormlize, and be deleted\n",
      "WARNING:root:Warning:The cell 973 fails to denormlize, and be deleted\n",
      "WARNING:root:Warning:The cell 974 fails to denormlize, and be deleted\n",
      "WARNING:root:Warning:The cell 975 fails to denormlize, and be deleted\n",
      "WARNING:root:Warning:The cell 976 fails to denormlize, and be deleted\n",
      "WARNING:root:Warning:The cell 977 fails to denormlize, and be deleted\n",
      "WARNING:root:Warning:The cell 980 fails to denormlize, and be deleted\n",
      "WARNING:root:Warning:The cell 983 fails to denormlize, and be deleted\n",
      "WARNING:root:Warning:The cell 985 fails to denormlize, and be deleted\n",
      "WARNING:root:Warning:The cell 987 fails to denormlize, and be deleted\n",
      "WARNING:root:Warning:The cell 988 fails to denormlize, and be deleted\n",
      "WARNING:root:Warning:The cell 989 fails to denormlize, and be deleted\n",
      "WARNING:root:Warning:The cell 992 fails to denormlize, and be deleted\n",
      "WARNING:root:Warning:The cell 993 fails to denormlize, and be deleted\n",
      "WARNING:root:Warning:The cell 994 fails to denormlize, and be deleted\n",
      "WARNING:root:Warning:The cell 995 fails to denormlize, and be deleted\n",
      "WARNING:root:Warning:The cell 998 fails to denormlize, and be deleted\n",
      "WARNING:root:Warning:The cell 999 fails to denormlize, and be deleted\n",
      "100%|██████████| 1000/1000 [00:00<00:00, 1489.78it/s]\n",
      "/home/huang_yin/anaconda3/envs/sc/lib/python3.9/site-packages/anndata/_core/anndata.py:1830: UserWarning: Variable names are not unique. To make them unique, call `.var_names_make_unique`.\n",
      "  utils.warn_names_duplicates(\"var\")\n",
      "ERROR:root:The base 2.718281828459045 is not match with the data.\n",
      "ERROR:root:The base 2 is not match with the data.\n"
     ]
    },
    {
     "name": "stdout",
     "output_type": "stream",
     "text": [
      "27923.477 (1000, 10850) /home/huang_ziliang/project/brain/data/public/human_brain_entorhinalcortex_Grubman_2019_DroNc-seq/h5/human_brain_entorhinalcortex_Grubman_2019_DroNc-seq.h5ad\n"
     ]
    },
    {
     "name": "stderr",
     "output_type": "stream",
     "text": [
      "100%|██████████| 1000/1000 [00:00<00:00, 3123.01it/s]\n"
     ]
    },
    {
     "name": "stdout",
     "output_type": "stream",
     "text": [
      "0.29119813 (1000, 31053) /home/huang_ziliang/project/brain/data/public/mouse_brain_developing_ZhangX_2022_10x/h5/Brain-Young-scRNAseq-rep1.h5ad\n"
     ]
    },
    {
     "name": "stderr",
     "output_type": "stream",
     "text": [
      "ERROR:root:The base 2.718281828459045 is not match with the data.\n",
      "ERROR:root:The base 2 is not match with the data.\n",
      "100%|██████████| 1000/1000 [00:00<00:00, 2949.62it/s]\n"
     ]
    },
    {
     "name": "stdout",
     "output_type": "stream",
     "text": [
      "0.1195122 (1000, 33289) /home/huang_ziliang/project/brain/data/public/human_mouse_brain_Chen_2019_SNARE-seq/h5/RNA.h5ad\n"
     ]
    },
    {
     "name": "stderr",
     "output_type": "stream",
     "text": [
      "ERROR:root:The base 2.718281828459045 is not match with the data.\n",
      "ERROR:root:The base 2 is not match with the data.\n",
      "100%|██████████| 1000/1000 [00:00<00:00, 2814.29it/s]\n"
     ]
    },
    {
     "name": "stdout",
     "output_type": "stream",
     "text": [
      "1.4933422 (1000, 31053) /home/huang_ziliang/project/brain/data/public/mouse_brain_Hippocampal_Mirabella_2021_10x/h5/mouse_brain_Hippocampal_Mirabella_2021_10x_in_vivo.h5ad\n"
     ]
    },
    {
     "name": "stderr",
     "output_type": "stream",
     "text": [
      "100%|██████████| 1000/1000 [00:00<00:00, 2755.19it/s]\n"
     ]
    },
    {
     "name": "stdout",
     "output_type": "stream",
     "text": [
      "1.1155263 (1000, 28788) /home/huang_ziliang/project/brain/data/public/human_brain_organoids_Fiorenzano_2021_10x/h5/human_brain_organoids_Fiorenzano_2021_10x.h5ad\n"
     ]
    },
    {
     "name": "stderr",
     "output_type": "stream",
     "text": [
      "100%|██████████| 1000/1000 [00:00<00:00, 2958.12it/s]\n"
     ]
    },
    {
     "name": "stdout",
     "output_type": "stream",
     "text": [
      "0.09852815 (1000, 29445) /home/huang_ziliang/project/brain/data/public/human_mouse_brain_Welch_2019_10x/h5/GSE126836_SN_MD5534.h5ad\n"
     ]
    },
    {
     "name": "stderr",
     "output_type": "stream",
     "text": [
      "100%|██████████| 1000/1000 [00:00<00:00, 2902.64it/s]\n"
     ]
    },
    {
     "name": "stdout",
     "output_type": "stream",
     "text": [
      "0.25611508 (1000, 32452) /home/huang_ziliang/project/brain/data/public/mouse_brain_HPF_PFC_Joglekar_2021_10x_PacBio_Visium/h5/mouse_brain_HPF_PFC_Joglekar_2021_10x.h5ad\n"
     ]
    },
    {
     "name": "stderr",
     "output_type": "stream",
     "text": [
      "/home/huang_yin/anaconda3/envs/sc/lib/python3.9/site-packages/anndata/_core/anndata.py:1830: UserWarning: Variable names are not unique. To make them unique, call `.var_names_make_unique`.\n",
      "  utils.warn_names_duplicates(\"var\")\n",
      "100%|██████████| 1000/1000 [00:00<00:00, 3084.81it/s]\n"
     ]
    },
    {
     "name": "stdout",
     "output_type": "stream",
     "text": [
      "0.11780703 (1000, 48528) /home/huang_ziliang/project/brain/data/public/mouse_brain_OB_Mizrak_2020_SCOPE-seq/h5/mouse_brain_OB_Mizrak_2020_SCOPE-seq.h5ad\n"
     ]
    },
    {
     "name": "stderr",
     "output_type": "stream",
     "text": [
      "100%|██████████| 1000/1000 [00:00<00:00, 2706.99it/s]\n"
     ]
    },
    {
     "name": "stdout",
     "output_type": "stream",
     "text": [
      "0.4915353 (1000, 28692) /home/huang_ziliang/project/brain/data/public/mouse_brain_lateral_hypothalamic_area_Mickelsen_2019_10x/h5/mouse_brain_lateral_hypothalamic_area_Mickelsen_2019_10x.h5ad\n"
     ]
    },
    {
     "name": "stderr",
     "output_type": "stream",
     "text": [
      "100%|██████████| 1000/1000 [00:00<00:00, 2363.77it/s]\n"
     ]
    },
    {
     "name": "stdout",
     "output_type": "stream",
     "text": [
      "0.5573318 (1000, 23890) /home/huang_ziliang/project/brain/data/public/mouse_brain_choroid_plexus_Dani_2021_10x/h5/mouse_brain_choroid_plexus_Dani_2021_10x.h5ad\n"
     ]
    },
    {
     "name": "stderr",
     "output_type": "stream",
     "text": [
      "100%|██████████| 1000/1000 [00:00<00:00, 2976.43it/s]\n",
      "/home/huang_yin/anaconda3/envs/sc/lib/python3.9/site-packages/anndata/_core/anndata.py:1830: UserWarning: Variable names are not unique. To make them unique, call `.var_names_make_unique`.\n",
      "  utils.warn_names_duplicates(\"var\")\n"
     ]
    },
    {
     "name": "stdout",
     "output_type": "stream",
     "text": [
      "0.0368073 (1000, 10850) /home/huang_ziliang/project/brain/data/public/human_brain_entorhinalcortex_Grubman_2019_DroNc-seq/h5/human_brain_entorhinalcortex_Grubman_2019_DroNc-seq.h5ad\n"
     ]
    },
    {
     "name": "stderr",
     "output_type": "stream",
     "text": [
      "100%|██████████| 1000/1000 [00:00<00:00, 2754.64it/s]\n"
     ]
    },
    {
     "name": "stdout",
     "output_type": "stream",
     "text": [
      "0.248968 (1000, 31053) /home/huang_ziliang/project/brain/data/public/mouse_brain_developing_ZhangX_2022_10x/h5/Brain-Young-scRNAseq-rep1.h5ad\n"
     ]
    },
    {
     "name": "stderr",
     "output_type": "stream",
     "text": [
      "100%|██████████| 1000/1000 [00:00<00:00, 2769.74it/s]\n"
     ]
    },
    {
     "name": "stdout",
     "output_type": "stream",
     "text": [
      "0.092314124 (1000, 33289) /home/huang_ziliang/project/brain/data/public/human_mouse_brain_Chen_2019_SNARE-seq/h5/RNA.h5ad\n"
     ]
    },
    {
     "name": "stderr",
     "output_type": "stream",
     "text": [
      "100%|██████████| 1000/1000 [00:00<00:00, 2797.06it/s]\n"
     ]
    },
    {
     "name": "stdout",
     "output_type": "stream",
     "text": [
      "1.3098155 (1000, 31053) /home/huang_ziliang/project/brain/data/public/mouse_brain_Hippocampal_Mirabella_2021_10x/h5/mouse_brain_Hippocampal_Mirabella_2021_10x_in_vivo.h5ad\n"
     ]
    },
    {
     "name": "stderr",
     "output_type": "stream",
     "text": [
      "ERROR:root:The base 2.718281828459045 is not match with the data.\n",
      "100%|██████████| 1000/1000 [00:00<00:00, 2808.44it/s]\n"
     ]
    },
    {
     "name": "stdout",
     "output_type": "stream",
     "text": [
      "1.2534279 (1000, 28788) /home/huang_ziliang/project/brain/data/public/human_brain_organoids_Fiorenzano_2021_10x/h5/human_brain_organoids_Fiorenzano_2021_10x.h5ad\n"
     ]
    },
    {
     "name": "stderr",
     "output_type": "stream",
     "text": [
      "ERROR:root:The base 2.718281828459045 is not match with the data.\n",
      "100%|██████████| 1000/1000 [00:00<00:00, 2993.07it/s]\n"
     ]
    },
    {
     "name": "stdout",
     "output_type": "stream",
     "text": [
      "0.12379563 (1000, 29445) /home/huang_ziliang/project/brain/data/public/human_mouse_brain_Welch_2019_10x/h5/GSE126836_SN_MD5534.h5ad\n"
     ]
    },
    {
     "name": "stderr",
     "output_type": "stream",
     "text": [
      "ERROR:root:The base 2.718281828459045 is not match with the data.\n",
      "100%|██████████| 1000/1000 [00:00<00:00, 2898.33it/s]\n"
     ]
    },
    {
     "name": "stdout",
     "output_type": "stream",
     "text": [
      "0.2889731 (1000, 32452) /home/huang_ziliang/project/brain/data/public/mouse_brain_HPF_PFC_Joglekar_2021_10x_PacBio_Visium/h5/mouse_brain_HPF_PFC_Joglekar_2021_10x.h5ad\n"
     ]
    },
    {
     "name": "stderr",
     "output_type": "stream",
     "text": [
      "/home/huang_yin/anaconda3/envs/sc/lib/python3.9/site-packages/anndata/_core/anndata.py:1830: UserWarning: Variable names are not unique. To make them unique, call `.var_names_make_unique`.\n",
      "  utils.warn_names_duplicates(\"var\")\n",
      "ERROR:root:The base 2.718281828459045 is not match with the data.\n",
      "100%|██████████| 1000/1000 [00:00<00:00, 2585.17it/s]\n"
     ]
    },
    {
     "name": "stdout",
     "output_type": "stream",
     "text": [
      "0.15083778 (1000, 48528) /home/huang_ziliang/project/brain/data/public/mouse_brain_OB_Mizrak_2020_SCOPE-seq/h5/mouse_brain_OB_Mizrak_2020_SCOPE-seq.h5ad\n"
     ]
    },
    {
     "name": "stderr",
     "output_type": "stream",
     "text": [
      "ERROR:root:The base 2.718281828459045 is not match with the data.\n",
      "100%|██████████| 1000/1000 [00:00<00:00, 2099.84it/s]\n"
     ]
    },
    {
     "name": "stdout",
     "output_type": "stream",
     "text": [
      "0.5720973 (1000, 28692) /home/huang_ziliang/project/brain/data/public/mouse_brain_lateral_hypothalamic_area_Mickelsen_2019_10x/h5/mouse_brain_lateral_hypothalamic_area_Mickelsen_2019_10x.h5ad\n"
     ]
    },
    {
     "name": "stderr",
     "output_type": "stream",
     "text": [
      "ERROR:root:The base 2.718281828459045 is not match with the data.\n",
      "100%|██████████| 1000/1000 [00:00<00:00, 2815.66it/s]\n"
     ]
    },
    {
     "name": "stdout",
     "output_type": "stream",
     "text": [
      "0.6559125 (1000, 23890) /home/huang_ziliang/project/brain/data/public/mouse_brain_choroid_plexus_Dani_2021_10x/h5/mouse_brain_choroid_plexus_Dani_2021_10x.h5ad\n"
     ]
    },
    {
     "name": "stderr",
     "output_type": "stream",
     "text": [
      "ERROR:root:The base 2.718281828459045 is not match with the data.\n",
      "100%|██████████| 1000/1000 [00:00<00:00, 3144.90it/s]\n",
      "/home/huang_yin/anaconda3/envs/sc/lib/python3.9/site-packages/anndata/_core/anndata.py:1830: UserWarning: Variable names are not unique. To make them unique, call `.var_names_make_unique`.\n",
      "  utils.warn_names_duplicates(\"var\")\n",
      "ERROR:root:The base 2.718281828459045 is not match with the data.\n"
     ]
    },
    {
     "name": "stdout",
     "output_type": "stream",
     "text": [
      "0.050880313 (1000, 10850) /home/huang_ziliang/project/brain/data/public/human_brain_entorhinalcortex_Grubman_2019_DroNc-seq/h5/human_brain_entorhinalcortex_Grubman_2019_DroNc-seq.h5ad\n"
     ]
    },
    {
     "name": "stderr",
     "output_type": "stream",
     "text": [
      "100%|██████████| 1000/1000 [00:00<00:00, 3129.21it/s]\n"
     ]
    },
    {
     "name": "stdout",
     "output_type": "stream",
     "text": [
      "0.29993808 (1000, 31053) /home/huang_ziliang/project/brain/data/public/mouse_brain_developing_ZhangX_2022_10x/h5/Brain-Young-scRNAseq-rep1.h5ad\n"
     ]
    },
    {
     "name": "stderr",
     "output_type": "stream",
     "text": [
      "ERROR:root:The base 2.718281828459045 is not match with the data.\n",
      "100%|██████████| 1000/1000 [00:00<00:00, 3053.43it/s]\n"
     ]
    },
    {
     "name": "stdout",
     "output_type": "stream",
     "text": [
      "0.11629987 (1000, 33289) /home/huang_ziliang/project/brain/data/public/human_mouse_brain_Chen_2019_SNARE-seq/h5/RNA.h5ad\n"
     ]
    },
    {
     "name": "stderr",
     "output_type": "stream",
     "text": [
      "ERROR:root:The base 2.718281828459045 is not match with the data.\n",
      "100%|██████████| 1000/1000 [00:00<00:00, 2649.37it/s]\n"
     ]
    },
    {
     "name": "stdout",
     "output_type": "stream",
     "text": [
      "1.4461886 (1000, 31053) /home/huang_ziliang/project/brain/data/public/mouse_brain_Hippocampal_Mirabella_2021_10x/h5/mouse_brain_Hippocampal_Mirabella_2021_10x_in_vivo.h5ad\n"
     ]
    },
    {
     "name": "stderr",
     "output_type": "stream",
     "text": [
      "ERROR:root:The base 2.718281828459045 is not match with the data.\n",
      "ERROR:root:The base 2 is not match with the data.\n",
      "100%|██████████| 1000/1000 [00:00<00:00, 2698.00it/s]\n"
     ]
    },
    {
     "name": "stdout",
     "output_type": "stream",
     "text": [
      "1.2432445 (1000, 28788) /home/huang_ziliang/project/brain/data/public/human_brain_organoids_Fiorenzano_2021_10x/h5/human_brain_organoids_Fiorenzano_2021_10x.h5ad\n"
     ]
    },
    {
     "name": "stderr",
     "output_type": "stream",
     "text": [
      "ERROR:root:The base 2.718281828459045 is not match with the data.\n",
      "ERROR:root:The base 2 is not match with the data.\n",
      "100%|██████████| 1000/1000 [00:00<00:00, 2747.77it/s]\n"
     ]
    },
    {
     "name": "stdout",
     "output_type": "stream",
     "text": [
      "0.12818134 (1000, 29445) /home/huang_ziliang/project/brain/data/public/human_mouse_brain_Welch_2019_10x/h5/GSE126836_SN_MD5534.h5ad\n"
     ]
    },
    {
     "name": "stderr",
     "output_type": "stream",
     "text": [
      "ERROR:root:The base 2.718281828459045 is not match with the data.\n",
      "ERROR:root:The base 2 is not match with the data.\n",
      "100%|██████████| 1000/1000 [00:00<00:00, 3040.63it/s]\n"
     ]
    },
    {
     "name": "stdout",
     "output_type": "stream",
     "text": [
      "0.3009503 (1000, 32452) /home/huang_ziliang/project/brain/data/public/mouse_brain_HPF_PFC_Joglekar_2021_10x_PacBio_Visium/h5/mouse_brain_HPF_PFC_Joglekar_2021_10x.h5ad\n"
     ]
    },
    {
     "name": "stderr",
     "output_type": "stream",
     "text": [
      "/home/huang_yin/anaconda3/envs/sc/lib/python3.9/site-packages/anndata/_core/anndata.py:1830: UserWarning: Variable names are not unique. To make them unique, call `.var_names_make_unique`.\n",
      "  utils.warn_names_duplicates(\"var\")\n",
      "ERROR:root:The base 2.718281828459045 is not match with the data.\n",
      "ERROR:root:The base 2 is not match with the data.\n",
      "100%|██████████| 1000/1000 [00:00<00:00, 3102.86it/s]\n"
     ]
    },
    {
     "name": "stdout",
     "output_type": "stream",
     "text": [
      "0.15135574 (1000, 48528) /home/huang_ziliang/project/brain/data/public/mouse_brain_OB_Mizrak_2020_SCOPE-seq/h5/mouse_brain_OB_Mizrak_2020_SCOPE-seq.h5ad\n"
     ]
    },
    {
     "name": "stderr",
     "output_type": "stream",
     "text": [
      "ERROR:root:The base 2.718281828459045 is not match with the data.\n",
      "ERROR:root:The base 2 is not match with the data.\n",
      "100%|██████████| 1000/1000 [00:00<00:00, 2891.87it/s]\n"
     ]
    },
    {
     "name": "stdout",
     "output_type": "stream",
     "text": [
      "0.5852072 (1000, 28692) /home/huang_ziliang/project/brain/data/public/mouse_brain_lateral_hypothalamic_area_Mickelsen_2019_10x/h5/mouse_brain_lateral_hypothalamic_area_Mickelsen_2019_10x.h5ad\n"
     ]
    },
    {
     "name": "stderr",
     "output_type": "stream",
     "text": [
      "ERROR:root:The base 2.718281828459045 is not match with the data.\n",
      "ERROR:root:The base 2 is not match with the data.\n",
      "100%|██████████| 1000/1000 [00:00<00:00, 1328.66it/s]\n",
      "ERROR:root:The base 2.718281828459045 is not match with the data.\n"
     ]
    },
    {
     "name": "stdout",
     "output_type": "stream",
     "text": [
      "0.6666825 (1000, 23890) /home/huang_ziliang/project/brain/data/public/mouse_brain_choroid_plexus_Dani_2021_10x/h5/mouse_brain_choroid_plexus_Dani_2021_10x.h5ad\n"
     ]
    },
    {
     "name": "stderr",
     "output_type": "stream",
     "text": [
      "  0%|          | 0/1000 [00:00<?, ?it/s]WARNING:root:Warning:The cell 1 fails to denormlize, and be deleted\n",
      "WARNING:root:Warning:The cell 2 fails to denormlize, and be deleted\n",
      "WARNING:root:Warning:The cell 3 fails to denormlize, and be deleted\n",
      "WARNING:root:Warning:The cell 4 fails to denormlize, and be deleted\n",
      "WARNING:root:Warning:The cell 6 fails to denormlize, and be deleted\n",
      "WARNING:root:Warning:The cell 8 fails to denormlize, and be deleted\n",
      "WARNING:root:Warning:The cell 9 fails to denormlize, and be deleted\n",
      "WARNING:root:Warning:The cell 11 fails to denormlize, and be deleted\n",
      "WARNING:root:Warning:The cell 13 fails to denormlize, and be deleted\n",
      "WARNING:root:Warning:The cell 14 fails to denormlize, and be deleted\n",
      "WARNING:root:Warning:The cell 15 fails to denormlize, and be deleted\n",
      "WARNING:root:Warning:The cell 17 fails to denormlize, and be deleted\n",
      "WARNING:root:Warning:The cell 18 fails to denormlize, and be deleted\n",
      "WARNING:root:Warning:The cell 21 fails to denormlize, and be deleted\n",
      "WARNING:root:Warning:The cell 22 fails to denormlize, and be deleted\n",
      "WARNING:root:Warning:The cell 23 fails to denormlize, and be deleted\n",
      "WARNING:root:Warning:The cell 24 fails to denormlize, and be deleted\n",
      "WARNING:root:Warning:The cell 25 fails to denormlize, and be deleted\n",
      "WARNING:root:Warning:The cell 27 fails to denormlize, and be deleted\n",
      "WARNING:root:Warning:The cell 28 fails to denormlize, and be deleted\n",
      "WARNING:root:Warning:The cell 30 fails to denormlize, and be deleted\n",
      "WARNING:root:Warning:The cell 33 fails to denormlize, and be deleted\n",
      "WARNING:root:Warning:The cell 34 fails to denormlize, and be deleted\n",
      "WARNING:root:Warning:The cell 35 fails to denormlize, and be deleted\n",
      "WARNING:root:Warning:The cell 37 fails to denormlize, and be deleted\n",
      "WARNING:root:Warning:The cell 38 fails to denormlize, and be deleted\n",
      "WARNING:root:Warning:The cell 40 fails to denormlize, and be deleted\n",
      "WARNING:root:Warning:The cell 42 fails to denormlize, and be deleted\n",
      "WARNING:root:Warning:The cell 43 fails to denormlize, and be deleted\n",
      "WARNING:root:Warning:The cell 45 fails to denormlize, and be deleted\n",
      "WARNING:root:Warning:The cell 46 fails to denormlize, and be deleted\n",
      "WARNING:root:Warning:The cell 47 fails to denormlize, and be deleted\n",
      "WARNING:root:Warning:The cell 49 fails to denormlize, and be deleted\n",
      "WARNING:root:Warning:The cell 51 fails to denormlize, and be deleted\n",
      "WARNING:root:Warning:The cell 53 fails to denormlize, and be deleted\n",
      "WARNING:root:Warning:The cell 56 fails to denormlize, and be deleted\n",
      "WARNING:root:Warning:The cell 58 fails to denormlize, and be deleted\n",
      "WARNING:root:Warning:The cell 59 fails to denormlize, and be deleted\n",
      "WARNING:root:Warning:The cell 60 fails to denormlize, and be deleted\n",
      "WARNING:root:Warning:The cell 64 fails to denormlize, and be deleted\n",
      "WARNING:root:Warning:The cell 65 fails to denormlize, and be deleted\n",
      "WARNING:root:Warning:The cell 66 fails to denormlize, and be deleted\n",
      "WARNING:root:Warning:The cell 67 fails to denormlize, and be deleted\n",
      "WARNING:root:Warning:The cell 68 fails to denormlize, and be deleted\n",
      "WARNING:root:Warning:The cell 72 fails to denormlize, and be deleted\n",
      "WARNING:root:Warning:The cell 73 fails to denormlize, and be deleted\n",
      "WARNING:root:Warning:The cell 74 fails to denormlize, and be deleted\n",
      "WARNING:root:Warning:The cell 75 fails to denormlize, and be deleted\n",
      "WARNING:root:Warning:The cell 76 fails to denormlize, and be deleted\n",
      "WARNING:root:Warning:The cell 77 fails to denormlize, and be deleted\n",
      "WARNING:root:Warning:The cell 79 fails to denormlize, and be deleted\n",
      "WARNING:root:Warning:The cell 80 fails to denormlize, and be deleted\n",
      "WARNING:root:Warning:The cell 81 fails to denormlize, and be deleted\n",
      "WARNING:root:Warning:The cell 82 fails to denormlize, and be deleted\n",
      "WARNING:root:Warning:The cell 83 fails to denormlize, and be deleted\n",
      "WARNING:root:Warning:The cell 84 fails to denormlize, and be deleted\n",
      "WARNING:root:Warning:The cell 85 fails to denormlize, and be deleted\n",
      "WARNING:root:Warning:The cell 86 fails to denormlize, and be deleted\n",
      "WARNING:root:Warning:The cell 87 fails to denormlize, and be deleted\n",
      "WARNING:root:Warning:The cell 88 fails to denormlize, and be deleted\n",
      "WARNING:root:Warning:The cell 89 fails to denormlize, and be deleted\n",
      "WARNING:root:Warning:The cell 90 fails to denormlize, and be deleted\n",
      "WARNING:root:Warning:The cell 91 fails to denormlize, and be deleted\n",
      "WARNING:root:Warning:The cell 93 fails to denormlize, and be deleted\n",
      "WARNING:root:Warning:The cell 94 fails to denormlize, and be deleted\n",
      "WARNING:root:Warning:The cell 95 fails to denormlize, and be deleted\n",
      "WARNING:root:Warning:The cell 97 fails to denormlize, and be deleted\n",
      "WARNING:root:Warning:The cell 98 fails to denormlize, and be deleted\n",
      "WARNING:root:Warning:The cell 99 fails to denormlize, and be deleted\n",
      "WARNING:root:Warning:The cell 100 fails to denormlize, and be deleted\n",
      "WARNING:root:Warning:The cell 101 fails to denormlize, and be deleted\n",
      "WARNING:root:Warning:The cell 102 fails to denormlize, and be deleted\n",
      "WARNING:root:Warning:The cell 103 fails to denormlize, and be deleted\n",
      "WARNING:root:Warning:The cell 104 fails to denormlize, and be deleted\n",
      "WARNING:root:Warning:The cell 106 fails to denormlize, and be deleted\n",
      "WARNING:root:Warning:The cell 107 fails to denormlize, and be deleted\n",
      "WARNING:root:Warning:The cell 108 fails to denormlize, and be deleted\n",
      "WARNING:root:Warning:The cell 109 fails to denormlize, and be deleted\n",
      "WARNING:root:Warning:The cell 110 fails to denormlize, and be deleted\n",
      "WARNING:root:Warning:The cell 111 fails to denormlize, and be deleted\n",
      "WARNING:root:Warning:The cell 113 fails to denormlize, and be deleted\n",
      "WARNING:root:Warning:The cell 115 fails to denormlize, and be deleted\n",
      "WARNING:root:Warning:The cell 117 fails to denormlize, and be deleted\n",
      "WARNING:root:Warning:The cell 118 fails to denormlize, and be deleted\n",
      "WARNING:root:Warning:The cell 119 fails to denormlize, and be deleted\n",
      "WARNING:root:Warning:The cell 121 fails to denormlize, and be deleted\n",
      "WARNING:root:Warning:The cell 122 fails to denormlize, and be deleted\n",
      "WARNING:root:Warning:The cell 123 fails to denormlize, and be deleted\n",
      "WARNING:root:Warning:The cell 128 fails to denormlize, and be deleted\n",
      "WARNING:root:Warning:The cell 130 fails to denormlize, and be deleted\n",
      "WARNING:root:Warning:The cell 131 fails to denormlize, and be deleted\n",
      "WARNING:root:Warning:The cell 132 fails to denormlize, and be deleted\n",
      "WARNING:root:Warning:The cell 134 fails to denormlize, and be deleted\n",
      "WARNING:root:Warning:The cell 135 fails to denormlize, and be deleted\n",
      "WARNING:root:Warning:The cell 137 fails to denormlize, and be deleted\n",
      "WARNING:root:Warning:The cell 142 fails to denormlize, and be deleted\n",
      "WARNING:root:Warning:The cell 144 fails to denormlize, and be deleted\n",
      "WARNING:root:Warning:The cell 145 fails to denormlize, and be deleted\n",
      "WARNING:root:Warning:The cell 146 fails to denormlize, and be deleted\n",
      "WARNING:root:Warning:The cell 147 fails to denormlize, and be deleted\n",
      "WARNING:root:Warning:The cell 148 fails to denormlize, and be deleted\n",
      "WARNING:root:Warning:The cell 150 fails to denormlize, and be deleted\n",
      "WARNING:root:Warning:The cell 151 fails to denormlize, and be deleted\n",
      "WARNING:root:Warning:The cell 153 fails to denormlize, and be deleted\n",
      "WARNING:root:Warning:The cell 155 fails to denormlize, and be deleted\n",
      " 16%|█▌        | 156/1000 [00:00<00:00, 1556.90it/s]WARNING:root:Warning:The cell 156 fails to denormlize, and be deleted\n",
      "WARNING:root:Warning:The cell 157 fails to denormlize, and be deleted\n",
      "WARNING:root:Warning:The cell 159 fails to denormlize, and be deleted\n",
      "WARNING:root:Warning:The cell 160 fails to denormlize, and be deleted\n",
      "WARNING:root:Warning:The cell 161 fails to denormlize, and be deleted\n",
      "WARNING:root:Warning:The cell 162 fails to denormlize, and be deleted\n",
      "WARNING:root:Warning:The cell 163 fails to denormlize, and be deleted\n",
      "WARNING:root:Warning:The cell 165 fails to denormlize, and be deleted\n",
      "WARNING:root:Warning:The cell 166 fails to denormlize, and be deleted\n",
      "WARNING:root:Warning:The cell 167 fails to denormlize, and be deleted\n",
      "WARNING:root:Warning:The cell 168 fails to denormlize, and be deleted\n",
      "WARNING:root:Warning:The cell 170 fails to denormlize, and be deleted\n",
      "WARNING:root:Warning:The cell 171 fails to denormlize, and be deleted\n",
      "WARNING:root:Warning:The cell 175 fails to denormlize, and be deleted\n",
      "WARNING:root:Warning:The cell 176 fails to denormlize, and be deleted\n",
      "WARNING:root:Warning:The cell 177 fails to denormlize, and be deleted\n",
      "WARNING:root:Warning:The cell 178 fails to denormlize, and be deleted\n",
      "WARNING:root:Warning:The cell 185 fails to denormlize, and be deleted\n",
      "WARNING:root:Warning:The cell 188 fails to denormlize, and be deleted\n",
      "WARNING:root:Warning:The cell 189 fails to denormlize, and be deleted\n",
      "WARNING:root:Warning:The cell 191 fails to denormlize, and be deleted\n",
      "WARNING:root:Warning:The cell 192 fails to denormlize, and be deleted\n",
      "WARNING:root:Warning:The cell 193 fails to denormlize, and be deleted\n",
      "WARNING:root:Warning:The cell 194 fails to denormlize, and be deleted\n",
      "WARNING:root:Warning:The cell 195 fails to denormlize, and be deleted\n",
      "WARNING:root:Warning:The cell 196 fails to denormlize, and be deleted\n",
      "WARNING:root:Warning:The cell 199 fails to denormlize, and be deleted\n",
      "WARNING:root:Warning:The cell 201 fails to denormlize, and be deleted\n",
      "WARNING:root:Warning:The cell 202 fails to denormlize, and be deleted\n",
      "WARNING:root:Warning:The cell 203 fails to denormlize, and be deleted\n",
      "WARNING:root:Warning:The cell 205 fails to denormlize, and be deleted\n",
      "WARNING:root:Warning:The cell 206 fails to denormlize, and be deleted\n",
      "WARNING:root:Warning:The cell 207 fails to denormlize, and be deleted\n",
      "WARNING:root:Warning:The cell 208 fails to denormlize, and be deleted\n",
      "WARNING:root:Warning:The cell 209 fails to denormlize, and be deleted\n",
      "WARNING:root:Warning:The cell 210 fails to denormlize, and be deleted\n",
      "WARNING:root:Warning:The cell 211 fails to denormlize, and be deleted\n",
      "WARNING:root:Warning:The cell 212 fails to denormlize, and be deleted\n",
      "WARNING:root:Warning:The cell 214 fails to denormlize, and be deleted\n",
      "WARNING:root:Warning:The cell 215 fails to denormlize, and be deleted\n",
      "WARNING:root:Warning:The cell 216 fails to denormlize, and be deleted\n",
      "WARNING:root:Warning:The cell 218 fails to denormlize, and be deleted\n",
      "WARNING:root:Warning:The cell 219 fails to denormlize, and be deleted\n",
      "WARNING:root:Warning:The cell 220 fails to denormlize, and be deleted\n",
      "WARNING:root:Warning:The cell 222 fails to denormlize, and be deleted\n",
      "WARNING:root:Warning:The cell 223 fails to denormlize, and be deleted\n",
      "WARNING:root:Warning:The cell 225 fails to denormlize, and be deleted\n",
      "WARNING:root:Warning:The cell 226 fails to denormlize, and be deleted\n",
      "WARNING:root:Warning:The cell 227 fails to denormlize, and be deleted\n",
      "WARNING:root:Warning:The cell 228 fails to denormlize, and be deleted\n",
      "WARNING:root:Warning:The cell 229 fails to denormlize, and be deleted\n",
      "WARNING:root:Warning:The cell 230 fails to denormlize, and be deleted\n",
      "WARNING:root:Warning:The cell 231 fails to denormlize, and be deleted\n",
      "WARNING:root:Warning:The cell 232 fails to denormlize, and be deleted\n",
      "WARNING:root:Warning:The cell 233 fails to denormlize, and be deleted\n",
      "WARNING:root:Warning:The cell 235 fails to denormlize, and be deleted\n",
      "WARNING:root:Warning:The cell 236 fails to denormlize, and be deleted\n",
      "WARNING:root:Warning:The cell 237 fails to denormlize, and be deleted\n",
      "WARNING:root:Warning:The cell 238 fails to denormlize, and be deleted\n",
      "WARNING:root:Warning:The cell 240 fails to denormlize, and be deleted\n",
      "WARNING:root:Warning:The cell 241 fails to denormlize, and be deleted\n",
      "WARNING:root:Warning:The cell 242 fails to denormlize, and be deleted\n",
      "WARNING:root:Warning:The cell 243 fails to denormlize, and be deleted\n",
      "WARNING:root:Warning:The cell 244 fails to denormlize, and be deleted\n",
      "WARNING:root:Warning:The cell 245 fails to denormlize, and be deleted\n",
      "WARNING:root:Warning:The cell 247 fails to denormlize, and be deleted\n",
      "WARNING:root:Warning:The cell 250 fails to denormlize, and be deleted\n",
      "WARNING:root:Warning:The cell 251 fails to denormlize, and be deleted\n",
      "WARNING:root:Warning:The cell 254 fails to denormlize, and be deleted\n",
      "WARNING:root:Warning:The cell 255 fails to denormlize, and be deleted\n",
      "WARNING:root:Warning:The cell 256 fails to denormlize, and be deleted\n",
      "WARNING:root:Warning:The cell 259 fails to denormlize, and be deleted\n",
      "WARNING:root:Warning:The cell 260 fails to denormlize, and be deleted\n",
      "WARNING:root:Warning:The cell 261 fails to denormlize, and be deleted\n",
      "WARNING:root:Warning:The cell 262 fails to denormlize, and be deleted\n",
      "WARNING:root:Warning:The cell 263 fails to denormlize, and be deleted\n",
      "WARNING:root:Warning:The cell 264 fails to denormlize, and be deleted\n",
      "WARNING:root:Warning:The cell 266 fails to denormlize, and be deleted\n",
      "WARNING:root:Warning:The cell 267 fails to denormlize, and be deleted\n",
      "WARNING:root:Warning:The cell 268 fails to denormlize, and be deleted\n",
      "WARNING:root:Warning:The cell 269 fails to denormlize, and be deleted\n",
      "WARNING:root:Warning:The cell 271 fails to denormlize, and be deleted\n",
      "WARNING:root:Warning:The cell 272 fails to denormlize, and be deleted\n",
      "WARNING:root:Warning:The cell 273 fails to denormlize, and be deleted\n",
      "WARNING:root:Warning:The cell 274 fails to denormlize, and be deleted\n",
      "WARNING:root:Warning:The cell 275 fails to denormlize, and be deleted\n",
      "WARNING:root:Warning:The cell 276 fails to denormlize, and be deleted\n",
      "WARNING:root:Warning:The cell 277 fails to denormlize, and be deleted\n",
      "WARNING:root:Warning:The cell 278 fails to denormlize, and be deleted\n",
      "WARNING:root:Warning:The cell 280 fails to denormlize, and be deleted\n",
      "WARNING:root:Warning:The cell 281 fails to denormlize, and be deleted\n",
      "WARNING:root:Warning:The cell 282 fails to denormlize, and be deleted\n",
      "WARNING:root:Warning:The cell 284 fails to denormlize, and be deleted\n",
      "WARNING:root:Warning:The cell 285 fails to denormlize, and be deleted\n",
      "WARNING:root:Warning:The cell 286 fails to denormlize, and be deleted\n",
      "WARNING:root:Warning:The cell 287 fails to denormlize, and be deleted\n",
      "WARNING:root:Warning:The cell 288 fails to denormlize, and be deleted\n",
      "WARNING:root:Warning:The cell 289 fails to denormlize, and be deleted\n",
      "WARNING:root:Warning:The cell 290 fails to denormlize, and be deleted\n",
      "WARNING:root:Warning:The cell 291 fails to denormlize, and be deleted\n",
      "WARNING:root:Warning:The cell 292 fails to denormlize, and be deleted\n",
      "WARNING:root:Warning:The cell 294 fails to denormlize, and be deleted\n",
      "WARNING:root:Warning:The cell 296 fails to denormlize, and be deleted\n",
      "WARNING:root:Warning:The cell 297 fails to denormlize, and be deleted\n",
      "WARNING:root:Warning:The cell 298 fails to denormlize, and be deleted\n",
      "WARNING:root:Warning:The cell 299 fails to denormlize, and be deleted\n",
      "WARNING:root:Warning:The cell 300 fails to denormlize, and be deleted\n",
      "WARNING:root:Warning:The cell 301 fails to denormlize, and be deleted\n",
      "WARNING:root:Warning:The cell 302 fails to denormlize, and be deleted\n",
      "WARNING:root:Warning:The cell 303 fails to denormlize, and be deleted\n",
      "WARNING:root:Warning:The cell 305 fails to denormlize, and be deleted\n",
      "WARNING:root:Warning:The cell 308 fails to denormlize, and be deleted\n",
      " 31%|███       | 312/1000 [00:00<00:00, 1527.03it/s]WARNING:root:Warning:The cell 312 fails to denormlize, and be deleted\n",
      "WARNING:root:Warning:The cell 313 fails to denormlize, and be deleted\n",
      "WARNING:root:Warning:The cell 316 fails to denormlize, and be deleted\n",
      "WARNING:root:Warning:The cell 317 fails to denormlize, and be deleted\n",
      "WARNING:root:Warning:The cell 318 fails to denormlize, and be deleted\n",
      "WARNING:root:Warning:The cell 319 fails to denormlize, and be deleted\n",
      "WARNING:root:Warning:The cell 320 fails to denormlize, and be deleted\n",
      "WARNING:root:Warning:The cell 321 fails to denormlize, and be deleted\n",
      "WARNING:root:Warning:The cell 322 fails to denormlize, and be deleted\n",
      "WARNING:root:Warning:The cell 323 fails to denormlize, and be deleted\n",
      "WARNING:root:Warning:The cell 325 fails to denormlize, and be deleted\n",
      "WARNING:root:Warning:The cell 326 fails to denormlize, and be deleted\n",
      "WARNING:root:Warning:The cell 327 fails to denormlize, and be deleted\n",
      "WARNING:root:Warning:The cell 328 fails to denormlize, and be deleted\n",
      "WARNING:root:Warning:The cell 329 fails to denormlize, and be deleted\n",
      "WARNING:root:Warning:The cell 331 fails to denormlize, and be deleted\n",
      "WARNING:root:Warning:The cell 333 fails to denormlize, and be deleted\n",
      "WARNING:root:Warning:The cell 334 fails to denormlize, and be deleted\n",
      "WARNING:root:Warning:The cell 335 fails to denormlize, and be deleted\n",
      "WARNING:root:Warning:The cell 338 fails to denormlize, and be deleted\n",
      "WARNING:root:Warning:The cell 340 fails to denormlize, and be deleted\n",
      "WARNING:root:Warning:The cell 342 fails to denormlize, and be deleted\n",
      "WARNING:root:Warning:The cell 344 fails to denormlize, and be deleted\n",
      "WARNING:root:Warning:The cell 345 fails to denormlize, and be deleted\n",
      "WARNING:root:Warning:The cell 346 fails to denormlize, and be deleted\n",
      "WARNING:root:Warning:The cell 348 fails to denormlize, and be deleted\n",
      "WARNING:root:Warning:The cell 350 fails to denormlize, and be deleted\n",
      "WARNING:root:Warning:The cell 352 fails to denormlize, and be deleted\n",
      "WARNING:root:Warning:The cell 353 fails to denormlize, and be deleted\n",
      "WARNING:root:Warning:The cell 354 fails to denormlize, and be deleted\n",
      "WARNING:root:Warning:The cell 355 fails to denormlize, and be deleted\n",
      "WARNING:root:Warning:The cell 357 fails to denormlize, and be deleted\n",
      "WARNING:root:Warning:The cell 360 fails to denormlize, and be deleted\n",
      "WARNING:root:Warning:The cell 361 fails to denormlize, and be deleted\n",
      "WARNING:root:Warning:The cell 362 fails to denormlize, and be deleted\n",
      "WARNING:root:Warning:The cell 364 fails to denormlize, and be deleted\n",
      "WARNING:root:Warning:The cell 365 fails to denormlize, and be deleted\n",
      "WARNING:root:Warning:The cell 369 fails to denormlize, and be deleted\n",
      "WARNING:root:Warning:The cell 370 fails to denormlize, and be deleted\n",
      "WARNING:root:Warning:The cell 372 fails to denormlize, and be deleted\n",
      "WARNING:root:Warning:The cell 373 fails to denormlize, and be deleted\n",
      "WARNING:root:Warning:The cell 378 fails to denormlize, and be deleted\n",
      "WARNING:root:Warning:The cell 379 fails to denormlize, and be deleted\n",
      "WARNING:root:Warning:The cell 381 fails to denormlize, and be deleted\n",
      "WARNING:root:Warning:The cell 382 fails to denormlize, and be deleted\n",
      "WARNING:root:Warning:The cell 383 fails to denormlize, and be deleted\n",
      "WARNING:root:Warning:The cell 384 fails to denormlize, and be deleted\n",
      "WARNING:root:Warning:The cell 385 fails to denormlize, and be deleted\n",
      "WARNING:root:Warning:The cell 386 fails to denormlize, and be deleted\n",
      "WARNING:root:Warning:The cell 388 fails to denormlize, and be deleted\n",
      "WARNING:root:Warning:The cell 389 fails to denormlize, and be deleted\n",
      "WARNING:root:Warning:The cell 390 fails to denormlize, and be deleted\n",
      "WARNING:root:Warning:The cell 392 fails to denormlize, and be deleted\n",
      "WARNING:root:Warning:The cell 393 fails to denormlize, and be deleted\n",
      "WARNING:root:Warning:The cell 395 fails to denormlize, and be deleted\n",
      "WARNING:root:Warning:The cell 396 fails to denormlize, and be deleted\n",
      "WARNING:root:Warning:The cell 397 fails to denormlize, and be deleted\n",
      "WARNING:root:Warning:The cell 398 fails to denormlize, and be deleted\n",
      "WARNING:root:Warning:The cell 399 fails to denormlize, and be deleted\n",
      "WARNING:root:Warning:The cell 400 fails to denormlize, and be deleted\n",
      "WARNING:root:Warning:The cell 404 fails to denormlize, and be deleted\n",
      "WARNING:root:Warning:The cell 406 fails to denormlize, and be deleted\n",
      "WARNING:root:Warning:The cell 408 fails to denormlize, and be deleted\n",
      "WARNING:root:Warning:The cell 412 fails to denormlize, and be deleted\n",
      "WARNING:root:Warning:The cell 413 fails to denormlize, and be deleted\n",
      "WARNING:root:Warning:The cell 414 fails to denormlize, and be deleted\n",
      "WARNING:root:Warning:The cell 416 fails to denormlize, and be deleted\n",
      "WARNING:root:Warning:The cell 419 fails to denormlize, and be deleted\n",
      "WARNING:root:Warning:The cell 421 fails to denormlize, and be deleted\n",
      "WARNING:root:Warning:The cell 422 fails to denormlize, and be deleted\n",
      "WARNING:root:Warning:The cell 423 fails to denormlize, and be deleted\n",
      "WARNING:root:Warning:The cell 425 fails to denormlize, and be deleted\n",
      "WARNING:root:Warning:The cell 428 fails to denormlize, and be deleted\n",
      "WARNING:root:Warning:The cell 432 fails to denormlize, and be deleted\n",
      "WARNING:root:Warning:The cell 433 fails to denormlize, and be deleted\n",
      "WARNING:root:Warning:The cell 435 fails to denormlize, and be deleted\n",
      "WARNING:root:Warning:The cell 436 fails to denormlize, and be deleted\n",
      "WARNING:root:Warning:The cell 439 fails to denormlize, and be deleted\n",
      "WARNING:root:Warning:The cell 440 fails to denormlize, and be deleted\n",
      "WARNING:root:Warning:The cell 443 fails to denormlize, and be deleted\n",
      "WARNING:root:Warning:The cell 446 fails to denormlize, and be deleted\n",
      "WARNING:root:Warning:The cell 449 fails to denormlize, and be deleted\n",
      "WARNING:root:Warning:The cell 450 fails to denormlize, and be deleted\n",
      "WARNING:root:Warning:The cell 451 fails to denormlize, and be deleted\n",
      "WARNING:root:Warning:The cell 452 fails to denormlize, and be deleted\n",
      "WARNING:root:Warning:The cell 453 fails to denormlize, and be deleted\n",
      "WARNING:root:Warning:The cell 454 fails to denormlize, and be deleted\n",
      "WARNING:root:Warning:The cell 456 fails to denormlize, and be deleted\n",
      "WARNING:root:Warning:The cell 458 fails to denormlize, and be deleted\n",
      "WARNING:root:Warning:The cell 460 fails to denormlize, and be deleted\n",
      "WARNING:root:Warning:The cell 462 fails to denormlize, and be deleted\n",
      "WARNING:root:Warning:The cell 464 fails to denormlize, and be deleted\n",
      "WARNING:root:Warning:The cell 465 fails to denormlize, and be deleted\n",
      "WARNING:root:Warning:The cell 466 fails to denormlize, and be deleted\n",
      "WARNING:root:Warning:The cell 469 fails to denormlize, and be deleted\n",
      "WARNING:root:Warning:The cell 470 fails to denormlize, and be deleted\n",
      " 47%|████▋     | 471/1000 [00:00<00:00, 1554.25it/s]WARNING:root:Warning:The cell 471 fails to denormlize, and be deleted\n",
      "WARNING:root:Warning:The cell 472 fails to denormlize, and be deleted\n",
      "WARNING:root:Warning:The cell 474 fails to denormlize, and be deleted\n",
      "WARNING:root:Warning:The cell 475 fails to denormlize, and be deleted\n",
      "WARNING:root:Warning:The cell 476 fails to denormlize, and be deleted\n",
      "WARNING:root:Warning:The cell 479 fails to denormlize, and be deleted\n",
      "WARNING:root:Warning:The cell 480 fails to denormlize, and be deleted\n",
      "WARNING:root:Warning:The cell 481 fails to denormlize, and be deleted\n",
      "WARNING:root:Warning:The cell 482 fails to denormlize, and be deleted\n",
      "WARNING:root:Warning:The cell 483 fails to denormlize, and be deleted\n",
      "WARNING:root:Warning:The cell 484 fails to denormlize, and be deleted\n",
      "WARNING:root:Warning:The cell 486 fails to denormlize, and be deleted\n",
      "WARNING:root:Warning:The cell 487 fails to denormlize, and be deleted\n",
      "WARNING:root:Warning:The cell 488 fails to denormlize, and be deleted\n",
      "WARNING:root:Warning:The cell 490 fails to denormlize, and be deleted\n",
      "WARNING:root:Warning:The cell 491 fails to denormlize, and be deleted\n",
      "WARNING:root:Warning:The cell 492 fails to denormlize, and be deleted\n",
      "WARNING:root:Warning:The cell 493 fails to denormlize, and be deleted\n",
      "WARNING:root:Warning:The cell 494 fails to denormlize, and be deleted\n",
      "WARNING:root:Warning:The cell 495 fails to denormlize, and be deleted\n",
      "WARNING:root:Warning:The cell 497 fails to denormlize, and be deleted\n",
      "WARNING:root:Warning:The cell 498 fails to denormlize, and be deleted\n",
      "WARNING:root:Warning:The cell 499 fails to denormlize, and be deleted\n",
      "WARNING:root:Warning:The cell 501 fails to denormlize, and be deleted\n",
      "WARNING:root:Warning:The cell 502 fails to denormlize, and be deleted\n",
      "WARNING:root:Warning:The cell 503 fails to denormlize, and be deleted\n",
      "WARNING:root:Warning:The cell 506 fails to denormlize, and be deleted\n",
      "WARNING:root:Warning:The cell 507 fails to denormlize, and be deleted\n",
      "WARNING:root:Warning:The cell 508 fails to denormlize, and be deleted\n",
      "WARNING:root:Warning:The cell 510 fails to denormlize, and be deleted\n",
      "WARNING:root:Warning:The cell 511 fails to denormlize, and be deleted\n",
      "WARNING:root:Warning:The cell 512 fails to denormlize, and be deleted\n",
      "WARNING:root:Warning:The cell 514 fails to denormlize, and be deleted\n",
      "WARNING:root:Warning:The cell 516 fails to denormlize, and be deleted\n",
      "WARNING:root:Warning:The cell 517 fails to denormlize, and be deleted\n",
      "WARNING:root:Warning:The cell 519 fails to denormlize, and be deleted\n",
      "WARNING:root:Warning:The cell 523 fails to denormlize, and be deleted\n",
      "WARNING:root:Warning:The cell 528 fails to denormlize, and be deleted\n",
      "WARNING:root:Warning:The cell 530 fails to denormlize, and be deleted\n",
      "WARNING:root:Warning:The cell 532 fails to denormlize, and be deleted\n",
      "WARNING:root:Warning:The cell 533 fails to denormlize, and be deleted\n",
      "WARNING:root:Warning:The cell 535 fails to denormlize, and be deleted\n",
      "WARNING:root:Warning:The cell 536 fails to denormlize, and be deleted\n",
      "WARNING:root:Warning:The cell 538 fails to denormlize, and be deleted\n",
      "WARNING:root:Warning:The cell 539 fails to denormlize, and be deleted\n",
      "WARNING:root:Warning:The cell 540 fails to denormlize, and be deleted\n",
      "WARNING:root:Warning:The cell 541 fails to denormlize, and be deleted\n",
      "WARNING:root:Warning:The cell 543 fails to denormlize, and be deleted\n",
      "WARNING:root:Warning:The cell 544 fails to denormlize, and be deleted\n",
      "WARNING:root:Warning:The cell 545 fails to denormlize, and be deleted\n",
      "WARNING:root:Warning:The cell 546 fails to denormlize, and be deleted\n",
      "WARNING:root:Warning:The cell 549 fails to denormlize, and be deleted\n",
      "WARNING:root:Warning:The cell 551 fails to denormlize, and be deleted\n",
      "WARNING:root:Warning:The cell 553 fails to denormlize, and be deleted\n",
      "WARNING:root:Warning:The cell 555 fails to denormlize, and be deleted\n",
      "WARNING:root:Warning:The cell 558 fails to denormlize, and be deleted\n",
      "WARNING:root:Warning:The cell 559 fails to denormlize, and be deleted\n",
      "WARNING:root:Warning:The cell 560 fails to denormlize, and be deleted\n",
      "WARNING:root:Warning:The cell 561 fails to denormlize, and be deleted\n",
      "WARNING:root:Warning:The cell 562 fails to denormlize, and be deleted\n",
      "WARNING:root:Warning:The cell 563 fails to denormlize, and be deleted\n",
      "WARNING:root:Warning:The cell 564 fails to denormlize, and be deleted\n",
      "WARNING:root:Warning:The cell 565 fails to denormlize, and be deleted\n",
      "WARNING:root:Warning:The cell 566 fails to denormlize, and be deleted\n",
      "WARNING:root:Warning:The cell 568 fails to denormlize, and be deleted\n",
      "WARNING:root:Warning:The cell 569 fails to denormlize, and be deleted\n",
      "WARNING:root:Warning:The cell 570 fails to denormlize, and be deleted\n",
      "WARNING:root:Warning:The cell 571 fails to denormlize, and be deleted\n",
      "WARNING:root:Warning:The cell 572 fails to denormlize, and be deleted\n",
      "WARNING:root:Warning:The cell 573 fails to denormlize, and be deleted\n",
      "WARNING:root:Warning:The cell 576 fails to denormlize, and be deleted\n",
      "WARNING:root:Warning:The cell 577 fails to denormlize, and be deleted\n",
      "WARNING:root:Warning:The cell 578 fails to denormlize, and be deleted\n",
      "WARNING:root:Warning:The cell 579 fails to denormlize, and be deleted\n",
      "WARNING:root:Warning:The cell 580 fails to denormlize, and be deleted\n",
      "WARNING:root:Warning:The cell 581 fails to denormlize, and be deleted\n",
      "WARNING:root:Warning:The cell 582 fails to denormlize, and be deleted\n",
      "WARNING:root:Warning:The cell 583 fails to denormlize, and be deleted\n",
      "WARNING:root:Warning:The cell 585 fails to denormlize, and be deleted\n",
      "WARNING:root:Warning:The cell 587 fails to denormlize, and be deleted\n",
      "WARNING:root:Warning:The cell 588 fails to denormlize, and be deleted\n",
      "WARNING:root:Warning:The cell 589 fails to denormlize, and be deleted\n",
      "WARNING:root:Warning:The cell 590 fails to denormlize, and be deleted\n",
      "WARNING:root:Warning:The cell 591 fails to denormlize, and be deleted\n",
      "WARNING:root:Warning:The cell 592 fails to denormlize, and be deleted\n",
      "WARNING:root:Warning:The cell 593 fails to denormlize, and be deleted\n",
      "WARNING:root:Warning:The cell 594 fails to denormlize, and be deleted\n",
      "WARNING:root:Warning:The cell 596 fails to denormlize, and be deleted\n",
      "WARNING:root:Warning:The cell 598 fails to denormlize, and be deleted\n",
      "WARNING:root:Warning:The cell 599 fails to denormlize, and be deleted\n",
      "WARNING:root:Warning:The cell 602 fails to denormlize, and be deleted\n",
      "WARNING:root:Warning:The cell 603 fails to denormlize, and be deleted\n",
      "WARNING:root:Warning:The cell 606 fails to denormlize, and be deleted\n",
      "WARNING:root:Warning:The cell 609 fails to denormlize, and be deleted\n",
      "WARNING:root:Warning:The cell 610 fails to denormlize, and be deleted\n",
      "WARNING:root:Warning:The cell 611 fails to denormlize, and be deleted\n",
      "WARNING:root:Warning:The cell 612 fails to denormlize, and be deleted\n",
      "WARNING:root:Warning:The cell 614 fails to denormlize, and be deleted\n",
      "WARNING:root:Warning:The cell 615 fails to denormlize, and be deleted\n",
      "WARNING:root:Warning:The cell 618 fails to denormlize, and be deleted\n",
      "WARNING:root:Warning:The cell 620 fails to denormlize, and be deleted\n",
      "WARNING:root:Warning:The cell 622 fails to denormlize, and be deleted\n",
      " 63%|██████▎   | 627/1000 [00:00<00:00, 1340.18it/s]WARNING:root:Warning:The cell 630 fails to denormlize, and be deleted\n",
      "WARNING:root:Warning:The cell 631 fails to denormlize, and be deleted\n",
      "WARNING:root:Warning:The cell 632 fails to denormlize, and be deleted\n",
      "WARNING:root:Warning:The cell 634 fails to denormlize, and be deleted\n",
      "WARNING:root:Warning:The cell 635 fails to denormlize, and be deleted\n",
      "WARNING:root:Warning:The cell 636 fails to denormlize, and be deleted\n",
      "WARNING:root:Warning:The cell 637 fails to denormlize, and be deleted\n",
      "WARNING:root:Warning:The cell 638 fails to denormlize, and be deleted\n",
      "WARNING:root:Warning:The cell 641 fails to denormlize, and be deleted\n",
      "WARNING:root:Warning:The cell 643 fails to denormlize, and be deleted\n",
      "WARNING:root:Warning:The cell 644 fails to denormlize, and be deleted\n",
      "WARNING:root:Warning:The cell 646 fails to denormlize, and be deleted\n",
      "WARNING:root:Warning:The cell 648 fails to denormlize, and be deleted\n",
      "WARNING:root:Warning:The cell 649 fails to denormlize, and be deleted\n",
      "WARNING:root:Warning:The cell 652 fails to denormlize, and be deleted\n",
      "WARNING:root:Warning:The cell 653 fails to denormlize, and be deleted\n",
      "WARNING:root:Warning:The cell 654 fails to denormlize, and be deleted\n",
      "WARNING:root:Warning:The cell 658 fails to denormlize, and be deleted\n",
      "WARNING:root:Warning:The cell 659 fails to denormlize, and be deleted\n",
      "WARNING:root:Warning:The cell 662 fails to denormlize, and be deleted\n",
      "WARNING:root:Warning:The cell 663 fails to denormlize, and be deleted\n",
      "WARNING:root:Warning:The cell 664 fails to denormlize, and be deleted\n",
      "WARNING:root:Warning:The cell 666 fails to denormlize, and be deleted\n",
      "WARNING:root:Warning:The cell 671 fails to denormlize, and be deleted\n",
      "WARNING:root:Warning:The cell 673 fails to denormlize, and be deleted\n",
      "WARNING:root:Warning:The cell 675 fails to denormlize, and be deleted\n",
      "WARNING:root:Warning:The cell 676 fails to denormlize, and be deleted\n",
      "WARNING:root:Warning:The cell 677 fails to denormlize, and be deleted\n",
      "WARNING:root:Warning:The cell 678 fails to denormlize, and be deleted\n",
      "WARNING:root:Warning:The cell 679 fails to denormlize, and be deleted\n",
      "WARNING:root:Warning:The cell 680 fails to denormlize, and be deleted\n",
      "WARNING:root:Warning:The cell 681 fails to denormlize, and be deleted\n",
      "WARNING:root:Warning:The cell 682 fails to denormlize, and be deleted\n",
      "WARNING:root:Warning:The cell 683 fails to denormlize, and be deleted\n",
      "WARNING:root:Warning:The cell 684 fails to denormlize, and be deleted\n",
      "WARNING:root:Warning:The cell 685 fails to denormlize, and be deleted\n",
      "WARNING:root:Warning:The cell 691 fails to denormlize, and be deleted\n",
      "WARNING:root:Warning:The cell 692 fails to denormlize, and be deleted\n",
      "WARNING:root:Warning:The cell 693 fails to denormlize, and be deleted\n",
      "WARNING:root:Warning:The cell 697 fails to denormlize, and be deleted\n",
      "WARNING:root:Warning:The cell 699 fails to denormlize, and be deleted\n",
      "WARNING:root:Warning:The cell 700 fails to denormlize, and be deleted\n",
      "WARNING:root:Warning:The cell 701 fails to denormlize, and be deleted\n",
      "WARNING:root:Warning:The cell 702 fails to denormlize, and be deleted\n",
      "WARNING:root:Warning:The cell 703 fails to denormlize, and be deleted\n",
      "WARNING:root:Warning:The cell 704 fails to denormlize, and be deleted\n",
      "WARNING:root:Warning:The cell 706 fails to denormlize, and be deleted\n",
      "WARNING:root:Warning:The cell 707 fails to denormlize, and be deleted\n",
      "WARNING:root:Warning:The cell 709 fails to denormlize, and be deleted\n",
      "WARNING:root:Warning:The cell 713 fails to denormlize, and be deleted\n",
      "WARNING:root:Warning:The cell 714 fails to denormlize, and be deleted\n",
      "WARNING:root:Warning:The cell 715 fails to denormlize, and be deleted\n",
      "WARNING:root:Warning:The cell 716 fails to denormlize, and be deleted\n",
      "WARNING:root:Warning:The cell 717 fails to denormlize, and be deleted\n",
      "WARNING:root:Warning:The cell 718 fails to denormlize, and be deleted\n",
      "WARNING:root:Warning:The cell 722 fails to denormlize, and be deleted\n",
      "WARNING:root:Warning:The cell 724 fails to denormlize, and be deleted\n",
      "WARNING:root:Warning:The cell 728 fails to denormlize, and be deleted\n",
      "WARNING:root:Warning:The cell 731 fails to denormlize, and be deleted\n",
      "WARNING:root:Warning:The cell 732 fails to denormlize, and be deleted\n",
      "WARNING:root:Warning:The cell 733 fails to denormlize, and be deleted\n",
      "WARNING:root:Warning:The cell 736 fails to denormlize, and be deleted\n",
      "WARNING:root:Warning:The cell 738 fails to denormlize, and be deleted\n",
      "WARNING:root:Warning:The cell 739 fails to denormlize, and be deleted\n",
      "WARNING:root:Warning:The cell 741 fails to denormlize, and be deleted\n",
      "WARNING:root:Warning:The cell 743 fails to denormlize, and be deleted\n",
      "WARNING:root:Warning:The cell 744 fails to denormlize, and be deleted\n",
      "WARNING:root:Warning:The cell 745 fails to denormlize, and be deleted\n",
      "WARNING:root:Warning:The cell 747 fails to denormlize, and be deleted\n",
      "WARNING:root:Warning:The cell 748 fails to denormlize, and be deleted\n",
      "WARNING:root:Warning:The cell 750 fails to denormlize, and be deleted\n",
      "WARNING:root:Warning:The cell 751 fails to denormlize, and be deleted\n",
      "WARNING:root:Warning:The cell 756 fails to denormlize, and be deleted\n",
      "WARNING:root:Warning:The cell 757 fails to denormlize, and be deleted\n",
      "WARNING:root:Warning:The cell 758 fails to denormlize, and be deleted\n",
      "WARNING:root:Warning:The cell 759 fails to denormlize, and be deleted\n",
      "WARNING:root:Warning:The cell 760 fails to denormlize, and be deleted\n",
      "WARNING:root:Warning:The cell 761 fails to denormlize, and be deleted\n",
      "WARNING:root:Warning:The cell 763 fails to denormlize, and be deleted\n",
      "WARNING:root:Warning:The cell 764 fails to denormlize, and be deleted\n",
      "WARNING:root:Warning:The cell 765 fails to denormlize, and be deleted\n",
      "WARNING:root:Warning:The cell 766 fails to denormlize, and be deleted\n",
      "WARNING:root:Warning:The cell 767 fails to denormlize, and be deleted\n",
      "WARNING:root:Warning:The cell 769 fails to denormlize, and be deleted\n",
      "WARNING:root:Warning:The cell 771 fails to denormlize, and be deleted\n",
      " 77%|███████▋  | 773/1000 [00:00<00:00, 1378.42it/s]WARNING:root:Warning:The cell 775 fails to denormlize, and be deleted\n",
      "WARNING:root:Warning:The cell 776 fails to denormlize, and be deleted\n",
      "WARNING:root:Warning:The cell 780 fails to denormlize, and be deleted\n",
      "WARNING:root:Warning:The cell 781 fails to denormlize, and be deleted\n",
      "WARNING:root:Warning:The cell 783 fails to denormlize, and be deleted\n",
      "WARNING:root:Warning:The cell 785 fails to denormlize, and be deleted\n",
      "WARNING:root:Warning:The cell 787 fails to denormlize, and be deleted\n",
      "WARNING:root:Warning:The cell 789 fails to denormlize, and be deleted\n",
      "WARNING:root:Warning:The cell 790 fails to denormlize, and be deleted\n",
      "WARNING:root:Warning:The cell 793 fails to denormlize, and be deleted\n",
      "WARNING:root:Warning:The cell 794 fails to denormlize, and be deleted\n",
      "WARNING:root:Warning:The cell 795 fails to denormlize, and be deleted\n",
      "WARNING:root:Warning:The cell 796 fails to denormlize, and be deleted\n",
      "WARNING:root:Warning:The cell 797 fails to denormlize, and be deleted\n",
      "WARNING:root:Warning:The cell 799 fails to denormlize, and be deleted\n",
      "WARNING:root:Warning:The cell 800 fails to denormlize, and be deleted\n",
      "WARNING:root:Warning:The cell 801 fails to denormlize, and be deleted\n",
      "WARNING:root:Warning:The cell 802 fails to denormlize, and be deleted\n",
      "WARNING:root:Warning:The cell 803 fails to denormlize, and be deleted\n",
      "WARNING:root:Warning:The cell 805 fails to denormlize, and be deleted\n",
      "WARNING:root:Warning:The cell 806 fails to denormlize, and be deleted\n",
      "WARNING:root:Warning:The cell 809 fails to denormlize, and be deleted\n",
      "WARNING:root:Warning:The cell 810 fails to denormlize, and be deleted\n",
      "WARNING:root:Warning:The cell 812 fails to denormlize, and be deleted\n",
      "WARNING:root:Warning:The cell 813 fails to denormlize, and be deleted\n",
      "WARNING:root:Warning:The cell 816 fails to denormlize, and be deleted\n",
      "WARNING:root:Warning:The cell 817 fails to denormlize, and be deleted\n",
      "WARNING:root:Warning:The cell 819 fails to denormlize, and be deleted\n",
      "WARNING:root:Warning:The cell 820 fails to denormlize, and be deleted\n",
      "WARNING:root:Warning:The cell 821 fails to denormlize, and be deleted\n",
      "WARNING:root:Warning:The cell 824 fails to denormlize, and be deleted\n",
      "WARNING:root:Warning:The cell 826 fails to denormlize, and be deleted\n",
      "WARNING:root:Warning:The cell 827 fails to denormlize, and be deleted\n",
      "WARNING:root:Warning:The cell 830 fails to denormlize, and be deleted\n",
      "WARNING:root:Warning:The cell 831 fails to denormlize, and be deleted\n",
      "WARNING:root:Warning:The cell 832 fails to denormlize, and be deleted\n",
      "WARNING:root:Warning:The cell 833 fails to denormlize, and be deleted\n",
      "WARNING:root:Warning:The cell 834 fails to denormlize, and be deleted\n",
      "WARNING:root:Warning:The cell 835 fails to denormlize, and be deleted\n",
      "WARNING:root:Warning:The cell 837 fails to denormlize, and be deleted\n",
      "WARNING:root:Warning:The cell 838 fails to denormlize, and be deleted\n",
      "WARNING:root:Warning:The cell 839 fails to denormlize, and be deleted\n",
      "WARNING:root:Warning:The cell 840 fails to denormlize, and be deleted\n",
      "WARNING:root:Warning:The cell 841 fails to denormlize, and be deleted\n",
      "WARNING:root:Warning:The cell 843 fails to denormlize, and be deleted\n",
      "WARNING:root:Warning:The cell 844 fails to denormlize, and be deleted\n",
      "WARNING:root:Warning:The cell 845 fails to denormlize, and be deleted\n",
      "WARNING:root:Warning:The cell 846 fails to denormlize, and be deleted\n",
      "WARNING:root:Warning:The cell 847 fails to denormlize, and be deleted\n",
      "WARNING:root:Warning:The cell 851 fails to denormlize, and be deleted\n",
      "WARNING:root:Warning:The cell 852 fails to denormlize, and be deleted\n",
      "WARNING:root:Warning:The cell 853 fails to denormlize, and be deleted\n",
      "WARNING:root:Warning:The cell 854 fails to denormlize, and be deleted\n",
      "WARNING:root:Warning:The cell 856 fails to denormlize, and be deleted\n",
      "WARNING:root:Warning:The cell 859 fails to denormlize, and be deleted\n",
      "WARNING:root:Warning:The cell 861 fails to denormlize, and be deleted\n",
      "WARNING:root:Warning:The cell 862 fails to denormlize, and be deleted\n",
      "WARNING:root:Warning:The cell 866 fails to denormlize, and be deleted\n",
      "WARNING:root:Warning:The cell 869 fails to denormlize, and be deleted\n",
      "WARNING:root:Warning:The cell 872 fails to denormlize, and be deleted\n",
      "WARNING:root:Warning:The cell 873 fails to denormlize, and be deleted\n",
      "WARNING:root:Warning:The cell 874 fails to denormlize, and be deleted\n",
      "WARNING:root:Warning:The cell 875 fails to denormlize, and be deleted\n",
      "WARNING:root:Warning:The cell 876 fails to denormlize, and be deleted\n",
      "WARNING:root:Warning:The cell 877 fails to denormlize, and be deleted\n",
      "WARNING:root:Warning:The cell 879 fails to denormlize, and be deleted\n",
      "WARNING:root:Warning:The cell 881 fails to denormlize, and be deleted\n",
      "WARNING:root:Warning:The cell 882 fails to denormlize, and be deleted\n",
      "WARNING:root:Warning:The cell 883 fails to denormlize, and be deleted\n",
      "WARNING:root:Warning:The cell 884 fails to denormlize, and be deleted\n",
      "WARNING:root:Warning:The cell 885 fails to denormlize, and be deleted\n",
      "WARNING:root:Warning:The cell 889 fails to denormlize, and be deleted\n",
      "WARNING:root:Warning:The cell 892 fails to denormlize, and be deleted\n",
      "WARNING:root:Warning:The cell 894 fails to denormlize, and be deleted\n",
      "WARNING:root:Warning:The cell 895 fails to denormlize, and be deleted\n",
      "WARNING:root:Warning:The cell 896 fails to denormlize, and be deleted\n",
      "WARNING:root:Warning:The cell 897 fails to denormlize, and be deleted\n",
      "WARNING:root:Warning:The cell 898 fails to denormlize, and be deleted\n",
      "WARNING:root:Warning:The cell 901 fails to denormlize, and be deleted\n",
      "WARNING:root:Warning:The cell 902 fails to denormlize, and be deleted\n",
      "WARNING:root:Warning:The cell 904 fails to denormlize, and be deleted\n",
      "WARNING:root:Warning:The cell 906 fails to denormlize, and be deleted\n",
      "WARNING:root:Warning:The cell 909 fails to denormlize, and be deleted\n",
      "WARNING:root:Warning:The cell 911 fails to denormlize, and be deleted\n",
      "WARNING:root:Warning:The cell 913 fails to denormlize, and be deleted\n",
      " 91%|█████████▏| 914/1000 [00:00<00:00, 1340.73it/s]WARNING:root:Warning:The cell 916 fails to denormlize, and be deleted\n",
      "WARNING:root:Warning:The cell 918 fails to denormlize, and be deleted\n",
      "WARNING:root:Warning:The cell 920 fails to denormlize, and be deleted\n",
      "WARNING:root:Warning:The cell 921 fails to denormlize, and be deleted\n",
      "WARNING:root:Warning:The cell 923 fails to denormlize, and be deleted\n",
      "WARNING:root:Warning:The cell 924 fails to denormlize, and be deleted\n",
      "WARNING:root:Warning:The cell 927 fails to denormlize, and be deleted\n",
      "WARNING:root:Warning:The cell 928 fails to denormlize, and be deleted\n",
      "WARNING:root:Warning:The cell 929 fails to denormlize, and be deleted\n",
      "WARNING:root:Warning:The cell 930 fails to denormlize, and be deleted\n",
      "WARNING:root:Warning:The cell 931 fails to denormlize, and be deleted\n",
      "WARNING:root:Warning:The cell 932 fails to denormlize, and be deleted\n",
      "WARNING:root:Warning:The cell 934 fails to denormlize, and be deleted\n",
      "WARNING:root:Warning:The cell 935 fails to denormlize, and be deleted\n",
      "WARNING:root:Warning:The cell 936 fails to denormlize, and be deleted\n",
      "WARNING:root:Warning:The cell 937 fails to denormlize, and be deleted\n",
      "WARNING:root:Warning:The cell 941 fails to denormlize, and be deleted\n",
      "WARNING:root:Warning:The cell 942 fails to denormlize, and be deleted\n",
      "WARNING:root:Warning:The cell 944 fails to denormlize, and be deleted\n",
      "WARNING:root:Warning:The cell 945 fails to denormlize, and be deleted\n",
      "WARNING:root:Warning:The cell 946 fails to denormlize, and be deleted\n",
      "WARNING:root:Warning:The cell 948 fails to denormlize, and be deleted\n",
      "WARNING:root:Warning:The cell 952 fails to denormlize, and be deleted\n",
      "WARNING:root:Warning:The cell 953 fails to denormlize, and be deleted\n",
      "WARNING:root:Warning:The cell 954 fails to denormlize, and be deleted\n",
      "WARNING:root:Warning:The cell 955 fails to denormlize, and be deleted\n",
      "WARNING:root:Warning:The cell 957 fails to denormlize, and be deleted\n",
      "WARNING:root:Warning:The cell 958 fails to denormlize, and be deleted\n",
      "WARNING:root:Warning:The cell 960 fails to denormlize, and be deleted\n",
      "WARNING:root:Warning:The cell 962 fails to denormlize, and be deleted\n",
      "WARNING:root:Warning:The cell 964 fails to denormlize, and be deleted\n",
      "WARNING:root:Warning:The cell 965 fails to denormlize, and be deleted\n",
      "WARNING:root:Warning:The cell 968 fails to denormlize, and be deleted\n",
      "WARNING:root:Warning:The cell 970 fails to denormlize, and be deleted\n",
      "WARNING:root:Warning:The cell 971 fails to denormlize, and be deleted\n",
      "WARNING:root:Warning:The cell 973 fails to denormlize, and be deleted\n",
      "WARNING:root:Warning:The cell 974 fails to denormlize, and be deleted\n",
      "WARNING:root:Warning:The cell 975 fails to denormlize, and be deleted\n",
      "WARNING:root:Warning:The cell 976 fails to denormlize, and be deleted\n",
      "WARNING:root:Warning:The cell 977 fails to denormlize, and be deleted\n",
      "WARNING:root:Warning:The cell 980 fails to denormlize, and be deleted\n",
      "WARNING:root:Warning:The cell 983 fails to denormlize, and be deleted\n",
      "WARNING:root:Warning:The cell 985 fails to denormlize, and be deleted\n",
      "WARNING:root:Warning:The cell 987 fails to denormlize, and be deleted\n",
      "WARNING:root:Warning:The cell 988 fails to denormlize, and be deleted\n",
      "WARNING:root:Warning:The cell 989 fails to denormlize, and be deleted\n",
      "WARNING:root:Warning:The cell 992 fails to denormlize, and be deleted\n",
      "WARNING:root:Warning:The cell 993 fails to denormlize, and be deleted\n",
      "WARNING:root:Warning:The cell 994 fails to denormlize, and be deleted\n",
      "WARNING:root:Warning:The cell 995 fails to denormlize, and be deleted\n",
      "WARNING:root:Warning:The cell 998 fails to denormlize, and be deleted\n",
      "WARNING:root:Warning:The cell 999 fails to denormlize, and be deleted\n",
      "100%|██████████| 1000/1000 [00:00<00:00, 1402.13it/s]\n",
      "/home/huang_yin/anaconda3/envs/sc/lib/python3.9/site-packages/anndata/_core/anndata.py:1830: UserWarning: Variable names are not unique. To make them unique, call `.var_names_make_unique`.\n",
      "  utils.warn_names_duplicates(\"var\")\n",
      "ERROR:root:The base 2.718281828459045 is not match with the data.\n",
      "ERROR:root:The base 2 is not match with the data.\n"
     ]
    },
    {
     "name": "stdout",
     "output_type": "stream",
     "text": [
      "27923.477 (1000, 10850) /home/huang_ziliang/project/brain/data/public/human_brain_entorhinalcortex_Grubman_2019_DroNc-seq/h5/human_brain_entorhinalcortex_Grubman_2019_DroNc-seq.h5ad\n"
     ]
    },
    {
     "name": "stderr",
     "output_type": "stream",
     "text": [
      "100%|██████████| 1000/1000 [00:00<00:00, 2771.77it/s]\n"
     ]
    },
    {
     "name": "stdout",
     "output_type": "stream",
     "text": [
      "0.29119813 (1000, 31053) /home/huang_ziliang/project/brain/data/public/mouse_brain_developing_ZhangX_2022_10x/h5/Brain-Young-scRNAseq-rep1.h5ad\n"
     ]
    },
    {
     "name": "stderr",
     "output_type": "stream",
     "text": [
      "ERROR:root:The base 2.718281828459045 is not match with the data.\n",
      "ERROR:root:The base 2 is not match with the data.\n",
      "100%|██████████| 1000/1000 [00:00<00:00, 2439.25it/s]\n"
     ]
    },
    {
     "name": "stdout",
     "output_type": "stream",
     "text": [
      "0.1195122 (1000, 33289) /home/huang_ziliang/project/brain/data/public/human_mouse_brain_Chen_2019_SNARE-seq/h5/RNA.h5ad\n"
     ]
    },
    {
     "name": "stderr",
     "output_type": "stream",
     "text": [
      "ERROR:root:The base 2.718281828459045 is not match with the data.\n",
      "ERROR:root:The base 2 is not match with the data.\n",
      "100%|██████████| 1000/1000 [00:00<00:00, 2801.10it/s]\n"
     ]
    },
    {
     "name": "stdout",
     "output_type": "stream",
     "text": [
      "1.4933422 (1000, 31053) /home/huang_ziliang/project/brain/data/public/mouse_brain_Hippocampal_Mirabella_2021_10x/h5/mouse_brain_Hippocampal_Mirabella_2021_10x_in_vivo.h5ad\n"
     ]
    },
    {
     "name": "stderr",
     "output_type": "stream",
     "text": [
      "100%|██████████| 1000/1000 [00:00<00:00, 2882.55it/s]\n"
     ]
    },
    {
     "name": "stdout",
     "output_type": "stream",
     "text": [
      "1.1155263 (1000, 28788) /home/huang_ziliang/project/brain/data/public/human_brain_organoids_Fiorenzano_2021_10x/h5/human_brain_organoids_Fiorenzano_2021_10x.h5ad\n"
     ]
    },
    {
     "name": "stderr",
     "output_type": "stream",
     "text": [
      "100%|██████████| 1000/1000 [00:00<00:00, 3051.14it/s]\n"
     ]
    },
    {
     "name": "stdout",
     "output_type": "stream",
     "text": [
      "0.09852815 (1000, 29445) /home/huang_ziliang/project/brain/data/public/human_mouse_brain_Welch_2019_10x/h5/GSE126836_SN_MD5534.h5ad\n"
     ]
    },
    {
     "name": "stderr",
     "output_type": "stream",
     "text": [
      "100%|██████████| 1000/1000 [00:00<00:00, 3002.55it/s]\n"
     ]
    },
    {
     "name": "stdout",
     "output_type": "stream",
     "text": [
      "0.25611508 (1000, 32452) /home/huang_ziliang/project/brain/data/public/mouse_brain_HPF_PFC_Joglekar_2021_10x_PacBio_Visium/h5/mouse_brain_HPF_PFC_Joglekar_2021_10x.h5ad\n"
     ]
    },
    {
     "name": "stderr",
     "output_type": "stream",
     "text": [
      "/home/huang_yin/anaconda3/envs/sc/lib/python3.9/site-packages/anndata/_core/anndata.py:1830: UserWarning: Variable names are not unique. To make them unique, call `.var_names_make_unique`.\n",
      "  utils.warn_names_duplicates(\"var\")\n",
      "100%|██████████| 1000/1000 [00:00<00:00, 3052.57it/s]\n"
     ]
    },
    {
     "name": "stdout",
     "output_type": "stream",
     "text": [
      "0.11780703 (1000, 48528) /home/huang_ziliang/project/brain/data/public/mouse_brain_OB_Mizrak_2020_SCOPE-seq/h5/mouse_brain_OB_Mizrak_2020_SCOPE-seq.h5ad\n"
     ]
    },
    {
     "name": "stderr",
     "output_type": "stream",
     "text": [
      "100%|██████████| 1000/1000 [00:00<00:00, 2873.80it/s]\n"
     ]
    },
    {
     "name": "stdout",
     "output_type": "stream",
     "text": [
      "0.4915353 (1000, 28692) /home/huang_ziliang/project/brain/data/public/mouse_brain_lateral_hypothalamic_area_Mickelsen_2019_10x/h5/mouse_brain_lateral_hypothalamic_area_Mickelsen_2019_10x.h5ad\n"
     ]
    },
    {
     "name": "stderr",
     "output_type": "stream",
     "text": [
      "100%|██████████| 1000/1000 [00:00<00:00, 2621.60it/s]\n"
     ]
    },
    {
     "name": "stdout",
     "output_type": "stream",
     "text": [
      "0.5573318 (1000, 23890) /home/huang_ziliang/project/brain/data/public/mouse_brain_choroid_plexus_Dani_2021_10x/h5/mouse_brain_choroid_plexus_Dani_2021_10x.h5ad\n"
     ]
    },
    {
     "name": "stderr",
     "output_type": "stream",
     "text": [
      "100%|██████████| 1000/1000 [00:00<00:00, 3094.39it/s]\n",
      "/home/huang_yin/anaconda3/envs/sc/lib/python3.9/site-packages/anndata/_core/anndata.py:1830: UserWarning: Variable names are not unique. To make them unique, call `.var_names_make_unique`.\n",
      "  utils.warn_names_duplicates(\"var\")\n"
     ]
    },
    {
     "name": "stdout",
     "output_type": "stream",
     "text": [
      "0.0368073 (1000, 10850) /home/huang_ziliang/project/brain/data/public/human_brain_entorhinalcortex_Grubman_2019_DroNc-seq/h5/human_brain_entorhinalcortex_Grubman_2019_DroNc-seq.h5ad\n"
     ]
    },
    {
     "name": "stderr",
     "output_type": "stream",
     "text": [
      "100%|██████████| 1000/1000 [00:00<00:00, 3075.26it/s]\n"
     ]
    },
    {
     "name": "stdout",
     "output_type": "stream",
     "text": [
      "0.248968 (1000, 31053) /home/huang_ziliang/project/brain/data/public/mouse_brain_developing_ZhangX_2022_10x/h5/Brain-Young-scRNAseq-rep1.h5ad\n"
     ]
    },
    {
     "name": "stderr",
     "output_type": "stream",
     "text": [
      "100%|██████████| 1000/1000 [00:00<00:00, 3077.08it/s]\n"
     ]
    },
    {
     "name": "stdout",
     "output_type": "stream",
     "text": [
      "0.092314124 (1000, 33289) /home/huang_ziliang/project/brain/data/public/human_mouse_brain_Chen_2019_SNARE-seq/h5/RNA.h5ad\n"
     ]
    },
    {
     "name": "stderr",
     "output_type": "stream",
     "text": [
      "100%|██████████| 1000/1000 [00:00<00:00, 2809.82it/s]\n"
     ]
    },
    {
     "name": "stdout",
     "output_type": "stream",
     "text": [
      "1.3098155 (1000, 31053) /home/huang_ziliang/project/brain/data/public/mouse_brain_Hippocampal_Mirabella_2021_10x/h5/mouse_brain_Hippocampal_Mirabella_2021_10x_in_vivo.h5ad\n"
     ]
    },
    {
     "name": "stderr",
     "output_type": "stream",
     "text": [
      "ERROR:root:The base 2.718281828459045 is not match with the data.\n",
      "100%|██████████| 1000/1000 [00:00<00:00, 2849.80it/s]\n"
     ]
    },
    {
     "name": "stdout",
     "output_type": "stream",
     "text": [
      "1.2534279 (1000, 28788) /home/huang_ziliang/project/brain/data/public/human_brain_organoids_Fiorenzano_2021_10x/h5/human_brain_organoids_Fiorenzano_2021_10x.h5ad\n"
     ]
    },
    {
     "name": "stderr",
     "output_type": "stream",
     "text": [
      "ERROR:root:The base 2.718281828459045 is not match with the data.\n",
      "100%|██████████| 1000/1000 [00:00<00:00, 2819.20it/s]\n"
     ]
    },
    {
     "name": "stdout",
     "output_type": "stream",
     "text": [
      "0.12379563 (1000, 29445) /home/huang_ziliang/project/brain/data/public/human_mouse_brain_Welch_2019_10x/h5/GSE126836_SN_MD5534.h5ad\n"
     ]
    },
    {
     "name": "stderr",
     "output_type": "stream",
     "text": [
      "ERROR:root:The base 2.718281828459045 is not match with the data.\n",
      "100%|██████████| 1000/1000 [00:00<00:00, 3020.94it/s]\n"
     ]
    },
    {
     "name": "stdout",
     "output_type": "stream",
     "text": [
      "0.2889731 (1000, 32452) /home/huang_ziliang/project/brain/data/public/mouse_brain_HPF_PFC_Joglekar_2021_10x_PacBio_Visium/h5/mouse_brain_HPF_PFC_Joglekar_2021_10x.h5ad\n"
     ]
    },
    {
     "name": "stderr",
     "output_type": "stream",
     "text": [
      "/home/huang_yin/anaconda3/envs/sc/lib/python3.9/site-packages/anndata/_core/anndata.py:1830: UserWarning: Variable names are not unique. To make them unique, call `.var_names_make_unique`.\n",
      "  utils.warn_names_duplicates(\"var\")\n",
      "ERROR:root:The base 2.718281828459045 is not match with the data.\n",
      "100%|██████████| 1000/1000 [00:00<00:00, 3064.65it/s]\n"
     ]
    },
    {
     "name": "stdout",
     "output_type": "stream",
     "text": [
      "0.15083778 (1000, 48528) /home/huang_ziliang/project/brain/data/public/mouse_brain_OB_Mizrak_2020_SCOPE-seq/h5/mouse_brain_OB_Mizrak_2020_SCOPE-seq.h5ad\n"
     ]
    },
    {
     "name": "stderr",
     "output_type": "stream",
     "text": [
      "ERROR:root:The base 2.718281828459045 is not match with the data.\n",
      "100%|██████████| 1000/1000 [00:00<00:00, 2887.36it/s]\n"
     ]
    },
    {
     "name": "stdout",
     "output_type": "stream",
     "text": [
      "0.5720973 (1000, 28692) /home/huang_ziliang/project/brain/data/public/mouse_brain_lateral_hypothalamic_area_Mickelsen_2019_10x/h5/mouse_brain_lateral_hypothalamic_area_Mickelsen_2019_10x.h5ad\n"
     ]
    },
    {
     "name": "stderr",
     "output_type": "stream",
     "text": [
      "ERROR:root:The base 2.718281828459045 is not match with the data.\n",
      "100%|██████████| 1000/1000 [00:00<00:00, 2685.40it/s]\n",
      "ERROR:root:The base 2.718281828459045 is not match with the data.\n"
     ]
    },
    {
     "name": "stdout",
     "output_type": "stream",
     "text": [
      "0.6559125 (1000, 23890) /home/huang_ziliang/project/brain/data/public/mouse_brain_choroid_plexus_Dani_2021_10x/h5/mouse_brain_choroid_plexus_Dani_2021_10x.h5ad\n"
     ]
    },
    {
     "name": "stderr",
     "output_type": "stream",
     "text": [
      "100%|██████████| 1000/1000 [00:00<00:00, 3109.65it/s]\n",
      "/home/huang_yin/anaconda3/envs/sc/lib/python3.9/site-packages/anndata/_core/anndata.py:1830: UserWarning: Variable names are not unique. To make them unique, call `.var_names_make_unique`.\n",
      "  utils.warn_names_duplicates(\"var\")\n",
      "ERROR:root:The base 2.718281828459045 is not match with the data.\n"
     ]
    },
    {
     "name": "stdout",
     "output_type": "stream",
     "text": [
      "0.050880313 (1000, 10850) /home/huang_ziliang/project/brain/data/public/human_brain_entorhinalcortex_Grubman_2019_DroNc-seq/h5/human_brain_entorhinalcortex_Grubman_2019_DroNc-seq.h5ad\n"
     ]
    },
    {
     "name": "stderr",
     "output_type": "stream",
     "text": [
      "100%|██████████| 1000/1000 [00:00<00:00, 3065.15it/s]\n"
     ]
    },
    {
     "name": "stdout",
     "output_type": "stream",
     "text": [
      "0.29993808 (1000, 31053) /home/huang_ziliang/project/brain/data/public/mouse_brain_developing_ZhangX_2022_10x/h5/Brain-Young-scRNAseq-rep1.h5ad\n"
     ]
    },
    {
     "name": "stderr",
     "output_type": "stream",
     "text": [
      "ERROR:root:The base 2.718281828459045 is not match with the data.\n",
      "100%|██████████| 1000/1000 [00:00<00:00, 2940.66it/s]\n"
     ]
    },
    {
     "name": "stdout",
     "output_type": "stream",
     "text": [
      "0.11629987 (1000, 33289) /home/huang_ziliang/project/brain/data/public/human_mouse_brain_Chen_2019_SNARE-seq/h5/RNA.h5ad\n"
     ]
    },
    {
     "name": "stderr",
     "output_type": "stream",
     "text": [
      "ERROR:root:The base 2.718281828459045 is not match with the data.\n",
      "100%|██████████| 1000/1000 [00:00<00:00, 2389.58it/s]\n"
     ]
    },
    {
     "name": "stdout",
     "output_type": "stream",
     "text": [
      "1.4461886 (1000, 31053) /home/huang_ziliang/project/brain/data/public/mouse_brain_Hippocampal_Mirabella_2021_10x/h5/mouse_brain_Hippocampal_Mirabella_2021_10x_in_vivo.h5ad\n"
     ]
    },
    {
     "name": "stderr",
     "output_type": "stream",
     "text": [
      "ERROR:root:The base 2.718281828459045 is not match with the data.\n",
      "ERROR:root:The base 2 is not match with the data.\n",
      "100%|██████████| 1000/1000 [00:00<00:00, 2867.31it/s]\n"
     ]
    },
    {
     "name": "stdout",
     "output_type": "stream",
     "text": [
      "1.2432445 (1000, 28788) /home/huang_ziliang/project/brain/data/public/human_brain_organoids_Fiorenzano_2021_10x/h5/human_brain_organoids_Fiorenzano_2021_10x.h5ad\n"
     ]
    },
    {
     "name": "stderr",
     "output_type": "stream",
     "text": [
      "ERROR:root:The base 2.718281828459045 is not match with the data.\n",
      "ERROR:root:The base 2 is not match with the data.\n",
      "100%|██████████| 1000/1000 [00:00<00:00, 3058.29it/s]\n"
     ]
    },
    {
     "name": "stdout",
     "output_type": "stream",
     "text": [
      "0.12818134 (1000, 29445) /home/huang_ziliang/project/brain/data/public/human_mouse_brain_Welch_2019_10x/h5/GSE126836_SN_MD5534.h5ad\n"
     ]
    },
    {
     "name": "stderr",
     "output_type": "stream",
     "text": [
      "ERROR:root:The base 2.718281828459045 is not match with the data.\n",
      "ERROR:root:The base 2 is not match with the data.\n",
      "100%|██████████| 1000/1000 [00:00<00:00, 2483.63it/s]\n"
     ]
    },
    {
     "name": "stdout",
     "output_type": "stream",
     "text": [
      "0.3009503 (1000, 32452) /home/huang_ziliang/project/brain/data/public/mouse_brain_HPF_PFC_Joglekar_2021_10x_PacBio_Visium/h5/mouse_brain_HPF_PFC_Joglekar_2021_10x.h5ad\n"
     ]
    },
    {
     "name": "stderr",
     "output_type": "stream",
     "text": [
      "/home/huang_yin/anaconda3/envs/sc/lib/python3.9/site-packages/anndata/_core/anndata.py:1830: UserWarning: Variable names are not unique. To make them unique, call `.var_names_make_unique`.\n",
      "  utils.warn_names_duplicates(\"var\")\n",
      "ERROR:root:The base 2.718281828459045 is not match with the data.\n",
      "ERROR:root:The base 2 is not match with the data.\n",
      "100%|██████████| 1000/1000 [00:00<00:00, 3056.25it/s]\n"
     ]
    },
    {
     "name": "stdout",
     "output_type": "stream",
     "text": [
      "0.15135574 (1000, 48528) /home/huang_ziliang/project/brain/data/public/mouse_brain_OB_Mizrak_2020_SCOPE-seq/h5/mouse_brain_OB_Mizrak_2020_SCOPE-seq.h5ad\n"
     ]
    },
    {
     "name": "stderr",
     "output_type": "stream",
     "text": [
      "ERROR:root:The base 2.718281828459045 is not match with the data.\n",
      "ERROR:root:The base 2 is not match with the data.\n",
      "100%|██████████| 1000/1000 [00:00<00:00, 2872.62it/s]\n"
     ]
    },
    {
     "name": "stdout",
     "output_type": "stream",
     "text": [
      "0.5852072 (1000, 28692) /home/huang_ziliang/project/brain/data/public/mouse_brain_lateral_hypothalamic_area_Mickelsen_2019_10x/h5/mouse_brain_lateral_hypothalamic_area_Mickelsen_2019_10x.h5ad\n"
     ]
    },
    {
     "name": "stderr",
     "output_type": "stream",
     "text": [
      "ERROR:root:The base 2.718281828459045 is not match with the data.\n",
      "ERROR:root:The base 2 is not match with the data.\n",
      "100%|██████████| 1000/1000 [00:00<00:00, 2862.84it/s]\n",
      "ERROR:root:The base 2.718281828459045 is not match with the data.\n"
     ]
    },
    {
     "name": "stdout",
     "output_type": "stream",
     "text": [
      "0.6666825 (1000, 23890) /home/huang_ziliang/project/brain/data/public/mouse_brain_choroid_plexus_Dani_2021_10x/h5/mouse_brain_choroid_plexus_Dani_2021_10x.h5ad\n"
     ]
    },
    {
     "name": "stderr",
     "output_type": "stream",
     "text": [
      "  0%|          | 0/1000 [00:00<?, ?it/s]WARNING:root:Warning:The cell 1 fails to denormlize, and be deleted\n",
      "WARNING:root:Warning:The cell 2 fails to denormlize, and be deleted\n",
      "WARNING:root:Warning:The cell 3 fails to denormlize, and be deleted\n",
      "WARNING:root:Warning:The cell 4 fails to denormlize, and be deleted\n",
      "WARNING:root:Warning:The cell 6 fails to denormlize, and be deleted\n",
      "WARNING:root:Warning:The cell 8 fails to denormlize, and be deleted\n",
      "WARNING:root:Warning:The cell 9 fails to denormlize, and be deleted\n",
      "WARNING:root:Warning:The cell 11 fails to denormlize, and be deleted\n",
      "WARNING:root:Warning:The cell 13 fails to denormlize, and be deleted\n",
      "WARNING:root:Warning:The cell 14 fails to denormlize, and be deleted\n",
      "WARNING:root:Warning:The cell 15 fails to denormlize, and be deleted\n",
      "WARNING:root:Warning:The cell 17 fails to denormlize, and be deleted\n",
      "WARNING:root:Warning:The cell 18 fails to denormlize, and be deleted\n",
      "WARNING:root:Warning:The cell 21 fails to denormlize, and be deleted\n",
      "WARNING:root:Warning:The cell 22 fails to denormlize, and be deleted\n",
      "WARNING:root:Warning:The cell 23 fails to denormlize, and be deleted\n",
      "WARNING:root:Warning:The cell 24 fails to denormlize, and be deleted\n",
      "WARNING:root:Warning:The cell 25 fails to denormlize, and be deleted\n",
      "WARNING:root:Warning:The cell 27 fails to denormlize, and be deleted\n",
      "WARNING:root:Warning:The cell 28 fails to denormlize, and be deleted\n",
      "WARNING:root:Warning:The cell 30 fails to denormlize, and be deleted\n",
      "WARNING:root:Warning:The cell 33 fails to denormlize, and be deleted\n",
      "WARNING:root:Warning:The cell 34 fails to denormlize, and be deleted\n",
      "WARNING:root:Warning:The cell 35 fails to denormlize, and be deleted\n",
      "WARNING:root:Warning:The cell 37 fails to denormlize, and be deleted\n",
      "WARNING:root:Warning:The cell 38 fails to denormlize, and be deleted\n",
      "WARNING:root:Warning:The cell 40 fails to denormlize, and be deleted\n",
      "WARNING:root:Warning:The cell 42 fails to denormlize, and be deleted\n",
      "WARNING:root:Warning:The cell 43 fails to denormlize, and be deleted\n",
      "WARNING:root:Warning:The cell 45 fails to denormlize, and be deleted\n",
      "WARNING:root:Warning:The cell 46 fails to denormlize, and be deleted\n",
      "WARNING:root:Warning:The cell 47 fails to denormlize, and be deleted\n",
      "WARNING:root:Warning:The cell 49 fails to denormlize, and be deleted\n",
      "WARNING:root:Warning:The cell 51 fails to denormlize, and be deleted\n",
      "WARNING:root:Warning:The cell 53 fails to denormlize, and be deleted\n",
      "WARNING:root:Warning:The cell 56 fails to denormlize, and be deleted\n",
      "WARNING:root:Warning:The cell 58 fails to denormlize, and be deleted\n",
      "WARNING:root:Warning:The cell 59 fails to denormlize, and be deleted\n",
      "WARNING:root:Warning:The cell 60 fails to denormlize, and be deleted\n",
      "WARNING:root:Warning:The cell 64 fails to denormlize, and be deleted\n",
      "WARNING:root:Warning:The cell 65 fails to denormlize, and be deleted\n",
      "WARNING:root:Warning:The cell 66 fails to denormlize, and be deleted\n",
      "WARNING:root:Warning:The cell 67 fails to denormlize, and be deleted\n",
      "WARNING:root:Warning:The cell 68 fails to denormlize, and be deleted\n",
      "WARNING:root:Warning:The cell 72 fails to denormlize, and be deleted\n",
      "WARNING:root:Warning:The cell 73 fails to denormlize, and be deleted\n",
      "WARNING:root:Warning:The cell 74 fails to denormlize, and be deleted\n",
      "WARNING:root:Warning:The cell 75 fails to denormlize, and be deleted\n",
      "WARNING:root:Warning:The cell 76 fails to denormlize, and be deleted\n",
      "WARNING:root:Warning:The cell 77 fails to denormlize, and be deleted\n",
      "WARNING:root:Warning:The cell 79 fails to denormlize, and be deleted\n",
      "WARNING:root:Warning:The cell 80 fails to denormlize, and be deleted\n",
      "WARNING:root:Warning:The cell 81 fails to denormlize, and be deleted\n",
      "WARNING:root:Warning:The cell 82 fails to denormlize, and be deleted\n",
      "WARNING:root:Warning:The cell 83 fails to denormlize, and be deleted\n",
      "WARNING:root:Warning:The cell 84 fails to denormlize, and be deleted\n",
      "WARNING:root:Warning:The cell 85 fails to denormlize, and be deleted\n",
      "WARNING:root:Warning:The cell 86 fails to denormlize, and be deleted\n",
      "WARNING:root:Warning:The cell 87 fails to denormlize, and be deleted\n",
      "WARNING:root:Warning:The cell 88 fails to denormlize, and be deleted\n",
      "WARNING:root:Warning:The cell 89 fails to denormlize, and be deleted\n",
      "WARNING:root:Warning:The cell 90 fails to denormlize, and be deleted\n",
      "WARNING:root:Warning:The cell 91 fails to denormlize, and be deleted\n",
      "WARNING:root:Warning:The cell 93 fails to denormlize, and be deleted\n",
      "WARNING:root:Warning:The cell 94 fails to denormlize, and be deleted\n",
      "WARNING:root:Warning:The cell 95 fails to denormlize, and be deleted\n",
      "WARNING:root:Warning:The cell 97 fails to denormlize, and be deleted\n",
      "WARNING:root:Warning:The cell 98 fails to denormlize, and be deleted\n",
      "WARNING:root:Warning:The cell 99 fails to denormlize, and be deleted\n",
      "WARNING:root:Warning:The cell 100 fails to denormlize, and be deleted\n",
      "WARNING:root:Warning:The cell 101 fails to denormlize, and be deleted\n",
      "WARNING:root:Warning:The cell 102 fails to denormlize, and be deleted\n",
      "WARNING:root:Warning:The cell 103 fails to denormlize, and be deleted\n",
      "WARNING:root:Warning:The cell 104 fails to denormlize, and be deleted\n",
      "WARNING:root:Warning:The cell 106 fails to denormlize, and be deleted\n",
      "WARNING:root:Warning:The cell 107 fails to denormlize, and be deleted\n",
      "WARNING:root:Warning:The cell 108 fails to denormlize, and be deleted\n",
      "WARNING:root:Warning:The cell 109 fails to denormlize, and be deleted\n",
      "WARNING:root:Warning:The cell 110 fails to denormlize, and be deleted\n",
      "WARNING:root:Warning:The cell 111 fails to denormlize, and be deleted\n",
      "WARNING:root:Warning:The cell 113 fails to denormlize, and be deleted\n",
      " 11%|█▏        | 114/1000 [00:00<00:00, 1139.16it/s]WARNING:root:Warning:The cell 115 fails to denormlize, and be deleted\n",
      "WARNING:root:Warning:The cell 117 fails to denormlize, and be deleted\n",
      "WARNING:root:Warning:The cell 118 fails to denormlize, and be deleted\n",
      "WARNING:root:Warning:The cell 119 fails to denormlize, and be deleted\n",
      "WARNING:root:Warning:The cell 121 fails to denormlize, and be deleted\n",
      "WARNING:root:Warning:The cell 122 fails to denormlize, and be deleted\n",
      "WARNING:root:Warning:The cell 123 fails to denormlize, and be deleted\n",
      "WARNING:root:Warning:The cell 128 fails to denormlize, and be deleted\n",
      "WARNING:root:Warning:The cell 130 fails to denormlize, and be deleted\n",
      "WARNING:root:Warning:The cell 131 fails to denormlize, and be deleted\n",
      "WARNING:root:Warning:The cell 132 fails to denormlize, and be deleted\n",
      "WARNING:root:Warning:The cell 134 fails to denormlize, and be deleted\n",
      "WARNING:root:Warning:The cell 135 fails to denormlize, and be deleted\n",
      "WARNING:root:Warning:The cell 137 fails to denormlize, and be deleted\n",
      "WARNING:root:Warning:The cell 142 fails to denormlize, and be deleted\n",
      "WARNING:root:Warning:The cell 144 fails to denormlize, and be deleted\n",
      "WARNING:root:Warning:The cell 145 fails to denormlize, and be deleted\n",
      "WARNING:root:Warning:The cell 146 fails to denormlize, and be deleted\n",
      "WARNING:root:Warning:The cell 147 fails to denormlize, and be deleted\n",
      "WARNING:root:Warning:The cell 148 fails to denormlize, and be deleted\n",
      "WARNING:root:Warning:The cell 150 fails to denormlize, and be deleted\n",
      "WARNING:root:Warning:The cell 151 fails to denormlize, and be deleted\n",
      "WARNING:root:Warning:The cell 153 fails to denormlize, and be deleted\n",
      "WARNING:root:Warning:The cell 155 fails to denormlize, and be deleted\n",
      "WARNING:root:Warning:The cell 156 fails to denormlize, and be deleted\n",
      "WARNING:root:Warning:The cell 157 fails to denormlize, and be deleted\n",
      "WARNING:root:Warning:The cell 159 fails to denormlize, and be deleted\n",
      "WARNING:root:Warning:The cell 160 fails to denormlize, and be deleted\n",
      "WARNING:root:Warning:The cell 161 fails to denormlize, and be deleted\n",
      "WARNING:root:Warning:The cell 162 fails to denormlize, and be deleted\n",
      "WARNING:root:Warning:The cell 163 fails to denormlize, and be deleted\n",
      "WARNING:root:Warning:The cell 165 fails to denormlize, and be deleted\n",
      "WARNING:root:Warning:The cell 166 fails to denormlize, and be deleted\n",
      "WARNING:root:Warning:The cell 167 fails to denormlize, and be deleted\n",
      "WARNING:root:Warning:The cell 168 fails to denormlize, and be deleted\n",
      "WARNING:root:Warning:The cell 170 fails to denormlize, and be deleted\n",
      "WARNING:root:Warning:The cell 171 fails to denormlize, and be deleted\n",
      "WARNING:root:Warning:The cell 175 fails to denormlize, and be deleted\n",
      "WARNING:root:Warning:The cell 176 fails to denormlize, and be deleted\n",
      "WARNING:root:Warning:The cell 177 fails to denormlize, and be deleted\n",
      "WARNING:root:Warning:The cell 178 fails to denormlize, and be deleted\n",
      "WARNING:root:Warning:The cell 185 fails to denormlize, and be deleted\n",
      "WARNING:root:Warning:The cell 188 fails to denormlize, and be deleted\n",
      "WARNING:root:Warning:The cell 189 fails to denormlize, and be deleted\n",
      "WARNING:root:Warning:The cell 191 fails to denormlize, and be deleted\n",
      "WARNING:root:Warning:The cell 192 fails to denormlize, and be deleted\n",
      "WARNING:root:Warning:The cell 193 fails to denormlize, and be deleted\n",
      "WARNING:root:Warning:The cell 194 fails to denormlize, and be deleted\n",
      "WARNING:root:Warning:The cell 195 fails to denormlize, and be deleted\n",
      "WARNING:root:Warning:The cell 196 fails to denormlize, and be deleted\n",
      "WARNING:root:Warning:The cell 199 fails to denormlize, and be deleted\n",
      "WARNING:root:Warning:The cell 201 fails to denormlize, and be deleted\n",
      "WARNING:root:Warning:The cell 202 fails to denormlize, and be deleted\n",
      "WARNING:root:Warning:The cell 203 fails to denormlize, and be deleted\n",
      "WARNING:root:Warning:The cell 205 fails to denormlize, and be deleted\n",
      "WARNING:root:Warning:The cell 206 fails to denormlize, and be deleted\n",
      "WARNING:root:Warning:The cell 207 fails to denormlize, and be deleted\n",
      "WARNING:root:Warning:The cell 208 fails to denormlize, and be deleted\n",
      "WARNING:root:Warning:The cell 209 fails to denormlize, and be deleted\n",
      "WARNING:root:Warning:The cell 210 fails to denormlize, and be deleted\n",
      "WARNING:root:Warning:The cell 211 fails to denormlize, and be deleted\n",
      "WARNING:root:Warning:The cell 212 fails to denormlize, and be deleted\n",
      "WARNING:root:Warning:The cell 214 fails to denormlize, and be deleted\n",
      "WARNING:root:Warning:The cell 215 fails to denormlize, and be deleted\n",
      "WARNING:root:Warning:The cell 216 fails to denormlize, and be deleted\n",
      "WARNING:root:Warning:The cell 218 fails to denormlize, and be deleted\n",
      "WARNING:root:Warning:The cell 219 fails to denormlize, and be deleted\n",
      "WARNING:root:Warning:The cell 220 fails to denormlize, and be deleted\n",
      "WARNING:root:Warning:The cell 222 fails to denormlize, and be deleted\n",
      "WARNING:root:Warning:The cell 223 fails to denormlize, and be deleted\n",
      "WARNING:root:Warning:The cell 225 fails to denormlize, and be deleted\n",
      "WARNING:root:Warning:The cell 226 fails to denormlize, and be deleted\n",
      "WARNING:root:Warning:The cell 227 fails to denormlize, and be deleted\n",
      " 23%|██▎       | 228/1000 [00:01<00:05, 143.10it/s] WARNING:root:Warning:The cell 228 fails to denormlize, and be deleted\n",
      "WARNING:root:Warning:The cell 229 fails to denormlize, and be deleted\n",
      "WARNING:root:Warning:The cell 230 fails to denormlize, and be deleted\n",
      "WARNING:root:Warning:The cell 231 fails to denormlize, and be deleted\n",
      "WARNING:root:Warning:The cell 232 fails to denormlize, and be deleted\n",
      "WARNING:root:Warning:The cell 233 fails to denormlize, and be deleted\n",
      "WARNING:root:Warning:The cell 235 fails to denormlize, and be deleted\n",
      "WARNING:root:Warning:The cell 236 fails to denormlize, and be deleted\n",
      "WARNING:root:Warning:The cell 237 fails to denormlize, and be deleted\n",
      "WARNING:root:Warning:The cell 238 fails to denormlize, and be deleted\n",
      "WARNING:root:Warning:The cell 240 fails to denormlize, and be deleted\n",
      "WARNING:root:Warning:The cell 241 fails to denormlize, and be deleted\n",
      "WARNING:root:Warning:The cell 242 fails to denormlize, and be deleted\n",
      "WARNING:root:Warning:The cell 243 fails to denormlize, and be deleted\n",
      "WARNING:root:Warning:The cell 244 fails to denormlize, and be deleted\n",
      "WARNING:root:Warning:The cell 245 fails to denormlize, and be deleted\n",
      "WARNING:root:Warning:The cell 247 fails to denormlize, and be deleted\n",
      "WARNING:root:Warning:The cell 250 fails to denormlize, and be deleted\n",
      "WARNING:root:Warning:The cell 251 fails to denormlize, and be deleted\n",
      "WARNING:root:Warning:The cell 254 fails to denormlize, and be deleted\n",
      "WARNING:root:Warning:The cell 255 fails to denormlize, and be deleted\n",
      "WARNING:root:Warning:The cell 256 fails to denormlize, and be deleted\n",
      "WARNING:root:Warning:The cell 259 fails to denormlize, and be deleted\n",
      "WARNING:root:Warning:The cell 260 fails to denormlize, and be deleted\n",
      "WARNING:root:Warning:The cell 261 fails to denormlize, and be deleted\n",
      "WARNING:root:Warning:The cell 262 fails to denormlize, and be deleted\n",
      "WARNING:root:Warning:The cell 263 fails to denormlize, and be deleted\n",
      "WARNING:root:Warning:The cell 264 fails to denormlize, and be deleted\n",
      "WARNING:root:Warning:The cell 266 fails to denormlize, and be deleted\n",
      "WARNING:root:Warning:The cell 267 fails to denormlize, and be deleted\n",
      "WARNING:root:Warning:The cell 268 fails to denormlize, and be deleted\n",
      "WARNING:root:Warning:The cell 269 fails to denormlize, and be deleted\n",
      "WARNING:root:Warning:The cell 271 fails to denormlize, and be deleted\n",
      "WARNING:root:Warning:The cell 272 fails to denormlize, and be deleted\n",
      "WARNING:root:Warning:The cell 273 fails to denormlize, and be deleted\n",
      "WARNING:root:Warning:The cell 274 fails to denormlize, and be deleted\n",
      "WARNING:root:Warning:The cell 275 fails to denormlize, and be deleted\n",
      "WARNING:root:Warning:The cell 276 fails to denormlize, and be deleted\n",
      "WARNING:root:Warning:The cell 277 fails to denormlize, and be deleted\n",
      "WARNING:root:Warning:The cell 278 fails to denormlize, and be deleted\n",
      "WARNING:root:Warning:The cell 280 fails to denormlize, and be deleted\n",
      "WARNING:root:Warning:The cell 281 fails to denormlize, and be deleted\n",
      "WARNING:root:Warning:The cell 282 fails to denormlize, and be deleted\n",
      "WARNING:root:Warning:The cell 284 fails to denormlize, and be deleted\n",
      " 28%|██▊       | 285/1000 [00:01<00:03, 183.71it/s]WARNING:root:Warning:The cell 285 fails to denormlize, and be deleted\n",
      "WARNING:root:Warning:The cell 286 fails to denormlize, and be deleted\n",
      "WARNING:root:Warning:The cell 287 fails to denormlize, and be deleted\n",
      "WARNING:root:Warning:The cell 288 fails to denormlize, and be deleted\n",
      "WARNING:root:Warning:The cell 289 fails to denormlize, and be deleted\n",
      "WARNING:root:Warning:The cell 290 fails to denormlize, and be deleted\n",
      "WARNING:root:Warning:The cell 291 fails to denormlize, and be deleted\n",
      "WARNING:root:Warning:The cell 292 fails to denormlize, and be deleted\n",
      "WARNING:root:Warning:The cell 294 fails to denormlize, and be deleted\n",
      "WARNING:root:Warning:The cell 296 fails to denormlize, and be deleted\n",
      "WARNING:root:Warning:The cell 297 fails to denormlize, and be deleted\n",
      "WARNING:root:Warning:The cell 298 fails to denormlize, and be deleted\n",
      "WARNING:root:Warning:The cell 299 fails to denormlize, and be deleted\n",
      "WARNING:root:Warning:The cell 300 fails to denormlize, and be deleted\n",
      "WARNING:root:Warning:The cell 301 fails to denormlize, and be deleted\n",
      "WARNING:root:Warning:The cell 302 fails to denormlize, and be deleted\n",
      "WARNING:root:Warning:The cell 303 fails to denormlize, and be deleted\n",
      "WARNING:root:Warning:The cell 305 fails to denormlize, and be deleted\n",
      "WARNING:root:Warning:The cell 308 fails to denormlize, and be deleted\n",
      "WARNING:root:Warning:The cell 312 fails to denormlize, and be deleted\n",
      "WARNING:root:Warning:The cell 313 fails to denormlize, and be deleted\n",
      "WARNING:root:Warning:The cell 316 fails to denormlize, and be deleted\n",
      "WARNING:root:Warning:The cell 317 fails to denormlize, and be deleted\n",
      "WARNING:root:Warning:The cell 318 fails to denormlize, and be deleted\n",
      "WARNING:root:Warning:The cell 319 fails to denormlize, and be deleted\n",
      "WARNING:root:Warning:The cell 320 fails to denormlize, and be deleted\n",
      "WARNING:root:Warning:The cell 321 fails to denormlize, and be deleted\n",
      "WARNING:root:Warning:The cell 322 fails to denormlize, and be deleted\n",
      "WARNING:root:Warning:The cell 323 fails to denormlize, and be deleted\n",
      "WARNING:root:Warning:The cell 325 fails to denormlize, and be deleted\n",
      "WARNING:root:Warning:The cell 326 fails to denormlize, and be deleted\n",
      "WARNING:root:Warning:The cell 327 fails to denormlize, and be deleted\n",
      "WARNING:root:Warning:The cell 328 fails to denormlize, and be deleted\n",
      "WARNING:root:Warning:The cell 329 fails to denormlize, and be deleted\n",
      "WARNING:root:Warning:The cell 331 fails to denormlize, and be deleted\n",
      "WARNING:root:Warning:The cell 333 fails to denormlize, and be deleted\n",
      "WARNING:root:Warning:The cell 334 fails to denormlize, and be deleted\n",
      "WARNING:root:Warning:The cell 335 fails to denormlize, and be deleted\n",
      "WARNING:root:Warning:The cell 338 fails to denormlize, and be deleted\n",
      "WARNING:root:Warning:The cell 340 fails to denormlize, and be deleted\n",
      "WARNING:root:Warning:The cell 342 fails to denormlize, and be deleted\n",
      "WARNING:root:Warning:The cell 344 fails to denormlize, and be deleted\n",
      "WARNING:root:Warning:The cell 345 fails to denormlize, and be deleted\n",
      "WARNING:root:Warning:The cell 346 fails to denormlize, and be deleted\n",
      "WARNING:root:Warning:The cell 348 fails to denormlize, and be deleted\n",
      "WARNING:root:Warning:The cell 350 fails to denormlize, and be deleted\n",
      "WARNING:root:Warning:The cell 352 fails to denormlize, and be deleted\n",
      "WARNING:root:Warning:The cell 353 fails to denormlize, and be deleted\n",
      "WARNING:root:Warning:The cell 354 fails to denormlize, and be deleted\n",
      "WARNING:root:Warning:The cell 355 fails to denormlize, and be deleted\n",
      "WARNING:root:Warning:The cell 357 fails to denormlize, and be deleted\n",
      "WARNING:root:Warning:The cell 360 fails to denormlize, and be deleted\n",
      "WARNING:root:Warning:The cell 361 fails to denormlize, and be deleted\n",
      "WARNING:root:Warning:The cell 362 fails to denormlize, and be deleted\n",
      "WARNING:root:Warning:The cell 364 fails to denormlize, and be deleted\n",
      "WARNING:root:Warning:The cell 365 fails to denormlize, and be deleted\n",
      "WARNING:root:Warning:The cell 369 fails to denormlize, and be deleted\n",
      "WARNING:root:Warning:The cell 370 fails to denormlize, and be deleted\n",
      " 37%|███▋      | 372/1000 [00:01<00:02, 265.94it/s]WARNING:root:Warning:The cell 372 fails to denormlize, and be deleted\n",
      "WARNING:root:Warning:The cell 373 fails to denormlize, and be deleted\n",
      "WARNING:root:Warning:The cell 378 fails to denormlize, and be deleted\n",
      "WARNING:root:Warning:The cell 379 fails to denormlize, and be deleted\n",
      "WARNING:root:Warning:The cell 381 fails to denormlize, and be deleted\n",
      "WARNING:root:Warning:The cell 382 fails to denormlize, and be deleted\n",
      "WARNING:root:Warning:The cell 383 fails to denormlize, and be deleted\n",
      "WARNING:root:Warning:The cell 384 fails to denormlize, and be deleted\n",
      "WARNING:root:Warning:The cell 385 fails to denormlize, and be deleted\n",
      "WARNING:root:Warning:The cell 386 fails to denormlize, and be deleted\n",
      "WARNING:root:Warning:The cell 388 fails to denormlize, and be deleted\n",
      "WARNING:root:Warning:The cell 389 fails to denormlize, and be deleted\n",
      "WARNING:root:Warning:The cell 390 fails to denormlize, and be deleted\n",
      "WARNING:root:Warning:The cell 392 fails to denormlize, and be deleted\n",
      "WARNING:root:Warning:The cell 393 fails to denormlize, and be deleted\n",
      "WARNING:root:Warning:The cell 395 fails to denormlize, and be deleted\n",
      "WARNING:root:Warning:The cell 396 fails to denormlize, and be deleted\n",
      "WARNING:root:Warning:The cell 397 fails to denormlize, and be deleted\n",
      "WARNING:root:Warning:The cell 398 fails to denormlize, and be deleted\n",
      "WARNING:root:Warning:The cell 399 fails to denormlize, and be deleted\n",
      "WARNING:root:Warning:The cell 400 fails to denormlize, and be deleted\n",
      "WARNING:root:Warning:The cell 404 fails to denormlize, and be deleted\n",
      "WARNING:root:Warning:The cell 406 fails to denormlize, and be deleted\n",
      "WARNING:root:Warning:The cell 408 fails to denormlize, and be deleted\n",
      "WARNING:root:Warning:The cell 412 fails to denormlize, and be deleted\n",
      "WARNING:root:Warning:The cell 413 fails to denormlize, and be deleted\n",
      "WARNING:root:Warning:The cell 414 fails to denormlize, and be deleted\n",
      "WARNING:root:Warning:The cell 416 fails to denormlize, and be deleted\n",
      "WARNING:root:Warning:The cell 419 fails to denormlize, and be deleted\n",
      "WARNING:root:Warning:The cell 421 fails to denormlize, and be deleted\n",
      "WARNING:root:Warning:The cell 422 fails to denormlize, and be deleted\n",
      "WARNING:root:Warning:The cell 423 fails to denormlize, and be deleted\n",
      "WARNING:root:Warning:The cell 425 fails to denormlize, and be deleted\n",
      "WARNING:root:Warning:The cell 428 fails to denormlize, and be deleted\n",
      "WARNING:root:Warning:The cell 432 fails to denormlize, and be deleted\n",
      "WARNING:root:Warning:The cell 433 fails to denormlize, and be deleted\n",
      "WARNING:root:Warning:The cell 435 fails to denormlize, and be deleted\n",
      "WARNING:root:Warning:The cell 436 fails to denormlize, and be deleted\n",
      "WARNING:root:Warning:The cell 439 fails to denormlize, and be deleted\n",
      "WARNING:root:Warning:The cell 440 fails to denormlize, and be deleted\n",
      "WARNING:root:Warning:The cell 443 fails to denormlize, and be deleted\n",
      "WARNING:root:Warning:The cell 446 fails to denormlize, and be deleted\n",
      "WARNING:root:Warning:The cell 449 fails to denormlize, and be deleted\n",
      "WARNING:root:Warning:The cell 450 fails to denormlize, and be deleted\n",
      "WARNING:root:Warning:The cell 451 fails to denormlize, and be deleted\n",
      "WARNING:root:Warning:The cell 452 fails to denormlize, and be deleted\n",
      "WARNING:root:Warning:The cell 453 fails to denormlize, and be deleted\n",
      "WARNING:root:Warning:The cell 454 fails to denormlize, and be deleted\n",
      "WARNING:root:Warning:The cell 456 fails to denormlize, and be deleted\n",
      "WARNING:root:Warning:The cell 458 fails to denormlize, and be deleted\n",
      "WARNING:root:Warning:The cell 460 fails to denormlize, and be deleted\n",
      "WARNING:root:Warning:The cell 462 fails to denormlize, and be deleted\n",
      " 46%|████▋     | 464/1000 [00:01<00:01, 361.51it/s]WARNING:root:Warning:The cell 464 fails to denormlize, and be deleted\n",
      "WARNING:root:Warning:The cell 465 fails to denormlize, and be deleted\n",
      "WARNING:root:Warning:The cell 466 fails to denormlize, and be deleted\n",
      "WARNING:root:Warning:The cell 469 fails to denormlize, and be deleted\n",
      "WARNING:root:Warning:The cell 470 fails to denormlize, and be deleted\n",
      "WARNING:root:Warning:The cell 471 fails to denormlize, and be deleted\n",
      "WARNING:root:Warning:The cell 472 fails to denormlize, and be deleted\n",
      "WARNING:root:Warning:The cell 474 fails to denormlize, and be deleted\n",
      "WARNING:root:Warning:The cell 475 fails to denormlize, and be deleted\n",
      "WARNING:root:Warning:The cell 476 fails to denormlize, and be deleted\n",
      "WARNING:root:Warning:The cell 479 fails to denormlize, and be deleted\n",
      "WARNING:root:Warning:The cell 480 fails to denormlize, and be deleted\n",
      "WARNING:root:Warning:The cell 481 fails to denormlize, and be deleted\n",
      "WARNING:root:Warning:The cell 482 fails to denormlize, and be deleted\n",
      "WARNING:root:Warning:The cell 483 fails to denormlize, and be deleted\n",
      "WARNING:root:Warning:The cell 484 fails to denormlize, and be deleted\n",
      "WARNING:root:Warning:The cell 486 fails to denormlize, and be deleted\n",
      "WARNING:root:Warning:The cell 487 fails to denormlize, and be deleted\n",
      "WARNING:root:Warning:The cell 488 fails to denormlize, and be deleted\n",
      "WARNING:root:Warning:The cell 490 fails to denormlize, and be deleted\n",
      "WARNING:root:Warning:The cell 491 fails to denormlize, and be deleted\n",
      "WARNING:root:Warning:The cell 492 fails to denormlize, and be deleted\n",
      "WARNING:root:Warning:The cell 493 fails to denormlize, and be deleted\n",
      "WARNING:root:Warning:The cell 494 fails to denormlize, and be deleted\n",
      "WARNING:root:Warning:The cell 495 fails to denormlize, and be deleted\n",
      "WARNING:root:Warning:The cell 497 fails to denormlize, and be deleted\n",
      "WARNING:root:Warning:The cell 498 fails to denormlize, and be deleted\n",
      "WARNING:root:Warning:The cell 499 fails to denormlize, and be deleted\n",
      "WARNING:root:Warning:The cell 501 fails to denormlize, and be deleted\n",
      "WARNING:root:Warning:The cell 502 fails to denormlize, and be deleted\n",
      "WARNING:root:Warning:The cell 503 fails to denormlize, and be deleted\n",
      "WARNING:root:Warning:The cell 506 fails to denormlize, and be deleted\n",
      "WARNING:root:Warning:The cell 507 fails to denormlize, and be deleted\n",
      "WARNING:root:Warning:The cell 508 fails to denormlize, and be deleted\n",
      "WARNING:root:Warning:The cell 510 fails to denormlize, and be deleted\n",
      "WARNING:root:Warning:The cell 511 fails to denormlize, and be deleted\n",
      "WARNING:root:Warning:The cell 512 fails to denormlize, and be deleted\n",
      "WARNING:root:Warning:The cell 514 fails to denormlize, and be deleted\n",
      "WARNING:root:Warning:The cell 516 fails to denormlize, and be deleted\n",
      "WARNING:root:Warning:The cell 517 fails to denormlize, and be deleted\n",
      "WARNING:root:Warning:The cell 519 fails to denormlize, and be deleted\n",
      "WARNING:root:Warning:The cell 523 fails to denormlize, and be deleted\n",
      "WARNING:root:Warning:The cell 528 fails to denormlize, and be deleted\n",
      "WARNING:root:Warning:The cell 530 fails to denormlize, and be deleted\n",
      "WARNING:root:Warning:The cell 532 fails to denormlize, and be deleted\n",
      "WARNING:root:Warning:The cell 533 fails to denormlize, and be deleted\n",
      "WARNING:root:Warning:The cell 535 fails to denormlize, and be deleted\n",
      "WARNING:root:Warning:The cell 536 fails to denormlize, and be deleted\n",
      "WARNING:root:Warning:The cell 538 fails to denormlize, and be deleted\n",
      "WARNING:root:Warning:The cell 539 fails to denormlize, and be deleted\n",
      "WARNING:root:Warning:The cell 540 fails to denormlize, and be deleted\n",
      "WARNING:root:Warning:The cell 541 fails to denormlize, and be deleted\n",
      "WARNING:root:Warning:The cell 543 fails to denormlize, and be deleted\n",
      "WARNING:root:Warning:The cell 544 fails to denormlize, and be deleted\n",
      "WARNING:root:Warning:The cell 545 fails to denormlize, and be deleted\n",
      "WARNING:root:Warning:The cell 546 fails to denormlize, and be deleted\n",
      "WARNING:root:Warning:The cell 549 fails to denormlize, and be deleted\n",
      " 55%|█████▌    | 550/1000 [00:01<00:01, 447.20it/s]WARNING:root:Warning:The cell 551 fails to denormlize, and be deleted\n",
      "WARNING:root:Warning:The cell 553 fails to denormlize, and be deleted\n",
      "WARNING:root:Warning:The cell 555 fails to denormlize, and be deleted\n",
      "WARNING:root:Warning:The cell 558 fails to denormlize, and be deleted\n",
      "WARNING:root:Warning:The cell 559 fails to denormlize, and be deleted\n",
      "WARNING:root:Warning:The cell 560 fails to denormlize, and be deleted\n",
      "WARNING:root:Warning:The cell 561 fails to denormlize, and be deleted\n",
      "WARNING:root:Warning:The cell 562 fails to denormlize, and be deleted\n",
      "WARNING:root:Warning:The cell 563 fails to denormlize, and be deleted\n",
      "WARNING:root:Warning:The cell 564 fails to denormlize, and be deleted\n",
      "WARNING:root:Warning:The cell 565 fails to denormlize, and be deleted\n",
      "WARNING:root:Warning:The cell 566 fails to denormlize, and be deleted\n",
      "WARNING:root:Warning:The cell 568 fails to denormlize, and be deleted\n",
      "WARNING:root:Warning:The cell 569 fails to denormlize, and be deleted\n",
      "WARNING:root:Warning:The cell 570 fails to denormlize, and be deleted\n",
      "WARNING:root:Warning:The cell 571 fails to denormlize, and be deleted\n",
      "WARNING:root:Warning:The cell 572 fails to denormlize, and be deleted\n",
      "WARNING:root:Warning:The cell 573 fails to denormlize, and be deleted\n",
      "WARNING:root:Warning:The cell 576 fails to denormlize, and be deleted\n",
      "WARNING:root:Warning:The cell 577 fails to denormlize, and be deleted\n",
      "WARNING:root:Warning:The cell 578 fails to denormlize, and be deleted\n",
      "WARNING:root:Warning:The cell 579 fails to denormlize, and be deleted\n",
      "WARNING:root:Warning:The cell 580 fails to denormlize, and be deleted\n",
      "WARNING:root:Warning:The cell 581 fails to denormlize, and be deleted\n",
      "WARNING:root:Warning:The cell 582 fails to denormlize, and be deleted\n",
      "WARNING:root:Warning:The cell 583 fails to denormlize, and be deleted\n",
      "WARNING:root:Warning:The cell 585 fails to denormlize, and be deleted\n",
      "WARNING:root:Warning:The cell 587 fails to denormlize, and be deleted\n",
      "WARNING:root:Warning:The cell 588 fails to denormlize, and be deleted\n",
      "WARNING:root:Warning:The cell 589 fails to denormlize, and be deleted\n",
      "WARNING:root:Warning:The cell 590 fails to denormlize, and be deleted\n",
      "WARNING:root:Warning:The cell 591 fails to denormlize, and be deleted\n",
      "WARNING:root:Warning:The cell 592 fails to denormlize, and be deleted\n",
      "WARNING:root:Warning:The cell 593 fails to denormlize, and be deleted\n",
      "WARNING:root:Warning:The cell 594 fails to denormlize, and be deleted\n",
      "WARNING:root:Warning:The cell 596 fails to denormlize, and be deleted\n",
      "WARNING:root:Warning:The cell 598 fails to denormlize, and be deleted\n",
      "WARNING:root:Warning:The cell 599 fails to denormlize, and be deleted\n",
      "WARNING:root:Warning:The cell 602 fails to denormlize, and be deleted\n",
      "WARNING:root:Warning:The cell 603 fails to denormlize, and be deleted\n",
      "WARNING:root:Warning:The cell 606 fails to denormlize, and be deleted\n",
      "WARNING:root:Warning:The cell 609 fails to denormlize, and be deleted\n",
      "WARNING:root:Warning:The cell 610 fails to denormlize, and be deleted\n",
      "WARNING:root:Warning:The cell 611 fails to denormlize, and be deleted\n",
      "WARNING:root:Warning:The cell 612 fails to denormlize, and be deleted\n",
      "WARNING:root:Warning:The cell 614 fails to denormlize, and be deleted\n",
      "WARNING:root:Warning:The cell 615 fails to denormlize, and be deleted\n",
      "WARNING:root:Warning:The cell 618 fails to denormlize, and be deleted\n",
      "WARNING:root:Warning:The cell 620 fails to denormlize, and be deleted\n",
      "WARNING:root:Warning:The cell 622 fails to denormlize, and be deleted\n",
      "WARNING:root:Warning:The cell 630 fails to denormlize, and be deleted\n",
      "WARNING:root:Warning:The cell 631 fails to denormlize, and be deleted\n",
      "WARNING:root:Warning:The cell 632 fails to denormlize, and be deleted\n",
      "WARNING:root:Warning:The cell 634 fails to denormlize, and be deleted\n",
      "WARNING:root:Warning:The cell 635 fails to denormlize, and be deleted\n",
      " 64%|██████▎   | 636/1000 [00:01<00:00, 527.92it/s]WARNING:root:Warning:The cell 636 fails to denormlize, and be deleted\n",
      "WARNING:root:Warning:The cell 637 fails to denormlize, and be deleted\n",
      "WARNING:root:Warning:The cell 638 fails to denormlize, and be deleted\n",
      "WARNING:root:Warning:The cell 641 fails to denormlize, and be deleted\n",
      "WARNING:root:Warning:The cell 643 fails to denormlize, and be deleted\n",
      "WARNING:root:Warning:The cell 644 fails to denormlize, and be deleted\n",
      "WARNING:root:Warning:The cell 646 fails to denormlize, and be deleted\n",
      "WARNING:root:Warning:The cell 648 fails to denormlize, and be deleted\n",
      "WARNING:root:Warning:The cell 649 fails to denormlize, and be deleted\n",
      "WARNING:root:Warning:The cell 652 fails to denormlize, and be deleted\n",
      "WARNING:root:Warning:The cell 653 fails to denormlize, and be deleted\n",
      "WARNING:root:Warning:The cell 654 fails to denormlize, and be deleted\n",
      "WARNING:root:Warning:The cell 658 fails to denormlize, and be deleted\n",
      "WARNING:root:Warning:The cell 659 fails to denormlize, and be deleted\n",
      "WARNING:root:Warning:The cell 662 fails to denormlize, and be deleted\n",
      "WARNING:root:Warning:The cell 663 fails to denormlize, and be deleted\n",
      "WARNING:root:Warning:The cell 664 fails to denormlize, and be deleted\n",
      "WARNING:root:Warning:The cell 666 fails to denormlize, and be deleted\n",
      "WARNING:root:Warning:The cell 671 fails to denormlize, and be deleted\n",
      "WARNING:root:Warning:The cell 673 fails to denormlize, and be deleted\n",
      "WARNING:root:Warning:The cell 675 fails to denormlize, and be deleted\n",
      "WARNING:root:Warning:The cell 676 fails to denormlize, and be deleted\n",
      "WARNING:root:Warning:The cell 677 fails to denormlize, and be deleted\n",
      "WARNING:root:Warning:The cell 678 fails to denormlize, and be deleted\n",
      "WARNING:root:Warning:The cell 679 fails to denormlize, and be deleted\n",
      "WARNING:root:Warning:The cell 680 fails to denormlize, and be deleted\n",
      "WARNING:root:Warning:The cell 681 fails to denormlize, and be deleted\n",
      "WARNING:root:Warning:The cell 682 fails to denormlize, and be deleted\n",
      "WARNING:root:Warning:The cell 683 fails to denormlize, and be deleted\n",
      "WARNING:root:Warning:The cell 684 fails to denormlize, and be deleted\n",
      "WARNING:root:Warning:The cell 685 fails to denormlize, and be deleted\n",
      "WARNING:root:Warning:The cell 691 fails to denormlize, and be deleted\n",
      "WARNING:root:Warning:The cell 692 fails to denormlize, and be deleted\n",
      "WARNING:root:Warning:The cell 693 fails to denormlize, and be deleted\n",
      "WARNING:root:Warning:The cell 697 fails to denormlize, and be deleted\n",
      "WARNING:root:Warning:The cell 699 fails to denormlize, and be deleted\n",
      "WARNING:root:Warning:The cell 700 fails to denormlize, and be deleted\n",
      "WARNING:root:Warning:The cell 701 fails to denormlize, and be deleted\n",
      "WARNING:root:Warning:The cell 702 fails to denormlize, and be deleted\n",
      "WARNING:root:Warning:The cell 703 fails to denormlize, and be deleted\n",
      "WARNING:root:Warning:The cell 704 fails to denormlize, and be deleted\n",
      "WARNING:root:Warning:The cell 706 fails to denormlize, and be deleted\n",
      "WARNING:root:Warning:The cell 707 fails to denormlize, and be deleted\n",
      "WARNING:root:Warning:The cell 709 fails to denormlize, and be deleted\n",
      "WARNING:root:Warning:The cell 713 fails to denormlize, and be deleted\n",
      "WARNING:root:Warning:The cell 714 fails to denormlize, and be deleted\n",
      "WARNING:root:Warning:The cell 715 fails to denormlize, and be deleted\n",
      "WARNING:root:Warning:The cell 716 fails to denormlize, and be deleted\n",
      "WARNING:root:Warning:The cell 717 fails to denormlize, and be deleted\n",
      "WARNING:root:Warning:The cell 718 fails to denormlize, and be deleted\n",
      "WARNING:root:Warning:The cell 722 fails to denormlize, and be deleted\n",
      "WARNING:root:Warning:The cell 724 fails to denormlize, and be deleted\n",
      " 73%|███████▎  | 728/1000 [00:01<00:00, 613.65it/s]WARNING:root:Warning:The cell 728 fails to denormlize, and be deleted\n",
      "WARNING:root:Warning:The cell 731 fails to denormlize, and be deleted\n",
      "WARNING:root:Warning:The cell 732 fails to denormlize, and be deleted\n",
      "WARNING:root:Warning:The cell 733 fails to denormlize, and be deleted\n",
      "WARNING:root:Warning:The cell 736 fails to denormlize, and be deleted\n",
      "WARNING:root:Warning:The cell 738 fails to denormlize, and be deleted\n",
      "WARNING:root:Warning:The cell 739 fails to denormlize, and be deleted\n",
      "WARNING:root:Warning:The cell 741 fails to denormlize, and be deleted\n",
      "WARNING:root:Warning:The cell 743 fails to denormlize, and be deleted\n",
      "WARNING:root:Warning:The cell 744 fails to denormlize, and be deleted\n",
      "WARNING:root:Warning:The cell 745 fails to denormlize, and be deleted\n",
      "WARNING:root:Warning:The cell 747 fails to denormlize, and be deleted\n",
      "WARNING:root:Warning:The cell 748 fails to denormlize, and be deleted\n",
      "WARNING:root:Warning:The cell 750 fails to denormlize, and be deleted\n",
      "WARNING:root:Warning:The cell 751 fails to denormlize, and be deleted\n",
      "WARNING:root:Warning:The cell 756 fails to denormlize, and be deleted\n",
      "WARNING:root:Warning:The cell 757 fails to denormlize, and be deleted\n",
      "WARNING:root:Warning:The cell 758 fails to denormlize, and be deleted\n",
      "WARNING:root:Warning:The cell 759 fails to denormlize, and be deleted\n",
      "WARNING:root:Warning:The cell 760 fails to denormlize, and be deleted\n",
      "WARNING:root:Warning:The cell 761 fails to denormlize, and be deleted\n",
      "WARNING:root:Warning:The cell 763 fails to denormlize, and be deleted\n",
      "WARNING:root:Warning:The cell 764 fails to denormlize, and be deleted\n",
      "WARNING:root:Warning:The cell 765 fails to denormlize, and be deleted\n",
      "WARNING:root:Warning:The cell 766 fails to denormlize, and be deleted\n",
      "WARNING:root:Warning:The cell 767 fails to denormlize, and be deleted\n",
      "WARNING:root:Warning:The cell 769 fails to denormlize, and be deleted\n",
      "WARNING:root:Warning:The cell 771 fails to denormlize, and be deleted\n",
      "WARNING:root:Warning:The cell 775 fails to denormlize, and be deleted\n",
      "WARNING:root:Warning:The cell 776 fails to denormlize, and be deleted\n",
      "WARNING:root:Warning:The cell 780 fails to denormlize, and be deleted\n",
      "WARNING:root:Warning:The cell 781 fails to denormlize, and be deleted\n",
      "WARNING:root:Warning:The cell 783 fails to denormlize, and be deleted\n",
      "WARNING:root:Warning:The cell 785 fails to denormlize, and be deleted\n",
      "WARNING:root:Warning:The cell 787 fails to denormlize, and be deleted\n",
      "WARNING:root:Warning:The cell 789 fails to denormlize, and be deleted\n",
      "WARNING:root:Warning:The cell 790 fails to denormlize, and be deleted\n",
      "WARNING:root:Warning:The cell 793 fails to denormlize, and be deleted\n",
      "WARNING:root:Warning:The cell 794 fails to denormlize, and be deleted\n",
      "WARNING:root:Warning:The cell 795 fails to denormlize, and be deleted\n",
      "WARNING:root:Warning:The cell 796 fails to denormlize, and be deleted\n",
      "WARNING:root:Warning:The cell 797 fails to denormlize, and be deleted\n",
      "WARNING:root:Warning:The cell 799 fails to denormlize, and be deleted\n",
      "WARNING:root:Warning:The cell 800 fails to denormlize, and be deleted\n",
      "WARNING:root:Warning:The cell 801 fails to denormlize, and be deleted\n",
      "WARNING:root:Warning:The cell 802 fails to denormlize, and be deleted\n",
      "WARNING:root:Warning:The cell 803 fails to denormlize, and be deleted\n",
      "WARNING:root:Warning:The cell 805 fails to denormlize, and be deleted\n",
      "WARNING:root:Warning:The cell 806 fails to denormlize, and be deleted\n",
      "WARNING:root:Warning:The cell 809 fails to denormlize, and be deleted\n",
      "WARNING:root:Warning:The cell 810 fails to denormlize, and be deleted\n",
      "WARNING:root:Warning:The cell 812 fails to denormlize, and be deleted\n",
      " 81%|████████▏ | 813/1000 [00:02<00:00, 667.69it/s]WARNING:root:Warning:The cell 813 fails to denormlize, and be deleted\n",
      "WARNING:root:Warning:The cell 816 fails to denormlize, and be deleted\n",
      "WARNING:root:Warning:The cell 817 fails to denormlize, and be deleted\n",
      "WARNING:root:Warning:The cell 819 fails to denormlize, and be deleted\n",
      "WARNING:root:Warning:The cell 820 fails to denormlize, and be deleted\n",
      "WARNING:root:Warning:The cell 821 fails to denormlize, and be deleted\n",
      "WARNING:root:Warning:The cell 824 fails to denormlize, and be deleted\n",
      "WARNING:root:Warning:The cell 826 fails to denormlize, and be deleted\n",
      "WARNING:root:Warning:The cell 827 fails to denormlize, and be deleted\n",
      "WARNING:root:Warning:The cell 830 fails to denormlize, and be deleted\n",
      "WARNING:root:Warning:The cell 831 fails to denormlize, and be deleted\n",
      "WARNING:root:Warning:The cell 832 fails to denormlize, and be deleted\n",
      "WARNING:root:Warning:The cell 833 fails to denormlize, and be deleted\n",
      "WARNING:root:Warning:The cell 834 fails to denormlize, and be deleted\n",
      "WARNING:root:Warning:The cell 835 fails to denormlize, and be deleted\n",
      "WARNING:root:Warning:The cell 837 fails to denormlize, and be deleted\n",
      "WARNING:root:Warning:The cell 838 fails to denormlize, and be deleted\n",
      "WARNING:root:Warning:The cell 839 fails to denormlize, and be deleted\n",
      "WARNING:root:Warning:The cell 840 fails to denormlize, and be deleted\n",
      "WARNING:root:Warning:The cell 841 fails to denormlize, and be deleted\n",
      "WARNING:root:Warning:The cell 843 fails to denormlize, and be deleted\n",
      "WARNING:root:Warning:The cell 844 fails to denormlize, and be deleted\n",
      "WARNING:root:Warning:The cell 845 fails to denormlize, and be deleted\n",
      "WARNING:root:Warning:The cell 846 fails to denormlize, and be deleted\n",
      "WARNING:root:Warning:The cell 847 fails to denormlize, and be deleted\n",
      "WARNING:root:Warning:The cell 851 fails to denormlize, and be deleted\n",
      "WARNING:root:Warning:The cell 852 fails to denormlize, and be deleted\n",
      "WARNING:root:Warning:The cell 853 fails to denormlize, and be deleted\n",
      "WARNING:root:Warning:The cell 854 fails to denormlize, and be deleted\n",
      "WARNING:root:Warning:The cell 856 fails to denormlize, and be deleted\n",
      "WARNING:root:Warning:The cell 859 fails to denormlize, and be deleted\n",
      "WARNING:root:Warning:The cell 861 fails to denormlize, and be deleted\n",
      "WARNING:root:Warning:The cell 862 fails to denormlize, and be deleted\n",
      "WARNING:root:Warning:The cell 866 fails to denormlize, and be deleted\n",
      "WARNING:root:Warning:The cell 869 fails to denormlize, and be deleted\n",
      "WARNING:root:Warning:The cell 872 fails to denormlize, and be deleted\n",
      "WARNING:root:Warning:The cell 873 fails to denormlize, and be deleted\n",
      "WARNING:root:Warning:The cell 874 fails to denormlize, and be deleted\n",
      "WARNING:root:Warning:The cell 875 fails to denormlize, and be deleted\n",
      "WARNING:root:Warning:The cell 876 fails to denormlize, and be deleted\n",
      "WARNING:root:Warning:The cell 877 fails to denormlize, and be deleted\n",
      "WARNING:root:Warning:The cell 879 fails to denormlize, and be deleted\n",
      "WARNING:root:Warning:The cell 881 fails to denormlize, and be deleted\n",
      "WARNING:root:Warning:The cell 882 fails to denormlize, and be deleted\n",
      "WARNING:root:Warning:The cell 883 fails to denormlize, and be deleted\n",
      "WARNING:root:Warning:The cell 884 fails to denormlize, and be deleted\n",
      "WARNING:root:Warning:The cell 885 fails to denormlize, and be deleted\n",
      "WARNING:root:Warning:The cell 889 fails to denormlize, and be deleted\n",
      "WARNING:root:Warning:The cell 892 fails to denormlize, and be deleted\n",
      "WARNING:root:Warning:The cell 894 fails to denormlize, and be deleted\n",
      "WARNING:root:Warning:The cell 895 fails to denormlize, and be deleted\n",
      "WARNING:root:Warning:The cell 896 fails to denormlize, and be deleted\n",
      "WARNING:root:Warning:The cell 897 fails to denormlize, and be deleted\n",
      " 90%|████████▉ | 898/1000 [00:02<00:00, 680.43it/s]WARNING:root:Warning:The cell 898 fails to denormlize, and be deleted\n",
      "WARNING:root:Warning:The cell 901 fails to denormlize, and be deleted\n",
      "WARNING:root:Warning:The cell 902 fails to denormlize, and be deleted\n",
      "WARNING:root:Warning:The cell 904 fails to denormlize, and be deleted\n",
      "WARNING:root:Warning:The cell 906 fails to denormlize, and be deleted\n",
      "WARNING:root:Warning:The cell 909 fails to denormlize, and be deleted\n",
      "WARNING:root:Warning:The cell 911 fails to denormlize, and be deleted\n",
      "WARNING:root:Warning:The cell 913 fails to denormlize, and be deleted\n",
      "WARNING:root:Warning:The cell 916 fails to denormlize, and be deleted\n",
      "WARNING:root:Warning:The cell 918 fails to denormlize, and be deleted\n",
      "WARNING:root:Warning:The cell 920 fails to denormlize, and be deleted\n",
      "WARNING:root:Warning:The cell 921 fails to denormlize, and be deleted\n",
      "WARNING:root:Warning:The cell 923 fails to denormlize, and be deleted\n",
      "WARNING:root:Warning:The cell 924 fails to denormlize, and be deleted\n",
      "WARNING:root:Warning:The cell 927 fails to denormlize, and be deleted\n",
      "WARNING:root:Warning:The cell 928 fails to denormlize, and be deleted\n",
      "WARNING:root:Warning:The cell 929 fails to denormlize, and be deleted\n",
      "WARNING:root:Warning:The cell 930 fails to denormlize, and be deleted\n",
      "WARNING:root:Warning:The cell 931 fails to denormlize, and be deleted\n",
      "WARNING:root:Warning:The cell 932 fails to denormlize, and be deleted\n",
      "WARNING:root:Warning:The cell 934 fails to denormlize, and be deleted\n",
      "WARNING:root:Warning:The cell 935 fails to denormlize, and be deleted\n",
      "WARNING:root:Warning:The cell 936 fails to denormlize, and be deleted\n",
      "WARNING:root:Warning:The cell 937 fails to denormlize, and be deleted\n",
      "WARNING:root:Warning:The cell 941 fails to denormlize, and be deleted\n",
      "WARNING:root:Warning:The cell 942 fails to denormlize, and be deleted\n",
      "WARNING:root:Warning:The cell 944 fails to denormlize, and be deleted\n",
      "WARNING:root:Warning:The cell 945 fails to denormlize, and be deleted\n",
      "WARNING:root:Warning:The cell 946 fails to denormlize, and be deleted\n",
      "WARNING:root:Warning:The cell 948 fails to denormlize, and be deleted\n",
      "WARNING:root:Warning:The cell 952 fails to denormlize, and be deleted\n",
      "WARNING:root:Warning:The cell 953 fails to denormlize, and be deleted\n",
      "WARNING:root:Warning:The cell 954 fails to denormlize, and be deleted\n",
      "WARNING:root:Warning:The cell 955 fails to denormlize, and be deleted\n",
      "WARNING:root:Warning:The cell 957 fails to denormlize, and be deleted\n",
      "WARNING:root:Warning:The cell 958 fails to denormlize, and be deleted\n",
      "WARNING:root:Warning:The cell 960 fails to denormlize, and be deleted\n",
      "WARNING:root:Warning:The cell 962 fails to denormlize, and be deleted\n",
      "WARNING:root:Warning:The cell 964 fails to denormlize, and be deleted\n",
      "WARNING:root:Warning:The cell 965 fails to denormlize, and be deleted\n",
      "WARNING:root:Warning:The cell 968 fails to denormlize, and be deleted\n",
      "WARNING:root:Warning:The cell 970 fails to denormlize, and be deleted\n",
      "WARNING:root:Warning:The cell 971 fails to denormlize, and be deleted\n",
      "WARNING:root:Warning:The cell 973 fails to denormlize, and be deleted\n",
      "WARNING:root:Warning:The cell 974 fails to denormlize, and be deleted\n",
      "WARNING:root:Warning:The cell 975 fails to denormlize, and be deleted\n",
      "WARNING:root:Warning:The cell 976 fails to denormlize, and be deleted\n",
      "WARNING:root:Warning:The cell 977 fails to denormlize, and be deleted\n",
      "WARNING:root:Warning:The cell 980 fails to denormlize, and be deleted\n",
      "WARNING:root:Warning:The cell 983 fails to denormlize, and be deleted\n",
      "WARNING:root:Warning:The cell 985 fails to denormlize, and be deleted\n",
      "WARNING:root:Warning:The cell 987 fails to denormlize, and be deleted\n",
      "WARNING:root:Warning:The cell 988 fails to denormlize, and be deleted\n",
      "WARNING:root:Warning:The cell 989 fails to denormlize, and be deleted\n",
      "WARNING:root:Warning:The cell 992 fails to denormlize, and be deleted\n",
      "WARNING:root:Warning:The cell 993 fails to denormlize, and be deleted\n",
      "WARNING:root:Warning:The cell 994 fails to denormlize, and be deleted\n",
      "WARNING:root:Warning:The cell 995 fails to denormlize, and be deleted\n",
      "WARNING:root:Warning:The cell 998 fails to denormlize, and be deleted\n",
      "WARNING:root:Warning:The cell 999 fails to denormlize, and be deleted\n",
      "100%|██████████| 1000/1000 [00:02<00:00, 440.36it/s]\n",
      "/home/huang_yin/anaconda3/envs/sc/lib/python3.9/site-packages/anndata/_core/anndata.py:1830: UserWarning: Variable names are not unique. To make them unique, call `.var_names_make_unique`.\n",
      "  utils.warn_names_duplicates(\"var\")\n",
      "ERROR:root:The base 2.718281828459045 is not match with the data.\n",
      "ERROR:root:The base 2 is not match with the data.\n"
     ]
    },
    {
     "name": "stdout",
     "output_type": "stream",
     "text": [
      "27923.477 (1000, 10850) /home/huang_ziliang/project/brain/data/public/human_brain_entorhinalcortex_Grubman_2019_DroNc-seq/h5/human_brain_entorhinalcortex_Grubman_2019_DroNc-seq.h5ad\n"
     ]
    },
    {
     "name": "stderr",
     "output_type": "stream",
     "text": [
      "100%|██████████| 1000/1000 [00:00<00:00, 3042.09it/s]\n"
     ]
    },
    {
     "name": "stdout",
     "output_type": "stream",
     "text": [
      "0.29119813 (1000, 31053) /home/huang_ziliang/project/brain/data/public/mouse_brain_developing_ZhangX_2022_10x/h5/Brain-Young-scRNAseq-rep1.h5ad\n"
     ]
    },
    {
     "name": "stderr",
     "output_type": "stream",
     "text": [
      "ERROR:root:The base 2.718281828459045 is not match with the data.\n",
      "ERROR:root:The base 2 is not match with the data.\n",
      "100%|██████████| 1000/1000 [00:00<00:00, 3081.58it/s]\n"
     ]
    },
    {
     "name": "stdout",
     "output_type": "stream",
     "text": [
      "0.1195122 (1000, 33289) /home/huang_ziliang/project/brain/data/public/human_mouse_brain_Chen_2019_SNARE-seq/h5/RNA.h5ad\n"
     ]
    },
    {
     "name": "stderr",
     "output_type": "stream",
     "text": [
      "ERROR:root:The base 2.718281828459045 is not match with the data.\n",
      "ERROR:root:The base 2 is not match with the data.\n",
      "100%|██████████| 1000/1000 [00:00<00:00, 2086.79it/s]\n"
     ]
    },
    {
     "name": "stdout",
     "output_type": "stream",
     "text": [
      "1.4933422 (1000, 31053) /home/huang_ziliang/project/brain/data/public/mouse_brain_Hippocampal_Mirabella_2021_10x/h5/mouse_brain_Hippocampal_Mirabella_2021_10x_in_vivo.h5ad\n"
     ]
    }
   ],
   "source": [
    "rs=[]\n",
    "for ts in [1e4,1e5,1e6]:\n",
    "    for b in [np.e,2,10]:\n",
    "        ress={}\n",
    "        for i in h5_benchmark:\n",
    "            ad=sc.read(i)\n",
    "            ad=ad[0:min(ad.shape[0],1000),:]\n",
    "            ad.layers['count']=ad.X.copy()\n",
    "            sc.pp.normalize_total(ad, target_sum=ts)\n",
    "            sc.pp.log1p(ad,base=b)\n",
    "            new_ad=scdenorm(ad)\n",
    "            res=new_ad.X.data-new_ad.layers['count'].data\n",
    "            ress[i.split('/')[-3]]=res\n",
    "            print(abs(res).sum(),ad.shape,i)\n",
    "        rs.append(ress)"
   ]
  },
  {
   "cell_type": "code",
   "execution_count": 18,
   "id": "521799a0-aeb2-4921-a618-0730e0743932",
   "metadata": {},
   "outputs": [],
   "source": [
    "import pickle\n",
    "with open('data/restore_errors_all.pickle', 'wb') as handle:\n",
    "    pickle.dump(rs, handle, protocol=pickle.HIGHEST_PROTOCOL)"
   ]
  },
  {
   "cell_type": "code",
   "execution_count": 19,
   "id": "6efd43ef-e3ad-43cf-82a9-20cddd0d7fbe",
   "metadata": {},
   "outputs": [],
   "source": [
    "with open('data/restore_errors_all.pickle', 'rb') as handle:\n",
    "    rs = pickle.load(handle)"
   ]
  },
  {
   "cell_type": "code",
   "execution_count": 20,
   "id": "b1799fd1-981b-4302-8168-0e3785a6676e",
   "metadata": {},
   "outputs": [],
   "source": [
    "titles=[]\n",
    "for ts in ['1e4','1e5','1e6']:\n",
    "    for b in ['e','2','10']:\n",
    "        titles.append(f'{ts} and {b}')"
   ]
  },
  {
   "cell_type": "code",
   "execution_count": 21,
   "id": "068cc7d5-70d7-406a-b219-2a6b63d0c6e0",
   "metadata": {},
   "outputs": [
    {
     "data": {
      "text/plain": [
       "['1e4 and e',\n",
       " '1e4 and 2',\n",
       " '1e4 and 10',\n",
       " '1e5 and e',\n",
       " '1e5 and 2',\n",
       " '1e5 and 10',\n",
       " '1e6 and e',\n",
       " '1e6 and 2',\n",
       " '1e6 and 10']"
      ]
     },
     "execution_count": 21,
     "metadata": {},
     "output_type": "execute_result"
    }
   ],
   "source": [
    "titles"
   ]
  },
  {
   "cell_type": "code",
   "execution_count": 22,
   "id": "f01259dd-5337-4812-8802-3217881a7c7a",
   "metadata": {},
   "outputs": [
    {
     "data": {
      "image/png": "[encoded data removed]",
      "text/plain": [
       "<Figure size 1440x1440 with 9 Axes>"
      ]
     },
     "metadata": {
      "needs_background": "light"
     },
     "output_type": "display_data"
    }
   ],
   "source": [
    "fig, axs = plt.subplots(3,3,figsize=(20,20))\n",
    "axs = axs.ravel()\n",
    "for i,ress in enumerate(rs):\n",
    "    ax=axs[i]\n",
    "    ax.violinplot(ress.values(),vert=False)\n",
    "    ax.set_yticks([i+1 for i in range(10)])\n",
    "    ax.set_yticklabels(['dataset'+str(10-i) for i in range(10)])\n",
    "    ax.set_xlabel(\"Restore errors\")\n",
    "    ax.title.set_text(titles[i])\n",
    "plt.savefig('figures/Sup_figure_4.pdf',dpi=600,format='pdf', transparent=True)\n",
    "plt.show()"
   ]
  },
  {
   "cell_type": "markdown",
   "id": "95cb7b24-6a2f-400a-b563-515dbfd8b777",
   "metadata": {},
   "source": [
    "##  Sup Figure 4 - the performance benchmark"
   ]
  },
  {
   "cell_type": "markdown",
   "id": "38c2f18c-5740-4c2b-bc7b-29733c9f5dd3",
   "metadata": {},
   "source": [
    "### Performance\n",
    "\n",
    "#### running time linearly increase by genes\n",
    "\n",
    "1000 cells X genes"
   ]
  },
  {
   "cell_type": "code",
   "execution_count": 60,
   "id": "0925bc4b-08b2-4291-8b9e-32c350c959b9",
   "metadata": {},
   "outputs": [],
   "source": [
    "tmp=sc.read('/home/huang_ziliang/project/brain/data/public/human_brain_CNS_Marsh_2022_10x/h5/human_brain_CNS_Marsh_2022_10x.h5ad')"
   ]
  },
  {
   "cell_type": "code",
   "execution_count": 61,
   "id": "013d1d92-f44f-4250-85b9-fd1117c784d9",
   "metadata": {},
   "outputs": [
    {
     "data": {
      "text/plain": [
       "AnnData object with n_obs × n_vars = 139661 × 68308\n",
       "    obs: 'sample', 'batch'\n",
       "    var: 'gene_ids-0', 'feature_types-0', 'gene_ids-1', 'feature_types-1', 'gene_ids-10', 'feature_types-10', 'gene_ids-11', 'feature_types-11', 'gene_ids-12', 'feature_types-12', 'gene_ids-13', 'feature_types-13', 'gene_ids-14', 'feature_types-14', 'gene_ids-15', 'feature_types-15', 'gene_ids-16', 'feature_types-16', 'gene_ids-17', 'feature_types-17', 'gene_ids-18', 'feature_types-18', 'gene_ids-19', 'feature_types-19', 'gene_ids-2', 'feature_types-2', 'gene_ids-20', 'feature_types-20', 'gene_ids-21', 'feature_types-21', 'gene_ids-22', 'feature_types-22', 'gene_ids-23', 'feature_types-23', 'gene_ids-24', 'feature_types-24', 'gene_ids-25', 'feature_types-25', 'gene_ids-26', 'feature_types-26', 'gene_ids-27', 'feature_types-27', 'gene_ids-28', 'gene_ids-29', 'gene_ids-3', 'feature_types-3', 'gene_ids-30', 'gene_ids-31', 'gene_ids-4', 'feature_types-4', 'gene_ids-5', 'feature_types-5', 'gene_ids-6', 'feature_types-6', 'gene_ids-7', 'feature_types-7', 'gene_ids-8', 'feature_types-8', 'gene_ids-9', 'feature_types-9'"
      ]
     },
     "execution_count": 61,
     "metadata": {},
     "output_type": "execute_result"
    }
   ],
   "source": [
    "tmp"
   ]
  },
  {
   "cell_type": "code",
   "execution_count": 79,
   "id": "b177144f-fbd1-4b8e-9d7d-b9c8c87bd7a6",
   "metadata": {},
   "outputs": [],
   "source": [
    "numpy.random.seed(0)\n",
    "r_idx=[]\n",
    "for i in range(100):\n",
    "    r_idx.append([numpy.random.choice(np.arange(tmp.shape[1]),n,replace=False) for n in [10000,15000,20000,25000,30000,35000]])"
   ]
  },
  {
   "cell_type": "code",
   "execution_count": 78,
   "id": "21d63307-0e3e-4861-a287-95d8b95bd3b4",
   "metadata": {},
   "outputs": [
    {
     "data": {
      "text/plain": [
       "[array([35347, 56556, 58377, ..., 26609, 34536, 15664]),\n",
       " array([49612,  5061, 56380, ..., 55725, 32868, 39613]),\n",
       " array([53448,  4067, 15778, ..., 32270, 41636, 60688]),\n",
       " array([27928, 54571,  9606, ..., 48172, 36031, 53703]),\n",
       " array([46590, 56848,  8378, ..., 32744,   220, 37649]),\n",
       " array([10544, 29848, 41193, ..., 51200, 30760, 53895])]"
      ]
     },
     "execution_count": 78,
     "metadata": {},
     "output_type": "execute_result"
    }
   ],
   "source": [
    "r_idx[0]"
   ]
  },
  {
   "cell_type": "code",
   "execution_count": 84,
   "id": "ffbe5000-db02-4945-874e-37821b7bbf90",
   "metadata": {
    "collapsed": true,
    "jupyter": {
     "outputs_hidden": true
    },
    "tags": []
   },
   "outputs": [
    {
     "name": "stderr",
     "output_type": "stream",
     "text": [
      "100%|██████████| 1000/1000 [00:00<00:00, 3038.89it/s]\n",
      "100%|██████████| 1000/1000 [00:00<00:00, 3055.73it/s]\n",
      "100%|██████████| 1000/1000 [00:00<00:00, 3132.08it/s]\n",
      "100%|██████████| 1000/1000 [00:00<00:00, 3185.78it/s]\n",
      "100%|██████████| 1000/1000 [00:00<00:00, 3071.60it/s]\n",
      "100%|██████████| 1000/1000 [00:00<00:00, 2723.15it/s]\n",
      "100%|██████████| 1000/1000 [00:00<00:00, 3041.59it/s]\n",
      "100%|██████████| 1000/1000 [00:00<00:00, 3045.95it/s]\n",
      "100%|██████████| 1000/1000 [00:00<00:00, 3186.41it/s]\n",
      "100%|██████████| 1000/1000 [00:00<00:00, 3104.56it/s]\n",
      "100%|██████████| 1000/1000 [00:00<00:00, 2975.77it/s]\n",
      "100%|██████████| 1000/1000 [00:00<00:00, 3084.76it/s]\n",
      "100%|██████████| 1000/1000 [00:00<00:00, 3012.65it/s]\n",
      "100%|██████████| 1000/1000 [00:00<00:00, 2706.74it/s]\n",
      "100%|██████████| 1000/1000 [00:00<00:00, 3051.87it/s]\n",
      "100%|██████████| 1000/1000 [00:00<00:00, 2954.12it/s]\n",
      "100%|██████████| 1000/1000 [00:00<00:00, 2877.14it/s]\n",
      "100%|██████████| 1000/1000 [00:00<00:00, 2983.92it/s]\n",
      "100%|██████████| 1000/1000 [00:00<00:00, 3091.77it/s]\n",
      "100%|██████████| 1000/1000 [00:00<00:00, 3078.40it/s]\n",
      "100%|██████████| 1000/1000 [00:00<00:00, 3088.17it/s]\n",
      "100%|██████████| 1000/1000 [00:00<00:00, 3060.92it/s]\n",
      "100%|██████████| 1000/1000 [00:00<00:00, 2934.36it/s]\n",
      "100%|██████████| 1000/1000 [00:00<00:00, 3065.72it/s]\n",
      "100%|██████████| 1000/1000 [00:00<00:00, 3073.93it/s]\n",
      "100%|██████████| 1000/1000 [00:00<00:00, 3186.27it/s]\n",
      "100%|██████████| 1000/1000 [00:00<00:00, 3190.14it/s]\n",
      "100%|██████████| 1000/1000 [00:00<00:00, 3124.62it/s]\n",
      "100%|██████████| 1000/1000 [00:00<00:00, 2993.15it/s]\n",
      "100%|██████████| 1000/1000 [00:00<00:00, 3101.95it/s]\n",
      "100%|██████████| 1000/1000 [00:00<00:00, 3055.21it/s]\n",
      "100%|██████████| 1000/1000 [00:00<00:00, 3150.38it/s]\n",
      "100%|██████████| 1000/1000 [00:00<00:00, 3073.66it/s]\n",
      "100%|██████████| 1000/1000 [00:00<00:00, 2847.43it/s]\n",
      "100%|██████████| 1000/1000 [00:00<00:00, 3089.60it/s]\n",
      "100%|██████████| 1000/1000 [00:00<00:00, 3157.44it/s]\n",
      "100%|██████████| 1000/1000 [00:00<00:00, 3075.38it/s]\n",
      "100%|██████████| 1000/1000 [00:00<00:00, 3032.25it/s]\n",
      "100%|██████████| 1000/1000 [00:00<00:00, 3021.57it/s]\n",
      "100%|██████████| 1000/1000 [00:00<00:00, 3003.52it/s]\n",
      "100%|██████████| 1000/1000 [00:00<00:00, 3124.82it/s]\n",
      "100%|██████████| 1000/1000 [00:00<00:00, 3193.56it/s]\n",
      "100%|██████████| 1000/1000 [00:00<00:00, 3119.58it/s]\n",
      "100%|██████████| 1000/1000 [00:00<00:00, 3086.99it/s]\n",
      "100%|██████████| 1000/1000 [00:00<00:00, 3014.37it/s]\n",
      "100%|██████████| 1000/1000 [00:00<00:00, 3064.46it/s]\n",
      "100%|██████████| 1000/1000 [00:00<00:00, 3141.96it/s]\n",
      "100%|██████████| 1000/1000 [00:00<00:00, 3132.98it/s]\n",
      "100%|██████████| 1000/1000 [00:00<00:00, 2989.54it/s]\n",
      "100%|██████████| 1000/1000 [00:00<00:00, 3084.07it/s]\n",
      "100%|██████████| 1000/1000 [00:00<00:00, 3092.25it/s]\n",
      "100%|██████████| 1000/1000 [00:00<00:00, 2505.85it/s]\n",
      "100%|██████████| 1000/1000 [00:00<00:00, 2998.97it/s]\n",
      "100%|██████████| 1000/1000 [00:00<00:00, 3125.68it/s]\n",
      "100%|██████████| 1000/1000 [00:00<00:00, 2938.81it/s]\n",
      "100%|██████████| 1000/1000 [00:00<00:00, 3066.42it/s]\n",
      "100%|██████████| 1000/1000 [00:00<00:00, 3130.20it/s]\n",
      "100%|██████████| 1000/1000 [00:00<00:00, 3147.41it/s]\n",
      "100%|██████████| 1000/1000 [00:00<00:00, 3099.97it/s]\n",
      "100%|██████████| 1000/1000 [00:00<00:00, 3068.68it/s]\n",
      "100%|██████████| 1000/1000 [00:00<00:00, 3159.28it/s]\n",
      "100%|██████████| 1000/1000 [00:00<00:00, 2911.74it/s]\n",
      "100%|██████████| 1000/1000 [00:00<00:00, 3084.84it/s]\n",
      "100%|██████████| 1000/1000 [00:00<00:00, 3177.60it/s]\n",
      "100%|██████████| 1000/1000 [00:00<00:00, 3157.31it/s]\n",
      "100%|██████████| 1000/1000 [00:00<00:00, 3064.95it/s]\n",
      "100%|██████████| 1000/1000 [00:00<00:00, 3146.13it/s]\n",
      "100%|██████████| 1000/1000 [00:00<00:00, 2958.13it/s]\n",
      "100%|██████████| 1000/1000 [00:00<00:00, 2991.35it/s]\n",
      "100%|██████████| 1000/1000 [00:00<00:00, 3025.34it/s]\n",
      "100%|██████████| 1000/1000 [00:00<00:00, 3090.30it/s]\n",
      "100%|██████████| 1000/1000 [00:00<00:00, 2547.81it/s]\n",
      "100%|██████████| 1000/1000 [00:00<00:00, 3127.97it/s]\n",
      "100%|██████████| 1000/1000 [00:00<00:00, 3141.53it/s]\n",
      "100%|██████████| 1000/1000 [00:00<00:00, 3045.84it/s]\n",
      "100%|██████████| 1000/1000 [00:00<00:00, 3102.77it/s]\n",
      "100%|██████████| 1000/1000 [00:00<00:00, 3133.46it/s]\n",
      "100%|██████████| 1000/1000 [00:00<00:00, 3034.76it/s]\n",
      "100%|██████████| 1000/1000 [00:00<00:00, 2928.34it/s]\n",
      "100%|██████████| 1000/1000 [00:00<00:00, 3120.62it/s]\n",
      "100%|██████████| 1000/1000 [00:00<00:00, 3110.74it/s]\n",
      "100%|██████████| 1000/1000 [00:00<00:00, 3031.47it/s]\n",
      "100%|██████████| 1000/1000 [00:00<00:00, 3132.94it/s]\n",
      "100%|██████████| 1000/1000 [00:00<00:00, 3159.14it/s]\n",
      "100%|██████████| 1000/1000 [00:00<00:00, 3113.48it/s]\n",
      "100%|██████████| 1000/1000 [00:00<00:00, 3152.43it/s]\n",
      "100%|██████████| 1000/1000 [00:00<00:00, 3101.33it/s]\n",
      "100%|██████████| 1000/1000 [00:00<00:00, 3098.02it/s]\n",
      "100%|██████████| 1000/1000 [00:00<00:00, 3184.92it/s]\n",
      "100%|██████████| 1000/1000 [00:00<00:00, 3149.37it/s]\n",
      "100%|██████████| 1000/1000 [00:00<00:00, 3168.47it/s]\n",
      "100%|██████████| 1000/1000 [00:00<00:00, 2895.50it/s]\n",
      "100%|██████████| 1000/1000 [00:00<00:00, 2989.57it/s]\n",
      "100%|██████████| 1000/1000 [00:00<00:00, 3067.00it/s]\n",
      "100%|██████████| 1000/1000 [00:00<00:00, 3078.43it/s]\n",
      "100%|██████████| 1000/1000 [00:00<00:00, 3110.91it/s]\n",
      "100%|██████████| 1000/1000 [00:00<00:00, 3156.36it/s]\n",
      "100%|██████████| 1000/1000 [00:00<00:00, 2952.98it/s]\n",
      "100%|██████████| 1000/1000 [00:00<00:00, 3102.55it/s]\n",
      "100%|██████████| 1000/1000 [00:00<00:00, 2578.96it/s]\n",
      "100%|██████████| 1000/1000 [00:00<00:00, 3154.61it/s]\n",
      "100%|██████████| 1000/1000 [00:00<00:00, 3084.15it/s]\n",
      "100%|██████████| 1000/1000 [00:00<00:00, 3085.85it/s]\n",
      "100%|██████████| 1000/1000 [00:00<00:00, 3095.50it/s]\n",
      "100%|██████████| 1000/1000 [00:00<00:00, 3121.15it/s]\n",
      "100%|██████████| 1000/1000 [00:00<00:00, 3118.74it/s]\n",
      "100%|██████████| 1000/1000 [00:00<00:00, 3019.60it/s]\n",
      "100%|██████████| 1000/1000 [00:00<00:00, 3099.39it/s]\n",
      "100%|██████████| 1000/1000 [00:00<00:00, 3144.36it/s]\n",
      "100%|██████████| 1000/1000 [00:00<00:00, 2981.28it/s]\n",
      "100%|██████████| 1000/1000 [00:00<00:00, 2945.20it/s]\n",
      "100%|██████████| 1000/1000 [00:00<00:00, 3142.07it/s]\n",
      "100%|██████████| 1000/1000 [00:00<00:00, 3109.20it/s]\n",
      "100%|██████████| 1000/1000 [00:00<00:00, 3161.63it/s]\n",
      "100%|██████████| 1000/1000 [00:00<00:00, 3114.30it/s]\n",
      "100%|██████████| 1000/1000 [00:00<00:00, 3158.73it/s]\n",
      "100%|██████████| 1000/1000 [00:00<00:00, 3065.74it/s]\n",
      "100%|██████████| 1000/1000 [00:00<00:00, 3099.95it/s]\n",
      "100%|██████████| 1000/1000 [00:00<00:00, 3112.33it/s]\n",
      "100%|██████████| 1000/1000 [00:00<00:00, 3093.21it/s]\n",
      "100%|██████████| 1000/1000 [00:00<00:00, 3097.33it/s]\n",
      "100%|██████████| 1000/1000 [00:00<00:00, 3042.83it/s]\n",
      "100%|██████████| 1000/1000 [00:00<00:00, 3077.88it/s]\n",
      "100%|██████████| 1000/1000 [00:00<00:00, 3049.20it/s]\n",
      "100%|██████████| 1000/1000 [00:00<00:00, 3086.73it/s]\n",
      "100%|██████████| 1000/1000 [00:00<00:00, 3065.70it/s]\n",
      "100%|██████████| 1000/1000 [00:00<00:00, 3033.60it/s]\n",
      "100%|██████████| 1000/1000 [00:00<00:00, 3100.66it/s]\n",
      "100%|██████████| 1000/1000 [00:00<00:00, 2643.33it/s]\n",
      "100%|██████████| 1000/1000 [00:00<00:00, 3132.20it/s]\n",
      "100%|██████████| 1000/1000 [00:00<00:00, 3148.56it/s]\n",
      "100%|██████████| 1000/1000 [00:00<00:00, 3165.00it/s]\n",
      "100%|██████████| 1000/1000 [00:00<00:00, 3127.77it/s]\n",
      "100%|██████████| 1000/1000 [00:00<00:00, 3126.44it/s]\n",
      "100%|██████████| 1000/1000 [00:00<00:00, 3116.53it/s]\n",
      "100%|██████████| 1000/1000 [00:00<00:00, 3132.11it/s]\n",
      "100%|██████████| 1000/1000 [00:00<00:00, 3085.45it/s]\n",
      "100%|██████████| 1000/1000 [00:00<00:00, 3105.70it/s]\n",
      "100%|██████████| 1000/1000 [00:00<00:00, 3083.86it/s]\n",
      "100%|██████████| 1000/1000 [00:00<00:00, 3143.96it/s]\n",
      "100%|██████████| 1000/1000 [00:00<00:00, 3154.66it/s]\n",
      "100%|██████████| 1000/1000 [00:00<00:00, 3108.55it/s]\n",
      "100%|██████████| 1000/1000 [00:00<00:00, 3060.45it/s]\n",
      "100%|██████████| 1000/1000 [00:00<00:00, 3067.57it/s]\n",
      "100%|██████████| 1000/1000 [00:00<00:00, 3141.80it/s]\n",
      "100%|██████████| 1000/1000 [00:00<00:00, 3137.43it/s]\n",
      "100%|██████████| 1000/1000 [00:00<00:00, 3071.52it/s]\n",
      "100%|██████████| 1000/1000 [00:00<00:00, 3132.07it/s]\n",
      "100%|██████████| 1000/1000 [00:00<00:00, 2942.69it/s]\n",
      "100%|██████████| 1000/1000 [00:00<00:00, 3058.34it/s]\n",
      "100%|██████████| 1000/1000 [00:00<00:00, 3082.56it/s]\n",
      "100%|██████████| 1000/1000 [00:00<00:00, 3153.11it/s]\n",
      "100%|██████████| 1000/1000 [00:00<00:00, 3155.55it/s]\n",
      "100%|██████████| 1000/1000 [00:00<00:00, 2971.71it/s]\n",
      "100%|██████████| 1000/1000 [00:00<00:00, 3112.46it/s]\n",
      "100%|██████████| 1000/1000 [00:00<00:00, 3054.17it/s]\n",
      "100%|██████████| 1000/1000 [00:00<00:00, 2704.03it/s]\n",
      "100%|██████████| 1000/1000 [00:00<00:00, 2851.06it/s]\n",
      "100%|██████████| 1000/1000 [00:00<00:00, 3001.68it/s]\n",
      "100%|██████████| 1000/1000 [00:00<00:00, 3092.84it/s]\n",
      "100%|██████████| 1000/1000 [00:00<00:00, 3164.23it/s]\n",
      "100%|██████████| 1000/1000 [00:00<00:00, 3122.18it/s]\n",
      "100%|██████████| 1000/1000 [00:00<00:00, 3011.63it/s]\n",
      "100%|██████████| 1000/1000 [00:00<00:00, 3072.28it/s]\n",
      "100%|██████████| 1000/1000 [00:00<00:00, 3127.48it/s]\n",
      "100%|██████████| 1000/1000 [00:00<00:00, 3177.79it/s]\n",
      "100%|██████████| 1000/1000 [00:00<00:00, 2970.56it/s]\n",
      "100%|██████████| 1000/1000 [00:00<00:00, 3097.09it/s]\n",
      "100%|██████████| 1000/1000 [00:00<00:00, 3133.14it/s]\n",
      "100%|██████████| 1000/1000 [00:00<00:00, 3166.35it/s]\n",
      "100%|██████████| 1000/1000 [00:00<00:00, 2956.40it/s]\n",
      "100%|██████████| 1000/1000 [00:00<00:00, 3078.78it/s]\n",
      "100%|██████████| 1000/1000 [00:00<00:00, 2908.39it/s]\n",
      "100%|██████████| 1000/1000 [00:00<00:00, 3088.53it/s]\n",
      "100%|██████████| 1000/1000 [00:00<00:00, 3022.72it/s]\n",
      "100%|██████████| 1000/1000 [00:00<00:00, 3190.83it/s]\n",
      "100%|██████████| 1000/1000 [00:00<00:00, 3152.69it/s]\n",
      "100%|██████████| 1000/1000 [00:00<00:00, 3049.78it/s]\n",
      "100%|██████████| 1000/1000 [00:00<00:00, 3076.40it/s]\n",
      "100%|██████████| 1000/1000 [00:00<00:00, 3107.38it/s]\n",
      "100%|██████████| 1000/1000 [00:00<00:00, 3114.66it/s]\n",
      "100%|██████████| 1000/1000 [00:00<00:00, 3003.29it/s]\n",
      "100%|██████████| 1000/1000 [00:00<00:00, 3147.23it/s]\n",
      "100%|██████████| 1000/1000 [00:00<00:00, 3089.79it/s]\n",
      "100%|██████████| 1000/1000 [00:00<00:00, 3099.31it/s]\n",
      "100%|██████████| 1000/1000 [00:00<00:00, 3139.53it/s]\n",
      "100%|██████████| 1000/1000 [00:00<00:00, 3161.91it/s]\n",
      "100%|██████████| 1000/1000 [00:00<00:00, 2981.90it/s]\n",
      "100%|██████████| 1000/1000 [00:00<00:00, 3018.65it/s]\n",
      "100%|██████████| 1000/1000 [00:00<00:00, 3036.50it/s]\n",
      "100%|██████████| 1000/1000 [00:00<00:00, 3141.46it/s]\n",
      "100%|██████████| 1000/1000 [00:00<00:00, 2984.66it/s]\n",
      "100%|██████████| 1000/1000 [00:00<00:00, 3049.74it/s]\n",
      "100%|██████████| 1000/1000 [00:00<00:00, 3092.85it/s]\n",
      "100%|██████████| 1000/1000 [00:00<00:00, 3120.44it/s]\n",
      "100%|██████████| 1000/1000 [00:00<00:00, 2739.90it/s]\n",
      "100%|██████████| 1000/1000 [00:00<00:00, 3029.51it/s]\n",
      "100%|██████████| 1000/1000 [00:00<00:00, 3105.39it/s]\n",
      "100%|██████████| 1000/1000 [00:00<00:00, 2967.08it/s]\n",
      "100%|██████████| 1000/1000 [00:00<00:00, 3104.34it/s]\n",
      "100%|██████████| 1000/1000 [00:00<00:00, 3092.75it/s]\n",
      "100%|██████████| 1000/1000 [00:00<00:00, 3134.03it/s]\n",
      "100%|██████████| 1000/1000 [00:00<00:00, 2972.98it/s]\n",
      "100%|██████████| 1000/1000 [00:00<00:00, 3061.05it/s]\n",
      "100%|██████████| 1000/1000 [00:00<00:00, 3098.14it/s]\n",
      "100%|██████████| 1000/1000 [00:00<00:00, 3176.27it/s]\n",
      "100%|██████████| 1000/1000 [00:00<00:00, 3123.82it/s]\n",
      "100%|██████████| 1000/1000 [00:00<00:00, 3185.23it/s]\n",
      "100%|██████████| 1000/1000 [00:00<00:00, 2836.92it/s]\n",
      "100%|██████████| 1000/1000 [00:00<00:00, 3091.03it/s]\n",
      "100%|██████████| 1000/1000 [00:00<00:00, 2995.56it/s]\n",
      "100%|██████████| 1000/1000 [00:00<00:00, 3072.90it/s]\n",
      "100%|██████████| 1000/1000 [00:00<00:00, 2723.89it/s]\n",
      "100%|██████████| 1000/1000 [00:00<00:00, 3033.54it/s]\n",
      "100%|██████████| 1000/1000 [00:00<00:00, 3101.99it/s]\n",
      "100%|██████████| 1000/1000 [00:00<00:00, 3139.27it/s]\n",
      "100%|██████████| 1000/1000 [00:00<00:00, 3072.78it/s]\n",
      "100%|██████████| 1000/1000 [00:00<00:00, 3058.72it/s]\n",
      "100%|██████████| 1000/1000 [00:00<00:00, 3122.88it/s]\n",
      "100%|██████████| 1000/1000 [00:00<00:00, 2926.67it/s]\n",
      "100%|██████████| 1000/1000 [00:00<00:00, 2939.75it/s]\n",
      "100%|██████████| 1000/1000 [00:00<00:00, 2837.97it/s]\n",
      "100%|██████████| 1000/1000 [00:00<00:00, 2315.05it/s]\n",
      "100%|██████████| 1000/1000 [00:00<00:00, 3033.07it/s]\n",
      "100%|██████████| 1000/1000 [00:00<00:00, 2988.60it/s]\n",
      "100%|██████████| 1000/1000 [00:00<00:00, 3097.42it/s]\n",
      "100%|██████████| 1000/1000 [00:00<00:00, 3037.38it/s]\n",
      "100%|██████████| 1000/1000 [00:00<00:00, 3141.75it/s]\n",
      "100%|██████████| 1000/1000 [00:00<00:00, 3149.65it/s]\n",
      "100%|██████████| 1000/1000 [00:00<00:00, 2317.00it/s]\n",
      "100%|██████████| 1000/1000 [00:00<00:00, 2912.86it/s]\n",
      "100%|██████████| 1000/1000 [00:00<00:00, 3153.85it/s]\n",
      "100%|██████████| 1000/1000 [00:00<00:00, 3045.21it/s]\n",
      "100%|██████████| 1000/1000 [00:00<00:00, 3146.18it/s]\n",
      "100%|██████████| 1000/1000 [00:00<00:00, 3122.75it/s]\n",
      "100%|██████████| 1000/1000 [00:00<00:00, 3057.02it/s]\n",
      "100%|██████████| 1000/1000 [00:00<00:00, 3023.28it/s]\n",
      "100%|██████████| 1000/1000 [00:00<00:00, 3092.85it/s]\n",
      "100%|██████████| 1000/1000 [00:00<00:00, 3194.97it/s]\n",
      "100%|██████████| 1000/1000 [00:00<00:00, 3186.35it/s]\n",
      "100%|██████████| 1000/1000 [00:00<00:00, 3171.56it/s]\n",
      "100%|██████████| 1000/1000 [00:00<00:00, 3176.29it/s]\n",
      "100%|██████████| 1000/1000 [00:00<00:00, 3124.24it/s]\n",
      "100%|██████████| 1000/1000 [00:00<00:00, 3150.43it/s]\n",
      "100%|██████████| 1000/1000 [00:00<00:00, 3037.26it/s]\n",
      "100%|██████████| 1000/1000 [00:00<00:00, 3062.09it/s]\n",
      "100%|██████████| 1000/1000 [00:00<00:00, 3081.20it/s]\n",
      "100%|██████████| 1000/1000 [00:00<00:00, 3109.54it/s]\n",
      "100%|██████████| 1000/1000 [00:00<00:00, 3127.67it/s]\n",
      "100%|██████████| 1000/1000 [00:00<00:00, 3079.93it/s]\n",
      "100%|██████████| 1000/1000 [00:00<00:00, 3181.35it/s]\n",
      "100%|██████████| 1000/1000 [00:00<00:00, 2978.85it/s]\n",
      "100%|██████████| 1000/1000 [00:00<00:00, 3068.71it/s]\n",
      "100%|██████████| 1000/1000 [00:00<00:00, 3113.12it/s]\n",
      "100%|██████████| 1000/1000 [00:00<00:00, 3121.66it/s]\n",
      "100%|██████████| 1000/1000 [00:00<00:00, 3132.19it/s]\n",
      "100%|██████████| 1000/1000 [00:00<00:00, 2901.61it/s]\n",
      "100%|██████████| 1000/1000 [00:00<00:00, 3104.31it/s]\n",
      "100%|██████████| 1000/1000 [00:00<00:00, 3098.45it/s]\n",
      "100%|██████████| 1000/1000 [00:00<00:00, 3058.66it/s]\n",
      "100%|██████████| 1000/1000 [00:00<00:00, 3181.27it/s]\n",
      "100%|██████████| 1000/1000 [00:00<00:00, 3122.85it/s]\n",
      "100%|██████████| 1000/1000 [00:00<00:00, 3120.82it/s]\n",
      "100%|██████████| 1000/1000 [00:00<00:00, 3069.74it/s]\n",
      "100%|██████████| 1000/1000 [00:00<00:00, 3057.35it/s]\n",
      "100%|██████████| 1000/1000 [00:00<00:00, 3128.30it/s]\n",
      "100%|██████████| 1000/1000 [00:00<00:00, 3147.64it/s]\n",
      "100%|██████████| 1000/1000 [00:00<00:00, 3153.31it/s]\n",
      "100%|██████████| 1000/1000 [00:00<00:00, 3076.66it/s]\n",
      "100%|██████████| 1000/1000 [00:00<00:00, 3090.50it/s]\n",
      "100%|██████████| 1000/1000 [00:00<00:00, 2997.38it/s]\n",
      "100%|██████████| 1000/1000 [00:00<00:00, 3130.47it/s]\n",
      "100%|██████████| 1000/1000 [00:00<00:00, 3133.95it/s]\n",
      "100%|██████████| 1000/1000 [00:00<00:00, 3003.43it/s]\n",
      "100%|██████████| 1000/1000 [00:00<00:00, 3146.40it/s]\n",
      "100%|██████████| 1000/1000 [00:00<00:00, 3117.55it/s]\n",
      "100%|██████████| 1000/1000 [00:00<00:00, 3175.47it/s]\n",
      "100%|██████████| 1000/1000 [00:00<00:00, 2921.89it/s]\n",
      "100%|██████████| 1000/1000 [00:00<00:00, 3093.85it/s]\n",
      "100%|██████████| 1000/1000 [00:00<00:00, 3169.21it/s]\n",
      "100%|██████████| 1000/1000 [00:00<00:00, 2989.51it/s]\n",
      "100%|██████████| 1000/1000 [00:00<00:00, 3123.07it/s]\n",
      "100%|██████████| 1000/1000 [00:00<00:00, 3183.87it/s]\n",
      "100%|██████████| 1000/1000 [00:00<00:00, 3072.37it/s]\n",
      "100%|██████████| 1000/1000 [00:00<00:00, 3063.56it/s]\n",
      "100%|██████████| 1000/1000 [00:00<00:00, 3069.01it/s]\n",
      "100%|██████████| 1000/1000 [00:00<00:00, 3165.96it/s]\n",
      "100%|██████████| 1000/1000 [00:00<00:00, 3124.78it/s]\n",
      "100%|██████████| 1000/1000 [00:00<00:00, 3066.32it/s]\n",
      "100%|██████████| 1000/1000 [00:00<00:00, 3102.51it/s]\n",
      "100%|██████████| 1000/1000 [00:00<00:00, 2956.03it/s]\n",
      "100%|██████████| 1000/1000 [00:00<00:00, 2925.20it/s]\n",
      "100%|██████████| 1000/1000 [00:00<00:00, 2922.08it/s]\n",
      "100%|██████████| 1000/1000 [00:00<00:00, 3037.12it/s]\n",
      "100%|██████████| 1000/1000 [00:00<00:00, 3140.29it/s]\n",
      "100%|██████████| 1000/1000 [00:00<00:00, 2942.64it/s]\n",
      "100%|██████████| 1000/1000 [00:00<00:00, 3092.95it/s]\n",
      "100%|██████████| 1000/1000 [00:00<00:00, 3125.36it/s]\n",
      "100%|██████████| 1000/1000 [00:00<00:00, 3093.05it/s]\n",
      "100%|██████████| 1000/1000 [00:00<00:00, 3094.52it/s]\n",
      "100%|██████████| 1000/1000 [00:00<00:00, 3082.21it/s]\n",
      "100%|██████████| 1000/1000 [00:00<00:00, 3180.86it/s]\n",
      "100%|██████████| 1000/1000 [00:00<00:00, 3105.99it/s]\n",
      "100%|██████████| 1000/1000 [00:00<00:00, 3125.93it/s]\n",
      "100%|██████████| 1000/1000 [00:00<00:00, 3119.04it/s]\n",
      "100%|██████████| 1000/1000 [00:00<00:00, 3151.16it/s]\n",
      "100%|██████████| 1000/1000 [00:00<00:00, 3090.80it/s]\n",
      "100%|██████████| 1000/1000 [00:00<00:00, 3013.08it/s]\n",
      "100%|██████████| 1000/1000 [00:00<00:00, 2522.50it/s]\n",
      "100%|██████████| 1000/1000 [00:00<00:00, 3082.76it/s]\n",
      "100%|██████████| 1000/1000 [00:00<00:00, 2981.20it/s]\n",
      "100%|██████████| 1000/1000 [00:00<00:00, 3002.67it/s]\n",
      "100%|██████████| 1000/1000 [00:00<00:00, 3189.48it/s]\n",
      "100%|██████████| 1000/1000 [00:00<00:00, 2890.36it/s]\n",
      "100%|██████████| 1000/1000 [00:00<00:00, 3182.28it/s]\n",
      "100%|██████████| 1000/1000 [00:00<00:00, 3177.07it/s]\n",
      "100%|██████████| 1000/1000 [00:00<00:00, 3127.83it/s]\n",
      "100%|██████████| 1000/1000 [00:00<00:00, 2583.29it/s]\n",
      "100%|██████████| 1000/1000 [00:00<00:00, 3184.80it/s]\n",
      "100%|██████████| 1000/1000 [00:00<00:00, 3185.65it/s]\n",
      "100%|██████████| 1000/1000 [00:00<00:00, 3136.86it/s]\n",
      "100%|██████████| 1000/1000 [00:00<00:00, 2992.22it/s]\n",
      "100%|██████████| 1000/1000 [00:00<00:00, 3088.79it/s]\n",
      "100%|██████████| 1000/1000 [00:00<00:00, 3067.01it/s]\n",
      "100%|██████████| 1000/1000 [00:00<00:00, 3140.88it/s]\n",
      "100%|██████████| 1000/1000 [00:00<00:00, 2844.10it/s]\n",
      "100%|██████████| 1000/1000 [00:00<00:00, 2984.62it/s]\n",
      "100%|██████████| 1000/1000 [00:00<00:00, 3052.60it/s]\n",
      "100%|██████████| 1000/1000 [00:00<00:00, 3050.58it/s]\n",
      "100%|██████████| 1000/1000 [00:00<00:00, 3129.42it/s]\n",
      "100%|██████████| 1000/1000 [00:00<00:00, 3141.29it/s]\n",
      "100%|██████████| 1000/1000 [00:00<00:00, 3002.41it/s]\n",
      "100%|██████████| 1000/1000 [00:00<00:00, 3015.43it/s]\n",
      "100%|██████████| 1000/1000 [00:00<00:00, 3063.81it/s]\n",
      "100%|██████████| 1000/1000 [00:00<00:00, 3121.76it/s]\n",
      "100%|██████████| 1000/1000 [00:00<00:00, 3198.06it/s]\n",
      "100%|██████████| 1000/1000 [00:00<00:00, 3180.63it/s]\n",
      "100%|██████████| 1000/1000 [00:00<00:00, 2984.38it/s]\n",
      "100%|██████████| 1000/1000 [00:00<00:00, 3105.33it/s]\n",
      "100%|██████████| 1000/1000 [00:00<00:00, 3167.06it/s]\n",
      "100%|██████████| 1000/1000 [00:00<00:00, 2891.61it/s]\n",
      "100%|██████████| 1000/1000 [00:00<00:00, 2483.93it/s]\n",
      "100%|██████████| 1000/1000 [00:00<00:00, 3151.66it/s]\n",
      "100%|██████████| 1000/1000 [00:00<00:00, 3097.24it/s]\n",
      "100%|██████████| 1000/1000 [00:00<00:00, 3239.23it/s]\n",
      "100%|██████████| 1000/1000 [00:00<00:00, 3051.25it/s]\n",
      "100%|██████████| 1000/1000 [00:00<00:00, 3122.67it/s]\n",
      "100%|██████████| 1000/1000 [00:00<00:00, 3126.12it/s]\n",
      "100%|██████████| 1000/1000 [00:00<00:00, 3082.25it/s]\n",
      "100%|██████████| 1000/1000 [00:00<00:00, 3042.34it/s]\n",
      "100%|██████████| 1000/1000 [00:00<00:00, 3106.07it/s]\n",
      "100%|██████████| 1000/1000 [00:00<00:00, 3021.13it/s]\n",
      "100%|██████████| 1000/1000 [00:00<00:00, 3190.21it/s]\n",
      "100%|██████████| 1000/1000 [00:00<00:00, 3146.05it/s]\n",
      "100%|██████████| 1000/1000 [00:00<00:00, 2902.90it/s]\n",
      "100%|██████████| 1000/1000 [00:00<00:00, 2961.30it/s]\n",
      "100%|██████████| 1000/1000 [00:00<00:00, 3103.42it/s]\n",
      "100%|██████████| 1000/1000 [00:00<00:00, 3102.68it/s]\n",
      "100%|██████████| 1000/1000 [00:00<00:00, 3056.10it/s]\n",
      "100%|██████████| 1000/1000 [00:00<00:00, 3108.15it/s]\n",
      "100%|██████████| 1000/1000 [00:00<00:00, 2949.32it/s]\n",
      "100%|██████████| 1000/1000 [00:00<00:00, 3180.74it/s]\n",
      "100%|██████████| 1000/1000 [00:00<00:00, 3120.11it/s]\n",
      "100%|██████████| 1000/1000 [00:00<00:00, 3071.61it/s]\n",
      "100%|██████████| 1000/1000 [00:00<00:00, 3072.08it/s]\n",
      "100%|██████████| 1000/1000 [00:00<00:00, 3114.44it/s]\n",
      "100%|██████████| 1000/1000 [00:00<00:00, 3116.86it/s]\n",
      "100%|██████████| 1000/1000 [00:00<00:00, 3012.21it/s]\n",
      "100%|██████████| 1000/1000 [00:00<00:00, 3116.26it/s]\n",
      "100%|██████████| 1000/1000 [00:00<00:00, 2659.78it/s]\n",
      "100%|██████████| 1000/1000 [00:00<00:00, 2916.23it/s]\n",
      "100%|██████████| 1000/1000 [00:00<00:00, 3163.62it/s]\n",
      "100%|██████████| 1000/1000 [00:00<00:00, 3107.05it/s]\n",
      "100%|██████████| 1000/1000 [00:00<00:00, 3073.21it/s]\n",
      "100%|██████████| 1000/1000 [00:00<00:00, 3165.33it/s]\n",
      "100%|██████████| 1000/1000 [00:00<00:00, 2952.77it/s]\n",
      "100%|██████████| 1000/1000 [00:00<00:00, 3096.42it/s]\n",
      "100%|██████████| 1000/1000 [00:00<00:00, 3163.37it/s]\n",
      "100%|██████████| 1000/1000 [00:00<00:00, 2981.34it/s]\n",
      "100%|██████████| 1000/1000 [00:00<00:00, 3104.00it/s]\n",
      "100%|██████████| 1000/1000 [00:00<00:00, 3044.90it/s]\n",
      "100%|██████████| 1000/1000 [00:00<00:00, 3167.87it/s]\n",
      "100%|██████████| 1000/1000 [00:00<00:00, 2988.89it/s]\n",
      "100%|██████████| 1000/1000 [00:00<00:00, 3104.41it/s]\n",
      "100%|██████████| 1000/1000 [00:00<00:00, 3092.58it/s]\n",
      "100%|██████████| 1000/1000 [00:00<00:00, 2918.28it/s]\n",
      "100%|██████████| 1000/1000 [00:00<00:00, 3059.62it/s]\n",
      "100%|██████████| 1000/1000 [00:00<00:00, 3092.81it/s]\n",
      "100%|██████████| 1000/1000 [00:00<00:00, 3108.94it/s]\n",
      "100%|██████████| 1000/1000 [00:00<00:00, 3056.22it/s]\n",
      "100%|██████████| 1000/1000 [00:00<00:00, 2989.86it/s]\n",
      "100%|██████████| 1000/1000 [00:00<00:00, 3080.36it/s]\n",
      "100%|██████████| 1000/1000 [00:00<00:00, 3134.65it/s]\n",
      "100%|██████████| 1000/1000 [00:00<00:00, 2969.38it/s]\n",
      "100%|██████████| 1000/1000 [00:00<00:00, 3132.85it/s]\n",
      "100%|██████████| 1000/1000 [00:00<00:00, 3113.03it/s]\n",
      "100%|██████████| 1000/1000 [00:00<00:00, 3165.34it/s]\n",
      "100%|██████████| 1000/1000 [00:00<00:00, 3025.62it/s]\n",
      "100%|██████████| 1000/1000 [00:00<00:00, 3086.39it/s]\n",
      "100%|██████████| 1000/1000 [00:00<00:00, 3154.11it/s]\n",
      "100%|██████████| 1000/1000 [00:00<00:00, 3004.57it/s]\n",
      "100%|██████████| 1000/1000 [00:00<00:00, 3093.87it/s]\n",
      "100%|██████████| 1000/1000 [00:00<00:00, 3100.98it/s]\n",
      "100%|██████████| 1000/1000 [00:00<00:00, 3048.47it/s]\n",
      "100%|██████████| 1000/1000 [00:00<00:00, 3098.70it/s]\n",
      "100%|██████████| 1000/1000 [00:00<00:00, 3107.32it/s]\n",
      "100%|██████████| 1000/1000 [00:00<00:00, 3103.88it/s]\n",
      "100%|██████████| 1000/1000 [00:00<00:00, 2988.36it/s]\n",
      "100%|██████████| 1000/1000 [00:00<00:00, 3132.79it/s]\n",
      "100%|██████████| 1000/1000 [00:00<00:00, 3128.45it/s]\n",
      "100%|██████████| 1000/1000 [00:00<00:00, 2897.52it/s]\n",
      "100%|██████████| 1000/1000 [00:00<00:00, 3167.31it/s]\n",
      "100%|██████████| 1000/1000 [00:00<00:00, 3121.39it/s]\n",
      "100%|██████████| 1000/1000 [00:00<00:00, 3065.85it/s]\n",
      "100%|██████████| 1000/1000 [00:00<00:00, 3094.61it/s]\n",
      "100%|██████████| 1000/1000 [00:00<00:00, 2896.90it/s]\n",
      "100%|██████████| 1000/1000 [00:00<00:00, 3098.48it/s]\n",
      "100%|██████████| 1000/1000 [00:00<00:00, 3040.25it/s]\n",
      "100%|██████████| 1000/1000 [00:00<00:00, 2558.80it/s]\n",
      "100%|██████████| 1000/1000 [00:00<00:00, 3035.90it/s]\n",
      "100%|██████████| 1000/1000 [00:00<00:00, 3086.34it/s]\n",
      "100%|██████████| 1000/1000 [00:00<00:00, 3093.44it/s]\n",
      "100%|██████████| 1000/1000 [00:00<00:00, 3052.10it/s]\n",
      "100%|██████████| 1000/1000 [00:00<00:00, 3130.70it/s]\n",
      "100%|██████████| 1000/1000 [00:00<00:00, 3059.38it/s]\n",
      "100%|██████████| 1000/1000 [00:00<00:00, 3122.53it/s]\n",
      "100%|██████████| 1000/1000 [00:00<00:00, 3147.40it/s]\n",
      "100%|██████████| 1000/1000 [00:00<00:00, 3098.62it/s]\n",
      "100%|██████████| 1000/1000 [00:00<00:00, 2968.88it/s]\n",
      "100%|██████████| 1000/1000 [00:00<00:00, 3115.96it/s]\n",
      "100%|██████████| 1000/1000 [00:00<00:00, 3095.82it/s]\n",
      "100%|██████████| 1000/1000 [00:00<00:00, 3102.26it/s]\n",
      "100%|██████████| 1000/1000 [00:00<00:00, 3153.37it/s]\n",
      "100%|██████████| 1000/1000 [00:00<00:00, 2957.03it/s]\n",
      "100%|██████████| 1000/1000 [00:00<00:00, 3060.23it/s]\n",
      "100%|██████████| 1000/1000 [00:00<00:00, 2412.06it/s]\n",
      "100%|██████████| 1000/1000 [00:00<00:00, 3124.30it/s]\n",
      "100%|██████████| 1000/1000 [00:00<00:00, 3100.85it/s]\n",
      "100%|██████████| 1000/1000 [00:00<00:00, 3071.90it/s]\n",
      "100%|██████████| 1000/1000 [00:00<00:00, 2561.64it/s]\n",
      "100%|██████████| 1000/1000 [00:00<00:00, 3127.52it/s]\n",
      "100%|██████████| 1000/1000 [00:00<00:00, 3099.70it/s]\n",
      "100%|██████████| 1000/1000 [00:00<00:00, 3166.68it/s]\n",
      "100%|██████████| 1000/1000 [00:00<00:00, 2978.23it/s]\n",
      "100%|██████████| 1000/1000 [00:00<00:00, 3054.01it/s]\n",
      "100%|██████████| 1000/1000 [00:00<00:00, 3110.81it/s]\n",
      "100%|██████████| 1000/1000 [00:00<00:00, 3089.23it/s]\n",
      "100%|██████████| 1000/1000 [00:00<00:00, 3137.65it/s]\n",
      "100%|██████████| 1000/1000 [00:00<00:00, 3114.45it/s]\n",
      "100%|██████████| 1000/1000 [00:00<00:00, 2938.34it/s]\n",
      "100%|██████████| 1000/1000 [00:00<00:00, 3135.68it/s]\n",
      "100%|██████████| 1000/1000 [00:00<00:00, 3161.82it/s]\n",
      "100%|██████████| 1000/1000 [00:00<00:00, 3154.04it/s]\n",
      "100%|██████████| 1000/1000 [00:00<00:00, 2954.04it/s]\n",
      "100%|██████████| 1000/1000 [00:00<00:00, 2941.38it/s]\n",
      "100%|██████████| 1000/1000 [00:00<00:00, 2835.64it/s]\n",
      "100%|██████████| 1000/1000 [00:00<00:00, 2941.49it/s]\n",
      "100%|██████████| 1000/1000 [00:00<00:00, 3059.30it/s]\n",
      "100%|██████████| 1000/1000 [00:00<00:00, 3142.47it/s]\n",
      "100%|██████████| 1000/1000 [00:00<00:00, 3127.47it/s]\n",
      "100%|██████████| 1000/1000 [00:00<00:00, 3069.35it/s]\n",
      "100%|██████████| 1000/1000 [00:00<00:00, 3045.14it/s]\n",
      "100%|██████████| 1000/1000 [00:00<00:00, 3112.04it/s]\n",
      "100%|██████████| 1000/1000 [00:00<00:00, 2795.43it/s]\n",
      "100%|██████████| 1000/1000 [00:00<00:00, 3012.47it/s]\n",
      "100%|██████████| 1000/1000 [00:00<00:00, 3170.68it/s]\n",
      "100%|██████████| 1000/1000 [00:00<00:00, 3167.65it/s]\n",
      "100%|██████████| 1000/1000 [00:00<00:00, 3095.55it/s]\n",
      "100%|██████████| 1000/1000 [00:00<00:00, 3176.16it/s]\n",
      "100%|██████████| 1000/1000 [00:00<00:00, 3099.06it/s]\n",
      "100%|██████████| 1000/1000 [00:00<00:00, 2991.02it/s]\n",
      "100%|██████████| 1000/1000 [00:00<00:00, 3160.03it/s]\n",
      "100%|██████████| 1000/1000 [00:00<00:00, 2964.08it/s]\n",
      "100%|██████████| 1000/1000 [00:00<00:00, 3055.80it/s]\n",
      "100%|██████████| 1000/1000 [00:00<00:00, 3044.47it/s]\n",
      "100%|██████████| 1000/1000 [00:00<00:00, 2519.73it/s]\n",
      "100%|██████████| 1000/1000 [00:00<00:00, 2993.91it/s]\n",
      "100%|██████████| 1000/1000 [00:00<00:00, 3072.35it/s]\n",
      "100%|██████████| 1000/1000 [00:00<00:00, 2982.64it/s]\n",
      "100%|██████████| 1000/1000 [00:00<00:00, 2995.07it/s]\n",
      "100%|██████████| 1000/1000 [00:00<00:00, 2969.61it/s]\n",
      "100%|██████████| 1000/1000 [00:00<00:00, 3078.90it/s]\n",
      "100%|██████████| 1000/1000 [00:00<00:00, 3108.13it/s]\n",
      "100%|██████████| 1000/1000 [00:00<00:00, 3080.38it/s]\n",
      "100%|██████████| 1000/1000 [00:00<00:00, 3051.00it/s]\n",
      "100%|██████████| 1000/1000 [00:00<00:00, 3045.69it/s]\n",
      "100%|██████████| 1000/1000 [00:00<00:00, 3075.17it/s]\n",
      "100%|██████████| 1000/1000 [00:00<00:00, 3056.31it/s]\n",
      "100%|██████████| 1000/1000 [00:00<00:00, 2907.61it/s]\n",
      "100%|██████████| 1000/1000 [00:00<00:00, 3088.35it/s]\n",
      "100%|██████████| 1000/1000 [00:00<00:00, 3119.62it/s]\n",
      "100%|██████████| 1000/1000 [00:00<00:00, 3013.96it/s]\n",
      "100%|██████████| 1000/1000 [00:00<00:00, 3151.38it/s]\n",
      "100%|██████████| 1000/1000 [00:00<00:00, 2344.15it/s]\n",
      "100%|██████████| 1000/1000 [00:00<00:00, 2526.87it/s]\n",
      "100%|██████████| 1000/1000 [00:00<00:00, 3085.06it/s]\n",
      "100%|██████████| 1000/1000 [00:00<00:00, 3086.10it/s]\n",
      "100%|██████████| 1000/1000 [00:00<00:00, 3051.86it/s]\n",
      "100%|██████████| 1000/1000 [00:00<00:00, 3077.03it/s]\n",
      "100%|██████████| 1000/1000 [00:00<00:00, 3114.15it/s]\n",
      "100%|██████████| 1000/1000 [00:00<00:00, 3098.89it/s]\n",
      "100%|██████████| 1000/1000 [00:00<00:00, 3028.77it/s]\n",
      "100%|██████████| 1000/1000 [00:00<00:00, 3122.61it/s]\n",
      "100%|██████████| 1000/1000 [00:00<00:00, 3105.69it/s]\n",
      "100%|██████████| 1000/1000 [00:00<00:00, 3150.51it/s]\n",
      "100%|██████████| 1000/1000 [00:00<00:00, 3125.55it/s]\n",
      "100%|██████████| 1000/1000 [00:00<00:00, 3005.35it/s]\n",
      "100%|██████████| 1000/1000 [00:00<00:00, 2996.96it/s]\n",
      "100%|██████████| 1000/1000 [00:00<00:00, 2933.26it/s]\n",
      "100%|██████████| 1000/1000 [00:00<00:00, 3148.12it/s]\n",
      "100%|██████████| 1000/1000 [00:00<00:00, 3110.78it/s]\n",
      "100%|██████████| 1000/1000 [00:00<00:00, 2996.42it/s]\n",
      "100%|██████████| 1000/1000 [00:00<00:00, 3095.06it/s]\n",
      "100%|██████████| 1000/1000 [00:00<00:00, 3094.06it/s]\n",
      "100%|██████████| 1000/1000 [00:00<00:00, 3135.84it/s]\n",
      "100%|██████████| 1000/1000 [00:00<00:00, 2826.26it/s]\n",
      "100%|██████████| 1000/1000 [00:00<00:00, 3061.12it/s]\n",
      "100%|██████████| 1000/1000 [00:00<00:00, 3161.15it/s]\n",
      "100%|██████████| 1000/1000 [00:00<00:00, 3149.44it/s]\n",
      "100%|██████████| 1000/1000 [00:00<00:00, 3148.31it/s]\n",
      "100%|██████████| 1000/1000 [00:00<00:00, 2946.16it/s]\n",
      "100%|██████████| 1000/1000 [00:00<00:00, 3073.23it/s]\n",
      "100%|██████████| 1000/1000 [00:00<00:00, 3137.45it/s]\n",
      "100%|██████████| 1000/1000 [00:00<00:00, 2908.10it/s]\n",
      "100%|██████████| 1000/1000 [00:00<00:00, 3183.69it/s]\n",
      "100%|██████████| 1000/1000 [00:00<00:00, 3064.34it/s]\n",
      "100%|██████████| 1000/1000 [00:00<00:00, 3183.24it/s]\n",
      "100%|██████████| 1000/1000 [00:00<00:00, 3117.97it/s]\n",
      "100%|██████████| 1000/1000 [00:00<00:00, 3108.39it/s]\n",
      "100%|██████████| 1000/1000 [00:00<00:00, 3081.00it/s]\n",
      "100%|██████████| 1000/1000 [00:00<00:00, 3099.66it/s]\n",
      "100%|██████████| 1000/1000 [00:00<00:00, 3165.26it/s]\n",
      "100%|██████████| 1000/1000 [00:00<00:00, 3100.65it/s]\n",
      "100%|██████████| 1000/1000 [00:00<00:00, 3111.93it/s]\n",
      "100%|██████████| 1000/1000 [00:00<00:00, 3121.10it/s]\n",
      "100%|██████████| 1000/1000 [00:00<00:00, 3111.44it/s]\n",
      "100%|██████████| 1000/1000 [00:00<00:00, 3101.32it/s]\n",
      "100%|██████████| 1000/1000 [00:00<00:00, 3068.12it/s]\n",
      "100%|██████████| 1000/1000 [00:00<00:00, 2968.30it/s]\n",
      "100%|██████████| 1000/1000 [00:00<00:00, 3110.04it/s]\n",
      "100%|██████████| 1000/1000 [00:00<00:00, 3112.99it/s]\n",
      "100%|██████████| 1000/1000 [00:00<00:00, 3039.65it/s]\n",
      "100%|██████████| 1000/1000 [00:00<00:00, 3163.77it/s]\n",
      "100%|██████████| 1000/1000 [00:00<00:00, 2967.67it/s]\n",
      "100%|██████████| 1000/1000 [00:00<00:00, 2829.21it/s]\n",
      "100%|██████████| 1000/1000 [00:00<00:00, 3000.95it/s]\n",
      "100%|██████████| 1000/1000 [00:00<00:00, 3108.79it/s]\n",
      "100%|██████████| 1000/1000 [00:00<00:00, 3159.93it/s]\n",
      "100%|██████████| 1000/1000 [00:00<00:00, 3095.94it/s]\n",
      "100%|██████████| 1000/1000 [00:00<00:00, 3004.77it/s]\n",
      "100%|██████████| 1000/1000 [00:00<00:00, 3128.22it/s]\n",
      "100%|██████████| 1000/1000 [00:00<00:00, 2909.81it/s]\n",
      "100%|██████████| 1000/1000 [00:00<00:00, 3210.94it/s]\n",
      "100%|██████████| 1000/1000 [00:00<00:00, 2843.22it/s]\n",
      "100%|██████████| 1000/1000 [00:00<00:00, 3057.94it/s]\n",
      "100%|██████████| 1000/1000 [00:00<00:00, 3079.13it/s]\n",
      "100%|██████████| 1000/1000 [00:00<00:00, 2746.35it/s]\n",
      "100%|██████████| 1000/1000 [00:00<00:00, 2992.87it/s]\n",
      "100%|██████████| 1000/1000 [00:00<00:00, 3160.17it/s]\n",
      "100%|██████████| 1000/1000 [00:00<00:00, 3109.52it/s]\n",
      "100%|██████████| 1000/1000 [00:00<00:00, 3029.19it/s]\n",
      "100%|██████████| 1000/1000 [00:00<00:00, 3080.62it/s]\n",
      "100%|██████████| 1000/1000 [00:00<00:00, 2901.54it/s]\n",
      "100%|██████████| 1000/1000 [00:00<00:00, 3020.97it/s]\n",
      "100%|██████████| 1000/1000 [00:00<00:00, 3084.42it/s]\n",
      "100%|██████████| 1000/1000 [00:00<00:00, 3065.75it/s]\n",
      "100%|██████████| 1000/1000 [00:00<00:00, 3128.69it/s]\n",
      "100%|██████████| 1000/1000 [00:00<00:00, 3079.71it/s]\n",
      "100%|██████████| 1000/1000 [00:00<00:00, 2921.78it/s]\n",
      "100%|██████████| 1000/1000 [00:00<00:00, 3085.78it/s]\n",
      "100%|██████████| 1000/1000 [00:00<00:00, 3121.52it/s]\n",
      "100%|██████████| 1000/1000 [00:00<00:00, 2932.33it/s]\n",
      "100%|██████████| 1000/1000 [00:00<00:00, 3025.53it/s]\n",
      "100%|██████████| 1000/1000 [00:00<00:00, 3119.52it/s]\n",
      "100%|██████████| 1000/1000 [00:00<00:00, 3068.59it/s]\n",
      "100%|██████████| 1000/1000 [00:00<00:00, 3044.77it/s]\n",
      "100%|██████████| 1000/1000 [00:00<00:00, 3188.35it/s]\n",
      "100%|██████████| 1000/1000 [00:00<00:00, 3108.69it/s]\n",
      "100%|██████████| 1000/1000 [00:00<00:00, 3151.61it/s]\n",
      "100%|██████████| 1000/1000 [00:00<00:00, 3091.84it/s]\n",
      "100%|██████████| 1000/1000 [00:00<00:00, 3048.74it/s]\n",
      "100%|██████████| 1000/1000 [00:00<00:00, 3138.36it/s]\n",
      "100%|██████████| 1000/1000 [00:00<00:00, 3017.86it/s]\n",
      "100%|██████████| 1000/1000 [00:00<00:00, 3056.32it/s]\n",
      "100%|██████████| 1000/1000 [00:00<00:00, 3082.92it/s]\n",
      "100%|██████████| 1000/1000 [00:00<00:00, 3115.38it/s]\n",
      "100%|██████████| 1000/1000 [00:00<00:00, 3093.64it/s]\n",
      "100%|██████████| 1000/1000 [00:00<00:00, 3152.07it/s]\n",
      "100%|██████████| 1000/1000 [00:00<00:00, 3069.34it/s]\n",
      "100%|██████████| 1000/1000 [00:00<00:00, 3235.68it/s]\n",
      "100%|██████████| 1000/1000 [00:00<00:00, 3160.58it/s]\n",
      "100%|██████████| 1000/1000 [00:00<00:00, 3153.83it/s]\n",
      "100%|██████████| 1000/1000 [00:00<00:00, 2957.45it/s]\n",
      "100%|██████████| 1000/1000 [00:00<00:00, 3105.16it/s]\n",
      "100%|██████████| 1000/1000 [00:00<00:00, 2871.88it/s]\n",
      "100%|██████████| 1000/1000 [00:00<00:00, 3097.46it/s]\n",
      "100%|██████████| 1000/1000 [00:00<00:00, 3114.86it/s]\n",
      "100%|██████████| 1000/1000 [00:00<00:00, 3044.37it/s]\n",
      "100%|██████████| 1000/1000 [00:00<00:00, 3089.08it/s]\n",
      "100%|██████████| 1000/1000 [00:00<00:00, 3009.32it/s]\n"
     ]
    }
   ],
   "source": [
    "import time\n",
    "cell1000=[]\n",
    "for i,idx in enumerate(r_idx):\n",
    "    for genes in idx:\n",
    "        ad=tmp[:1000,genes].copy()\n",
    "        ad.layers['count']=ad.X.copy()\n",
    "        sc.pp.normalize_total(ad, target_sum=1e4)\n",
    "        sc.pp.log1p(ad)\n",
    "        start = time.time()\n",
    "        new_ad=scdenorm(ad)\n",
    "        end = time.time()\n",
    "        res=new_ad.X.data-new_ad.layers['count'].data\n",
    "        cell1000.append([end - start,abs(res).sum(),ad.shape[0],ad.shape[1]])"
   ]
  },
  {
   "cell_type": "code",
   "execution_count": 88,
   "id": "db2e7f6d-1c9e-454e-b408-ccc5318f8061",
   "metadata": {},
   "outputs": [],
   "source": [
    "df1000=pd.DataFrame(cell1000)"
   ]
  },
  {
   "cell_type": "code",
   "execution_count": 90,
   "id": "2bea5169-7818-493d-b4f7-4b9bf284973a",
   "metadata": {},
   "outputs": [],
   "source": [
    "df1000.columns=['time','sar','cells','genes']"
   ]
  },
  {
   "cell_type": "code",
   "execution_count": 119,
   "id": "c1520fdd-e416-4b90-86dc-23bcb18c3c84",
   "metadata": {},
   "outputs": [
    {
     "data": {
      "text/html": [
       "<div>\n",
       "<style scoped>\n",
       "    .dataframe tbody tr th:only-of-type {\n",
       "        vertical-align: middle;\n",
       "    }\n",
       "\n",
       "    .dataframe tbody tr th {\n",
       "        vertical-align: top;\n",
       "    }\n",
       "\n",
       "    .dataframe thead th {\n",
       "        text-align: right;\n",
       "    }\n",
       "</style>\n",
       "<table border=\"1\" class=\"dataframe\">\n",
       "  <thead>\n",
       "    <tr style=\"text-align: right;\">\n",
       "      <th></th>\n",
       "      <th>time</th>\n",
       "      <th>sar</th>\n",
       "      <th>cells</th>\n",
       "      <th>genes</th>\n",
       "    </tr>\n",
       "  </thead>\n",
       "  <tbody>\n",
       "    <tr>\n",
       "      <th>0</th>\n",
       "      <td>1.262643</td>\n",
       "      <td>0.010460</td>\n",
       "      <td>1000</td>\n",
       "      <td>10000</td>\n",
       "    </tr>\n",
       "    <tr>\n",
       "      <th>1</th>\n",
       "      <td>2.226568</td>\n",
       "      <td>0.024844</td>\n",
       "      <td>1000</td>\n",
       "      <td>15000</td>\n",
       "    </tr>\n",
       "    <tr>\n",
       "      <th>2</th>\n",
       "      <td>3.635163</td>\n",
       "      <td>0.021536</td>\n",
       "      <td>1000</td>\n",
       "      <td>20000</td>\n",
       "    </tr>\n",
       "    <tr>\n",
       "      <th>3</th>\n",
       "      <td>5.206052</td>\n",
       "      <td>0.022915</td>\n",
       "      <td>1000</td>\n",
       "      <td>25000</td>\n",
       "    </tr>\n",
       "    <tr>\n",
       "      <th>4</th>\n",
       "      <td>7.207669</td>\n",
       "      <td>0.023130</td>\n",
       "      <td>1000</td>\n",
       "      <td>30000</td>\n",
       "    </tr>\n",
       "    <tr>\n",
       "      <th>...</th>\n",
       "      <td>...</td>\n",
       "      <td>...</td>\n",
       "      <td>...</td>\n",
       "      <td>...</td>\n",
       "    </tr>\n",
       "    <tr>\n",
       "      <th>595</th>\n",
       "      <td>2.391077</td>\n",
       "      <td>0.025924</td>\n",
       "      <td>1000</td>\n",
       "      <td>15000</td>\n",
       "    </tr>\n",
       "    <tr>\n",
       "      <th>596</th>\n",
       "      <td>3.469960</td>\n",
       "      <td>0.014862</td>\n",
       "      <td>1000</td>\n",
       "      <td>20000</td>\n",
       "    </tr>\n",
       "    <tr>\n",
       "      <th>597</th>\n",
       "      <td>5.460088</td>\n",
       "      <td>0.020331</td>\n",
       "      <td>1000</td>\n",
       "      <td>25000</td>\n",
       "    </tr>\n",
       "    <tr>\n",
       "      <th>598</th>\n",
       "      <td>7.236061</td>\n",
       "      <td>0.036820</td>\n",
       "      <td>1000</td>\n",
       "      <td>30000</td>\n",
       "    </tr>\n",
       "    <tr>\n",
       "      <th>599</th>\n",
       "      <td>9.548724</td>\n",
       "      <td>0.028796</td>\n",
       "      <td>1000</td>\n",
       "      <td>35000</td>\n",
       "    </tr>\n",
       "  </tbody>\n",
       "</table>\n",
       "<p>600 rows × 4 columns</p>\n",
       "</div>"
      ],
      "text/plain": [
       "         time       sar  cells  genes\n",
       "0    1.262643  0.010460   1000  10000\n",
       "1    2.226568  0.024844   1000  15000\n",
       "2    3.635163  0.021536   1000  20000\n",
       "3    5.206052  0.022915   1000  25000\n",
       "4    7.207669  0.023130   1000  30000\n",
       "..        ...       ...    ...    ...\n",
       "595  2.391077  0.025924   1000  15000\n",
       "596  3.469960  0.014862   1000  20000\n",
       "597  5.460088  0.020331   1000  25000\n",
       "598  7.236061  0.036820   1000  30000\n",
       "599  9.548724  0.028796   1000  35000\n",
       "\n",
       "[600 rows x 4 columns]"
      ]
     },
     "execution_count": 119,
     "metadata": {},
     "output_type": "execute_result"
    }
   ],
   "source": [
    "df1000"
   ]
  },
  {
   "cell_type": "code",
   "execution_count": 122,
   "id": "ff5154b2-bb6f-42b9-b2a3-b00e3f5ea818",
   "metadata": {},
   "outputs": [],
   "source": [
    "with open('data/times-cell1000.pickle', 'wb') as handle:\n",
    "    pickle.dump(df1000, handle, protocol=pickle.HIGHEST_PROTOCOL)"
   ]
  },
  {
   "cell_type": "code",
   "execution_count": 120,
   "id": "0e26b6b0-dba3-4201-8e18-353c554249d8",
   "metadata": {},
   "outputs": [
    {
     "data": {
      "text/plain": [
       "<AxesSubplot:xlabel='genes', ylabel='time'>"
      ]
     },
     "execution_count": 120,
     "metadata": {},
     "output_type": "execute_result"
    },
    {
     "data": {
      "image/png": "[encoded data removed]",
      "text/plain": [
       "<Figure size 432x324 with 1 Axes>"
      ]
     },
     "metadata": {
      "needs_background": "light"
     },
     "output_type": "display_data"
    }
   ],
   "source": [
    "sns.violinplot(y=\"time\", x=\"genes\", hue=\"cells\",data=df1000)"
   ]
  },
  {
   "cell_type": "markdown",
   "id": "999a7ade-e747-4799-bb9c-ac643f064b10",
   "metadata": {},
   "source": [
    "### plot"
   ]
  },
  {
   "cell_type": "code",
   "execution_count": 188,
   "id": "e958179b-7b52-4ef6-b936-aa386b29edab",
   "metadata": {},
   "outputs": [
    {
     "data": {
      "image/png": "[encoded data removed]",
      "text/plain": [
       "<Figure size 432x288 with 1 Axes>"
      ]
     },
     "metadata": {
      "needs_background": "light"
     },
     "output_type": "display_data"
    }
   ],
   "source": [
    "figsize(6,4)\n",
    "sns.violinplot(y=\"time\", x=\"genes\",data=df1000)\n",
    "plt.savefig('figures/Sup_figure_4.pdf',dpi=600,format='pdf', transparent=True)\n",
    "plt.show()"
   ]
  },
  {
   "cell_type": "code",
   "execution_count": null,
   "id": "15339daa-1a3e-4cd2-bb53-51d3799ffe55",
   "metadata": {},
   "outputs": [],
   "source": []
  },
  {
   "cell_type": "code",
   "execution_count": 115,
   "id": "8bc14be2-78ba-4964-b9be-f0226f30a7fe",
   "metadata": {
    "collapsed": true,
    "jupyter": {
     "outputs_hidden": true
    },
    "tags": []
   },
   "outputs": [
    {
     "name": "stderr",
     "output_type": "stream",
     "text": [
      "100%|██████████| 5000/5000 [00:01<00:00, 2910.99it/s]\n",
      "100%|██████████| 5000/5000 [00:01<00:00, 2992.63it/s]\n",
      "100%|██████████| 5000/5000 [00:01<00:00, 3152.17it/s]\n",
      "100%|██████████| 5000/5000 [00:01<00:00, 3002.11it/s]\n",
      "100%|██████████| 5000/5000 [00:01<00:00, 2914.72it/s]\n",
      "100%|██████████| 5000/5000 [00:01<00:00, 3015.70it/s]\n",
      "100%|██████████| 5000/5000 [00:01<00:00, 3148.71it/s]\n",
      "100%|██████████| 5000/5000 [00:01<00:00, 3049.47it/s]\n",
      "100%|██████████| 5000/5000 [00:01<00:00, 2995.07it/s]\n",
      "100%|██████████| 5000/5000 [00:01<00:00, 3079.21it/s]\n",
      "100%|██████████| 5000/5000 [00:01<00:00, 2935.40it/s]\n",
      "100%|██████████| 5000/5000 [00:01<00:00, 3050.71it/s]\n",
      "100%|██████████| 5000/5000 [00:01<00:00, 3123.76it/s]\n",
      "100%|██████████| 5000/5000 [00:01<00:00, 3121.90it/s]\n",
      "100%|██████████| 5000/5000 [00:01<00:00, 3052.09it/s]\n",
      "100%|██████████| 5000/5000 [00:01<00:00, 2945.54it/s]\n",
      "100%|██████████| 5000/5000 [00:01<00:00, 3037.02it/s]\n",
      "100%|██████████| 5000/5000 [00:01<00:00, 2999.92it/s]\n",
      "100%|██████████| 5000/5000 [00:01<00:00, 3122.92it/s]\n",
      "100%|██████████| 5000/5000 [00:01<00:00, 3118.50it/s]\n",
      "100%|██████████| 5000/5000 [00:01<00:00, 3102.52it/s]\n",
      "100%|██████████| 5000/5000 [00:01<00:00, 3066.31it/s]\n",
      "100%|██████████| 5000/5000 [00:01<00:00, 2711.10it/s]\n",
      "100%|██████████| 5000/5000 [00:01<00:00, 3033.54it/s]\n",
      "100%|██████████| 5000/5000 [00:01<00:00, 3081.15it/s]\n",
      "100%|██████████| 5000/5000 [00:01<00:00, 3065.10it/s]\n",
      "100%|██████████| 5000/5000 [00:01<00:00, 3111.84it/s]\n",
      "100%|██████████| 5000/5000 [00:01<00:00, 3035.60it/s]\n",
      "100%|██████████| 5000/5000 [00:01<00:00, 3066.90it/s]\n",
      "100%|██████████| 5000/5000 [00:01<00:00, 3078.87it/s]\n",
      "100%|██████████| 5000/5000 [00:01<00:00, 3135.42it/s]\n",
      "100%|██████████| 5000/5000 [00:01<00:00, 3102.85it/s]\n",
      "100%|██████████| 5000/5000 [00:01<00:00, 3092.10it/s]\n",
      "100%|██████████| 5000/5000 [00:01<00:00, 3083.87it/s]\n",
      "100%|██████████| 5000/5000 [00:01<00:00, 3079.49it/s]\n",
      "100%|██████████| 5000/5000 [00:01<00:00, 3107.22it/s]\n",
      "100%|██████████| 5000/5000 [00:01<00:00, 3145.19it/s]\n",
      "100%|██████████| 5000/5000 [00:01<00:00, 3151.52it/s]\n",
      "100%|██████████| 5000/5000 [00:01<00:00, 3011.75it/s]\n",
      "100%|██████████| 5000/5000 [00:01<00:00, 3065.62it/s]\n",
      "100%|██████████| 5000/5000 [00:01<00:00, 2950.46it/s]\n",
      "100%|██████████| 5000/5000 [00:01<00:00, 2892.40it/s]\n",
      "100%|██████████| 5000/5000 [00:01<00:00, 3133.93it/s]\n",
      "100%|██████████| 5000/5000 [00:01<00:00, 2922.37it/s]\n",
      "100%|██████████| 5000/5000 [00:01<00:00, 3151.73it/s]\n",
      "100%|██████████| 5000/5000 [00:01<00:00, 3093.04it/s]\n",
      "100%|██████████| 5000/5000 [00:01<00:00, 3055.78it/s]\n",
      "100%|██████████| 5000/5000 [00:01<00:00, 3057.75it/s]\n",
      "100%|██████████| 5000/5000 [00:01<00:00, 3156.89it/s]\n",
      "100%|██████████| 5000/5000 [00:01<00:00, 3172.43it/s]\n",
      "100%|██████████| 5000/5000 [00:01<00:00, 3128.08it/s]\n",
      "100%|██████████| 5000/5000 [00:01<00:00, 3080.94it/s]\n",
      "100%|██████████| 5000/5000 [00:01<00:00, 3111.06it/s]\n",
      "100%|██████████| 5000/5000 [00:01<00:00, 3050.54it/s]\n",
      "100%|██████████| 5000/5000 [00:01<00:00, 3210.74it/s]\n",
      "100%|██████████| 5000/5000 [00:01<00:00, 3039.40it/s]\n",
      "100%|██████████| 5000/5000 [00:01<00:00, 3124.47it/s]\n",
      "100%|██████████| 5000/5000 [00:01<00:00, 3121.90it/s]\n",
      "100%|██████████| 5000/5000 [00:01<00:00, 2971.48it/s]\n",
      "100%|██████████| 5000/5000 [00:01<00:00, 3089.59it/s]\n",
      "100%|██████████| 5000/5000 [00:01<00:00, 3231.51it/s]\n",
      "100%|██████████| 5000/5000 [00:01<00:00, 3228.46it/s]\n",
      "100%|██████████| 5000/5000 [00:01<00:00, 3106.38it/s]\n",
      "100%|██████████| 5000/5000 [00:01<00:00, 3067.47it/s]\n",
      "100%|██████████| 5000/5000 [00:01<00:00, 3154.61it/s]\n",
      "100%|██████████| 5000/5000 [00:01<00:00, 2970.69it/s]\n",
      "100%|██████████| 5000/5000 [00:01<00:00, 3146.07it/s]\n",
      "100%|██████████| 5000/5000 [00:01<00:00, 2945.26it/s]\n",
      "100%|██████████| 5000/5000 [00:01<00:00, 3076.69it/s]\n",
      "100%|██████████| 5000/5000 [00:01<00:00, 3042.51it/s]\n",
      "100%|██████████| 5000/5000 [00:01<00:00, 3069.62it/s]\n",
      "100%|██████████| 5000/5000 [00:01<00:00, 3040.63it/s]\n",
      "100%|██████████| 5000/5000 [00:01<00:00, 3189.04it/s]\n",
      "100%|██████████| 5000/5000 [00:01<00:00, 3142.20it/s]\n",
      "100%|██████████| 5000/5000 [00:01<00:00, 2990.98it/s]\n",
      "100%|██████████| 5000/5000 [00:01<00:00, 2997.90it/s]\n",
      "100%|██████████| 5000/5000 [00:01<00:00, 3062.45it/s]\n",
      "100%|██████████| 5000/5000 [00:01<00:00, 3025.61it/s]\n",
      "100%|██████████| 5000/5000 [00:01<00:00, 3191.35it/s]\n",
      "100%|██████████| 5000/5000 [00:01<00:00, 3116.83it/s]\n",
      "100%|██████████| 5000/5000 [00:01<00:00, 3083.23it/s]\n",
      "100%|██████████| 5000/5000 [00:01<00:00, 3060.47it/s]\n",
      "100%|██████████| 5000/5000 [00:01<00:00, 3049.10it/s]\n",
      "100%|██████████| 5000/5000 [00:01<00:00, 3032.23it/s]\n",
      "100%|██████████| 5000/5000 [00:01<00:00, 3126.30it/s]\n",
      "100%|██████████| 5000/5000 [00:01<00:00, 3134.04it/s]\n",
      "100%|██████████| 5000/5000 [00:01<00:00, 3062.80it/s]\n",
      "100%|██████████| 5000/5000 [00:01<00:00, 2956.40it/s]\n",
      "100%|██████████| 5000/5000 [00:01<00:00, 2977.23it/s]\n",
      "100%|██████████| 5000/5000 [00:01<00:00, 2919.46it/s]\n",
      "100%|██████████| 5000/5000 [00:01<00:00, 3119.20it/s]\n",
      "100%|██████████| 5000/5000 [00:01<00:00, 3122.52it/s]\n",
      "100%|██████████| 5000/5000 [00:01<00:00, 3087.81it/s]\n",
      "100%|██████████| 5000/5000 [00:01<00:00, 3064.34it/s]\n",
      "100%|██████████| 5000/5000 [00:01<00:00, 3003.09it/s]\n",
      "100%|██████████| 5000/5000 [00:01<00:00, 3062.10it/s]\n",
      "100%|██████████| 5000/5000 [00:01<00:00, 3113.85it/s]\n",
      "100%|██████████| 5000/5000 [00:01<00:00, 3012.00it/s]\n",
      "100%|██████████| 5000/5000 [00:01<00:00, 3142.53it/s]\n",
      "100%|██████████| 5000/5000 [00:01<00:00, 2986.21it/s]\n",
      "100%|██████████| 5000/5000 [00:01<00:00, 3067.76it/s]\n",
      "100%|██████████| 5000/5000 [00:01<00:00, 2916.13it/s]\n",
      "100%|██████████| 5000/5000 [00:01<00:00, 3093.92it/s]\n",
      "100%|██████████| 5000/5000 [00:01<00:00, 3102.99it/s]\n",
      "100%|██████████| 5000/5000 [00:01<00:00, 3036.32it/s]\n",
      "100%|██████████| 5000/5000 [00:01<00:00, 3087.76it/s]\n",
      "100%|██████████| 5000/5000 [00:01<00:00, 2909.31it/s]\n",
      "100%|██████████| 5000/5000 [00:01<00:00, 3008.02it/s]\n",
      "100%|██████████| 5000/5000 [00:01<00:00, 3090.80it/s]\n",
      "100%|██████████| 5000/5000 [00:01<00:00, 3093.31it/s]\n",
      "100%|██████████| 5000/5000 [00:01<00:00, 3060.57it/s]\n",
      "100%|██████████| 5000/5000 [00:01<00:00, 3023.37it/s]\n",
      "100%|██████████| 5000/5000 [00:01<00:00, 2988.88it/s]\n",
      "100%|██████████| 5000/5000 [00:01<00:00, 2830.26it/s]\n",
      "100%|██████████| 5000/5000 [00:01<00:00, 3146.56it/s]\n",
      "100%|██████████| 5000/5000 [00:01<00:00, 3147.32it/s]\n",
      "100%|██████████| 5000/5000 [00:01<00:00, 2968.51it/s]\n",
      "100%|██████████| 5000/5000 [00:01<00:00, 3097.20it/s]\n",
      "100%|██████████| 5000/5000 [00:01<00:00, 3085.02it/s]\n",
      "100%|██████████| 5000/5000 [00:01<00:00, 2837.02it/s]\n",
      "100%|██████████| 5000/5000 [00:01<00:00, 3138.12it/s]\n",
      "100%|██████████| 5000/5000 [00:01<00:00, 3061.89it/s]\n",
      "100%|██████████| 5000/5000 [00:01<00:00, 2929.32it/s]\n",
      "100%|██████████| 5000/5000 [00:01<00:00, 2966.38it/s]\n",
      "100%|██████████| 5000/5000 [00:01<00:00, 3035.91it/s]\n",
      "100%|██████████| 5000/5000 [00:01<00:00, 3036.69it/s]\n",
      "100%|██████████| 5000/5000 [00:01<00:00, 3082.49it/s]\n",
      "100%|██████████| 5000/5000 [00:01<00:00, 3138.73it/s]\n",
      "100%|██████████| 5000/5000 [00:01<00:00, 3079.03it/s]\n",
      "100%|██████████| 5000/5000 [00:01<00:00, 3002.53it/s]\n",
      "100%|██████████| 5000/5000 [00:01<00:00, 3022.11it/s]\n",
      "100%|██████████| 5000/5000 [00:01<00:00, 3000.01it/s]\n",
      "100%|██████████| 5000/5000 [00:01<00:00, 3111.08it/s]\n",
      "100%|██████████| 5000/5000 [00:01<00:00, 2631.43it/s]\n",
      "100%|██████████| 5000/5000 [00:01<00:00, 2979.55it/s]\n",
      "100%|██████████| 5000/5000 [00:01<00:00, 3077.91it/s]\n",
      "100%|██████████| 5000/5000 [00:01<00:00, 3064.38it/s]\n",
      "100%|██████████| 5000/5000 [00:01<00:00, 3021.69it/s]\n",
      "100%|██████████| 5000/5000 [00:01<00:00, 2992.44it/s]\n",
      "100%|██████████| 5000/5000 [00:01<00:00, 3020.92it/s]\n",
      "100%|██████████| 5000/5000 [00:01<00:00, 3004.01it/s]\n",
      "100%|██████████| 5000/5000 [00:01<00:00, 3051.41it/s]\n",
      "100%|██████████| 5000/5000 [00:01<00:00, 2948.65it/s]\n",
      "100%|██████████| 5000/5000 [00:01<00:00, 3034.56it/s]\n",
      "100%|██████████| 5000/5000 [00:01<00:00, 3019.36it/s]\n",
      "100%|██████████| 5000/5000 [00:01<00:00, 3101.40it/s]\n",
      "100%|██████████| 5000/5000 [00:01<00:00, 3117.87it/s]\n",
      "100%|██████████| 5000/5000 [00:01<00:00, 2837.04it/s]\n",
      "100%|██████████| 5000/5000 [00:01<00:00, 3009.77it/s]\n",
      "100%|██████████| 5000/5000 [00:01<00:00, 2913.35it/s]\n",
      "100%|██████████| 5000/5000 [00:01<00:00, 3084.39it/s]\n",
      "100%|██████████| 5000/5000 [00:01<00:00, 3067.65it/s]\n",
      "100%|██████████| 5000/5000 [00:01<00:00, 3089.00it/s]\n",
      "100%|██████████| 5000/5000 [00:01<00:00, 3046.57it/s]\n",
      "100%|██████████| 5000/5000 [00:01<00:00, 3040.65it/s]\n",
      "100%|██████████| 5000/5000 [00:01<00:00, 3015.10it/s]\n",
      "100%|██████████| 5000/5000 [00:01<00:00, 3114.61it/s]\n",
      "100%|██████████| 5000/5000 [00:01<00:00, 3075.65it/s]\n",
      "100%|██████████| 5000/5000 [00:01<00:00, 3039.58it/s]\n",
      "100%|██████████| 5000/5000 [00:01<00:00, 3095.73it/s]\n",
      "100%|██████████| 5000/5000 [00:01<00:00, 3019.96it/s]\n",
      "100%|██████████| 5000/5000 [00:01<00:00, 2963.49it/s]\n",
      "100%|██████████| 5000/5000 [00:01<00:00, 3100.52it/s]\n",
      "100%|██████████| 5000/5000 [00:01<00:00, 3104.86it/s]\n",
      "100%|██████████| 5000/5000 [00:01<00:00, 3111.14it/s]\n",
      "100%|██████████| 5000/5000 [00:01<00:00, 3040.36it/s]\n",
      "100%|██████████| 5000/5000 [00:01<00:00, 3050.73it/s]\n",
      "100%|██████████| 5000/5000 [00:01<00:00, 3017.15it/s]\n",
      "100%|██████████| 5000/5000 [00:01<00:00, 3129.59it/s]\n",
      "100%|██████████| 5000/5000 [00:01<00:00, 3046.76it/s]\n",
      "100%|██████████| 5000/5000 [00:01<00:00, 3048.30it/s]\n",
      "100%|██████████| 5000/5000 [00:01<00:00, 3006.41it/s]\n",
      "100%|██████████| 5000/5000 [00:01<00:00, 2993.89it/s]\n",
      "100%|██████████| 5000/5000 [00:01<00:00, 2957.75it/s]\n",
      "100%|██████████| 5000/5000 [00:01<00:00, 3085.63it/s]\n",
      "100%|██████████| 5000/5000 [00:01<00:00, 3034.23it/s]\n",
      "100%|██████████| 5000/5000 [00:01<00:00, 2922.57it/s]\n",
      "100%|██████████| 5000/5000 [00:01<00:00, 3056.88it/s]\n",
      "100%|██████████| 5000/5000 [00:01<00:00, 2983.66it/s]\n",
      "100%|██████████| 5000/5000 [00:01<00:00, 2938.20it/s]\n",
      "100%|██████████| 5000/5000 [00:01<00:00, 3051.50it/s]\n",
      "100%|██████████| 5000/5000 [00:01<00:00, 3092.78it/s]\n",
      "100%|██████████| 5000/5000 [00:01<00:00, 3104.90it/s]\n",
      "100%|██████████| 5000/5000 [00:01<00:00, 2688.27it/s]\n",
      "100%|██████████| 5000/5000 [00:01<00:00, 2699.86it/s]\n",
      "100%|██████████| 5000/5000 [00:01<00:00, 3004.98it/s]\n",
      "100%|██████████| 5000/5000 [00:01<00:00, 3124.49it/s]\n",
      "100%|██████████| 5000/5000 [00:01<00:00, 2990.80it/s]\n",
      "100%|██████████| 5000/5000 [00:01<00:00, 2794.29it/s]\n",
      "100%|██████████| 5000/5000 [00:01<00:00, 2966.37it/s]\n",
      "100%|██████████| 5000/5000 [00:01<00:00, 2993.63it/s]\n",
      "100%|██████████| 5000/5000 [00:01<00:00, 2944.05it/s]\n",
      "100%|██████████| 5000/5000 [00:01<00:00, 3090.33it/s]\n",
      "100%|██████████| 5000/5000 [00:01<00:00, 3088.61it/s]\n",
      "100%|██████████| 5000/5000 [00:01<00:00, 3085.79it/s]\n",
      "100%|██████████| 5000/5000 [00:01<00:00, 2980.77it/s]\n",
      "100%|██████████| 5000/5000 [00:01<00:00, 2946.11it/s]\n",
      "100%|██████████| 5000/5000 [00:01<00:00, 2939.52it/s]\n",
      "100%|██████████| 5000/5000 [00:01<00:00, 2929.58it/s]\n",
      "100%|██████████| 5000/5000 [00:01<00:00, 3038.91it/s]\n",
      "100%|██████████| 5000/5000 [00:01<00:00, 3005.68it/s]\n",
      "100%|██████████| 5000/5000 [00:01<00:00, 3031.15it/s]\n",
      "100%|██████████| 5000/5000 [00:01<00:00, 2972.23it/s]\n",
      "100%|██████████| 5000/5000 [00:01<00:00, 3021.62it/s]\n",
      "100%|██████████| 5000/5000 [00:01<00:00, 3154.32it/s]\n",
      "100%|██████████| 5000/5000 [00:01<00:00, 3020.49it/s]\n",
      "100%|██████████| 5000/5000 [00:01<00:00, 2960.81it/s]\n",
      "100%|██████████| 5000/5000 [00:01<00:00, 3004.74it/s]\n",
      "100%|██████████| 5000/5000 [00:01<00:00, 3037.66it/s]\n",
      "100%|██████████| 5000/5000 [00:01<00:00, 2617.49it/s]\n",
      "100%|██████████| 5000/5000 [00:01<00:00, 2987.71it/s]\n",
      "100%|██████████| 5000/5000 [00:01<00:00, 3009.57it/s]\n",
      "100%|██████████| 5000/5000 [00:01<00:00, 2963.79it/s]\n",
      "100%|██████████| 5000/5000 [00:01<00:00, 2998.14it/s]\n",
      "100%|██████████| 5000/5000 [00:01<00:00, 2998.31it/s]\n",
      "100%|██████████| 5000/5000 [00:01<00:00, 2941.47it/s]\n",
      "100%|██████████| 5000/5000 [00:01<00:00, 3101.03it/s]\n",
      "100%|██████████| 5000/5000 [00:01<00:00, 3066.04it/s]\n",
      "100%|██████████| 5000/5000 [00:01<00:00, 2973.61it/s]\n",
      "100%|██████████| 5000/5000 [00:01<00:00, 3015.84it/s]\n",
      "100%|██████████| 5000/5000 [00:01<00:00, 2893.82it/s]\n",
      "100%|██████████| 5000/5000 [00:01<00:00, 2872.95it/s]\n",
      "100%|██████████| 5000/5000 [00:01<00:00, 3019.40it/s]\n",
      "100%|██████████| 5000/5000 [00:01<00:00, 3119.07it/s]\n",
      "100%|██████████| 5000/5000 [00:01<00:00, 2975.63it/s]\n",
      "100%|██████████| 5000/5000 [00:01<00:00, 3070.36it/s]\n",
      "100%|██████████| 5000/5000 [00:01<00:00, 2987.07it/s]\n",
      "100%|██████████| 5000/5000 [00:01<00:00, 2998.11it/s]\n",
      "100%|██████████| 5000/5000 [00:01<00:00, 3084.93it/s]\n",
      "100%|██████████| 5000/5000 [00:01<00:00, 2973.30it/s]\n",
      "100%|██████████| 5000/5000 [00:01<00:00, 3070.80it/s]\n",
      "100%|██████████| 5000/5000 [00:01<00:00, 2934.55it/s]\n",
      "100%|██████████| 5000/5000 [00:01<00:00, 3011.65it/s]\n",
      "100%|██████████| 5000/5000 [00:01<00:00, 2911.33it/s]\n",
      "100%|██████████| 5000/5000 [00:01<00:00, 3054.16it/s]\n",
      "100%|██████████| 5000/5000 [00:01<00:00, 2926.13it/s]\n",
      "100%|██████████| 5000/5000 [00:01<00:00, 3044.83it/s]\n",
      "100%|██████████| 5000/5000 [00:01<00:00, 2969.11it/s]\n",
      "100%|██████████| 5000/5000 [00:01<00:00, 2927.38it/s]\n",
      "100%|██████████| 5000/5000 [00:01<00:00, 3015.74it/s]\n",
      "100%|██████████| 5000/5000 [00:01<00:00, 3063.90it/s]\n",
      "100%|██████████| 5000/5000 [00:01<00:00, 3069.43it/s]\n",
      "100%|██████████| 5000/5000 [00:01<00:00, 3074.04it/s]\n",
      "100%|██████████| 5000/5000 [00:01<00:00, 3072.90it/s]\n",
      "100%|██████████| 5000/5000 [00:01<00:00, 2585.47it/s]\n",
      "100%|██████████| 5000/5000 [00:01<00:00, 3007.90it/s]\n",
      "100%|██████████| 5000/5000 [00:01<00:00, 2897.25it/s]\n",
      "100%|██████████| 5000/5000 [00:01<00:00, 3032.18it/s]\n",
      "100%|██████████| 5000/5000 [00:01<00:00, 2951.29it/s]\n",
      "100%|██████████| 5000/5000 [00:01<00:00, 2932.51it/s]\n",
      "100%|██████████| 5000/5000 [00:01<00:00, 2987.56it/s]\n",
      "100%|██████████| 5000/5000 [00:01<00:00, 2907.83it/s]\n",
      "100%|██████████| 5000/5000 [00:01<00:00, 3027.17it/s]\n",
      "100%|██████████| 5000/5000 [00:01<00:00, 3060.51it/s]\n",
      "100%|██████████| 5000/5000 [00:01<00:00, 2976.51it/s]\n",
      "100%|██████████| 5000/5000 [00:01<00:00, 2994.93it/s]\n",
      "100%|██████████| 5000/5000 [00:01<00:00, 3027.36it/s]\n",
      "100%|██████████| 5000/5000 [00:01<00:00, 2984.86it/s]\n",
      "100%|██████████| 5000/5000 [00:01<00:00, 3086.47it/s]\n",
      "100%|██████████| 5000/5000 [00:01<00:00, 3074.65it/s]\n",
      "100%|██████████| 5000/5000 [00:01<00:00, 3048.60it/s]\n",
      "100%|██████████| 5000/5000 [00:01<00:00, 2866.64it/s]\n",
      "100%|██████████| 5000/5000 [00:01<00:00, 3054.55it/s]\n",
      "100%|██████████| 5000/5000 [00:01<00:00, 2915.36it/s]\n",
      "100%|██████████| 5000/5000 [00:01<00:00, 3104.17it/s]\n",
      "100%|██████████| 5000/5000 [00:01<00:00, 2967.85it/s]\n",
      "100%|██████████| 5000/5000 [00:01<00:00, 3051.02it/s]\n",
      "100%|██████████| 5000/5000 [00:01<00:00, 3057.14it/s]\n",
      "100%|██████████| 5000/5000 [00:01<00:00, 3066.86it/s]\n",
      "100%|██████████| 5000/5000 [00:01<00:00, 2813.69it/s]\n",
      "100%|██████████| 5000/5000 [00:01<00:00, 3083.86it/s]\n",
      "100%|██████████| 5000/5000 [00:01<00:00, 3050.50it/s]\n",
      "100%|██████████| 5000/5000 [00:01<00:00, 3107.54it/s]\n",
      "100%|██████████| 5000/5000 [00:01<00:00, 2884.40it/s]\n",
      "100%|██████████| 5000/5000 [00:01<00:00, 2955.34it/s]\n",
      "100%|██████████| 5000/5000 [00:01<00:00, 2944.84it/s]\n",
      "100%|██████████| 5000/5000 [00:01<00:00, 2970.41it/s]\n",
      "100%|██████████| 5000/5000 [00:01<00:00, 3004.32it/s]\n",
      "100%|██████████| 5000/5000 [00:01<00:00, 2962.28it/s]\n",
      "100%|██████████| 5000/5000 [00:01<00:00, 3005.02it/s]\n",
      "100%|██████████| 5000/5000 [00:01<00:00, 2936.62it/s]\n",
      "100%|██████████| 5000/5000 [00:01<00:00, 2698.34it/s]\n",
      "100%|██████████| 5000/5000 [00:01<00:00, 2887.09it/s]\n",
      "100%|██████████| 5000/5000 [00:01<00:00, 3023.81it/s]\n",
      "100%|██████████| 5000/5000 [00:01<00:00, 3099.12it/s]\n",
      "100%|██████████| 5000/5000 [00:01<00:00, 3011.13it/s]\n",
      "100%|██████████| 5000/5000 [00:01<00:00, 2944.69it/s]\n",
      "100%|██████████| 5000/5000 [00:01<00:00, 2833.33it/s]\n",
      "100%|██████████| 5000/5000 [00:01<00:00, 2990.56it/s]\n",
      "100%|██████████| 5000/5000 [00:01<00:00, 2963.78it/s]\n",
      "100%|██████████| 5000/5000 [00:01<00:00, 3034.05it/s]\n",
      "100%|██████████| 5000/5000 [00:01<00:00, 2913.29it/s]\n",
      "100%|██████████| 5000/5000 [00:01<00:00, 3066.96it/s]\n",
      "100%|██████████| 5000/5000 [00:01<00:00, 2981.66it/s]\n",
      "100%|██████████| 5000/5000 [00:01<00:00, 2895.26it/s]\n",
      "100%|██████████| 5000/5000 [00:01<00:00, 3099.21it/s]\n",
      "100%|██████████| 5000/5000 [00:01<00:00, 2975.06it/s]\n",
      "100%|██████████| 5000/5000 [00:01<00:00, 3033.59it/s]\n",
      "100%|██████████| 5000/5000 [00:01<00:00, 3053.14it/s]\n",
      "100%|██████████| 5000/5000 [00:01<00:00, 2899.70it/s]\n",
      "100%|██████████| 5000/5000 [00:01<00:00, 3046.42it/s]\n",
      "100%|██████████| 5000/5000 [00:01<00:00, 2869.49it/s]\n",
      "100%|██████████| 5000/5000 [00:01<00:00, 3049.04it/s]\n",
      "100%|██████████| 5000/5000 [00:01<00:00, 3001.39it/s]\n",
      "100%|██████████| 5000/5000 [00:01<00:00, 3041.16it/s]\n",
      "100%|██████████| 5000/5000 [00:01<00:00, 2833.39it/s]\n",
      "100%|██████████| 5000/5000 [00:01<00:00, 3071.50it/s]\n",
      "100%|██████████| 5000/5000 [00:01<00:00, 3068.72it/s]\n",
      "100%|██████████| 5000/5000 [00:01<00:00, 3044.62it/s]\n",
      "100%|██████████| 5000/5000 [00:01<00:00, 2936.24it/s]\n",
      "100%|██████████| 5000/5000 [00:01<00:00, 2999.86it/s]\n",
      "100%|██████████| 5000/5000 [00:01<00:00, 3021.64it/s]\n",
      "100%|██████████| 5000/5000 [00:01<00:00, 3123.33it/s]\n",
      "100%|██████████| 5000/5000 [00:01<00:00, 3070.37it/s]\n",
      "100%|██████████| 5000/5000 [00:01<00:00, 2977.87it/s]\n",
      "100%|██████████| 5000/5000 [00:01<00:00, 3035.38it/s]\n",
      "100%|██████████| 5000/5000 [00:01<00:00, 3041.22it/s]\n",
      "100%|██████████| 5000/5000 [00:01<00:00, 2940.61it/s]\n",
      "100%|██████████| 5000/5000 [00:01<00:00, 3030.62it/s]\n",
      "100%|██████████| 5000/5000 [00:01<00:00, 3085.41it/s]\n",
      "100%|██████████| 5000/5000 [00:01<00:00, 3085.38it/s]\n",
      "100%|██████████| 5000/5000 [00:01<00:00, 3034.41it/s]\n",
      "100%|██████████| 5000/5000 [00:01<00:00, 3049.75it/s]\n",
      "100%|██████████| 5000/5000 [00:01<00:00, 2989.17it/s]\n",
      "100%|██████████| 5000/5000 [00:01<00:00, 3127.64it/s]\n",
      "100%|██████████| 5000/5000 [00:01<00:00, 3066.59it/s]\n",
      "100%|██████████| 5000/5000 [00:01<00:00, 3061.91it/s]\n",
      "100%|██████████| 5000/5000 [00:01<00:00, 3063.18it/s]\n",
      "100%|██████████| 5000/5000 [00:01<00:00, 3009.78it/s]\n",
      "100%|██████████| 5000/5000 [00:01<00:00, 2926.13it/s]\n",
      "100%|██████████| 5000/5000 [00:01<00:00, 3114.64it/s]\n",
      "100%|██████████| 5000/5000 [00:01<00:00, 3025.28it/s]\n",
      "100%|██████████| 5000/5000 [00:01<00:00, 2975.10it/s]\n",
      "100%|██████████| 5000/5000 [00:01<00:00, 2665.86it/s]\n",
      "100%|██████████| 5000/5000 [00:01<00:00, 3026.55it/s]\n",
      "100%|██████████| 5000/5000 [00:01<00:00, 3023.16it/s]\n",
      "100%|██████████| 5000/5000 [00:01<00:00, 2914.77it/s]\n",
      "100%|██████████| 5000/5000 [00:01<00:00, 3060.82it/s]\n",
      "100%|██████████| 5000/5000 [00:01<00:00, 3058.86it/s]\n",
      "100%|██████████| 5000/5000 [00:01<00:00, 2783.05it/s]\n",
      "100%|██████████| 5000/5000 [00:01<00:00, 3055.97it/s]\n",
      "100%|██████████| 5000/5000 [00:01<00:00, 2931.92it/s]\n",
      "100%|██████████| 5000/5000 [00:01<00:00, 3060.45it/s]\n",
      "100%|██████████| 5000/5000 [00:01<00:00, 3028.45it/s]\n",
      "100%|██████████| 5000/5000 [00:01<00:00, 3004.23it/s]\n",
      "100%|██████████| 5000/5000 [00:01<00:00, 3024.03it/s]\n",
      "100%|██████████| 5000/5000 [00:01<00:00, 2858.60it/s]\n",
      "100%|██████████| 5000/5000 [00:01<00:00, 2966.36it/s]\n",
      "100%|██████████| 5000/5000 [00:01<00:00, 3020.61it/s]\n",
      "100%|██████████| 5000/5000 [00:01<00:00, 3025.48it/s]\n",
      "100%|██████████| 5000/5000 [00:01<00:00, 3054.56it/s]\n",
      "100%|██████████| 5000/5000 [00:01<00:00, 2923.24it/s]\n",
      "100%|██████████| 5000/5000 [00:01<00:00, 2875.10it/s]\n",
      "100%|██████████| 5000/5000 [00:01<00:00, 2921.42it/s]\n",
      "100%|██████████| 5000/5000 [00:01<00:00, 3033.68it/s]\n",
      "100%|██████████| 5000/5000 [00:01<00:00, 3095.86it/s]\n",
      "100%|██████████| 5000/5000 [00:01<00:00, 3056.41it/s]\n",
      "100%|██████████| 5000/5000 [00:01<00:00, 3087.70it/s]\n",
      "100%|██████████| 5000/5000 [00:01<00:00, 3032.25it/s]\n",
      "100%|██████████| 5000/5000 [00:01<00:00, 2685.82it/s]\n",
      "100%|██████████| 5000/5000 [00:01<00:00, 3020.12it/s]\n",
      "100%|██████████| 5000/5000 [00:01<00:00, 3046.63it/s]\n",
      "100%|██████████| 5000/5000 [00:01<00:00, 3010.88it/s]\n",
      "100%|██████████| 5000/5000 [00:01<00:00, 2975.60it/s]\n",
      "100%|██████████| 5000/5000 [00:01<00:00, 3032.23it/s]\n",
      "100%|██████████| 5000/5000 [00:01<00:00, 2876.29it/s]\n",
      "100%|██████████| 5000/5000 [00:01<00:00, 3050.54it/s]\n",
      "100%|██████████| 5000/5000 [00:01<00:00, 2957.06it/s]\n",
      "100%|██████████| 5000/5000 [00:01<00:00, 3009.60it/s]\n",
      "100%|██████████| 5000/5000 [00:01<00:00, 3071.75it/s]\n",
      "100%|██████████| 5000/5000 [00:01<00:00, 2916.84it/s]\n",
      "100%|██████████| 5000/5000 [00:01<00:00, 2947.43it/s]\n",
      "100%|██████████| 5000/5000 [00:01<00:00, 3146.89it/s]\n",
      "100%|██████████| 5000/5000 [00:01<00:00, 3019.69it/s]\n",
      "100%|██████████| 5000/5000 [00:01<00:00, 3065.95it/s]\n",
      "100%|██████████| 5000/5000 [00:01<00:00, 2986.45it/s]\n",
      "100%|██████████| 5000/5000 [00:01<00:00, 2978.77it/s]\n",
      "100%|██████████| 5000/5000 [00:01<00:00, 2887.83it/s]\n",
      "100%|██████████| 5000/5000 [00:01<00:00, 3116.63it/s]\n",
      "100%|██████████| 5000/5000 [00:01<00:00, 3113.24it/s]\n",
      "100%|██████████| 5000/5000 [00:01<00:00, 3104.58it/s]\n",
      "100%|██████████| 5000/5000 [00:01<00:00, 3025.82it/s]\n",
      "100%|██████████| 5000/5000 [00:01<00:00, 3005.92it/s]\n",
      "100%|██████████| 5000/5000 [00:01<00:00, 3009.80it/s]\n",
      "100%|██████████| 5000/5000 [00:01<00:00, 2964.07it/s]\n",
      "100%|██████████| 5000/5000 [00:01<00:00, 3054.76it/s]\n",
      "100%|██████████| 5000/5000 [00:01<00:00, 3042.47it/s]\n",
      "100%|██████████| 5000/5000 [00:01<00:00, 3029.16it/s]\n",
      "100%|██████████| 5000/5000 [00:01<00:00, 2992.83it/s]\n",
      "100%|██████████| 5000/5000 [00:01<00:00, 2936.35it/s]\n",
      "100%|██████████| 5000/5000 [00:01<00:00, 3181.21it/s]\n",
      "100%|██████████| 5000/5000 [00:01<00:00, 3039.24it/s]\n",
      "100%|██████████| 5000/5000 [00:01<00:00, 3153.82it/s]\n",
      "100%|██████████| 5000/5000 [00:01<00:00, 3033.64it/s]\n",
      "100%|██████████| 5000/5000 [00:01<00:00, 2927.53it/s]\n",
      "100%|██████████| 5000/5000 [00:01<00:00, 3052.16it/s]\n",
      "100%|██████████| 5000/5000 [00:01<00:00, 3122.62it/s]\n",
      "100%|██████████| 5000/5000 [00:01<00:00, 3060.48it/s]\n",
      "100%|██████████| 5000/5000 [00:01<00:00, 3025.98it/s]\n",
      "100%|██████████| 5000/5000 [00:01<00:00, 3097.02it/s]\n",
      "100%|██████████| 5000/5000 [00:01<00:00, 2976.14it/s]\n",
      "100%|██████████| 5000/5000 [00:01<00:00, 2907.09it/s]\n",
      "100%|██████████| 5000/5000 [00:01<00:00, 3060.95it/s]\n",
      "100%|██████████| 5000/5000 [00:01<00:00, 3116.73it/s]\n",
      "100%|██████████| 5000/5000 [00:01<00:00, 3013.06it/s]\n",
      "100%|██████████| 5000/5000 [00:01<00:00, 3060.49it/s]\n",
      "100%|██████████| 5000/5000 [00:01<00:00, 2993.59it/s]\n",
      "100%|██████████| 5000/5000 [00:01<00:00, 2982.70it/s]\n",
      "100%|██████████| 5000/5000 [00:01<00:00, 3045.87it/s]\n",
      "100%|██████████| 5000/5000 [00:01<00:00, 2960.13it/s]\n",
      "100%|██████████| 5000/5000 [00:01<00:00, 3097.71it/s]\n",
      "100%|██████████| 5000/5000 [00:01<00:00, 3036.28it/s]\n",
      "100%|██████████| 5000/5000 [00:01<00:00, 2966.75it/s]\n",
      "100%|██████████| 5000/5000 [00:01<00:00, 2993.17it/s]\n",
      "100%|██████████| 5000/5000 [00:01<00:00, 2858.46it/s]\n",
      "100%|██████████| 5000/5000 [00:01<00:00, 3082.34it/s]\n",
      "100%|██████████| 5000/5000 [00:01<00:00, 3030.77it/s]\n",
      "100%|██████████| 5000/5000 [00:01<00:00, 3035.26it/s]\n",
      "100%|██████████| 5000/5000 [00:01<00:00, 2869.20it/s]\n",
      "100%|██████████| 5000/5000 [00:01<00:00, 2909.92it/s]\n",
      "100%|██████████| 5000/5000 [00:01<00:00, 3066.04it/s]\n",
      "100%|██████████| 5000/5000 [00:01<00:00, 3038.68it/s]\n",
      "100%|██████████| 5000/5000 [00:01<00:00, 3005.08it/s]\n",
      "100%|██████████| 5000/5000 [00:01<00:00, 2968.94it/s]\n",
      "100%|██████████| 5000/5000 [00:01<00:00, 3003.01it/s]\n",
      "100%|██████████| 5000/5000 [00:01<00:00, 2994.24it/s]\n",
      "100%|██████████| 5000/5000 [00:01<00:00, 3104.60it/s]\n",
      "100%|██████████| 5000/5000 [00:01<00:00, 2743.26it/s]\n",
      "100%|██████████| 5000/5000 [00:01<00:00, 3081.04it/s]\n",
      "100%|██████████| 5000/5000 [00:01<00:00, 2823.87it/s]\n",
      "100%|██████████| 5000/5000 [00:01<00:00, 3004.06it/s]\n",
      "100%|██████████| 5000/5000 [00:01<00:00, 2935.16it/s]\n",
      "100%|██████████| 5000/5000 [00:01<00:00, 3061.90it/s]\n",
      "100%|██████████| 5000/5000 [00:01<00:00, 3077.15it/s]\n",
      "100%|██████████| 5000/5000 [00:01<00:00, 2957.64it/s]\n",
      "100%|██████████| 5000/5000 [00:01<00:00, 3018.09it/s]\n",
      "100%|██████████| 5000/5000 [00:01<00:00, 3001.48it/s]\n",
      "100%|██████████| 5000/5000 [00:01<00:00, 2967.40it/s]\n",
      "100%|██████████| 5000/5000 [00:01<00:00, 3007.70it/s]\n",
      "100%|██████████| 5000/5000 [00:01<00:00, 3103.11it/s]\n",
      "100%|██████████| 5000/5000 [00:01<00:00, 3033.63it/s]\n",
      "100%|██████████| 5000/5000 [00:01<00:00, 3034.86it/s]\n",
      "100%|██████████| 5000/5000 [00:01<00:00, 3030.75it/s]\n",
      "100%|██████████| 5000/5000 [00:01<00:00, 2984.72it/s]\n",
      "100%|██████████| 5000/5000 [00:01<00:00, 3057.60it/s]\n",
      "100%|██████████| 5000/5000 [00:01<00:00, 3007.95it/s]\n",
      "100%|██████████| 5000/5000 [00:01<00:00, 2906.86it/s]\n",
      "100%|██████████| 5000/5000 [00:01<00:00, 3055.35it/s]\n",
      "100%|██████████| 5000/5000 [00:01<00:00, 2911.34it/s]\n",
      "100%|██████████| 5000/5000 [00:01<00:00, 3009.33it/s]\n",
      "100%|██████████| 5000/5000 [00:01<00:00, 3122.22it/s]\n",
      "100%|██████████| 5000/5000 [00:01<00:00, 3024.33it/s]\n",
      "100%|██████████| 5000/5000 [00:01<00:00, 3055.96it/s]\n",
      "100%|██████████| 5000/5000 [00:01<00:00, 2995.99it/s]\n",
      "100%|██████████| 5000/5000 [00:01<00:00, 2924.55it/s]\n",
      "100%|██████████| 5000/5000 [00:01<00:00, 2954.27it/s]\n",
      "100%|██████████| 5000/5000 [00:01<00:00, 3039.14it/s]\n",
      "100%|██████████| 5000/5000 [00:01<00:00, 2969.41it/s]\n",
      "100%|██████████| 5000/5000 [00:01<00:00, 3026.35it/s]\n",
      "100%|██████████| 5000/5000 [00:01<00:00, 3051.43it/s]\n",
      "100%|██████████| 5000/5000 [00:01<00:00, 3043.52it/s]\n",
      "100%|██████████| 5000/5000 [00:01<00:00, 2897.13it/s]\n",
      "100%|██████████| 5000/5000 [00:01<00:00, 2942.45it/s]\n",
      "100%|██████████| 5000/5000 [00:01<00:00, 2918.40it/s]\n",
      "100%|██████████| 5000/5000 [00:01<00:00, 3078.17it/s]\n",
      "100%|██████████| 5000/5000 [00:01<00:00, 2962.61it/s]\n",
      "100%|██████████| 5000/5000 [00:01<00:00, 3064.06it/s]\n",
      "100%|██████████| 5000/5000 [00:01<00:00, 2965.88it/s]\n",
      "100%|██████████| 5000/5000 [00:01<00:00, 3082.20it/s]\n",
      "100%|██████████| 5000/5000 [00:01<00:00, 2956.22it/s]\n",
      "100%|██████████| 5000/5000 [00:01<00:00, 3118.59it/s]\n",
      "100%|██████████| 5000/5000 [00:01<00:00, 3043.33it/s]\n",
      "100%|██████████| 5000/5000 [00:01<00:00, 3002.39it/s]\n",
      "100%|██████████| 5000/5000 [00:01<00:00, 2860.18it/s]\n",
      "100%|██████████| 5000/5000 [00:01<00:00, 3108.05it/s]\n",
      "100%|██████████| 5000/5000 [00:01<00:00, 2950.29it/s]\n",
      "100%|██████████| 5000/5000 [00:01<00:00, 3051.84it/s]\n",
      "100%|██████████| 5000/5000 [00:01<00:00, 3025.30it/s]\n",
      "100%|██████████| 5000/5000 [00:01<00:00, 3012.16it/s]\n",
      "100%|██████████| 5000/5000 [00:01<00:00, 2784.05it/s]\n",
      "100%|██████████| 5000/5000 [00:01<00:00, 3057.49it/s]\n",
      "100%|██████████| 5000/5000 [00:01<00:00, 2971.85it/s]\n",
      "100%|██████████| 5000/5000 [00:01<00:00, 2917.61it/s]\n",
      "100%|██████████| 5000/5000 [00:01<00:00, 2850.03it/s]\n",
      "100%|██████████| 5000/5000 [00:01<00:00, 2914.50it/s]\n",
      "100%|██████████| 5000/5000 [00:01<00:00, 3017.42it/s]\n",
      "100%|██████████| 5000/5000 [00:01<00:00, 3147.85it/s]\n",
      "100%|██████████| 5000/5000 [00:01<00:00, 3047.63it/s]\n",
      "100%|██████████| 5000/5000 [00:01<00:00, 3094.81it/s]\n",
      "100%|██████████| 5000/5000 [00:01<00:00, 3085.22it/s]\n",
      "100%|██████████| 5000/5000 [00:01<00:00, 2885.82it/s]\n",
      "100%|██████████| 5000/5000 [00:01<00:00, 2945.87it/s]\n",
      "100%|██████████| 5000/5000 [00:01<00:00, 3099.06it/s]\n",
      "100%|██████████| 5000/5000 [00:01<00:00, 3123.63it/s]\n",
      "100%|██████████| 5000/5000 [00:01<00:00, 3045.50it/s]\n",
      "100%|██████████| 5000/5000 [00:01<00:00, 3046.43it/s]\n",
      "100%|██████████| 5000/5000 [00:01<00:00, 2986.73it/s]\n",
      "100%|██████████| 5000/5000 [00:01<00:00, 3042.46it/s]\n",
      "100%|██████████| 5000/5000 [00:01<00:00, 3175.27it/s]\n",
      "100%|██████████| 5000/5000 [00:01<00:00, 2980.98it/s]\n",
      "100%|██████████| 5000/5000 [00:01<00:00, 3115.13it/s]\n",
      "100%|██████████| 5000/5000 [00:01<00:00, 3111.01it/s]\n",
      "100%|██████████| 5000/5000 [00:01<00:00, 3069.94it/s]\n",
      "100%|██████████| 5000/5000 [00:01<00:00, 2992.62it/s]\n",
      "100%|██████████| 5000/5000 [00:01<00:00, 2975.65it/s]\n",
      "100%|██████████| 5000/5000 [00:01<00:00, 3085.33it/s]\n",
      "100%|██████████| 5000/5000 [00:01<00:00, 3067.92it/s]\n",
      "100%|██████████| 5000/5000 [00:01<00:00, 3029.09it/s]\n",
      "100%|██████████| 5000/5000 [00:01<00:00, 3038.57it/s]\n",
      "100%|██████████| 5000/5000 [00:01<00:00, 2927.95it/s]\n",
      "100%|██████████| 5000/5000 [00:01<00:00, 3055.81it/s]\n",
      "100%|██████████| 5000/5000 [00:01<00:00, 3028.92it/s]\n",
      "100%|██████████| 5000/5000 [00:01<00:00, 3073.57it/s]\n",
      "100%|██████████| 5000/5000 [00:01<00:00, 3003.71it/s]\n",
      "100%|██████████| 5000/5000 [00:01<00:00, 2959.02it/s]\n",
      "100%|██████████| 5000/5000 [00:01<00:00, 2916.89it/s]\n",
      "100%|██████████| 5000/5000 [00:01<00:00, 2918.90it/s]\n",
      "100%|██████████| 5000/5000 [00:01<00:00, 3085.43it/s]\n",
      "100%|██████████| 5000/5000 [00:01<00:00, 3042.31it/s]\n",
      "100%|██████████| 5000/5000 [00:01<00:00, 3060.15it/s]\n",
      "100%|██████████| 5000/5000 [00:01<00:00, 2924.21it/s]\n",
      "100%|██████████| 5000/5000 [00:01<00:00, 2986.41it/s]\n",
      "100%|██████████| 5000/5000 [00:01<00:00, 3110.48it/s]\n",
      "100%|██████████| 5000/5000 [00:01<00:00, 3033.07it/s]\n",
      "100%|██████████| 5000/5000 [00:01<00:00, 2952.43it/s]\n",
      "100%|██████████| 5000/5000 [00:01<00:00, 3037.42it/s]\n",
      "100%|██████████| 5000/5000 [00:01<00:00, 2964.43it/s]\n",
      "100%|██████████| 5000/5000 [00:01<00:00, 2983.57it/s]\n",
      "100%|██████████| 5000/5000 [00:01<00:00, 2935.54it/s]\n",
      "100%|██████████| 5000/5000 [00:01<00:00, 3060.79it/s]\n",
      "100%|██████████| 5000/5000 [00:01<00:00, 2891.95it/s]\n",
      "100%|██████████| 5000/5000 [00:01<00:00, 3108.39it/s]\n",
      "100%|██████████| 5000/5000 [00:01<00:00, 2992.37it/s]\n",
      "100%|██████████| 5000/5000 [00:01<00:00, 2996.11it/s]\n",
      "100%|██████████| 5000/5000 [00:01<00:00, 3128.02it/s]\n",
      "100%|██████████| 5000/5000 [00:01<00:00, 2979.05it/s]\n",
      "100%|██████████| 5000/5000 [00:01<00:00, 3047.60it/s]\n",
      "100%|██████████| 5000/5000 [00:01<00:00, 2937.17it/s]\n",
      "100%|██████████| 5000/5000 [00:01<00:00, 3018.13it/s]\n",
      "100%|██████████| 5000/5000 [00:01<00:00, 2929.30it/s]\n",
      "100%|██████████| 5000/5000 [00:01<00:00, 3018.28it/s]\n",
      "100%|██████████| 5000/5000 [00:01<00:00, 3022.63it/s]\n",
      "100%|██████████| 5000/5000 [00:01<00:00, 3064.84it/s]\n",
      "100%|██████████| 5000/5000 [00:01<00:00, 2947.95it/s]\n",
      "100%|██████████| 5000/5000 [00:01<00:00, 2900.71it/s]\n",
      "100%|██████████| 5000/5000 [00:01<00:00, 2879.76it/s]\n",
      "100%|██████████| 5000/5000 [00:01<00:00, 3120.08it/s]\n",
      "100%|██████████| 5000/5000 [00:01<00:00, 3157.58it/s]\n",
      "100%|██████████| 5000/5000 [00:01<00:00, 3001.78it/s]\n",
      "100%|██████████| 5000/5000 [00:01<00:00, 2982.93it/s]\n",
      "100%|██████████| 5000/5000 [00:01<00:00, 3039.25it/s]\n",
      "100%|██████████| 5000/5000 [00:01<00:00, 3018.39it/s]\n",
      "100%|██████████| 5000/5000 [00:01<00:00, 2966.20it/s]\n",
      "100%|██████████| 5000/5000 [00:01<00:00, 3015.38it/s]\n",
      "100%|██████████| 5000/5000 [00:01<00:00, 3072.35it/s]\n",
      "100%|██████████| 5000/5000 [00:01<00:00, 2890.23it/s]\n",
      "100%|██████████| 5000/5000 [00:01<00:00, 2970.78it/s]\n",
      "100%|██████████| 5000/5000 [00:01<00:00, 2903.96it/s]\n",
      "100%|██████████| 5000/5000 [00:01<00:00, 3178.10it/s]\n",
      "100%|██████████| 5000/5000 [00:01<00:00, 3127.79it/s]\n",
      "100%|██████████| 5000/5000 [00:01<00:00, 3014.01it/s]\n",
      "100%|██████████| 5000/5000 [00:01<00:00, 3069.68it/s]\n",
      "100%|██████████| 5000/5000 [00:01<00:00, 3053.16it/s]\n",
      "100%|██████████| 5000/5000 [00:01<00:00, 2891.91it/s]\n",
      "100%|██████████| 5000/5000 [00:01<00:00, 3166.73it/s]\n",
      "100%|██████████| 5000/5000 [00:01<00:00, 3165.33it/s]\n",
      "100%|██████████| 5000/5000 [00:01<00:00, 3140.91it/s]\n",
      "100%|██████████| 5000/5000 [00:01<00:00, 2999.45it/s]\n",
      "100%|██████████| 5000/5000 [00:01<00:00, 3121.81it/s]\n",
      "100%|██████████| 5000/5000 [00:01<00:00, 3064.18it/s]\n",
      "100%|██████████| 5000/5000 [00:01<00:00, 2961.56it/s]\n",
      "100%|██████████| 5000/5000 [00:01<00:00, 3048.44it/s]\n",
      "100%|██████████| 5000/5000 [00:01<00:00, 2977.02it/s]\n",
      "100%|██████████| 5000/5000 [00:01<00:00, 2919.21it/s]\n",
      "100%|██████████| 5000/5000 [00:01<00:00, 2975.12it/s]\n",
      "100%|██████████| 5000/5000 [00:01<00:00, 3019.67it/s]\n",
      "100%|██████████| 5000/5000 [00:01<00:00, 2976.78it/s]\n",
      "100%|██████████| 5000/5000 [00:01<00:00, 3105.35it/s]\n",
      "100%|██████████| 5000/5000 [00:01<00:00, 2944.30it/s]\n",
      "100%|██████████| 5000/5000 [00:01<00:00, 2920.21it/s]\n",
      "100%|██████████| 5000/5000 [00:01<00:00, 2990.61it/s]\n",
      "100%|██████████| 5000/5000 [00:01<00:00, 3086.42it/s]\n",
      "100%|██████████| 5000/5000 [00:01<00:00, 3113.80it/s]\n",
      "100%|██████████| 5000/5000 [00:01<00:00, 3062.66it/s]\n",
      "100%|██████████| 5000/5000 [00:01<00:00, 2957.92it/s]\n",
      "100%|██████████| 5000/5000 [00:01<00:00, 3071.49it/s]\n",
      "100%|██████████| 5000/5000 [00:01<00:00, 3041.04it/s]\n",
      "100%|██████████| 5000/5000 [00:01<00:00, 2934.56it/s]\n",
      "100%|██████████| 5000/5000 [00:01<00:00, 2945.55it/s]\n",
      "100%|██████████| 5000/5000 [00:01<00:00, 3142.14it/s]\n",
      "100%|██████████| 5000/5000 [00:01<00:00, 3078.53it/s]\n",
      "100%|██████████| 5000/5000 [00:01<00:00, 2934.96it/s]\n",
      "100%|██████████| 5000/5000 [00:01<00:00, 2866.56it/s]\n",
      "100%|██████████| 5000/5000 [00:01<00:00, 3024.83it/s]\n",
      "100%|██████████| 5000/5000 [00:01<00:00, 3123.64it/s]\n",
      "100%|██████████| 5000/5000 [00:01<00:00, 3041.55it/s]\n",
      "100%|██████████| 5000/5000 [00:01<00:00, 3072.69it/s]\n",
      "100%|██████████| 5000/5000 [00:01<00:00, 2972.14it/s]\n",
      "100%|██████████| 5000/5000 [00:01<00:00, 3082.88it/s]\n",
      "100%|██████████| 5000/5000 [00:01<00:00, 3011.33it/s]\n"
     ]
    }
   ],
   "source": [
    "import time\n",
    "cell5000=[]\n",
    "for i,idx in enumerate(r_idx):\n",
    "    for genes in idx:\n",
    "        ad=tmp[:5000,genes].copy()\n",
    "        ad.layers['count']=ad.X.copy()\n",
    "        sc.pp.normalize_total(ad, target_sum=1e4)\n",
    "        sc.pp.log1p(ad)\n",
    "        start = time.time()\n",
    "        new_ad=scdenorm(ad)\n",
    "        end = time.time()\n",
    "        res=new_ad.X.data-new_ad.layers['count'].data\n",
    "        cell1000.append([end - start,abs(res).sum(),ad.shape[0],ad.shape[1]])"
   ]
  },
  {
   "cell_type": "code",
   "execution_count": 116,
   "id": "6403b39b-2a5e-4347-9883-9423c2a43ad2",
   "metadata": {},
   "outputs": [],
   "source": [
    "cell5000=cell1000"
   ]
  },
  {
   "cell_type": "code",
   "execution_count": 123,
   "id": "39ce0f60-21ea-4d68-80f2-4d793459d824",
   "metadata": {},
   "outputs": [],
   "source": [
    "df5000=pd.DataFrame(cell5000)"
   ]
  },
  {
   "cell_type": "code",
   "execution_count": 124,
   "id": "9722e52f-dd67-42b1-acf7-69275a45e364",
   "metadata": {},
   "outputs": [],
   "source": [
    "df5000.columns=['time','sar','cells','genes']"
   ]
  },
  {
   "cell_type": "code",
   "execution_count": 125,
   "id": "3b591582-a4cc-4676-be49-14e19aced295",
   "metadata": {},
   "outputs": [
    {
     "data": {
      "text/html": [
       "<div>\n",
       "<style scoped>\n",
       "    .dataframe tbody tr th:only-of-type {\n",
       "        vertical-align: middle;\n",
       "    }\n",
       "\n",
       "    .dataframe tbody tr th {\n",
       "        vertical-align: top;\n",
       "    }\n",
       "\n",
       "    .dataframe thead th {\n",
       "        text-align: right;\n",
       "    }\n",
       "</style>\n",
       "<table border=\"1\" class=\"dataframe\">\n",
       "  <thead>\n",
       "    <tr style=\"text-align: right;\">\n",
       "      <th></th>\n",
       "      <th>time</th>\n",
       "      <th>sar</th>\n",
       "      <th>cells</th>\n",
       "      <th>genes</th>\n",
       "    </tr>\n",
       "  </thead>\n",
       "  <tbody>\n",
       "    <tr>\n",
       "      <th>0</th>\n",
       "      <td>1.262643</td>\n",
       "      <td>0.010460</td>\n",
       "      <td>1000</td>\n",
       "      <td>10000</td>\n",
       "    </tr>\n",
       "    <tr>\n",
       "      <th>1</th>\n",
       "      <td>2.226568</td>\n",
       "      <td>0.024844</td>\n",
       "      <td>1000</td>\n",
       "      <td>15000</td>\n",
       "    </tr>\n",
       "    <tr>\n",
       "      <th>2</th>\n",
       "      <td>3.635163</td>\n",
       "      <td>0.021536</td>\n",
       "      <td>1000</td>\n",
       "      <td>20000</td>\n",
       "    </tr>\n",
       "    <tr>\n",
       "      <th>3</th>\n",
       "      <td>5.206052</td>\n",
       "      <td>0.022915</td>\n",
       "      <td>1000</td>\n",
       "      <td>25000</td>\n",
       "    </tr>\n",
       "    <tr>\n",
       "      <th>4</th>\n",
       "      <td>7.207669</td>\n",
       "      <td>0.023130</td>\n",
       "      <td>1000</td>\n",
       "      <td>30000</td>\n",
       "    </tr>\n",
       "    <tr>\n",
       "      <th>...</th>\n",
       "      <td>...</td>\n",
       "      <td>...</td>\n",
       "      <td>...</td>\n",
       "      <td>...</td>\n",
       "    </tr>\n",
       "    <tr>\n",
       "      <th>1195</th>\n",
       "      <td>25.136389</td>\n",
       "      <td>0.466444</td>\n",
       "      <td>5000</td>\n",
       "      <td>15000</td>\n",
       "    </tr>\n",
       "    <tr>\n",
       "      <th>1196</th>\n",
       "      <td>40.897507</td>\n",
       "      <td>0.549642</td>\n",
       "      <td>5000</td>\n",
       "      <td>20000</td>\n",
       "    </tr>\n",
       "    <tr>\n",
       "      <th>1197</th>\n",
       "      <td>63.603122</td>\n",
       "      <td>0.805889</td>\n",
       "      <td>5000</td>\n",
       "      <td>25000</td>\n",
       "    </tr>\n",
       "    <tr>\n",
       "      <th>1198</th>\n",
       "      <td>86.987759</td>\n",
       "      <td>0.860874</td>\n",
       "      <td>5000</td>\n",
       "      <td>30000</td>\n",
       "    </tr>\n",
       "    <tr>\n",
       "      <th>1199</th>\n",
       "      <td>118.516010</td>\n",
       "      <td>0.905579</td>\n",
       "      <td>5000</td>\n",
       "      <td>35000</td>\n",
       "    </tr>\n",
       "  </tbody>\n",
       "</table>\n",
       "<p>1200 rows × 4 columns</p>\n",
       "</div>"
      ],
      "text/plain": [
       "            time       sar  cells  genes\n",
       "0       1.262643  0.010460   1000  10000\n",
       "1       2.226568  0.024844   1000  15000\n",
       "2       3.635163  0.021536   1000  20000\n",
       "3       5.206052  0.022915   1000  25000\n",
       "4       7.207669  0.023130   1000  30000\n",
       "...          ...       ...    ...    ...\n",
       "1195   25.136389  0.466444   5000  15000\n",
       "1196   40.897507  0.549642   5000  20000\n",
       "1197   63.603122  0.805889   5000  25000\n",
       "1198   86.987759  0.860874   5000  30000\n",
       "1199  118.516010  0.905579   5000  35000\n",
       "\n",
       "[1200 rows x 4 columns]"
      ]
     },
     "execution_count": 125,
     "metadata": {},
     "output_type": "execute_result"
    }
   ],
   "source": [
    "df5000"
   ]
  },
  {
   "cell_type": "code",
   "execution_count": 126,
   "id": "5faec525-dabb-4ea8-aa12-a28c67d16035",
   "metadata": {},
   "outputs": [],
   "source": [
    "with open('data/times-cell5000.pickle', 'wb') as handle:\n",
    "    pickle.dump(df5000, handle, protocol=pickle.HIGHEST_PROTOCOL)"
   ]
  },
  {
   "cell_type": "code",
   "execution_count": 127,
   "id": "dbc9e515-6952-47c2-8d4d-65ef846655be",
   "metadata": {},
   "outputs": [
    {
     "data": {
      "text/plain": [
       "<AxesSubplot:xlabel='genes', ylabel='time'>"
      ]
     },
     "execution_count": 127,
     "metadata": {},
     "output_type": "execute_result"
    },
    {
     "data": {
      "image/png": "[encoded data removed]",
      "text/plain": [
       "<Figure size 432x324 with 1 Axes>"
      ]
     },
     "metadata": {
      "needs_background": "light"
     },
     "output_type": "display_data"
    }
   ],
   "source": [
    "sns.violinplot(y=\"time\", x=\"genes\", hue=\"cells\",data=df5000)"
   ]
  },
  {
   "cell_type": "code",
   "execution_count": null,
   "id": "87766fd1-e17f-4dcc-8b92-ad88632cdcab",
   "metadata": {},
   "outputs": [],
   "source": []
  },
  {
   "cell_type": "markdown",
   "id": "edd7eb63-e4e8-41c2-85b0-50f67ee9ee5e",
   "metadata": {},
   "source": [
    "##  Sup Figure 5 - denormalizing a normalized expression on three published datasets"
   ]
  },
  {
   "cell_type": "code",
   "execution_count": 198,
   "id": "bfa65de3-f131-49e5-97ce-b3bb35ec8e99",
   "metadata": {},
   "outputs": [],
   "source": [
    "h5_paths_norm=['/home/huang_ziliang/project/brain/data/public/human_mouse_brain_source_Gaublomme_2019/h5/experiment1_all_lowremove.h5ad',\n",
    " '/home/huang_ziliang/project/brain/data/public/mouse_brain_source_Habib_2017/h5/mouse.h5ad',\n",
    " '/home/huang_ziliang/project/brain/data/public/mouse_brain_BasalGanglia_Wallace_2017_Drop-seq/h5/mouse_brain_BasalGanglia_Wallace_2017_Drop-seq.h5ad']"
   ]
  },
  {
   "cell_type": "code",
   "execution_count": 71,
   "id": "1cec49a5-b199-442e-82de-33f64152fde4",
   "metadata": {
    "tags": []
   },
   "outputs": [
    {
     "data": {
      "image/png": "[encoded data removed]",
      "text/plain": [
       "<Figure size 1440x504 with 3 Axes>"
      ]
     },
     "metadata": {
      "needs_background": "light"
     },
     "output_type": "display_data"
    }
   ],
   "source": [
    "fig, axs = plt.subplots(1,3,figsize=(20,7))\n",
    "axs = axs.ravel()\n",
    "for i,h5 in enumerate(h5_paths_norm):\n",
    "    ad=sc.read(h5)\n",
    "    smtx=ad.X\n",
    "    cmean = np.array(smtx.mean(0))\n",
    "    cvar = np.array(smtx.power(2).mean(0) - cmean ** 2)\n",
    "\n",
    "    ax=axs[i]\n",
    "    ax.loglog()\n",
    "    ax.scatter(cmean, cvar)\n",
    "    lims = [\n",
    "        np.min([ax.get_xlim(), ax.get_ylim()]),  # min of both axes\n",
    "        np.max([ax.get_xlim(), ax.get_ylim()]),  # max of both axes\n",
    "    ]\n",
    "\n",
    "    # now plot both limits against eachother\n",
    "    ax.plot(lims, lims, 'k-', alpha=0.75, zorder=0)\n",
    "    ax.set_aspect('equal')\n",
    "    ax.set_xlim(lims)\n",
    "    ax.set_ylim(lims)\n",
    "    ax.title.set_text(h5.split('/')[-3])\n",
    "plt.savefig('figures/Sup_figure_5.pdf',dpi=600,format='pdf', transparent=True)\n",
    "plt.show()"
   ]
  },
  {
   "cell_type": "code",
   "execution_count": 74,
   "id": "219edb6a-75a4-48f3-98f8-35099c9546f4",
   "metadata": {
    "tags": []
   },
   "outputs": [
    {
     "name": "stderr",
     "output_type": "stream",
     "text": [
      "INFO:root:The dimensions of this data are (9923, 28363).\n",
      "INFO:root:select base\n",
      "INFO:root:denormlizing ...\n",
      "100%|██████████| 9923/9923 [00:03<00:00, 2993.17it/s]\n",
      "INFO:root:The dimensions of this data are (13313, 17308).\n",
      "INFO:root:select base\n",
      "INFO:root:denormlizing ...\n",
      "100%|██████████| 13313/13313 [00:04<00:00, 3077.21it/s]\n",
      "INFO:root:The dimensions of this data are (3101, 16484).\n",
      "INFO:root:select base\n",
      "INFO:root:denormlizing ...\n",
      "100%|██████████| 3101/3101 [00:01<00:00, 3019.18it/s]\n"
     ]
    },
    {
     "data": {
      "image/png": "[encoded data removed]",
      "text/plain": [
       "<Figure size 1440x504 with 3 Axes>"
      ]
     },
     "metadata": {
      "needs_background": "light"
     },
     "output_type": "display_data"
    }
   ],
   "source": [
    "fig, axs = plt.subplots(1,3,figsize=(20,7))\n",
    "axs = axs.ravel()\n",
    "for i,h5 in enumerate(h5_paths_norm):\n",
    "    ad=sc.read(h5)\n",
    "    ad=scdenorm(ad,verbose=1)\n",
    "    smtx=ad.X\n",
    "    cmean = np.array(smtx.mean(0))\n",
    "    cvar = np.array(smtx.power(2).mean(0) - cmean ** 2)\n",
    "\n",
    "    ax=axs[i]\n",
    "    ax.loglog()\n",
    "    ax.scatter(cmean, cvar)\n",
    "    lims = [\n",
    "        np.min([ax.get_xlim(), ax.get_ylim()]),  # min of both axes\n",
    "        np.max([ax.get_xlim(), ax.get_ylim()]),  # max of both axes\n",
    "    ]\n",
    "\n",
    "    # now plot both limits against eachother\n",
    "    ax.plot(lims, lims, 'k-', alpha=0.75, zorder=0)\n",
    "    ax.set_aspect('equal')\n",
    "    ax.set_xlim(lims)\n",
    "    ax.set_ylim(lims)\n",
    "    ax.title.set_text(h5.split('/')[-3])\n",
    "plt.savefig('figures/Sup_figure_6.pdf',dpi=600,format='pdf', transparent=True)\n",
    "plt.show()"
   ]
  },
  {
   "cell_type": "code",
   "execution_count": null,
   "id": "8d67e90e-a3d0-4aed-b750-c6e408740fbb",
   "metadata": {},
   "outputs": [],
   "source": []
  },
  {
   "cell_type": "markdown",
   "id": "ef3a1025-402f-49b5-b1a0-934060be9bb2",
   "metadata": {},
   "source": [
    "## Sup Table 1 - testing datasets "
   ]
  },
  {
   "cell_type": "code",
   "execution_count": 202,
   "id": "90bbbdbd-55cf-4b00-852e-b8ec87b9ad22",
   "metadata": {},
   "outputs": [],
   "source": [
    "all_datasets=h5_benchmark+h5_paths_norm"
   ]
  },
  {
   "cell_type": "code",
   "execution_count": 204,
   "id": "36ee7d2a-65e1-474d-9f87-4b55019b5458",
   "metadata": {},
   "outputs": [],
   "source": [
    "name=[h5.split('/')[-3] for h5 in all_datasets]"
   ]
  },
  {
   "cell_type": "code",
   "execution_count": 205,
   "id": "3d5c0092-02c2-49f0-9471-161014267821",
   "metadata": {},
   "outputs": [
    {
     "data": {
      "text/plain": [
       "['human_brain_organoids_Fiorenzano_2021_10x',\n",
       " 'human_mouse_brain_Welch_2019_10x',\n",
       " 'mouse_brain_HPF_PFC_Joglekar_2021_10x_PacBio_Visium',\n",
       " 'mouse_brain_OB_Mizrak_2020_SCOPE-seq',\n",
       " 'mouse_brain_lateral_hypothalamic_area_Mickelsen_2019_10x',\n",
       " 'mouse_brain_choroid_plexus_Dani_2021_10x',\n",
       " 'human_brain_entorhinalcortex_Grubman_2019_DroNc-seq',\n",
       " 'mouse_brain_developing_ZhangX_2022_10x',\n",
       " 'human_mouse_brain_Chen_2019_SNARE-seq',\n",
       " 'mouse_brain_Hippocampal_Mirabella_2021_10x',\n",
       " 'human_mouse_brain_source_Gaublomme_2019',\n",
       " 'mouse_brain_source_Habib_2017',\n",
       " 'mouse_brain_BasalGanglia_Wallace_2017_Drop-seq']"
      ]
     },
     "execution_count": 205,
     "metadata": {},
     "output_type": "execute_result"
    }
   ],
   "source": [
    "name"
   ]
  },
  {
   "cell_type": "code",
   "execution_count": 206,
   "id": "1f68b3bd-6d47-4bcb-868b-b17b79874a1a",
   "metadata": {},
   "outputs": [],
   "source": [
    "normalized=[True]*10+[False]*3"
   ]
  },
  {
   "cell_type": "code",
   "execution_count": 217,
   "id": "b4d61bd1-002c-4c29-b75a-a27d31547538",
   "metadata": {},
   "outputs": [],
   "source": [
    "data=['GSE168323',\n",
    "     'GSE126836',\n",
    "     'GSE158450',\n",
    "     'GSE134918',\n",
    "     'GSE125065',\n",
    "     'GSE168704',\n",
    "     'GSE138852',\n",
    "     'GSE178957',\n",
    "     'GSE126074',\n",
    "     'GSE180345',\n",
    "     'https://portals.broadinstitute.org/single_cell/study/SCP375/experiment-1-stonly',\n",
    "     'GSE71585',\n",
    "     'GSE95133']"
   ]
  },
  {
   "cell_type": "code",
   "execution_count": 218,
   "id": "8690eaae-7697-4141-a0b4-bbd026dd3a94",
   "metadata": {},
   "outputs": [],
   "source": [
    "paper=[\"Single-cell transcriptomics captures features of human midbrain development and dopamine neuron diversity in brain organoids\",\n",
    "\"Single-Cell Multi-omic Integration Compares and Contrasts Features of Brain Cell Identity\",\n",
    "\"A spatially resolved brain region- and cell type-specific isoform atlas of the postnatal mouse brain\",\n",
    "\"Single-Cell Profiling and SCOPE-Seq Reveal Lineage Dynamics of Adult Ventricular-Subventricular Zone Neurogenesis and NOTUM as a Key Regulator\",\n",
    "\"Single-cell transcriptomic analysis of the lateral hypothalamic area reveals molecularly distinct populations of inhibitory and excitatory neurons\",\n",
    "\"A cellular and spatial map of the choroid plexus across brain ventricles and ages\",\n",
    "\"A single-cell atlas of entorhinal cortex from individuals with Alzheimer's disease reveals cell-type-specific gene expression regulation\",\n",
    "\"Rejuvenation of the aged brain immune cell landscape in mice through p16-positive senescent cell clearance\",\n",
    "\"High-throughput sequencing of the transcriptome and chromatin accessibility in the same cell\",\n",
    "\"Prenatal interleukin 6 elevation increases glutamatergic synapse density and disrupts hippocampal connectivity in offspring\",\n",
    "\"Nuclei multiplexing with barcoded antibodies for single-nucleus genomics\",\n",
    "\"Massively parallel single-nucleus RNA-seq with DroNc-seq\",\n",
    "\"Genetically distinct parallel pathways in the entopeduncular nucleus for limbic and sensorimotor output of the basal ganglia\"]"
   ]
  },
  {
   "cell_type": "code",
   "execution_count": 219,
   "id": "559a5aee-ca4a-40d7-8e12-1e04b151d20f",
   "metadata": {},
   "outputs": [],
   "source": [
    "st1=pd.DataFrame([name,data,normalized,paper]).T"
   ]
  },
  {
   "cell_type": "code",
   "execution_count": 220,
   "id": "05bee89c-5562-4cfe-a33f-84905065fc08",
   "metadata": {},
   "outputs": [],
   "source": [
    "st1.columns=['name','gse','norm','paper']"
   ]
  },
  {
   "cell_type": "code",
   "execution_count": 221,
   "id": "296cde77-5db6-449d-b264-8a73206b5c69",
   "metadata": {},
   "outputs": [],
   "source": [
    "st1.to_csv('figures/testing_data.csv')"
   ]
  },
  {
   "cell_type": "code",
   "execution_count": 222,
   "id": "9c111064-c51d-4337-bb63-6aefa10f0816",
   "metadata": {},
   "outputs": [
    {
     "data": {
      "text/html": [
       "<div>\n",
       "<style scoped>\n",
       "    .dataframe tbody tr th:only-of-type {\n",
       "        vertical-align: middle;\n",
       "    }\n",
       "\n",
       "    .dataframe tbody tr th {\n",
       "        vertical-align: top;\n",
       "    }\n",
       "\n",
       "    .dataframe thead th {\n",
       "        text-align: right;\n",
       "    }\n",
       "</style>\n",
       "<table border=\"1\" class=\"dataframe\">\n",
       "  <thead>\n",
       "    <tr style=\"text-align: right;\">\n",
       "      <th></th>\n",
       "      <th>name</th>\n",
       "      <th>gse</th>\n",
       "      <th>norm</th>\n",
       "      <th>paper</th>\n",
       "    </tr>\n",
       "  </thead>\n",
       "  <tbody>\n",
       "    <tr>\n",
       "      <th>0</th>\n",
       "      <td>human_brain_organoids_Fiorenzano_2021_10x</td>\n",
       "      <td>GSE168323</td>\n",
       "      <td>True</td>\n",
       "      <td>Single-cell transcriptomics captures features ...</td>\n",
       "    </tr>\n",
       "    <tr>\n",
       "      <th>1</th>\n",
       "      <td>human_mouse_brain_Welch_2019_10x</td>\n",
       "      <td>GSE126836</td>\n",
       "      <td>True</td>\n",
       "      <td>Single-Cell Multi-omic Integration Compares an...</td>\n",
       "    </tr>\n",
       "    <tr>\n",
       "      <th>2</th>\n",
       "      <td>mouse_brain_HPF_PFC_Joglekar_2021_10x_PacBio_V...</td>\n",
       "      <td>GSE158450</td>\n",
       "      <td>True</td>\n",
       "      <td>A spatially resolved brain region- and cell ty...</td>\n",
       "    </tr>\n",
       "    <tr>\n",
       "      <th>3</th>\n",
       "      <td>mouse_brain_OB_Mizrak_2020_SCOPE-seq</td>\n",
       "      <td>GSE134918</td>\n",
       "      <td>True</td>\n",
       "      <td>Single-Cell Profiling and SCOPE-Seq Reveal Lin...</td>\n",
       "    </tr>\n",
       "    <tr>\n",
       "      <th>4</th>\n",
       "      <td>mouse_brain_lateral_hypothalamic_area_Mickelse...</td>\n",
       "      <td>GSE125065</td>\n",
       "      <td>True</td>\n",
       "      <td>Single-cell transcriptomic analysis of the lat...</td>\n",
       "    </tr>\n",
       "    <tr>\n",
       "      <th>5</th>\n",
       "      <td>mouse_brain_choroid_plexus_Dani_2021_10x</td>\n",
       "      <td>GSE168704</td>\n",
       "      <td>True</td>\n",
       "      <td>A cellular and spatial map of the choroid plex...</td>\n",
       "    </tr>\n",
       "    <tr>\n",
       "      <th>6</th>\n",
       "      <td>human_brain_entorhinalcortex_Grubman_2019_DroN...</td>\n",
       "      <td>GSE138852</td>\n",
       "      <td>True</td>\n",
       "      <td>A single-cell atlas of entorhinal cortex from ...</td>\n",
       "    </tr>\n",
       "    <tr>\n",
       "      <th>7</th>\n",
       "      <td>mouse_brain_developing_ZhangX_2022_10x</td>\n",
       "      <td>GSE178957</td>\n",
       "      <td>True</td>\n",
       "      <td>Rejuvenation of the aged brain immune cell lan...</td>\n",
       "    </tr>\n",
       "    <tr>\n",
       "      <th>8</th>\n",
       "      <td>human_mouse_brain_Chen_2019_SNARE-seq</td>\n",
       "      <td>GSE126074</td>\n",
       "      <td>True</td>\n",
       "      <td>High-throughput sequencing of the transcriptom...</td>\n",
       "    </tr>\n",
       "    <tr>\n",
       "      <th>9</th>\n",
       "      <td>mouse_brain_Hippocampal_Mirabella_2021_10x</td>\n",
       "      <td>GSE180345</td>\n",
       "      <td>True</td>\n",
       "      <td>Prenatal interleukin 6 elevation increases glu...</td>\n",
       "    </tr>\n",
       "    <tr>\n",
       "      <th>10</th>\n",
       "      <td>human_mouse_brain_source_Gaublomme_2019</td>\n",
       "      <td>https://portals.broadinstitute.org/single_cell...</td>\n",
       "      <td>False</td>\n",
       "      <td>Nuclei multiplexing with barcoded antibodies f...</td>\n",
       "    </tr>\n",
       "    <tr>\n",
       "      <th>11</th>\n",
       "      <td>mouse_brain_source_Habib_2017</td>\n",
       "      <td>GSE71585</td>\n",
       "      <td>False</td>\n",
       "      <td>Massively parallel single-nucleus RNA-seq with...</td>\n",
       "    </tr>\n",
       "    <tr>\n",
       "      <th>12</th>\n",
       "      <td>mouse_brain_BasalGanglia_Wallace_2017_Drop-seq</td>\n",
       "      <td>GSE95133</td>\n",
       "      <td>False</td>\n",
       "      <td>Genetically distinct parallel pathways in the ...</td>\n",
       "    </tr>\n",
       "  </tbody>\n",
       "</table>\n",
       "</div>"
      ],
      "text/plain": [
       "                                                 name  \\\n",
       "0           human_brain_organoids_Fiorenzano_2021_10x   \n",
       "1                    human_mouse_brain_Welch_2019_10x   \n",
       "2   mouse_brain_HPF_PFC_Joglekar_2021_10x_PacBio_V...   \n",
       "3                mouse_brain_OB_Mizrak_2020_SCOPE-seq   \n",
       "4   mouse_brain_lateral_hypothalamic_area_Mickelse...   \n",
       "5            mouse_brain_choroid_plexus_Dani_2021_10x   \n",
       "6   human_brain_entorhinalcortex_Grubman_2019_DroN...   \n",
       "7              mouse_brain_developing_ZhangX_2022_10x   \n",
       "8               human_mouse_brain_Chen_2019_SNARE-seq   \n",
       "9          mouse_brain_Hippocampal_Mirabella_2021_10x   \n",
       "10            human_mouse_brain_source_Gaublomme_2019   \n",
       "11                      mouse_brain_source_Habib_2017   \n",
       "12     mouse_brain_BasalGanglia_Wallace_2017_Drop-seq   \n",
       "\n",
       "                                                  gse   norm  \\\n",
       "0                                           GSE168323   True   \n",
       "1                                           GSE126836   True   \n",
       "2                                           GSE158450   True   \n",
       "3                                           GSE134918   True   \n",
       "4                                           GSE125065   True   \n",
       "5                                           GSE168704   True   \n",
       "6                                           GSE138852   True   \n",
       "7                                           GSE178957   True   \n",
       "8                                           GSE126074   True   \n",
       "9                                           GSE180345   True   \n",
       "10  https://portals.broadinstitute.org/single_cell...  False   \n",
       "11                                           GSE71585  False   \n",
       "12                                           GSE95133  False   \n",
       "\n",
       "                                                paper  \n",
       "0   Single-cell transcriptomics captures features ...  \n",
       "1   Single-Cell Multi-omic Integration Compares an...  \n",
       "2   A spatially resolved brain region- and cell ty...  \n",
       "3   Single-Cell Profiling and SCOPE-Seq Reveal Lin...  \n",
       "4   Single-cell transcriptomic analysis of the lat...  \n",
       "5   A cellular and spatial map of the choroid plex...  \n",
       "6   A single-cell atlas of entorhinal cortex from ...  \n",
       "7   Rejuvenation of the aged brain immune cell lan...  \n",
       "8   High-throughput sequencing of the transcriptom...  \n",
       "9   Prenatal interleukin 6 elevation increases glu...  \n",
       "10  Nuclei multiplexing with barcoded antibodies f...  \n",
       "11  Massively parallel single-nucleus RNA-seq with...  \n",
       "12  Genetically distinct parallel pathways in the ...  "
      ]
     },
     "execution_count": 222,
     "metadata": {},
     "output_type": "execute_result"
    }
   ],
   "source": [
    "st1"
   ]
  },
  {
   "cell_type": "code",
   "execution_count": null,
   "id": "4e93cfa8-1dbf-4feb-9547-c024eb1eca82",
   "metadata": {},
   "outputs": [],
   "source": []
  }
 ],
 "metadata": {
  "kernelspec": {
   "display_name": "Python [conda env:sc]",
   "language": "python",
   "name": "conda-env-sc-py"
  },
  "language_info": {
   "codemirror_mode": {
    "name": "ipython",
    "version": 3
   },
   "file_extension": ".py",
   "mimetype": "text/x-python",
   "name": "python",
   "nbconvert_exporter": "python",
   "pygments_lexer": "ipython3",
   "version": "3.9.13"
  }
 },
 "nbformat": 4,
 "nbformat_minor": 5
}
