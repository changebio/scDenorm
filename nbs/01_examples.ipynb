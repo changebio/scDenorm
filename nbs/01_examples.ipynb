{
 "cells": [
  {
   "cell_type": "markdown",
   "metadata": {
    "tags": []
   },
   "source": [
    "# examples\n",
    "\n",
    "> Application and plots"
   ]
  },
  {
   "cell_type": "markdown",
   "metadata": {},
   "source": [
    "### plot the scaled data"
   ]
  },
  {
   "cell_type": "code",
   "execution_count": 178,
   "metadata": {
    "ExecuteTime": {
     "end_time": "2022-11-17T10:25:01.240948Z",
     "start_time": "2022-11-17T10:25:00.456328Z"
    }
   },
   "outputs": [
    {
     "data": {
      "image/png": "[encoded data removed]",
      "text/plain": [
       "<Figure size 432x288 with 1 Axes>"
      ]
     },
     "metadata": {
      "needs_background": "light"
     },
     "output_type": "display_data"
    }
   ],
   "source": [
    "cmean = np.array(smtx.mean(0))\n",
    "cvar = np.array(smtx.power(2).mean(0) - cmean ** 2)\n",
    "\n",
    "# plt.loglog()\n",
    "plt.scatter(cmean, cvar, marker='*', c='k', label='Genes')\n",
    "plt.legend(scatterpoints=3)\n",
    "plt.title('mean and variance relation');\n",
    "# plt.loglog;"
   ]
  },
  {
   "cell_type": "markdown",
   "metadata": {},
   "source": [
    "If the points are roughly of the shape of a logarithm graph, i.e. concave up and lying below the diagonal line, then we can assume that it has been log transformed. If the data has been log transformed, we next determine the base of the logarithm; otherwise, skip to scaling factors. If the points are not distributed evenly, try a log-scaled plot."
   ]
  },
  {
   "cell_type": "code",
   "execution_count": 266,
   "metadata": {
    "ExecuteTime": {
     "end_time": "2022-11-17T10:12:53.119846Z",
     "start_time": "2022-11-17T10:12:52.757414Z"
    },
    "tags": []
   },
   "outputs": [
    {
     "data": {
      "image/png": "[encoded data removed]",
      "text/plain": [
       "<Figure size 432x288 with 1 Axes>"
      ]
     },
     "metadata": {
      "needs_background": "light"
     },
     "output_type": "display_data"
    }
   ],
   "source": [
    "for c_idx in [684]:\n",
    "    N = 10\n",
    "    c = pd.Series(scaled_counts.getrow(c_idx).data)\n",
    "    y = np.array(c.value_counts().sort_index().head(N).index)\n",
    "    x = np.arange(0, N)\n",
    "    plt.scatter(x, y, label=f'Cell {c_idx}');\n",
    "    \n",
    "\n",
    "plt.legend()\n",
    "plt.xlabel('Rank in cell histogram')\n",
    "plt.ylabel('Scaled count');\n",
    "plt.xticks(x);"
   ]
  },
  {
   "cell_type": "code",
   "execution_count": 201,
   "metadata": {},
   "outputs": [
    {
     "data": {
      "text/plain": [
       "<951x27998 sparse matrix of type '<class 'numpy.float32'>'\n",
       "\twith 2575160 stored elements in Compressed Sparse Row format>"
      ]
     },
     "execution_count": 201,
     "metadata": {},
     "output_type": "execute_result"
    }
   ],
   "source": [
    "smtx"
   ]
  },
  {
   "cell_type": "markdown",
   "metadata": {},
   "source": [
    "## Testing"
   ]
  },
  {
   "cell_type": "code",
   "execution_count": 202,
   "metadata": {},
   "outputs": [
    {
     "data": {
      "text/plain": [
       "0.794399980756989"
      ]
     },
     "execution_count": 202,
     "metadata": {},
     "output_type": "execute_result"
    }
   ],
   "source": [
    "get_scaling_factor(pd.Series(smtx.getrow(0).expm1().data))"
   ]
  },
  {
   "cell_type": "code",
   "execution_count": 203,
   "metadata": {},
   "outputs": [
    {
     "data": {
      "text/plain": [
       "<951x27998 sparse matrix of type '<class 'numpy.float64'>'\n",
       "\twith 2575160 stored elements in Compressed Sparse Row format>"
      ]
     },
     "execution_count": 203,
     "metadata": {},
     "output_type": "execute_result"
    }
   ],
   "source": [
    "unscale_mat(smtx)"
   ]
  },
  {
   "cell_type": "code",
   "execution_count": 172,
   "metadata": {},
   "outputs": [],
   "source": [
    "unscale_counts('scaled.mtx',gxc=False)"
   ]
  },
  {
   "cell_type": "code",
   "execution_count": 175,
   "metadata": {},
   "outputs": [],
   "source": [
    "unscale_counts('scaled_tran.mtx',gxc=True)"
   ]
  },
  {
   "cell_type": "markdown",
   "metadata": {},
   "source": [
    "### on real datasets"
   ]
  },
  {
   "cell_type": "code",
   "execution_count": 359,
   "metadata": {},
   "outputs": [],
   "source": [
    "ad=sc.read('/home/huang_ziliang/project/brain/data/public/mouse_brain_BasalGanglia_Wallace_2017_Drop-seq/h5/mouse_brain_BasalGanglia_Wallace_2017_Drop-seq.h5ad')"
   ]
  },
  {
   "cell_type": "code",
   "execution_count": 360,
   "metadata": {},
   "outputs": [
    {
     "data": {
      "text/plain": [
       "<3101x16484 sparse matrix of type '<class 'numpy.float32'>'\n",
       "\twith 3117005 stored elements in Compressed Sparse Row format>"
      ]
     },
     "execution_count": 360,
     "metadata": {},
     "output_type": "execute_result"
    }
   ],
   "source": [
    "ad.X"
   ]
  },
  {
   "cell_type": "code",
   "execution_count": 361,
   "metadata": {
    "collapsed": true,
    "jupyter": {
     "outputs_hidden": true
    },
    "tags": []
   },
   "outputs": [
    {
     "name": "stdout",
     "output_type": "stream",
     "text": [
      "  (0, 2)\t1.0\n",
      "  (0, 6)\t2.0\n",
      "  (0, 8)\t2.0\n",
      "  (0, 15)\t2.0\n",
      "  (0, 19)\t2.0\n",
      "  (0, 21)\t2.0\n",
      "  (0, 23)\t1.0\n",
      "  (0, 39)\t1.0\n",
      "  (0, 41)\t1.0\n",
      "  (0, 42)\t1.0\n",
      "  (0, 44)\t1.0\n",
      "  (0, 46)\t1.0\n",
      "  (0, 48)\t1.0\n",
      "  (0, 52)\t2.0\n",
      "  (0, 55)\t4.0\n",
      "  (0, 72)\t1.0\n",
      "  (0, 92)\t8.0\n",
      "  (0, 94)\t1.0\n",
      "  (0, 95)\t1.0\n",
      "  (0, 98)\t1.0\n",
      "  (0, 155)\t1.0\n",
      "  (0, 158)\t3.0\n",
      "  (0, 161)\t2.0\n",
      "  (0, 163)\t2.0\n",
      "  (0, 171)\t1.0\n",
      "  :\t:\n",
      "  (3100, 15397)\t1.0\n",
      "  (3100, 15409)\t1.0\n",
      "  (3100, 15484)\t1.0\n",
      "  (3100, 15539)\t1.0\n",
      "  (3100, 15542)\t1.0\n",
      "  (3100, 15623)\t1.0\n",
      "  (3100, 15642)\t2.0\n",
      "  (3100, 15673)\t1.0\n",
      "  (3100, 15701)\t1.0\n",
      "  (3100, 15724)\t1.0\n",
      "  (3100, 15761)\t1.0\n",
      "  (3100, 15881)\t1.0\n",
      "  (3100, 15893)\t1.0\n",
      "  (3100, 15906)\t1.0\n",
      "  (3100, 15908)\t3.0\n",
      "  (3100, 15956)\t2.0\n",
      "  (3100, 16015)\t1.0\n",
      "  (3100, 16058)\t1.0\n",
      "  (3100, 16226)\t1.0\n",
      "  (3100, 16385)\t1.0\n",
      "  (3100, 16420)\t1.0\n",
      "  (3100, 16434)\t1.0\n",
      "  (3100, 16436)\t1.0\n",
      "  (3100, 16474)\t2.0\n",
      "  (3100, 16477)\t1.0\n"
     ]
    }
   ],
   "source": [
    "print(unscale_mat(ad.X))"
   ]
  },
  {
   "cell_type": "code",
   "execution_count": 362,
   "metadata": {},
   "outputs": [],
   "source": [
    "ad=sc.read('/home/huang_ziliang/project/brain/data/public/human_mouse_brain_source_Gaublomme_2019/h5/experiment2_mouse_pbs.scp.h5ad')"
   ]
  },
  {
   "cell_type": "code",
   "execution_count": 363,
   "metadata": {},
   "outputs": [
    {
     "data": {
      "text/plain": [
       "AnnData object with n_obs × n_vars = 3402 × 20921"
      ]
     },
     "execution_count": 363,
     "metadata": {},
     "output_type": "execute_result"
    }
   ],
   "source": [
    "ad"
   ]
  },
  {
   "cell_type": "code",
   "execution_count": 364,
   "metadata": {
    "tags": []
   },
   "outputs": [
    {
     "name": "stdout",
     "output_type": "stream",
     "text": [
      "  (0, 0)\t1.0\n",
      "  (0, 12)\t1.0\n",
      "  (0, 16)\t1.0\n",
      "  (0, 19)\t9.0\n",
      "  (0, 24)\t1.0\n",
      "  (0, 33)\t2.0\n",
      "  (0, 42)\t1.0\n",
      "  (0, 51)\t12.0\n",
      "  (0, 89)\t22.0\n",
      "  (0, 91)\t14.0\n",
      "  (0, 98)\t1.0\n",
      "  (0, 100)\t1.0\n",
      "  (0, 102)\t21.0\n",
      "  (0, 106)\t2.0\n",
      "  (0, 112)\t6.0\n",
      "  (0, 118)\t1.0\n",
      "  (0, 119)\t4.0\n",
      "  (0, 176)\t1.0\n",
      "  (0, 178)\t1.0\n",
      "  (0, 184)\t1.0\n",
      "  (0, 214)\t1.0\n",
      "  (0, 228)\t1.0\n",
      "  (0, 243)\t2.0\n",
      "  (0, 253)\t2.0\n",
      "  (0, 268)\t1.0\n",
      "  :\t:\n",
      "  (3401, 20741)\t1.0\n",
      "  (3401, 20747)\t1.0\n",
      "  (3401, 20754)\t1.0\n",
      "  (3401, 20781)\t1.0\n",
      "  (3401, 20788)\t1.0\n",
      "  (3401, 20789)\t1.0\n",
      "  (3401, 20792)\t1.0\n",
      "  (3401, 20794)\t1.0\n",
      "  (3401, 20797)\t1.0\n",
      "  (3401, 20801)\t1.0\n",
      "  (3401, 20818)\t1.0\n",
      "  (3401, 20824)\t1.0\n",
      "  (3401, 20831)\t1.0\n",
      "  (3401, 20837)\t1.0\n",
      "  (3401, 20839)\t2.0\n",
      "  (3401, 20848)\t3.0\n",
      "  (3401, 20854)\t2.0\n",
      "  (3401, 20856)\t1.0\n",
      "  (3401, 20858)\t2.0\n",
      "  (3401, 20868)\t1.0\n",
      "  (3401, 20880)\t1.0\n",
      "  (3401, 20883)\t1.0\n",
      "  (3401, 20887)\t1.0\n",
      "  (3401, 20918)\t3.0\n",
      "  (3401, 20919)\t1.0\n"
     ]
    }
   ],
   "source": [
    "print(unscale_mat(ad.X))"
   ]
  },
  {
   "cell_type": "code",
   "execution_count": null,
   "metadata": {},
   "outputs": [],
   "source": []
  },
  {
   "cell_type": "markdown",
   "metadata": {},
   "source": [
    "The above is an example of the natural logarithm. Primarily try 2, e, 10 based logarithm. If the rank and scaled count relation is a straight line, bingo! Otherwise, if it is concave up, try a larger base; if it is concave down, try a smaller base."
   ]
  },
  {
   "cell_type": "code",
   "execution_count": 98,
   "metadata": {
    "ExecuteTime": {
     "end_time": "2022-11-17T10:30:48.192583Z",
     "start_time": "2022-11-17T10:30:48.187610Z"
    }
   },
   "outputs": [],
   "source": [
    "def get_scaling_factor(r):\n",
    "    N = 3\n",
    "    h = r.value_counts().sort_index()\n",
    "    N_ = np.minimum(h.shape[0], N)\n",
    "    y = h.head(N_).index\n",
    "    x = np.arange(N_)\n",
    "    s = np.linalg.lstsq(y[:, None], x[:, None], rcond=-1)[0][0, 0]\n",
    "    \n",
    "    return s"
   ]
  },
  {
   "cell_type": "code",
   "execution_count": 100,
   "metadata": {},
   "outputs": [
    {
     "name": "stderr",
     "output_type": "stream",
     "text": [
      "/tmp/ipykernel_34243/1780908992.py:7: FutureWarning: Support for multi-dimensional indexing (e.g. `obj[:, None]`) is deprecated and will be removed in a future version.  Convert to a numpy array before indexing instead.\n",
      "  s = np.linalg.lstsq(y[:, None], x[:, None], rcond=-1)[0][0, 0]\n"
     ]
    },
    {
     "data": {
      "text/plain": [
       "0.3031999903151466"
      ]
     },
     "execution_count": 100,
     "metadata": {},
     "output_type": "execute_result"
    }
   ],
   "source": [
    "get_scaling_factor(c)"
   ]
  },
  {
   "cell_type": "code",
   "execution_count": 110,
   "metadata": {},
   "outputs": [
    {
     "data": {
      "text/plain": [
       "951"
      ]
     },
     "execution_count": 110,
     "metadata": {},
     "output_type": "execute_result"
    }
   ],
   "source": [
    "scaled_counts.shape[0]"
   ]
  },
  {
   "cell_type": "code",
   "execution_count": 122,
   "metadata": {
    "ExecuteTime": {
     "end_time": "2022-11-17T10:30:50.195327Z",
     "start_time": "2022-11-17T10:30:48.984914Z"
    }
   },
   "outputs": [],
   "source": [
    "from scipy.sparse import diags\n",
    "scaling_factors = diags(    \n",
    "    [unscale_count(pd.Series(scaled_counts.getrow(i).data)) for i in range(scaled_counts.shape[0])]\n",
    ")"
   ]
  },
  {
   "cell_type": "code",
   "execution_count": 123,
   "metadata": {},
   "outputs": [
    {
     "data": {
      "text/plain": [
       "<951x951 sparse matrix of type '<class 'numpy.float64'>'\n",
       "\twith 951 stored elements (1 diagonals) in DIAgonal format>"
      ]
     },
     "execution_count": 123,
     "metadata": {},
     "output_type": "execute_result"
    }
   ],
   "source": [
    "scaling_factors"
   ]
  },
  {
   "cell_type": "code",
   "execution_count": 128,
   "metadata": {
    "ExecuteTime": {
     "end_time": "2022-11-17T10:26:07.230870Z",
     "start_time": "2022-11-17T10:26:07.198172Z"
    }
   },
   "outputs": [],
   "source": [
    "counts = scaling_factors*scaled_counts"
   ]
  },
  {
   "cell_type": "code",
   "execution_count": 125,
   "metadata": {
    "ExecuteTime": {
     "end_time": "2022-11-17T09:48:23.114308Z",
     "start_time": "2022-11-17T09:48:23.109189Z"
    }
   },
   "outputs": [],
   "source": [
    "counts = scaled_counts"
   ]
  },
  {
   "cell_type": "code",
   "execution_count": 129,
   "metadata": {
    "ExecuteTime": {
     "end_time": "2022-11-17T10:26:22.630435Z",
     "start_time": "2022-11-17T10:26:21.193624Z"
    }
   },
   "outputs": [
    {
     "data": {
      "image/png": "[encoded data removed]",
      "text/plain": [
       "<Figure size 432x288 with 1 Axes>"
      ]
     },
     "metadata": {
      "needs_background": "light"
     },
     "output_type": "display_data"
    }
   ],
   "source": [
    "cmean = np.array(counts.mean(0))\n",
    "cvar = np.array(counts.power(2).mean(0) - cmean ** 2)\n",
    "\n",
    "plt.loglog()\n",
    "plt.scatter(cmean, cvar, c='k', marker='.', label='Genes')\n",
    "plt.plot([1e-4, 1e3], [1e-4, 1e3], c='r')\n",
    "# plt.xlim(1e-5);\n",
    "# plt.ylim(1e-6);\n",
    "plt.xlabel('Mean')\n",
    "plt.ylabel('Variance')\n",
    "plt.title('Recovered counts')\n",
    "plt.legend(scatterpoints=3);"
   ]
  },
  {
   "cell_type": "code",
   "execution_count": 123,
   "metadata": {
    "ExecuteTime": {
     "end_time": "2022-11-17T10:27:25.138015Z",
     "start_time": "2022-11-17T10:27:25.114856Z"
    }
   },
   "outputs": [
    {
     "name": "stdout",
     "output_type": "stream",
     "text": [
      "  (75, 0)\t6.726633\n",
      "  (91, 0)\t6.726633\n",
      "  (218, 0)\t6.726633\n",
      "  (324, 0)\t6.726633\n",
      "  (403, 0)\t6.726633\n",
      "  (491, 0)\t7.8244457\n",
      "  (513, 0)\t6.726633\n",
      "  (739, 0)\t6.726633\n",
      "  (877, 0)\t6.726633\n",
      "  (916, 0)\t6.726633\n",
      "  (163, 1)\t9.210441\n",
      "  (874, 6)\t9.210441\n",
      "  (0, 7)\t3.1220112\n",
      "  (1, 7)\t3.792878\n",
      "  (3, 7)\t2.4719892\n",
      "  (4, 7)\t2.4719892\n",
      "  (6, 7)\t3.512678\n",
      "  (7, 7)\t2.4719892\n",
      "  (10, 7)\t2.4719892\n",
      "  (11, 7)\t4.1908045\n",
      "  (12, 7)\t3.1220112\n",
      "  (13, 7)\t2.4719892\n",
      "  (15, 7)\t2.4719892\n",
      "  (18, 7)\t2.4719892\n",
      "  (20, 7)\t3.1220112\n",
      "  :\t:\n",
      "  (828, 27995)\t4.062903\n",
      "  (829, 27995)\t4.062903\n",
      "  (849, 27995)\t4.062903\n",
      "  (851, 27995)\t4.062903\n",
      "  (854, 27995)\t4.062903\n",
      "  (855, 27995)\t4.062903\n",
      "  (866, 27995)\t4.062903\n",
      "  (871, 27995)\t4.062903\n",
      "  (872, 27995)\t4.062903\n",
      "  (874, 27995)\t4.062903\n",
      "  (878, 27995)\t4.062903\n",
      "  (885, 27995)\t4.062903\n",
      "  (890, 27995)\t4.062903\n",
      "  (897, 27995)\t4.062903\n",
      "  (909, 27995)\t4.062903\n",
      "  (911, 27995)\t4.062903\n",
      "  (914, 27995)\t4.062903\n",
      "  (915, 27995)\t4.062903\n",
      "  (916, 27995)\t4.062903\n",
      "  (930, 27995)\t4.062903\n",
      "  (943, 27995)\t4.062903\n",
      "  (945, 27995)\t4.062903\n",
      "  (948, 27995)\t4.062903\n",
      "  (949, 27995)\t4.7474136\n",
      "  (627, 27997)\t9.210441\n"
     ]
    }
   ],
   "source": [
    "print(ad.X.T)"
   ]
  },
  {
   "cell_type": "code",
   "execution_count": 120,
   "metadata": {
    "ExecuteTime": {
     "end_time": "2022-11-17T10:26:46.252650Z",
     "start_time": "2022-11-17T10:26:46.217507Z"
    },
    "scrolled": true
   },
   "outputs": [
    {
     "name": "stdout",
     "output_type": "stream",
     "text": [
      "  (0, 7)\t73.23292989602852\n",
      "  (0, 8)\t209.69187419103437\n",
      "  (0, 10)\t39.16518448651892\n",
      "  (0, 37)\t25.870028439312318\n",
      "  (0, 38)\t47.95510134306963\n",
      "  (0, 41)\t1467.8431064586755\n",
      "  (0, 62)\t36.18106964030002\n",
      "  (0, 67)\t82.54373963404767\n",
      "  (0, 68)\t33.426122419939716\n",
      "  (0, 70)\t205.0226087663851\n",
      "  (0, 75)\t97.99823019552176\n",
      "  (0, 114)\t212.32941719271847\n",
      "  (0, 117)\t64.86145049665683\n",
      "  (0, 118)\t56.267320025344\n",
      "  (0, 138)\t48.99911187811962\n",
      "  (0, 142)\t174.0226019456332\n",
      "  (0, 145)\t55.254317855303476\n",
      "  (0, 152)\t96.45824358274213\n",
      "  (0, 162)\t35.95355047076836\n",
      "  (0, 179)\t71.83060870439675\n",
      "  (0, 186)\t141.25684082741736\n",
      "  (0, 188)\t33.99153006151831\n",
      "  (0, 189)\t97.29219506283283\n",
      "  (0, 201)\t1250.3849295187358\n",
      "  (0, 204)\t160.76377150098284\n",
      "  :\t:\n",
      "  (950, 27803)\t320.7316986376742\n",
      "  (950, 27804)\t13.025851459811017\n",
      "  (950, 27805)\t73.51785832051857\n",
      "  (950, 27817)\t13.450042324247482\n",
      "  (950, 27837)\t51.59680118711642\n",
      "  (950, 27840)\t64.5721107566967\n",
      "  (950, 27842)\t54.86202217838325\n",
      "  (950, 27848)\t169.68950592752213\n",
      "  (950, 27871)\t2084.757232461603\n",
      "  (950, 27880)\t21.18039910563973\n",
      "  (950, 27886)\t19.23968014787888\n",
      "  (950, 27898)\t14.755605762030923\n",
      "  (950, 27903)\t134.50040375832285\n",
      "  (950, 27908)\t14.014048679827228\n",
      "  (950, 27909)\t32.913088790401254\n",
      "  (950, 27910)\t44.41437772764728\n",
      "  (950, 27911)\t33.99567280949908\n",
      "  (950, 27912)\t115.36203424210345\n",
      "  (950, 27913)\t34.687440924773476\n",
      "  (950, 27914)\t31.81921509695736\n",
      "  (950, 27915)\t9.837072363654137\n",
      "  (950, 27917)\t13.860974223262973\n",
      "  (950, 27918)\t18.989324103939143\n",
      "  (950, 27920)\t37.78951832807889\n",
      "  (950, 27994)\t152.5431849757243\n"
     ]
    }
   ],
   "source": [
    "print(counts)"
   ]
  },
  {
   "cell_type": "markdown",
   "metadata": {},
   "source": [
    "If the mean and variance relation is that from a negative binomial, i.e. slightly concave up and lying above the diagonal line, then we are successful."
   ]
  },
  {
   "cell_type": "code",
   "execution_count": null,
   "metadata": {},
   "outputs": [],
   "source": []
  },
  {
   "cell_type": "code",
   "execution_count": null,
   "metadata": {},
   "outputs": [],
   "source": []
  },
  {
   "cell_type": "code",
   "execution_count": null,
   "metadata": {},
   "outputs": [],
   "source": []
  },
  {
   "cell_type": "code",
   "execution_count": null,
   "metadata": {},
   "outputs": [],
   "source": []
  }
 ],
 "metadata": {
  "kernelspec": {
   "display_name": "Python 3 (ipykernel)",
   "language": "python",
   "name": "python3"
  },
  "language_info": {
   "codemirror_mode": {
    "name": "ipython",
    "version": 3
   },
   "file_extension": ".py",
   "mimetype": "text/x-python",
   "name": "python",
   "nbconvert_exporter": "python",
   "pygments_lexer": "ipython3",
   "version": "3.9.13"
  }
 },
 "nbformat": 4,
 "nbformat_minor": 4
}
